{
 "cells": [
  {
   "cell_type": "markdown",
   "metadata": {},
   "source": [
    "# COGS 108 - Final Project "
   ]
  },
  {
   "cell_type": "markdown",
   "metadata": {},
   "source": [
    "# Overview"
   ]
  },
  {
   "cell_type": "markdown",
   "metadata": {},
   "source": [
    "This project evaluates the question of does the amount of times an inspector performs inspections in one day affect the score of the inspections given that day. Through exploratory data analysis with linear regression, I have come to the conclusion that there is significant evidence that supports the hypothesis that the number of times an inspector performs inspections in one day does in fact affect the score of the inspections given that day. After conducting a linear regression test, I calculated a p-value of 6.59e-06, indicating that the linear relationship is very unlikely due to chance. Therefore, I've concluded that there is a linear relationship between number of inspections per day and the scores of the inspection on those days, relative to the data given."
   ]
  },
  {
   "cell_type": "markdown",
   "metadata": {},
   "source": [
    "# Name & GitHub\n",
    "\n",
    "- Name: Abish Wang\n",
    "- GitHub Username: ayw034"
   ]
  },
  {
   "cell_type": "markdown",
   "metadata": {},
   "source": [
    "# Research Question"
   ]
  },
  {
   "cell_type": "markdown",
   "metadata": {},
   "source": [
    "*General Topic: How can we improve health inspections?* \n",
    "\n",
    "Does the amount of times an inspector performs inspections in one day affect the score of the inspection given that day?"
   ]
  },
  {
   "cell_type": "markdown",
   "metadata": {},
   "source": [
    "## Background and Prior Work"
   ]
  },
  {
   "cell_type": "markdown",
   "metadata": {},
   "source": [
    "Businesses have been improving their quality of cleanliness over the years in respect to health inspections, but further improvement can still be made. Because of the development of grade cards being displayed for customers to see, service providers have been more incentivized to clean their businesses to receive an A grade (score of 90+) from their health inspectors. However, the establishment of grade cards have caused health inspectors to be more pressured from busniness owners to receive higher grades. For example, if a business receives an 89, which is a B grade, they might pressure health inspectors to bump it up one point for an A. This causes a sort of inflation due to the pressure received by health inspectors and could decrease the standard of higher grades relative to health and safety in businesses. (Jin & Leslie, 2005)\n",
    "\n",
    "On top of this pressure, the scheduling of health inspectors could also bias individual inspectors evaluations. Ibanez & Toffel (2005) \"noticed that inspectors tended to cite fewer violations at each successive establishment they visited through their day — suggesting that the onerous work takes a toll on their meticulousness.\" This means that there could be bias formed by inspectors due to the time of day they inspect or how many inspections they must perform on a given day. Another issue they discovered was that the inspection of one facility would bias the inspections of other facilities visited that day. For example, if one establishment turned out to receive numerous violations, the next few establishments visited would be scrutinized more vehemently than on a day where the first establishment visited had very few violations. Ibanez & Toffel (2005) suggested that one solution could be to reduce the amount of \"crunch days\" that inspectors have, as in limiting the number of inspections an individual inspector has to go through in a single day so that their fatigue does not bias their inspections on certain businesses. \n",
    "\n",
    "\n",
    "References (include links):\n",
    "- 1) Ibanez, M. R., & Toffel, M. W. (2019, May 16). To Improve Food Inspections, Change the Way They’re Scheduled. Retrieved April 23, 2020, from https://hbr.org/2019/05/to-improve-food-inspections-change-the-way-theyre-scheduled\n",
    "- 2) Jin, G. Z., & Leslie, P. (2005). The Case in Support of Restaurant Hygiene Grade Cards. Choices, 97–102."
   ]
  },
  {
   "cell_type": "markdown",
   "metadata": {},
   "source": [
    "# Hypothesis\n"
   ]
  },
  {
   "cell_type": "markdown",
   "metadata": {},
   "source": [
    "My hypothesis is that the number of times an inspector performs inspections in one day will affect the score(s) that they give. I believe this because inspectors may have human error, and when having to perform more inspections on a day, may tire or have biases based on previous inspections."
   ]
  },
  {
   "cell_type": "markdown",
   "metadata": {},
   "source": [
    "# Dataset(s)"
   ]
  },
  {
   "cell_type": "markdown",
   "metadata": {},
   "source": [
    "\n",
    "- Dataset Name: inspections.csv\n",
    "- DataFrame Name: inspections\n",
    "- Link to the dataset: inspections.csv (data given by instructor)\n",
    "- Number of observations: 18466\n",
    "\n",
    "- Description: This data set has rows which indicate an inspection and an abundance of information about the inspections, restaurants, and inspectors. I mainly used it for inspector ID, date, and scores."
   ]
  },
  {
   "cell_type": "markdown",
   "metadata": {},
   "source": [
    "# Setup"
   ]
  },
  {
   "cell_type": "code",
   "execution_count": 1,
   "metadata": {},
   "outputs": [],
   "source": [
    "import pandas as pd\n",
    "import numpy as np\n",
    "\n",
    "import seaborn as sns\n",
    "\n",
    "\n",
    "import matplotlib as mpl\n",
    "import matplotlib.pyplot as plt\n",
    "\n",
    "import patsy\n",
    "import statsmodels.api as sm\n",
    "\n",
    "import warnings\n",
    "warnings.filterwarnings('ignore')\n",
    "\n",
    "from scipy.stats import skewnorm"
   ]
  },
  {
   "cell_type": "markdown",
   "metadata": {},
   "source": [
    "# Data Cleaning"
   ]
  },
  {
   "cell_type": "code",
   "execution_count": 2,
   "metadata": {},
   "outputs": [],
   "source": [
    "## Main dataset used as a DataFrame\n",
    "inspections = pd.read_csv('inspections.csv')\n",
    "\n",
    "## Drop columns that are not useful to see all columns\n",
    "inspections = inspections.drop(columns=['address1', 'address2', 'phonenumber', 'restaurantopendate', 'top_match', \n",
    "                                        'second_match', 'x', 'y', 'city', 'postalcode', 'state', 'geocodestatus', \n",
    "                                        'zip', 'days_from_open_date', 'facilitytype', 'name', 'type', \n",
    "                                        'num_critical_previous', 'num_non_critical_previous', \n",
    "                                        'avg_neighbor_num_critical', 'avg_neighbor_num_non_critical', \n",
    "                                        'num_critical_mean_previous', 'num_non_critical_mean_previous', 'inspectedby', 'description'])"
   ]
  },
  {
   "cell_type": "code",
   "execution_count": 3,
   "metadata": {},
   "outputs": [],
   "source": [
    "## Delete useless/repetitive data within date\n",
    "def fix_date(date):\n",
    "    if date.endswith('T00:00:00Z'):\n",
    "        date = date[:-10]\n",
    "    return date"
   ]
  },
  {
   "cell_type": "code",
   "execution_count": 4,
   "metadata": {},
   "outputs": [
    {
     "data": {
      "text/html": [
       "<div>\n",
       "<style scoped>\n",
       "    .dataframe tbody tr th:only-of-type {\n",
       "        vertical-align: middle;\n",
       "    }\n",
       "\n",
       "    .dataframe tbody tr th {\n",
       "        vertical-align: top;\n",
       "    }\n",
       "\n",
       "    .dataframe thead th {\n",
       "        text-align: right;\n",
       "    }\n",
       "</style>\n",
       "<table border=\"1\" class=\"dataframe\">\n",
       "  <thead>\n",
       "    <tr style=\"text-align: right;\">\n",
       "      <th></th>\n",
       "      <th>hsisid</th>\n",
       "      <th>date</th>\n",
       "      <th>inspection_num</th>\n",
       "      <th>inspector_id</th>\n",
       "      <th>previous_inspection_date</th>\n",
       "      <th>days_since_previous_inspection</th>\n",
       "      <th>previous_inspection_by_same_inspector</th>\n",
       "      <th>score</th>\n",
       "      <th>num_critical</th>\n",
       "      <th>num_non_critical</th>\n",
       "      <th>critical</th>\n",
       "    </tr>\n",
       "  </thead>\n",
       "  <tbody>\n",
       "    <tr>\n",
       "      <th>0</th>\n",
       "      <td>4092013748</td>\n",
       "      <td>2012-09-21</td>\n",
       "      <td>1</td>\n",
       "      <td>27.0</td>\n",
       "      <td>NaN</td>\n",
       "      <td>NaN</td>\n",
       "      <td>NaN</td>\n",
       "      <td>96.0</td>\n",
       "      <td>9</td>\n",
       "      <td>7</td>\n",
       "      <td>1</td>\n",
       "    </tr>\n",
       "    <tr>\n",
       "      <th>1</th>\n",
       "      <td>4092014046</td>\n",
       "      <td>2012-09-21</td>\n",
       "      <td>1</td>\n",
       "      <td>7.0</td>\n",
       "      <td>NaN</td>\n",
       "      <td>NaN</td>\n",
       "      <td>NaN</td>\n",
       "      <td>98.0</td>\n",
       "      <td>0</td>\n",
       "      <td>11</td>\n",
       "      <td>0</td>\n",
       "    </tr>\n",
       "    <tr>\n",
       "      <th>2</th>\n",
       "      <td>4092015191</td>\n",
       "      <td>2012-09-21</td>\n",
       "      <td>1</td>\n",
       "      <td>3.0</td>\n",
       "      <td>NaN</td>\n",
       "      <td>NaN</td>\n",
       "      <td>NaN</td>\n",
       "      <td>97.0</td>\n",
       "      <td>4</td>\n",
       "      <td>8</td>\n",
       "      <td>1</td>\n",
       "    </tr>\n",
       "    <tr>\n",
       "      <th>3</th>\n",
       "      <td>4092016122</td>\n",
       "      <td>2012-09-21</td>\n",
       "      <td>1</td>\n",
       "      <td>24.0</td>\n",
       "      <td>NaN</td>\n",
       "      <td>NaN</td>\n",
       "      <td>NaN</td>\n",
       "      <td>99.0</td>\n",
       "      <td>2</td>\n",
       "      <td>3</td>\n",
       "      <td>1</td>\n",
       "    </tr>\n",
       "    <tr>\n",
       "      <th>4</th>\n",
       "      <td>4092021513</td>\n",
       "      <td>2012-09-21</td>\n",
       "      <td>1</td>\n",
       "      <td>7.0</td>\n",
       "      <td>NaN</td>\n",
       "      <td>NaN</td>\n",
       "      <td>NaN</td>\n",
       "      <td>97.0</td>\n",
       "      <td>2</td>\n",
       "      <td>4</td>\n",
       "      <td>1</td>\n",
       "    </tr>\n",
       "  </tbody>\n",
       "</table>\n",
       "</div>"
      ],
      "text/plain": [
       "       hsisid        date  inspection_num  inspector_id  \\\n",
       "0  4092013748  2012-09-21               1          27.0   \n",
       "1  4092014046  2012-09-21               1           7.0   \n",
       "2  4092015191  2012-09-21               1           3.0   \n",
       "3  4092016122  2012-09-21               1          24.0   \n",
       "4  4092021513  2012-09-21               1           7.0   \n",
       "\n",
       "  previous_inspection_date  days_since_previous_inspection  \\\n",
       "0                      NaN                             NaN   \n",
       "1                      NaN                             NaN   \n",
       "2                      NaN                             NaN   \n",
       "3                      NaN                             NaN   \n",
       "4                      NaN                             NaN   \n",
       "\n",
       "  previous_inspection_by_same_inspector  score  num_critical  \\\n",
       "0                                   NaN   96.0             9   \n",
       "1                                   NaN   98.0             0   \n",
       "2                                   NaN   97.0             4   \n",
       "3                                   NaN   99.0             2   \n",
       "4                                   NaN   97.0             2   \n",
       "\n",
       "   num_non_critical  critical  \n",
       "0                 7         1  \n",
       "1                11         0  \n",
       "2                 8         1  \n",
       "3                 3         1  \n",
       "4                 4         1  "
      ]
     },
     "execution_count": 4,
     "metadata": {},
     "output_type": "execute_result"
    }
   ],
   "source": [
    "inspections['date'] = inspections['date'].apply(fix_date)\n",
    "inspections.head()"
   ]
  },
  {
   "cell_type": "code",
   "execution_count": null,
   "metadata": {},
   "outputs": [],
   "source": [
    "## Function that returns number of inspections per day, given the date and inspector ID\n",
    "def inspections_per_day(day, i_id):\n",
    "    \n",
    "    df = inspections.loc[inspections['date'] == day].reset_index()\n",
    "    dic = {}\n",
    "    \n",
    "    for i in range(33):\n",
    "        dic[i] = 0\n",
    "        \n",
    "    for i in range(len(df)):\n",
    "        for j in range(33):\n",
    "            if df['inspector_id'][i] == j:\n",
    "                dic[j] += 1\n",
    "    \n",
    "    return dic[i_id]"
   ]
  },
  {
   "cell_type": "code",
   "execution_count": null,
   "metadata": {},
   "outputs": [
    {
     "data": {
      "text/html": [
       "<div>\n",
       "<style scoped>\n",
       "    .dataframe tbody tr th:only-of-type {\n",
       "        vertical-align: middle;\n",
       "    }\n",
       "\n",
       "    .dataframe tbody tr th {\n",
       "        vertical-align: top;\n",
       "    }\n",
       "\n",
       "    .dataframe thead th {\n",
       "        text-align: right;\n",
       "    }\n",
       "</style>\n",
       "<table border=\"1\" class=\"dataframe\">\n",
       "  <thead>\n",
       "    <tr style=\"text-align: right;\">\n",
       "      <th></th>\n",
       "      <th>1</th>\n",
       "      <th>2</th>\n",
       "      <th>3</th>\n",
       "      <th>4</th>\n",
       "      <th>5</th>\n",
       "      <th>6</th>\n",
       "      <th>7</th>\n",
       "      <th>8</th>\n",
       "      <th>9</th>\n",
       "      <th>10</th>\n",
       "      <th>...</th>\n",
       "      <th>23</th>\n",
       "      <th>24</th>\n",
       "      <th>25</th>\n",
       "      <th>26</th>\n",
       "      <th>27</th>\n",
       "      <th>28</th>\n",
       "      <th>29</th>\n",
       "      <th>30</th>\n",
       "      <th>31</th>\n",
       "      <th>32</th>\n",
       "    </tr>\n",
       "  </thead>\n",
       "  <tbody>\n",
       "    <tr>\n",
       "      <th>2012-09-21</th>\n",
       "      <td>0</td>\n",
       "      <td>0</td>\n",
       "      <td>1</td>\n",
       "      <td>0</td>\n",
       "      <td>0</td>\n",
       "      <td>0</td>\n",
       "      <td>2</td>\n",
       "      <td>0</td>\n",
       "      <td>0</td>\n",
       "      <td>0</td>\n",
       "      <td>...</td>\n",
       "      <td>0</td>\n",
       "      <td>1</td>\n",
       "      <td>0</td>\n",
       "      <td>0</td>\n",
       "      <td>1</td>\n",
       "      <td>1</td>\n",
       "      <td>0</td>\n",
       "      <td>0</td>\n",
       "      <td>0</td>\n",
       "      <td>0</td>\n",
       "    </tr>\n",
       "    <tr>\n",
       "      <th>2012-09-24</th>\n",
       "      <td>1</td>\n",
       "      <td>0</td>\n",
       "      <td>1</td>\n",
       "      <td>0</td>\n",
       "      <td>0</td>\n",
       "      <td>0</td>\n",
       "      <td>0</td>\n",
       "      <td>0</td>\n",
       "      <td>0</td>\n",
       "      <td>1</td>\n",
       "      <td>...</td>\n",
       "      <td>0</td>\n",
       "      <td>0</td>\n",
       "      <td>0</td>\n",
       "      <td>0</td>\n",
       "      <td>0</td>\n",
       "      <td>0</td>\n",
       "      <td>0</td>\n",
       "      <td>0</td>\n",
       "      <td>0</td>\n",
       "      <td>0</td>\n",
       "    </tr>\n",
       "    <tr>\n",
       "      <th>2012-09-25</th>\n",
       "      <td>1</td>\n",
       "      <td>0</td>\n",
       "      <td>1</td>\n",
       "      <td>2</td>\n",
       "      <td>0</td>\n",
       "      <td>1</td>\n",
       "      <td>0</td>\n",
       "      <td>0</td>\n",
       "      <td>0</td>\n",
       "      <td>2</td>\n",
       "      <td>...</td>\n",
       "      <td>0</td>\n",
       "      <td>0</td>\n",
       "      <td>0</td>\n",
       "      <td>0</td>\n",
       "      <td>1</td>\n",
       "      <td>0</td>\n",
       "      <td>0</td>\n",
       "      <td>0</td>\n",
       "      <td>0</td>\n",
       "      <td>0</td>\n",
       "    </tr>\n",
       "    <tr>\n",
       "      <th>2012-09-26</th>\n",
       "      <td>2</td>\n",
       "      <td>0</td>\n",
       "      <td>0</td>\n",
       "      <td>2</td>\n",
       "      <td>1</td>\n",
       "      <td>0</td>\n",
       "      <td>0</td>\n",
       "      <td>0</td>\n",
       "      <td>0</td>\n",
       "      <td>1</td>\n",
       "      <td>...</td>\n",
       "      <td>0</td>\n",
       "      <td>0</td>\n",
       "      <td>0</td>\n",
       "      <td>0</td>\n",
       "      <td>1</td>\n",
       "      <td>1</td>\n",
       "      <td>0</td>\n",
       "      <td>0</td>\n",
       "      <td>0</td>\n",
       "      <td>1</td>\n",
       "    </tr>\n",
       "    <tr>\n",
       "      <th>2012-09-27</th>\n",
       "      <td>2</td>\n",
       "      <td>0</td>\n",
       "      <td>1</td>\n",
       "      <td>2</td>\n",
       "      <td>1</td>\n",
       "      <td>0</td>\n",
       "      <td>0</td>\n",
       "      <td>0</td>\n",
       "      <td>0</td>\n",
       "      <td>2</td>\n",
       "      <td>...</td>\n",
       "      <td>0</td>\n",
       "      <td>0</td>\n",
       "      <td>2</td>\n",
       "      <td>0</td>\n",
       "      <td>0</td>\n",
       "      <td>2</td>\n",
       "      <td>0</td>\n",
       "      <td>0</td>\n",
       "      <td>0</td>\n",
       "      <td>0</td>\n",
       "    </tr>\n",
       "  </tbody>\n",
       "</table>\n",
       "<p>5 rows × 32 columns</p>\n",
       "</div>"
      ],
      "text/plain": [
       "            1   2   3   4   5   6   7   8   9   10  ...  23  24  25  26  27  \\\n",
       "2012-09-21   0   0   1   0   0   0   2   0   0   0  ...   0   1   0   0   1   \n",
       "2012-09-24   1   0   1   0   0   0   0   0   0   1  ...   0   0   0   0   0   \n",
       "2012-09-25   1   0   1   2   0   1   0   0   0   2  ...   0   0   0   0   1   \n",
       "2012-09-26   2   0   0   2   1   0   0   0   0   1  ...   0   0   0   0   1   \n",
       "2012-09-27   2   0   1   2   1   0   0   0   0   2  ...   0   0   2   0   0   \n",
       "\n",
       "            28  29  30  31  32  \n",
       "2012-09-21   1   0   0   0   0  \n",
       "2012-09-24   0   0   0   0   0  \n",
       "2012-09-25   0   0   0   0   0  \n",
       "2012-09-26   1   0   0   0   1  \n",
       "2012-09-27   2   0   0   0   0  \n",
       "\n",
       "[5 rows x 32 columns]"
      ]
     },
     "execution_count": 6,
     "metadata": {},
     "output_type": "execute_result"
    }
   ],
   "source": [
    "## Function that returns a dictionary with the key of the inspector's ID, and values of how many times the given \n",
    "## inspector had inspections on every date in the inspections dataframe.\n",
    "def inspector_per_date(id):\n",
    "    all_dates = inspections['date'].unique()\n",
    "    dic = {}\n",
    "    ls = []\n",
    "    \n",
    "\n",
    "    for i in all_dates:\n",
    "        ls.append(inspections_per_day(i, id))\n",
    "        dic[id] = ls\n",
    "    return dic\n",
    "\n",
    "dic = inspector_per_date(1)\n",
    "\n",
    "for i in range(2, 33):\n",
    "    add_dic = inspector_per_date(i)\n",
    "    dic.update(add_dic)\n",
    "\n",
    "## Created dataframe with dates as the rows and inspector ID's as columns. Indicates how many times each inspector\n",
    "## had (an) inspection(s) on each date.\n",
    "dates = inspections['date'].unique()\n",
    "inspect_times_per_id = pd.DataFrame(data=dic, index=dates)\n",
    "\n",
    "inspect_times_per_id.head()"
   ]
  },
  {
   "cell_type": "code",
   "execution_count": null,
   "metadata": {},
   "outputs": [
    {
     "data": {
      "text/html": [
       "<div>\n",
       "<style scoped>\n",
       "    .dataframe tbody tr th:only-of-type {\n",
       "        vertical-align: middle;\n",
       "    }\n",
       "\n",
       "    .dataframe tbody tr th {\n",
       "        vertical-align: top;\n",
       "    }\n",
       "\n",
       "    .dataframe thead th {\n",
       "        text-align: right;\n",
       "    }\n",
       "</style>\n",
       "<table border=\"1\" class=\"dataframe\">\n",
       "  <thead>\n",
       "    <tr style=\"text-align: right;\">\n",
       "      <th></th>\n",
       "      <th>1</th>\n",
       "      <th>2</th>\n",
       "      <th>3</th>\n",
       "      <th>4</th>\n",
       "      <th>5</th>\n",
       "      <th>6</th>\n",
       "      <th>7</th>\n",
       "      <th>8</th>\n",
       "    </tr>\n",
       "  </thead>\n",
       "  <tbody>\n",
       "    <tr>\n",
       "      <th>1</th>\n",
       "      <td>301</td>\n",
       "      <td>291</td>\n",
       "      <td>111</td>\n",
       "      <td>32</td>\n",
       "      <td>5</td>\n",
       "      <td>0</td>\n",
       "      <td>0</td>\n",
       "      <td>0</td>\n",
       "    </tr>\n",
       "    <tr>\n",
       "      <th>2</th>\n",
       "      <td>335</td>\n",
       "      <td>215</td>\n",
       "      <td>68</td>\n",
       "      <td>22</td>\n",
       "      <td>3</td>\n",
       "      <td>0</td>\n",
       "      <td>0</td>\n",
       "      <td>0</td>\n",
       "    </tr>\n",
       "    <tr>\n",
       "      <th>2</th>\n",
       "      <td>363</td>\n",
       "      <td>202</td>\n",
       "      <td>58</td>\n",
       "      <td>4</td>\n",
       "      <td>0</td>\n",
       "      <td>0</td>\n",
       "      <td>0</td>\n",
       "      <td>0</td>\n",
       "    </tr>\n",
       "    <tr>\n",
       "      <th>4</th>\n",
       "      <td>75</td>\n",
       "      <td>23</td>\n",
       "      <td>3</td>\n",
       "      <td>1</td>\n",
       "      <td>1</td>\n",
       "      <td>0</td>\n",
       "      <td>0</td>\n",
       "      <td>0</td>\n",
       "    </tr>\n",
       "    <tr>\n",
       "      <th>5</th>\n",
       "      <td>281</td>\n",
       "      <td>188</td>\n",
       "      <td>73</td>\n",
       "      <td>7</td>\n",
       "      <td>0</td>\n",
       "      <td>0</td>\n",
       "      <td>0</td>\n",
       "      <td>0</td>\n",
       "    </tr>\n",
       "  </tbody>\n",
       "</table>\n",
       "</div>"
      ],
      "text/plain": [
       "     1    2    3   4  5  6  7  8\n",
       "1  301  291  111  32  5  0  0  0\n",
       "2  335  215   68  22  3  0  0  0\n",
       "2  363  202   58   4  0  0  0  0\n",
       "4   75   23    3   1  1  0  0  0\n",
       "5  281  188   73   7  0  0  0  0"
      ]
     },
     "execution_count": 7,
     "metadata": {},
     "output_type": "execute_result"
    }
   ],
   "source": [
    "## Created a dataframe that shows the number of inspections an inspector had in a day as the columns, and \n",
    "## inspector ID as the rows.\n",
    "\n",
    "inspect_times_per_id = inspect_times_per_id.rename(columns={\"index\": \"date\"})\n",
    "\n",
    "## Eight was the maximum of how many inspections a single inspector had in one day\n",
    "max_inspections_in_one_day = 8\n",
    "ls1 = []\n",
    "ls2 = []\n",
    "ls3 = []\n",
    "ls4 = []\n",
    "ls5 = []\n",
    "ls6 = []\n",
    "ls7 = []\n",
    "ls8 = []\n",
    "for i in range(1, 33):\n",
    "    if i == 30:\n",
    "        ls1.append(0)\n",
    "        continue\n",
    "    ls1.append(inspect_times_per_id[i].value_counts()[1])\n",
    "    \n",
    "for i in range(1, 33):\n",
    "    if i in [17, 30]:\n",
    "        ls2.append(0)\n",
    "        continue\n",
    "    ls2.append(inspect_times_per_id[i].value_counts()[2])\n",
    "\n",
    "for i in range(1, 33):\n",
    "    if i in [12, 17, 26, 30]:\n",
    "        ls3.append(0)\n",
    "        continue\n",
    "    ls3.append(inspect_times_per_id[i].value_counts()[3])\n",
    "\n",
    "for i in range(1, 33):\n",
    "    if i in [8, 12, 16, 17, 24, 26, 30, 31, 32]:\n",
    "        ls4.append(0)\n",
    "        continue\n",
    "    ls4.append(inspect_times_per_id[i].value_counts()[4])\n",
    "for i in range(1, 33):\n",
    "    if i in [3, 5, 7, 8, 9, 10, 11, 12, 13, 14, 15, 16, 17, 18, 19, 20, 23, 24, 26, 27, 29, 30, 31, 32]:\n",
    "        ls5.append(0)\n",
    "        continue\n",
    "    ls5.append(inspect_times_per_id[i].value_counts()[5])\n",
    "for i in range(1, 33):\n",
    "    if i in [1, 2, 3, 4, 5, 7, 8, 9, 10, 11, 12, 13, 14, 15, 16, 17, 18, 19, 20, 21, 22, 23, 24, 26, 27, 29, 30, 31, 32]:\n",
    "        ls6.append(0)\n",
    "        continue\n",
    "    ls6.append(inspect_times_per_id[i].value_counts()[6])\n",
    "for i in range(1, 33):\n",
    "    if i in [1, 2, 3, 4, 5, 7, 8, 9, 10, 11, 12, 13, 14, 15, 16, 17, 18, 19, 20, 21, 22, 23, 24, 26, 27, 29, 30, 31, 32]:\n",
    "        ls7.append(0)\n",
    "        continue\n",
    "    ls7.append(inspect_times_per_id[i].value_counts()[7])\n",
    "for i in range(1, 33):\n",
    "    if i in [1, 2, 3, 4, 5, 8, 9, 10, 11, 12, 13, 14, 15, 16, 17, 18, 19, 20, 21, 22, 23, 24, 25, 26, 27, 28, 29, 30, 31, 32]:\n",
    "        ls8.append(0)\n",
    "        continue\n",
    "    ls8.append(inspect_times_per_id[i].value_counts()[8])\n",
    "\n",
    "inspects_dic = {}\n",
    "inspects_dic[1] = ls1\n",
    "inspects_dic[2] = ls2\n",
    "inspects_dic[3] = ls3\n",
    "inspects_dic[4] = ls4\n",
    "inspects_dic[5] = ls5\n",
    "inspects_dic[6] = ls6\n",
    "inspects_dic[7] = ls7\n",
    "inspects_dic[8] = ls8\n",
    "inspects_df = pd.DataFrame(data=inspects_dic)\n",
    "inspects_df = inspects_df.rename(index={0:1, 1:2, 3:4, 4:5, 5:6, 6:7, 7:8, 8:9, 9:10, 10:11, 11:12, 12:13, 13:14, 14:15, 15:16, \n",
    "                          16:17, 17:18, 18:19, 19:20, 20:21, 21:22, 22:23, 23:24, 24:25, 25:26, 26:27, 27:28, 28:29, \n",
    "                          29:30, 30:31, 31:32})\n",
    "inspects_df.head()"
   ]
  },
  {
   "cell_type": "code",
   "execution_count": null,
   "metadata": {},
   "outputs": [],
   "source": [
    "## Function that returns the total average score of all inspections with the given number of inspections in a day.\n",
    "## Ex. Gives you the average score of all times any inspector had 3 inspections\n",
    "def avg_score_per_inspections(num_inspections):\n",
    "    \n",
    "    ls = []\n",
    "\n",
    "    for i in dates:\n",
    "        for j in range(1,33):\n",
    "            if inspections_per_day(i, j) == num_inspections:\n",
    "                ls.append((inspections['score'].loc[inspections['date'] == i].loc[inspections['inspector_id'] == j]).mean())\n",
    "    \n",
    "    return sum(ls)/len(ls)"
   ]
  },
  {
   "cell_type": "code",
   "execution_count": null,
   "metadata": {},
   "outputs": [],
   "source": [
    "## Create a dictionary from average scores of number of inspections to create a DataFrame for analysis\n",
    "avg_scores_per_dic = {}\n",
    "for i in range(1, 9):\n",
    "    avg_scores_per_dic[i] = avg_score_per_inspections(i)"
   ]
  },
  {
   "cell_type": "markdown",
   "metadata": {},
   "source": [
    "# Data Analysis & Results"
   ]
  },
  {
   "cell_type": "code",
   "execution_count": null,
   "metadata": {},
   "outputs": [],
   "source": [
    "## Create dataframe of average scores of (n = 1-8) inspections\n",
    "avg_scores_per_df = pd.DataFrame(data = avg_scores_per_dic)\n",
    "avg_scores_per_df = avg_scores_per_df.T\n",
    "avg_scores_per_df = avg_scores_per_df.rename(columns={0: 'Average_Score'})\n",
    "avg_scores_per_df['Inspections_per_Day'] = avg_scores_per_df.index\n",
    "avg_scores_per_df"
   ]
  },
  {
   "cell_type": "code",
   "execution_count": null,
   "metadata": {},
   "outputs": [],
   "source": [
    "## Create scatterplot of inspections per day as the x axis and the average score as the y axis\n",
    "sns.scatterplot(x='Inspections_per_Day', y='Average_Score', data=avg_scores_per_df, s=100)\n",
    "plt.xlabel('Inspections per Day')\n",
    "plt.ylabel('Average Score');"
   ]
  },
  {
   "cell_type": "markdown",
   "metadata": {},
   "source": [
    "In the cell above, we can see a scatterplot of the average scores of inspections per day. This indicates that there is a fairly strong linear relationship between the average scores of inspections per day and inspections per day."
   ]
  },
  {
   "cell_type": "code",
   "execution_count": null,
   "metadata": {},
   "outputs": [],
   "source": [
    "## Histogram - Distribution of Scores in inspections.csv\n",
    "sns.distplot(inspections['score'])\n",
    "plt.xlabel('Score')"
   ]
  },
  {
   "cell_type": "markdown",
   "metadata": {},
   "source": [
    "In the cell above, we can visualize the distribution of scores, which is roughly normal, with a peak around 95, and skewed to the left."
   ]
  },
  {
   "cell_type": "code",
   "execution_count": null,
   "metadata": {},
   "outputs": [],
   "source": [
    "## Set up for regression results\n",
    "outcome, predictors = patsy.dmatrices('Average_Score ~ Inspections_per_Day', avg_scores_per_df)"
   ]
  },
  {
   "cell_type": "code",
   "execution_count": null,
   "metadata": {},
   "outputs": [],
   "source": [
    "mod = sm.OLS(outcome, predictors)"
   ]
  },
  {
   "cell_type": "code",
   "execution_count": null,
   "metadata": {},
   "outputs": [],
   "source": [
    "## Results of hypothesis test\n",
    "res = mod.fit()\n",
    "print(res.summary())"
   ]
  },
  {
   "cell_type": "markdown",
   "metadata": {},
   "source": [
    "I used linear regression testing to come up with these results to see if there was a correlation between the variables of number of inspections per day and scores received.\n",
    "\n",
    "From these results, we can see that at 0 inspections per day (according to our data), the average score would be 95.6645 which increases by 0.2844 with every +1 increment of inspections per day.\n",
    "\n",
    "There is a strong, positive linear relationship between the two variables observed, as indicated by the correlation coefficient (r = 0.9861).\n",
    "\n",
    "We see that the p-value is 6.59e-06, which is much less than the alpha level of 0.01. Therefore, we can support the alternative hypothesis, and reject the null hypothesis, that the number of inspections per day does not affect the score given during an inspection.\n",
    "\n",
    "We can conclude that we have sufficient evidence that the number of times these inspector had (an) inspection(s) per day has a linear relationship with the scores facilities receive in the locations where data was given."
   ]
  },
  {
   "cell_type": "code",
   "execution_count": null,
   "metadata": {},
   "outputs": [],
   "source": [
    "## Scatter plot with best of fit line\n",
    "sns.scatterplot(x='Inspections_per_Day', y='Average_Score', alpha=0.3, data=avg_scores_per_df, s=100)\n",
    "\n",
    "# Generate and plot the model fit line\n",
    "xs = np.arange(avg_scores_per_df['Inspections_per_Day'].min(), avg_scores_per_df['Inspections_per_Day'].max())\n",
    "ys = 0.2844 * xs + 95.6645\n",
    "plt.plot(xs, ys, '--k', linewidth=4, label='Model')\n",
    "\n",
    "plt.xlabel('Inspections per Day')\n",
    "plt.ylabel('Average Score')\n",
    "plt.legend();"
   ]
  },
  {
   "cell_type": "markdown",
   "metadata": {},
   "source": [
    "In the cell above, we can see the same scatterplot as before, with a line of best fit drawn over the data values. This line of best fit was created from the regression results indicating a y-intercept of 95.6645 and slope of 0.2844."
   ]
  },
  {
   "cell_type": "markdown",
   "metadata": {},
   "source": [
    "# Ethics & Privacy"
   ]
  },
  {
   "cell_type": "markdown",
   "metadata": {},
   "source": [
    "In regards to ethics and privacy, there should be no concerns regarding the datasets as restaurants are required to provide their customers with the knowledge of the results of these health inspections. This kind of data is not restricted and can be accessed by anyone. With the intent to be ethical concerning privacy, the names of inspectors, have been removed from the dataset and replaced with a unique identifier. Addresses, phone numbers, and other personally identifiable information has been removed from the data set. This data is not harmful to anyone and the analysis does not apply to all locations or inspectors as we only used a given number of inspections; it only applies to the inspections where data was available."
   ]
  },
  {
   "cell_type": "markdown",
   "metadata": {},
   "source": [
    "# Conclusion & Discussion"
   ]
  },
  {
   "cell_type": "markdown",
   "metadata": {},
   "source": [
    "With regards to improving health inspections, I wanted to research the question of does the amount of inspections an inspector has in one day affect the scores they give. The impact on society that this has is that it could demonstrate how changing the schedule of inspectors, or giving them an optimum amount of inspections per day could potentially improve the consistency of inspections and limit biases that occur with a less preferred amount of inspections per day.\n",
    "\n",
    "In researching this question, I found that researchers studied how inspectors become wary throughout the day and feel pressured by restaurant/facility owners to give them a certain score, which could influence the scores inspectors give. Ibanez & Toffel (2005) proposed that limiting the amount of \"crunch days\" could limit the biases of the inspectors so that their judgement on scores is not prejudiced.\n",
    "\n",
    "In trying to determine whether or not the number of inspections per day has an effect on scores given, I wanted to see if there was a linear relationship between the two variables.\n",
    "After cleaning data and creating functions that aid in obtaining results, I created a dataframe that indicates the average scores of all inspectors that had an x amount of inspections that day. Through that dataframe I created scatterplots and performed a linear regression test of the values of that dataframe to access the results indicating whether there was a linear relationship or not. I determined that there was a linear relationship between the two variables as the p-value was much less than an alpha level of 0.01. This indicated that it was highly unlikely the linear relationship was due to chance, supporting my hypothesis that the amount of inspections an inspector has in one day does affect the scores that they give.\n",
    "\n",
    "The most adverse limitation was time. For some of my methods, it took over 30 minutes to run, as it had to iterate through the 'inspections' dataset multiple times. I wanted to create a dataframe and scatterplot with all the values of the inspections, instead of just the averages, so that I could have tested it with linear regression, which may have alter my results; but with the each run taking so long, time was certainly a restriction.\n",
    "\n",
    "In conclusion, I obtained the results that there is a strong, positive linear relationship between the average of scores of n (1-8) inspections per day and inspections per day. This demonstrates that there is an affect of scores depending on the number of inspections an inspector had in one day with the data that was given."
   ]
  }
 ],
 "metadata": {
  "kernelspec": {
   "display_name": "Python 3",
   "language": "python",
   "name": "python3"
  },
  "language_info": {
   "codemirror_mode": {
    "name": "ipython",
    "version": 3
   },
   "file_extension": ".py",
   "mimetype": "text/x-python",
   "name": "python",
   "nbconvert_exporter": "python",
   "pygments_lexer": "ipython3",
   "version": "3.6.7"
  }
 },
 "nbformat": 4,
 "nbformat_minor": 2
}
