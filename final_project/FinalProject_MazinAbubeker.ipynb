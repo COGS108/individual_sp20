{
 "cells": [
  {
   "cell_type": "markdown",
   "metadata": {},
   "source": [
    "# COGS 108 - Final Project "
   ]
  },
  {
   "cell_type": "markdown",
   "metadata": {},
   "source": [
    "# Overview"
   ]
  },
  {
   "cell_type": "markdown",
   "metadata": {},
   "source": [
    "In this data analysis project, I utilize data retrieved from previous health inspections performed in North Carolina (primarily the Raleigh area) on food establishments to discover whether or not repeated violations is a sign of a clean food establishment. I utilized a unique ID associated to a restauant from two data sets. From the first I also retrieved a boolean value as to whether there are repeated violations from that restaurant, and from the second I retrieved the cleanliness scores of the restaurants with their latest health inspection (score, and number of critical/non-critical violations). I split the cleanliness scoring variables into two sets that differ in terms of repeated violations; as a result, exploratory data analysis along with t-test procedures confirm that repeated violations represents a statistically higher chance of that establishment having a lower cleanliness score."
   ]
  },
  {
   "cell_type": "markdown",
   "metadata": {},
   "source": [
    "# Name & PID\n",
    "\n",
    "- Name: Mazin Abubeker\n",
    "- PID: A13517916"
   ]
  },
  {
   "cell_type": "markdown",
   "metadata": {},
   "source": [
    "# Research Question"
   ]
  },
  {
   "cell_type": "markdown",
   "metadata": {},
   "source": [
    "Do food establishments that have repeated violations on their record (as opposed to those who have no repeated violations) have a significantly lower overall health inspection score (in terms of score and number of overall violations)?"
   ]
  },
  {
   "cell_type": "markdown",
   "metadata": {},
   "source": [
    "## Background and Prior Work"
   ]
  },
  {
   "cell_type": "markdown",
   "metadata": {},
   "source": [
    "My original project proposal consisted of analyzing the ABC grade-card system for health safety standards, but I have shifted my research question to focus more on utilizing the data given to us, because I would really like to work with a specific piece of information that is given to us in these datasets (repeated violations).\n",
    "\n",
    "References (include links):\n",
    "- 1) https://pubmed.ncbi.nlm.nih.gov/16779998/\n",
    "\n",
    "This research article in fact covers this exact topic. These researchers took a sample of restaurants and checked for the amount of repeated violations during health inspections for restaurants that were both \"high-threat\" and \"medium-threat\" in terms of health safety standards. What was found was that the \"high-threat\" restaurants were indeed found to carry many more repeated violations than the \"medium-threat\" restaurant, which leads me to believe I may find a similar result in this data set.\n",
    "\n",
    "- 2) https://dchealth.dc.gov/service/understanding-food-establishment-inspections\n",
    "\n",
    "This article provides a more general sense of understanding for how these establishments function in terms of their threat level, and how that can be modulated due to things occuring during the health inspection. It is noted in this article that \"repeated deficiencies\" (seperate, repeated instances of not meeting a required health standard) has a big effect on the restaurants threat level. I believe this gives me some confidence in my hypothesis for this research project. "
   ]
  },
  {
   "cell_type": "markdown",
   "metadata": {},
   "source": [
    "# Hypothesis\n"
   ]
  },
  {
   "cell_type": "markdown",
   "metadata": {},
   "source": [
    "I believe that food establishments with no record of repeated health safety violations recieve health inspection scores that are significantly higher than food establishments with a record of repeated health safety violations."
   ]
  },
  {
   "cell_type": "markdown",
   "metadata": {},
   "source": [
    "# Dataset(s)"
   ]
  },
  {
   "cell_type": "markdown",
   "metadata": {},
   "source": [
    "Dataset Name: inspections.csv\n",
    "\n",
    "Link to the dataset: [Provided for us in data.zip]\n",
    "\n",
    "Number of observations: 18,466\n",
    "\n",
    "Summary: This dataset represents a list of unique food establishments, with some of it's information, along with the latest health inspection scores (and further information about the inspection such as number of violations).\n",
    "\n",
    "----\n",
    "\n",
    "Dataset Name: violations.csv\n",
    "\n",
    "Link to the dataset: [Provided for us in data.zip]\n",
    "\n",
    "Number of observations: 189,802\n",
    "\n",
    "Summary: This dataset represents a list of all available health inspection violations from the food establishments in inspections.csv. Each row represents a single violation that contains information about the violation such as the violation code, the establishment that incurred the violation, and if it is a repeated violation by that establishment.\n",
    "\n",
    "----\n",
    "\n",
    "I plan on associating the datasets together on the common feature 'hsisid', which represents a unique identifier for the food establishmnt. This identifier is unique in inspections.csv, but appears multiple times in violations.csv, since each violation (for each health inspection) adds a new row to that data set, with the same unique establishment identifier.\n"
   ]
  },
  {
   "cell_type": "markdown",
   "metadata": {},
   "source": [
    "# Setup"
   ]
  },
  {
   "cell_type": "code",
   "execution_count": 1,
   "metadata": {},
   "outputs": [],
   "source": [
    "import numpy as np\n",
    "import pandas as pd\n",
    "import matplotlib.pyplot as plt\n",
    "import seaborn as sns\n",
    "import scipy.stats as stats\n",
    "from scipy.stats import ttest_ind, chisquare, normaltest"
   ]
  },
  {
   "cell_type": "markdown",
   "metadata": {},
   "source": [
    "# Data Cleaning"
   ]
  },
  {
   "cell_type": "markdown",
   "metadata": {},
   "source": [
    "First I'd like to clean up the inspections file. \n",
    "\n",
    "Before fixing any values that may be incosistent or not preferrable, I remove all of the columns that I do not need from the dataset with a single line of code. Then, once I have the four columns that I am interested in, I used 'isnull()' to detect for null values. Thankfully, there were a total of zero null values in the entire table of interest, so I did not have to take care of any null situations.\n",
    "\n",
    "Next, I want to confirm that the data types are in the format that would be easiest for me to use through 'dtypes'. I expected (and wanted) an integer for the id, and two violation counts, and a float for the score. Thankfully, all of the datatypes seem to be exactly how I expect, so nothing further needs to be done here.\n"
   ]
  },
  {
   "cell_type": "code",
   "execution_count": 2,
   "metadata": {},
   "outputs": [
    {
     "data": {
      "text/plain": [
       "hsisid                int64\n",
       "score               float64\n",
       "num_critical          int64\n",
       "num_non_critical      int64\n",
       "dtype: object"
      ]
     },
     "execution_count": 2,
     "metadata": {},
     "output_type": "execute_result"
    }
   ],
   "source": [
    "inspections = pd.read_csv('inspections.csv')\n",
    "inspections = inspections[['hsisid', 'score', 'num_critical', 'num_non_critical']]\n",
    "inspections.isnull().sum() # Evaluates to zero for all columns\n",
    "inspections.dtypes"
   ]
  },
  {
   "cell_type": "markdown",
   "metadata": {},
   "source": [
    "Next, I'd like to clean up the violations file. This is a *massive* file (relatively speaking, 80MB), so I would definitely like to remove any information to speed up data processing. Thankfully, the majority of the data stored in this file is in a column that I do not need.\n",
    "\n",
    "First, I removed all of the columns that I do not need from this dataset. Then, I checked for null values in the remaining data set. There were no null values in the hsisisd column, but many in violationtype. To solve this, since we only care about whether the value of violationtype is 'R' or not, we can simply set all null values to any other value (I chose 'CDI' for the sake of consistency)."
   ]
  },
  {
   "cell_type": "code",
   "execution_count": 3,
   "metadata": {},
   "outputs": [
    {
     "data": {
      "text/plain": [
       "hsisid               0\n",
       "violationtype    94639\n",
       "dtype: int64"
      ]
     },
     "execution_count": 3,
     "metadata": {},
     "output_type": "execute_result"
    }
   ],
   "source": [
    "violations = pd.read_csv('violations.csv')\n",
    "violations = violations[['hsisid', 'violationtype']]\n",
    "violations.isnull().sum() # Previous to filling NaN values"
   ]
  },
  {
   "cell_type": "code",
   "execution_count": 4,
   "metadata": {},
   "outputs": [
    {
     "data": {
      "text/plain": [
       "hsisid           0\n",
       "violationtype    0\n",
       "dtype: int64"
      ]
     },
     "execution_count": 4,
     "metadata": {},
     "output_type": "execute_result"
    }
   ],
   "source": [
    "violations['violationtype'] = violations['violationtype'].fillna('CDI')\n",
    "violations.isnull().sum() # After filling NaN values"
   ]
  },
  {
   "cell_type": "markdown",
   "metadata": {},
   "source": [
    "# Data Analysis & Results"
   ]
  },
  {
   "cell_type": "markdown",
   "metadata": {},
   "source": [
    "Before any real analysis can take place, I first made sure that there were no outliers in my data. With the data that I am utiliziing, there are 4 potential places a data outlier - score, num_violations, and num_critical_violations. \n",
    "\n",
    "I did not want to remove any outliers from the number of violations (both critical and noncritical) because of what that data represents. The maximum of the data is 33 (33 violations), which is a reasonable (although high) and very realistic number. We want to measure health safety, so keeping this number in the data set (a bad restaurant) is necessary to give us information about how those bad scores reflect on repeated violations.\n",
    "\n",
    "Additionally, the range of over 99% of the dataset's violations is 20, so 33 isn't really an 'outlier' (since we start at 0 and such a small relative number wont skew our results significantly).\n",
    "\n",
    "Since the score has a limited range of 100%, and it directly depends on the violations themself, I do not believe the score needs to be searched for outliers either."
   ]
  },
  {
   "cell_type": "code",
   "execution_count": 5,
   "metadata": {},
   "outputs": [
    {
     "name": "stdout",
     "output_type": "stream",
     "text": [
      "23 33\n"
     ]
    }
   ],
   "source": [
    "print(inspections['num_critical'].max(), inspections['num_non_critical'].max())"
   ]
  },
  {
   "cell_type": "markdown",
   "metadata": {},
   "source": [
    "After confirming that I do not need to worry about outliers, I now want to split the data into the two groups I want to compare (food establishments who do/do not have repeated violations in their past). I then ensured that the data types were correct for each respective feature."
   ]
  },
  {
   "cell_type": "code",
   "execution_count": 6,
   "metadata": {},
   "outputs": [],
   "source": [
    "goodInspections = pd.DataFrame(columns=['hsisid', 'score', 'num_critical', 'num_non_critical'])\n",
    "badInspections = pd.DataFrame(columns=['hsisid', 'score', 'num_critical', 'num_non_critical'])\n",
    "\n",
    "index = 0\n",
    "for id in inspections['hsisid']:\n",
    "    violationHistory = []\n",
    "    for curViolation in violations[violations.hsisid == id]['violationtype']:\n",
    "        violationHistory.append(curViolation)\n",
    "    if 'R' in violationHistory:\n",
    "        badInspections = badInspections.append({'hsisid': id, 'score': inspections.iloc[index, 1], 'num_critical': inspections.iloc[index, 2], 'num_non_critical': inspections.iloc[index, 3]}, ignore_index=True)\n",
    "    else:\n",
    "        goodInspections = goodInspections.append({'hsisid': id, 'score': inspections.iloc[index, 1], 'num_critical': inspections.iloc[index, 2], 'num_non_critical': inspections.iloc[index, 3]}, ignore_index=True)\n",
    "    index += 1"
   ]
  },
  {
   "cell_type": "code",
   "execution_count": 7,
   "metadata": {},
   "outputs": [
    {
     "data": {
      "text/html": [
       "<div>\n",
       "<style scoped>\n",
       "    .dataframe tbody tr th:only-of-type {\n",
       "        vertical-align: middle;\n",
       "    }\n",
       "\n",
       "    .dataframe tbody tr th {\n",
       "        vertical-align: top;\n",
       "    }\n",
       "\n",
       "    .dataframe thead th {\n",
       "        text-align: right;\n",
       "    }\n",
       "</style>\n",
       "<table border=\"1\" class=\"dataframe\">\n",
       "  <thead>\n",
       "    <tr style=\"text-align: right;\">\n",
       "      <th></th>\n",
       "      <th>hsisid</th>\n",
       "      <th>score</th>\n",
       "      <th>num_critical</th>\n",
       "      <th>num_non_critical</th>\n",
       "    </tr>\n",
       "  </thead>\n",
       "  <tbody>\n",
       "    <tr>\n",
       "      <th>0</th>\n",
       "      <td>4092013748</td>\n",
       "      <td>96.0</td>\n",
       "      <td>9</td>\n",
       "      <td>7</td>\n",
       "    </tr>\n",
       "    <tr>\n",
       "      <th>1</th>\n",
       "      <td>4092014046</td>\n",
       "      <td>98.0</td>\n",
       "      <td>0</td>\n",
       "      <td>11</td>\n",
       "    </tr>\n",
       "    <tr>\n",
       "      <th>2</th>\n",
       "      <td>4092015191</td>\n",
       "      <td>97.0</td>\n",
       "      <td>4</td>\n",
       "      <td>8</td>\n",
       "    </tr>\n",
       "    <tr>\n",
       "      <th>3</th>\n",
       "      <td>4092016122</td>\n",
       "      <td>99.0</td>\n",
       "      <td>2</td>\n",
       "      <td>3</td>\n",
       "    </tr>\n",
       "    <tr>\n",
       "      <th>4</th>\n",
       "      <td>4092021513</td>\n",
       "      <td>97.0</td>\n",
       "      <td>2</td>\n",
       "      <td>4</td>\n",
       "    </tr>\n",
       "    <tr>\n",
       "      <th>...</th>\n",
       "      <td>...</td>\n",
       "      <td>...</td>\n",
       "      <td>...</td>\n",
       "      <td>...</td>\n",
       "    </tr>\n",
       "    <tr>\n",
       "      <th>15933</th>\n",
       "      <td>4092021142</td>\n",
       "      <td>93.0</td>\n",
       "      <td>6</td>\n",
       "      <td>13</td>\n",
       "    </tr>\n",
       "    <tr>\n",
       "      <th>15934</th>\n",
       "      <td>4092110100</td>\n",
       "      <td>97.0</td>\n",
       "      <td>2</td>\n",
       "      <td>3</td>\n",
       "    </tr>\n",
       "    <tr>\n",
       "      <th>15935</th>\n",
       "      <td>4092110487</td>\n",
       "      <td>96.0</td>\n",
       "      <td>3</td>\n",
       "      <td>4</td>\n",
       "    </tr>\n",
       "    <tr>\n",
       "      <th>15936</th>\n",
       "      <td>4092300177</td>\n",
       "      <td>99.0</td>\n",
       "      <td>1</td>\n",
       "      <td>2</td>\n",
       "    </tr>\n",
       "    <tr>\n",
       "      <th>15937</th>\n",
       "      <td>4092300225</td>\n",
       "      <td>93.0</td>\n",
       "      <td>4</td>\n",
       "      <td>7</td>\n",
       "    </tr>\n",
       "  </tbody>\n",
       "</table>\n",
       "<p>15938 rows × 4 columns</p>\n",
       "</div>"
      ],
      "text/plain": [
       "           hsisid  score  num_critical  num_non_critical\n",
       "0      4092013748   96.0             9                 7\n",
       "1      4092014046   98.0             0                11\n",
       "2      4092015191   97.0             4                 8\n",
       "3      4092016122   99.0             2                 3\n",
       "4      4092021513   97.0             2                 4\n",
       "...           ...    ...           ...               ...\n",
       "15933  4092021142   93.0             6                13\n",
       "15934  4092110100   97.0             2                 3\n",
       "15935  4092110487   96.0             3                 4\n",
       "15936  4092300177   99.0             1                 2\n",
       "15937  4092300225   93.0             4                 7\n",
       "\n",
       "[15938 rows x 4 columns]"
      ]
     },
     "execution_count": 7,
     "metadata": {},
     "output_type": "execute_result"
    }
   ],
   "source": [
    "goodInspections['hsisid'] = goodInspections['hsisid'].astype(int)\n",
    "goodInspections['num_critical'] = goodInspections['num_critical'].astype(int)\n",
    "goodInspections['num_non_critical'] = goodInspections['num_non_critical'].astype(int)\n",
    "\n",
    "badInspections['hsisid'] = badInspections['hsisid'].astype(int)\n",
    "badInspections['num_critical'] = badInspections['num_critical'].astype(int)\n",
    "badInspections['num_non_critical'] = badInspections['num_non_critical'].astype(int)\n",
    "\n",
    "badInspections"
   ]
  },
  {
   "cell_type": "markdown",
   "metadata": {},
   "source": [
    "Now, we have two dataframes that both have the same format of inspections.csv. goodInspections contains all of the inspections with establishments with repeated violations, and badInspections contains all of the inspections for establishments with no repeated violations."
   ]
  },
  {
   "cell_type": "code",
   "execution_count": 8,
   "metadata": {},
   "outputs": [
    {
     "name": "stdout",
     "output_type": "stream",
     "text": [
      "2528 15938\n"
     ]
    }
   ],
   "source": [
    "print(goodInspections.shape[0], badInspections.shape[0])"
   ]
  },
  {
   "cell_type": "markdown",
   "metadata": {},
   "source": [
    "Let's perform some exploratory analysis now that we have our data in the form we want. First, I'd like to plot histograms of the score values that each of the restaurants' inspection received, but on seperate charts for our 'good' and 'bad' inspections."
   ]
  },
  {
   "cell_type": "code",
   "execution_count": 9,
   "metadata": {},
   "outputs": [
    {
     "name": "stderr",
     "output_type": "stream",
     "text": [
      "/opt/conda/lib/python3.6/site-packages/scipy/stats/stats.py:1713: FutureWarning: Using a non-tuple sequence for multidimensional indexing is deprecated; use `arr[tuple(seq)]` instead of `arr[seq]`. In the future this will be interpreted as an array index, `arr[np.array(seq)]`, which will result either in an error or a different result.\n",
      "  return np.add.reduce(sorted[indexer] * weights, axis=axis) / sumval\n"
     ]
    },
    {
     "data": {
      "text/plain": [
       "Text(0.5, 1.0, 'Score Distribution for Good Restaurants')"
      ]
     },
     "execution_count": 9,
     "metadata": {},
     "output_type": "execute_result"
    },
    {
     "data": {
      "image/png": "[encoded data removed]",
      "text/plain": [
       "<Figure size 432x288 with 1 Axes>"
      ]
     },
     "metadata": {
      "needs_background": "light"
     },
     "output_type": "display_data"
    }
   ],
   "source": [
    "# plt.hist(goodInspections['score'], bins=100, label=\"Score\")\n",
    "plot1 = sns.distplot(goodInspections['score'])\n",
    "plot1.set_ylabel('Count')\n",
    "plot1.set_xlabel('Score')\n",
    "plot1.set_title('Score Distribution for Good Restaurants')"
   ]
  },
  {
   "cell_type": "code",
   "execution_count": 10,
   "metadata": {},
   "outputs": [
    {
     "data": {
      "text/plain": [
       "Text(0.5, 1.0, 'Score Distribution for Bad Restaurants')"
      ]
     },
     "execution_count": 10,
     "metadata": {},
     "output_type": "execute_result"
    },
    {
     "data": {
      "image/png": "[encoded data removed]",
      "text/plain": [
       "<Figure size 432x288 with 1 Axes>"
      ]
     },
     "metadata": {
      "needs_background": "light"
     },
     "output_type": "display_data"
    }
   ],
   "source": [
    "plot2 = sns.distplot(badInspections['score'])\n",
    "plot2.set_ylabel('Count')\n",
    "plot2.set_xlabel('Score')\n",
    "plot2.set_title('Score Distribution for Bad Restaurants')"
   ]
  },
  {
   "cell_type": "markdown",
   "metadata": {},
   "source": [
    "Our first plot shows a distribution plot of the score for restaurants with no previous repeated violations.\n",
    "\n",
    "Our second plot shows a distribution plot of the score for restaurants with previous repeated violations.\n",
    "\n",
    "Before we continue, we should make sure these are as normal as they seem, with a normal test."
   ]
  },
  {
   "cell_type": "code",
   "execution_count": 11,
   "metadata": {},
   "outputs": [
    {
     "name": "stdout",
     "output_type": "stream",
     "text": [
      "All distributions look normal.\n"
     ]
    }
   ],
   "source": [
    "pk1, tk1 = normaltest(goodInspections['score'].values)\n",
    "pk2, tk2 = normaltest(goodInspections['num_critical'].values)\n",
    "pk3, tk3 = normaltest(goodInspections['num_non_critical'].values)\n",
    "pk4, tk4 = normaltest(badInspections['score'].values)\n",
    "pk5, tk5 = normaltest(badInspections['num_critical'].values)\n",
    "pk6, tk6 = normaltest(badInspections['num_non_critical'].values)\n",
    "\n",
    "# We are using a t-value threshold of 0.01\n",
    "\n",
    "if tk1 < .01 and tk2 < .01 and tk3 < .01 and tk4 < .01 and tk5 < .01 and tk6 < .01:\n",
    "    print(\"All distributions look normal.\")\n",
    "else:\n",
    "    print(\"Not all distributions look normal. Try again!\")"
   ]
  },
  {
   "cell_type": "markdown",
   "metadata": {},
   "source": [
    "Perfect.\n",
    "\n",
    "At first look, the plots look quite similar. Visually we see a very high average/mean score, around the >95% range, and they both follow a normal distribution around their median. Although, with a closer look, the median of the first graph seems to be in the middle of 97.5 and 100 (98.75), and the median of the second graph seems to be in the middle of 95 and 100 (about 97). Although this is only a difference of two percentage points, considering this is an estimated median and considering that almost all of the data points lie between 90 and 100, 2 percentage points is 20% of the range of almost the entire data set, which is very significant, so we should definitely continue.\n",
    "\n",
    "Next, I will do the same but with the number of violations."
   ]
  },
  {
   "cell_type": "code",
   "execution_count": 12,
   "metadata": {},
   "outputs": [
    {
     "data": {
      "text/plain": [
       "Text(0.5, 1.0, 'Non Critical Violation Distribution for Good Restaurants')"
      ]
     },
     "execution_count": 12,
     "metadata": {},
     "output_type": "execute_result"
    },
    {
     "data": {
      "image/png": "[encoded data removed]",
      "text/plain": [
       "<Figure size 432x288 with 1 Axes>"
      ]
     },
     "metadata": {
      "needs_background": "light"
     },
     "output_type": "display_data"
    }
   ],
   "source": [
    "plot3 = sns.distplot(goodInspections['num_non_critical'])\n",
    "plot3.set_ylabel('Count')\n",
    "plot3.set_xlabel('Number of Non-Critical Violations')\n",
    "plot3.set_title('Non Critical Violation Distribution for Good Restaurants')"
   ]
  },
  {
   "cell_type": "code",
   "execution_count": 16,
   "metadata": {},
   "outputs": [
    {
     "data": {
      "text/plain": [
       "Text(0.5, 1.0, 'Non Critical Violation Distribution for Bad Restaurants')"
      ]
     },
     "execution_count": 16,
     "metadata": {},
     "output_type": "execute_result"
    },
    {
     "data": {
      "image/png": "[encoded data removed]",
      "text/plain": [
       "<Figure size 432x288 with 1 Axes>"
      ]
     },
     "metadata": {
      "needs_background": "light"
     },
     "output_type": "display_data"
    }
   ],
   "source": [
    "plot4 = sns.distplot(badInspections['num_non_critical'])\n",
    "plot4.set_ylabel('Count')\n",
    "plot4.set_xlabel('Number of Non-Critical Violations')\n",
    "plot4.set_title('Non Critical Violation Distribution for Bad Restaurants')"
   ]
  },
  {
   "cell_type": "markdown",
   "metadata": {},
   "source": [
    "Looks can be deceiving here! Although they look idential, we must realize that the axis at the bottom is doubled, meaning, that we expect *approximately* double the number of violations for a given restaurant with repeated violations relative to that of a given restaurant with no repeated violations. The difference between the two, relative to the range, isn't too significant, but it's interesting enough to continue on.\n",
    "\n",
    "Finally, I'd like to perform a t-test analysis on the distributions from all three columns (score, number of critical violations, and number of noncritical violations). With this t-test I will retrieve a p-value with whether or not there is a statistically significant difference between two distributions. I will be using a value of 0.01 for my p-value threshold."
   ]
  },
  {
   "cell_type": "code",
   "execution_count": 14,
   "metadata": {},
   "outputs": [
    {
     "name": "stdout",
     "output_type": "stream",
     "text": [
      "The difference between the overall scores are statistically significant!\n",
      "The difference between the number of critical violations are statistically significant!\n",
      "The difference between the number of non-critical violations are statistically significant!\n"
     ]
    }
   ],
   "source": [
    "t1, p1 = ttest_ind(goodInspections['score'], badInspections['score'])\n",
    "t2, p2 = ttest_ind(goodInspections['num_critical'], badInspections['num_critical'])\n",
    "t3, p3 = ttest_ind(goodInspections['num_non_critical'], badInspections['num_non_critical'])\n",
    "\n",
    "if p1 < .01:\n",
    "    print(\"The difference between the overall scores are statistically significant!\")\n",
    "else:\n",
    "    print(\"The difference between the overall scores are not statistically significant.\")\n",
    "    \n",
    "if p2 < .01:\n",
    "    print(\"The difference between the number of critical violations are statistically significant!\")\n",
    "else:\n",
    "    print(\"The difference between the number of critical violations are not statistically significant.\")\n",
    "\n",
    "if p3 < .01:\n",
    "    print(\"The difference between the number of non-critical violations are statistically significant!\")\n",
    "else:\n",
    "    print(\"The difference between the number of non-critical violations are not statistically significant.\")"
   ]
  },
  {
   "cell_type": "markdown",
   "metadata": {},
   "source": [
    "Huzzah! It seems that all three of the variables we chose to represent sanitation levels are statistically significant between restaurants that have no repeated violations and restaurants that do. This tells us that these two distributions have a factor (we assume to be what we split the dataset by) has a significant weight on predicting the cleanliness of a food establishment.\n",
    "\n",
    "\n",
    "Here are the descriptions of how the mean and median differ from set to set, so we can confirm that the statistical difference is in the direction that we expected. We can see that the mean score goes up with no repeated violations, and the mean violations (for both) nearly *halve* in size! Now thats significant."
   ]
  },
  {
   "cell_type": "code",
   "execution_count": 15,
   "metadata": {},
   "outputs": [
    {
     "name": "stdout",
     "output_type": "stream",
     "text": [
      "Score:\n",
      "Repeated Violations Median: 96.02967750031371  No Repeated Violations Median: 97.53184335443038\n",
      "Critical Violations:\n",
      "Repeated Violations Median: 3.0245325636842764  No Repeated Violations Median: 1.7080696202531647\n",
      "Non-Critical Violations:\n",
      "Repeated Violations Median: 5.51279959844397  No Repeated Violations Median: 2.9462025316455698\n"
     ]
    }
   ],
   "source": [
    "print(\"Score:\")\n",
    "print(\"Repeated Violations Median: \" + str(badInspections['score'].mean()) + \"  No Repeated Violations Median: \" + str(goodInspections['score'].mean()))\n",
    "print(\"Critical Violations:\")\n",
    "print(\"Repeated Violations Median: \" + str(badInspections['num_critical'].mean()) + \"  No Repeated Violations Median: \" + str(goodInspections['num_critical'].mean()))\n",
    "print(\"Non-Critical Violations:\")\n",
    "print(\"Repeated Violations Median: \" + str(badInspections['num_non_critical'].mean()) + \"  No Repeated Violations Median: \" + str(goodInspections['num_non_critical'].mean()))"
   ]
  },
  {
   "cell_type": "markdown",
   "metadata": {},
   "source": [
    "# Ethics & Privacy"
   ]
  },
  {
   "cell_type": "markdown",
   "metadata": {},
   "source": [
    "Since this research project drifted a bit from my original question (regarding the ABC grade-card system), the ethics and privacy concerns have shifted a bit too. Here is a summary of the ethics and privacy concerns that I have with this research project.\n",
    "\n",
    "- I am concerned of bias in the way I split the two groups - I split them by if they had an repeated violations in their history, but I did not seperate this into the different categories for different *types* of restaurants, which risks a confounding variable.\n",
    "- In terms of ethics, I believe that the personal situations of the workers at these restaurants is important to keep in mind. Shutting down a restaurant using predictions based on repeated violations could result in major issues for the workers, as it could have been the business head's fault, or perhaps a single employee, but this affects the incomes and homes of many.\n",
    "- Privacy concerns include utilizing the information in the dataset, some of which I did not utilize. I was originally thinking of a research project based on the person who is performing the inspection, but that name would definitely have issues with privacy. A solution to this may have been to encrypt their names, but keeping a unique identifier to perform the data analysis."
   ]
  },
  {
   "cell_type": "markdown",
   "metadata": {},
   "source": [
    "# Conclusion & Discussion"
   ]
  },
  {
   "cell_type": "markdown",
   "metadata": {},
   "source": [
    "In this research project I set out to find whether or not a particular variable (the existence of previous repeated violations) is a good predictor of the scores being received in health inspection violations. The data I used was split into two dataframes, the first of which represents a row for one health inspection done on one restaurant. I pulled out 4 features from this set - unique restaurant id, cleanliness score, number of critical violations, and number of noncritical violations. The last three variables is what I used to determine cleanliness of the establishment, and the ID is utilized to associate each row in the first dataframe to the second. The second dataframe represents a row for every health inspection violation that has been recorded for these restaurants (within a large time frame). I can associate the first ID with the ID from this table, and the only other feature I take from this table is whether or not that establishment has repeat violations (I did this through some basic searching counting in programming logic, using some dataframe logic).\n",
    "\n",
    "With this information, I cleaned my data and then split the original dataset into two parts - one with establishments that havent repeated a violation, and another with establishments that have. I then utilized seaborn to graph distribution plots of the cleanliness scores between the two groups for some exploratory data analysis, in which we could see a significant difference. In order to confirm that these distribution were normal as they seemed, I ran normal tests on all of them and they did indeed all pass the normal test. Finally, I utilized a t-test from the scipy.stats kit to compare the two data distributions with eachother, one variable at a time: first overall score, then the number of critical violations, then the number of noncritical violations. This resulted in all three t-tests giving us a statistically significant difference between the data sets. Now that we know it is significant, we can simply print out some information about the average of the two sets to confirm that the direction of the significance was expected - and after calculating some averages of the new datasets, I was able to verify that my hypothesis was indeed correct - a history of repeated violations does have a significant impact on current health inspection scores.\n",
    "\n",
    "This information can be utilized in a very positive way. Firstly, we can simply look through a restaurants past to see if they have any repeated violations before performing a health inspection - perhaps in this case the inspector can either give a more thorough (and/or more strict) inspection for restaurants that have a past of repeated violations. This can even be extended for violations that have been repeated more than once, keeping a variable-statistic of this, I'm confident an even more statistically significant difference can be found between establishmnets of high repeating-violation statistics verus low. I think that this can impact the way we handle health inspections, of course leading to safer and better eateries.\n",
    "\n",
    "The only limitation I noticed was the difficulty in finding extra data sets that I can combine with the given ones. The given ones have unique identifiers that are unfortunately not available in other data sets, and in the ways that I was thinking, couldn't find a solution to implementing. Besides, that, there were little limitations given that these data sets were so large and thorough."
   ]
  }
 ],
 "metadata": {
  "kernelspec": {
   "display_name": "Python 3",
   "language": "python",
   "name": "python3"
  },
  "language_info": {
   "codemirror_mode": {
    "name": "ipython",
    "version": 3
   },
   "file_extension": ".py",
   "mimetype": "text/x-python",
   "name": "python",
   "nbconvert_exporter": "python",
   "pygments_lexer": "ipython3",
   "version": "3.6.7"
  }
 },
 "nbformat": 4,
 "nbformat_minor": 2
}
