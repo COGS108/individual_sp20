{
 "cells": [
  {
   "cell_type": "markdown",
   "metadata": {},
   "source": [
    "# COGS 108 - Final Project "
   ]
  },
  {
   "cell_type": "markdown",
   "metadata": {},
   "source": [
    "# Overview"
   ]
  },
  {
   "cell_type": "markdown",
   "metadata": {},
   "source": [
    "*Fill in your overview here*"
   ]
  },
  {
   "cell_type": "markdown",
   "metadata": {},
   "source": [
    "# Name & PID\n",
    "\n",
    "- Name: Jack Giddings\n",
    "- PID: A12785560"
   ]
  },
  {
   "cell_type": "markdown",
   "metadata": {},
   "source": [
    "# Research Question"
   ]
  },
  {
   "cell_type": "markdown",
   "metadata": {},
   "source": [
    "Do lower scoring health inspection ratings and/or frequency of inspections correlate to lower income cities of North Carolina? Does this have an effect on the number of COVID-19 cases within that area?"
   ]
  },
  {
   "cell_type": "markdown",
   "metadata": {},
   "source": [
    "## Background and Prior Work"
   ]
  },
  {
   "cell_type": "markdown",
   "metadata": {},
   "source": [
    "During the current COVID-19 pandemic that we are also experiencing, the health and safety of a community are now its top priority. Food safety has become increasingly common as people disinfect their groceries as soon as they get home. In this time, ensuring health inspections are being carried out properly and to the correct standards is critical to public safety and halting the spread of germs. This begs us to look for ways to improve health inspections and ask questions about the relationships between inspection ratings and the number of COVID cases per neighborhood in LA County. Do worse health inspection ratings correlate to a higher number of cases in a specific neighborhood?\n",
    "    \n",
    "In LA County, health inspections are carried out on a rating scale of 1 to 100. A business starts with the full 100 points and is then deducted points depending on the severity of each infraction found during the inspection. Depending on its score it is then issued a grade of A for 90-100, B for 80-89, C for 70-79, and a Fail for anything below a 70. The three levels of violations are minor, major, and critical with any critical violation resulting in an automatic fail regardless of the score [1]. Because the COVID-19 outbreak has occurred so recently there are no prior projects on this topic, though there are a few that are similar. One project looks at Yelp ratings for restaurants in neighborhoods around Toronto to see if lower income neighborhoods have worse service, and therefore worse ratings [2]. This is similar to my question as the number of COVID cases is also broken down by neighborhoods in Los Angeles to analyze any possible correlation. Although this project determined that there is no correlation between Yelp ratings and neighborhood income, this does not discount possible relationships between neighborhood income and health inspection ratings. As such neighborhood income might have an unseen effect on health inspections and thus an unseen effect on the spread of COVID-19.\n",
    "\n",
    "The second project I found is more directly related to my question as they used the Yelp Health Inspection System, called LIVES, to analyze and identify specific regions of San Francisco with high numbers of health violations [3]. This project did not correlate to neighborhood income, however, but instead has higher violations coming from more high-trafficked areas around SF. My question takes this one step further by asking how LA County neighborhoods with higher frequencies and severities of health inspection infractions affect the spread of COVID-19. \n",
    "\n",
    "References (include links):\n",
    "- 1) http://publichealth.lacounty.gov/eh/misc/ehpost.htm\n",
    "- 2) https://medium.com/swlh/is-there-a-correlation-between-a-restaurants-ratings-and-the-income-levels-of-a-neighborhood-5fe41165e4f1\n",
    "- 3) https://nycdatascience.com/blog/student-works/san-francisco-restaurant-inspection-analysis-visualization/"
   ]
  },
  {
   "cell_type": "markdown",
   "metadata": {},
   "source": [
    "# Hypothesis\n"
   ]
  },
  {
   "cell_type": "markdown",
   "metadata": {},
   "source": [
    "I believe that lower health inspection scores does in fact correlate to a higher number of COVID-19 cases, which could serve as an explanation to why lower income neighborhoods have been affected the most by this pandemic. Because the COVID-19 virus can live on surfaces, it serves to think that restaurants with worse health inspection ratings are not as clean and might therefore be contributing more heavily to the spread of the virus. If this is true then it would explain a higher number of cases in those neighborhoods, which I predict to be lower income neighborhoods."
   ]
  },
  {
   "cell_type": "markdown",
   "metadata": {},
   "source": [
    "# Dataset(s)"
   ]
  },
  {
   "cell_type": "markdown",
   "metadata": {},
   "source": [
    "- Dataset Name: violations.csv\n",
    "- Link to the dataset: https://raw.githubusercontent.com/jrgiddin/individual_sp20/master/violations.csv\n",
    "- Number of observations: 189,803\n",
    "\n",
    "- Dataset Name: inspections.csv\n",
    "- Link to the dataset: https://raw.githubusercontent.com/jrgiddin/individual_sp20/master/inspections.csv\n",
    "- Number of observations: 18,467\n",
    "\n",
    "- Dataset Name: zipcodes.csv\n",
    "- Link to the dataset: https://raw.githubusercontent.com/jrgiddin/individual_sp20/master/zipcodes.csv\n",
    "- Number of observations: 39\n",
    "\n",
    "- Dataset Name: zipcodes.csv\n",
    "- Link to the dataset: https://raw.githubusercontent.com/jrgiddin/individual_sp20/master/zipcodes.csv\n",
    "- Number of observations: 39\n",
    "\n",
    "The violations.csv dataset contains a list of all health code violations for the state of North Carolina from 2012-2016 while the inspections.csv dataset contains the scores of all the health code inspections done from 2012-2016. The zipcodes.csv dataset contains financial information, median household income etc., of thirty-nine (39) cities in NC. To get these different datasets into one usable dataframe, I will use  merging the violations.csv and inspections.csv datasets on their 'hsisd' columns.\n",
    "\n",
    "If you plan to use multiple datasets, add 1-2 sentences about how you plan to combine these datasets."
   ]
  },
  {
   "cell_type": "markdown",
   "metadata": {},
   "source": [
    "# Setup"
   ]
  },
  {
   "cell_type": "code",
   "execution_count": 1,
   "metadata": {},
   "outputs": [],
   "source": [
    "# All imports used in the project\n",
    "%matplotlib inline\n",
    "\n",
    "import pandas as pd \n",
    "import numpy as np \n",
    "import seaborn as sns\n",
    "import matplotlib.pyplot as plt \n",
    "import random\n"
   ]
  },
  {
   "cell_type": "markdown",
   "metadata": {},
   "source": [
    "# Data Cleaning"
   ]
  },
  {
   "cell_type": "markdown",
   "metadata": {},
   "source": [
    "Describe your data cleaning steps here."
   ]
  },
  {
   "cell_type": "code",
   "execution_count": 2,
   "metadata": {},
   "outputs": [],
   "source": [
    "# Read in all databases given\n",
    "inspections_db = pd.read_csv(\"https://raw.githubusercontent.com/jrgiddin/individual_sp20/master/inspections.csv\", sep = ',')\n",
    "#restaurants_db = pd.read_csv(\"https://raw.githubusercontent.com/jrgiddin/individual_sp20/master/restaurants.csv\", sep = ',')\n",
    "violations_db = pd.read_csv(\"https://raw.githubusercontent.com/jrgiddin/individual_sp20/master/violations.csv\", sep = ',')\n",
    "#yelp_db = pd.read_csv(\"https://raw.githubusercontent.com/jrgiddin/individual_sp20/master/yelp.csv\", sep = ',')\n",
    "zipcode_db = pd.read_csv(\"https://raw.githubusercontent.com/jrgiddin/individual_sp20/master/zipcodes.csv\", sep = ',')"
   ]
  },
  {
   "cell_type": "code",
   "execution_count": 3,
   "metadata": {},
   "outputs": [
    {
     "output_type": "execute_result",
     "data": {
      "text/plain": "hsisid                             0\ndate                               0\nname                               0\naddress1                           0\ncity                               0\nstate                              0\npostalcode                         0\nphonenumber                      501\nrestaurantopendate                 0\ndays_from_open_date                0\nfacilitytype                       0\nx                                  0\ny                                  0\ngeocodestatus                      0\nzip                                0\ntype                               0\ninspectedby                        5\ninspection_num                     0\ninspector_id                       5\nscore                              0\nnum_critical                       0\nnum_non_critical                   0\navg_neighbor_num_critical          6\navg_neighbor_num_non_critical      6\ntop_match                          6\nsecond_match                       6\ncritical                           0\ndtype: int64"
     },
     "metadata": {},
     "execution_count": 3
    }
   ],
   "source": [
    "# Clean Data for Inspections\n",
    "inspections_db.head()\n",
    "inspections_db = inspections_db.dropna(thresh = len(inspections_db) * 0.9, axis = 'columns')\n",
    "inspections_db.isna().sum()"
   ]
  },
  {
   "cell_type": "code",
   "execution_count": 14,
   "metadata": {},
   "outputs": [
    {
     "output_type": "execute_result",
     "data": {
      "text/plain": "X.objectid              0\nhsisid                  0\nname                    0\naddress1                0\ncity                    0\nstate                   0\npostalcode              0\nphonenumber           145\nrestaurantopendate      0\nfacilitytype            0\nx                       0\ny                       0\ngeocodestatus           0\ndtype: int64"
     },
     "metadata": {},
     "execution_count": 14
    }
   ],
   "source": [
    "# Clean Data for Restaurants Database\n",
    "#restaurants_db = restaurants_db.dropna(thresh = len(restaurants_db) * 0.9, axis = 'columns')\n",
    "#restaurants_db.isna().sum()"
   ]
  },
  {
   "cell_type": "code",
   "execution_count": 4,
   "metadata": {},
   "outputs": [
    {
     "output_type": "execute_result",
     "data": {
      "text/plain": "X.objectid            0\nhsisid                0\ninspectdate           0\ncategory              0\nstatecode             0\ncritical           8957\nquestionno            0\nviolationcode         0\nseverity           8957\nshortdesc             0\ninspectedby          78\ncomments            448\npointvalue            0\nobservationtype     279\ndtype: int64"
     },
     "metadata": {},
     "execution_count": 4
    }
   ],
   "source": [
    "# Clean Data for Violations Database\n",
    "violations_db = violations_db.dropna(thresh = len(violations_db) * 0.9, axis = 'columns')\n",
    "violations_db.isna().sum()"
   ]
  },
  {
   "cell_type": "code",
   "execution_count": 5,
   "metadata": {},
   "outputs": [
    {
     "output_type": "execute_result",
     "data": {
      "text/plain": "zip                                     0\nmedian_family_income_dollars            0\nmedian_household_income_dollars         0\nper_capita_income_dollars               0\npercent_damilies_below_poverty_line     0\npercent_snap_benefits                   0\npercent_supplemental_security_income    0\npercent_nonwhite                        0\ndtype: int64"
     },
     "metadata": {},
     "execution_count": 5
    }
   ],
   "source": [
    "# Clean Data for Zipcode Database\n",
    "zipcode_db.dropna(thresh = len(zipcode_db) * 0.9, axis = 'columns')\n",
    "zipcode_db.isna().sum()"
   ]
  },
  {
   "cell_type": "code",
   "execution_count": 21,
   "metadata": {},
   "outputs": [
    {
     "output_type": "execute_result",
     "data": {
      "text/plain": "           hsisid                  date                 name_x  \\\n0      4092013748  2012-09-21T00:00:00Z  Cafe 3000 At Wake Med   \n1      4092013748  2013-02-14T00:00:00Z  Cafe 3000 At Wake Med   \n2      4092013748  2013-08-08T00:00:00Z  Cafe 3000 At Wake Med   \n3      4092013748  2014-04-03T00:00:00Z  Cafe 3000 At Wake Med   \n4      4092013748  2014-10-03T00:00:00Z  Cafe 3000 At Wake Med   \n...           ...                   ...                    ...   \n21785  4092016658                   NaN                    NaN   \n21786  4092016663                   NaN                    NaN   \n21787  4092016557                   NaN                    NaN   \n21788  4092017227                   NaN                    NaN   \n21789  4092017274                   NaN                    NaN   \n\n              address1_x   city_x state postalcode     phonenumber  \\\n0      3000 New Bern Ave  raleigh    NC      27610  (919) 350-8047   \n1      3000 New Bern Ave  raleigh    NC      27610  (919) 350-8047   \n2      3000 New Bern Ave  raleigh    NC      27610  (919) 350-8047   \n3      3000 New Bern Ave  raleigh    NC      27610  (919) 350-8047   \n4      3000 New Bern Ave  raleigh    NC      27610  (919) 350-8047   \n...                  ...      ...   ...        ...             ...   \n21785                NaN      NaN    NC      27529  (919) 662-1700   \n21786                NaN      NaN    NC      27603  (919) 772-4512   \n21787                NaN      NaN    NC      27587  (919) 556-7773   \n21788                NaN      NaN    NC      27560  (984) 465-0347   \n21789                NaN      NaN    NC      27587  (919) 562-9521   \n\n             restaurantopendate  days_from_open_date  ...  second_match  \\\n0          2002-12-21T00:00:00Z               3562.0  ...           NaN   \n1          2002-12-21T00:00:00Z               3708.0  ...  4.092016e+09   \n2          2002-12-21T00:00:00Z               3883.0  ...  4.092016e+09   \n3          2002-12-21T00:00:00Z               4121.0  ...  4.092016e+09   \n4          2002-12-21T00:00:00Z               4304.0  ...  4.092016e+09   \n...                         ...                  ...  ...           ...   \n21785  2014-04-03T00:00:00.000Z                  NaN  ...           NaN   \n21786  2014-04-08T00:00:00.000Z                  NaN  ...           NaN   \n21787  2013-10-31T00:00:00.000Z                  NaN  ...           NaN   \n21788  2016-05-19T00:00:00.000Z                  NaN  ...           NaN   \n21789  2016-06-24T00:00:00.000Z                  NaN  ...           NaN   \n\n       critical  X.objectid                       name_y  \\\n0           1.0         NaN                          NaN   \n1           1.0         NaN                          NaN   \n2           1.0         NaN                          NaN   \n3           1.0         NaN                          NaN   \n4           1.0         NaN                          NaN   \n...         ...         ...                          ...   \n21785       NaN      2996.0                LA ROMA PIZZA   \n21786       NaN      2997.0                 BOJANGLES #5   \n21787       NaN      2998.0           BURGER KING #19795   \n21788       NaN      2999.0                      QUICKLY   \n21789       NaN      3000.0  HARRIS TEETER #43 STARBUCKS   \n\n                  address1_y       city_y facilitytype_y        x_y  \\\n0                        NaN          NaN            NaN        NaN   \n1                        NaN          NaN            NaN        NaN   \n2                        NaN          NaN            NaN        NaN   \n3                        NaN          NaN            NaN        NaN   \n4                        NaN          NaN            NaN        NaN   \n...                      ...          ...            ...        ...   \n21785        1322 FIFTH AVE        GARNER     Restaurant -78.621859   \n21786  3301 S WILMINGTON ST       RALEIGH     Restaurant -78.649803   \n21787       22114 S MAIN ST   Wake Forest     Restaurant   0.000000   \n21788         4141 DAVIS DR   MORRISVILLE     Restaurant -78.858116   \n21789        3638 ROGERS RD   WAKE FOREST     Restaurant -78.504827   \n\n             y_y  geocodestatus_y  \n0            NaN              NaN  \n1            NaN              NaN  \n2            NaN              NaN  \n3            NaN              NaN  \n4            NaN              NaN  \n...          ...              ...  \n21785  35.709485                M  \n21786  35.735063                M  \n21787   0.000000                U  \n21788  35.835626                M  \n21789  35.944642                M  \n\n[21790 rows x 35 columns]",
      "text/html": "<div>\n<style scoped>\n    .dataframe tbody tr th:only-of-type {\n        vertical-align: middle;\n    }\n\n    .dataframe tbody tr th {\n        vertical-align: top;\n    }\n\n    .dataframe thead th {\n        text-align: right;\n    }\n</style>\n<table border=\"1\" class=\"dataframe\">\n  <thead>\n    <tr style=\"text-align: right;\">\n      <th></th>\n      <th>hsisid</th>\n      <th>date</th>\n      <th>name_x</th>\n      <th>address1_x</th>\n      <th>city_x</th>\n      <th>state</th>\n      <th>postalcode</th>\n      <th>phonenumber</th>\n      <th>restaurantopendate</th>\n      <th>days_from_open_date</th>\n      <th>...</th>\n      <th>second_match</th>\n      <th>critical</th>\n      <th>X.objectid</th>\n      <th>name_y</th>\n      <th>address1_y</th>\n      <th>city_y</th>\n      <th>facilitytype_y</th>\n      <th>x_y</th>\n      <th>y_y</th>\n      <th>geocodestatus_y</th>\n    </tr>\n  </thead>\n  <tbody>\n    <tr>\n      <th>0</th>\n      <td>4092013748</td>\n      <td>2012-09-21T00:00:00Z</td>\n      <td>Cafe 3000 At Wake Med</td>\n      <td>3000 New Bern Ave</td>\n      <td>raleigh</td>\n      <td>NC</td>\n      <td>27610</td>\n      <td>(919) 350-8047</td>\n      <td>2002-12-21T00:00:00Z</td>\n      <td>3562.0</td>\n      <td>...</td>\n      <td>NaN</td>\n      <td>1.0</td>\n      <td>NaN</td>\n      <td>NaN</td>\n      <td>NaN</td>\n      <td>NaN</td>\n      <td>NaN</td>\n      <td>NaN</td>\n      <td>NaN</td>\n      <td>NaN</td>\n    </tr>\n    <tr>\n      <th>1</th>\n      <td>4092013748</td>\n      <td>2013-02-14T00:00:00Z</td>\n      <td>Cafe 3000 At Wake Med</td>\n      <td>3000 New Bern Ave</td>\n      <td>raleigh</td>\n      <td>NC</td>\n      <td>27610</td>\n      <td>(919) 350-8047</td>\n      <td>2002-12-21T00:00:00Z</td>\n      <td>3708.0</td>\n      <td>...</td>\n      <td>4.092016e+09</td>\n      <td>1.0</td>\n      <td>NaN</td>\n      <td>NaN</td>\n      <td>NaN</td>\n      <td>NaN</td>\n      <td>NaN</td>\n      <td>NaN</td>\n      <td>NaN</td>\n      <td>NaN</td>\n    </tr>\n    <tr>\n      <th>2</th>\n      <td>4092013748</td>\n      <td>2013-08-08T00:00:00Z</td>\n      <td>Cafe 3000 At Wake Med</td>\n      <td>3000 New Bern Ave</td>\n      <td>raleigh</td>\n      <td>NC</td>\n      <td>27610</td>\n      <td>(919) 350-8047</td>\n      <td>2002-12-21T00:00:00Z</td>\n      <td>3883.0</td>\n      <td>...</td>\n      <td>4.092016e+09</td>\n      <td>1.0</td>\n      <td>NaN</td>\n      <td>NaN</td>\n      <td>NaN</td>\n      <td>NaN</td>\n      <td>NaN</td>\n      <td>NaN</td>\n      <td>NaN</td>\n      <td>NaN</td>\n    </tr>\n    <tr>\n      <th>3</th>\n      <td>4092013748</td>\n      <td>2014-04-03T00:00:00Z</td>\n      <td>Cafe 3000 At Wake Med</td>\n      <td>3000 New Bern Ave</td>\n      <td>raleigh</td>\n      <td>NC</td>\n      <td>27610</td>\n      <td>(919) 350-8047</td>\n      <td>2002-12-21T00:00:00Z</td>\n      <td>4121.0</td>\n      <td>...</td>\n      <td>4.092016e+09</td>\n      <td>1.0</td>\n      <td>NaN</td>\n      <td>NaN</td>\n      <td>NaN</td>\n      <td>NaN</td>\n      <td>NaN</td>\n      <td>NaN</td>\n      <td>NaN</td>\n      <td>NaN</td>\n    </tr>\n    <tr>\n      <th>4</th>\n      <td>4092013748</td>\n      <td>2014-10-03T00:00:00Z</td>\n      <td>Cafe 3000 At Wake Med</td>\n      <td>3000 New Bern Ave</td>\n      <td>raleigh</td>\n      <td>NC</td>\n      <td>27610</td>\n      <td>(919) 350-8047</td>\n      <td>2002-12-21T00:00:00Z</td>\n      <td>4304.0</td>\n      <td>...</td>\n      <td>4.092016e+09</td>\n      <td>1.0</td>\n      <td>NaN</td>\n      <td>NaN</td>\n      <td>NaN</td>\n      <td>NaN</td>\n      <td>NaN</td>\n      <td>NaN</td>\n      <td>NaN</td>\n      <td>NaN</td>\n    </tr>\n    <tr>\n      <th>...</th>\n      <td>...</td>\n      <td>...</td>\n      <td>...</td>\n      <td>...</td>\n      <td>...</td>\n      <td>...</td>\n      <td>...</td>\n      <td>...</td>\n      <td>...</td>\n      <td>...</td>\n      <td>...</td>\n      <td>...</td>\n      <td>...</td>\n      <td>...</td>\n      <td>...</td>\n      <td>...</td>\n      <td>...</td>\n      <td>...</td>\n      <td>...</td>\n      <td>...</td>\n      <td>...</td>\n    </tr>\n    <tr>\n      <th>21785</th>\n      <td>4092016658</td>\n      <td>NaN</td>\n      <td>NaN</td>\n      <td>NaN</td>\n      <td>NaN</td>\n      <td>NC</td>\n      <td>27529</td>\n      <td>(919) 662-1700</td>\n      <td>2014-04-03T00:00:00.000Z</td>\n      <td>NaN</td>\n      <td>...</td>\n      <td>NaN</td>\n      <td>NaN</td>\n      <td>2996.0</td>\n      <td>LA ROMA PIZZA</td>\n      <td>1322 FIFTH AVE</td>\n      <td>GARNER</td>\n      <td>Restaurant</td>\n      <td>-78.621859</td>\n      <td>35.709485</td>\n      <td>M</td>\n    </tr>\n    <tr>\n      <th>21786</th>\n      <td>4092016663</td>\n      <td>NaN</td>\n      <td>NaN</td>\n      <td>NaN</td>\n      <td>NaN</td>\n      <td>NC</td>\n      <td>27603</td>\n      <td>(919) 772-4512</td>\n      <td>2014-04-08T00:00:00.000Z</td>\n      <td>NaN</td>\n      <td>...</td>\n      <td>NaN</td>\n      <td>NaN</td>\n      <td>2997.0</td>\n      <td>BOJANGLES #5</td>\n      <td>3301 S WILMINGTON ST</td>\n      <td>RALEIGH</td>\n      <td>Restaurant</td>\n      <td>-78.649803</td>\n      <td>35.735063</td>\n      <td>M</td>\n    </tr>\n    <tr>\n      <th>21787</th>\n      <td>4092016557</td>\n      <td>NaN</td>\n      <td>NaN</td>\n      <td>NaN</td>\n      <td>NaN</td>\n      <td>NC</td>\n      <td>27587</td>\n      <td>(919) 556-7773</td>\n      <td>2013-10-31T00:00:00.000Z</td>\n      <td>NaN</td>\n      <td>...</td>\n      <td>NaN</td>\n      <td>NaN</td>\n      <td>2998.0</td>\n      <td>BURGER KING #19795</td>\n      <td>22114 S MAIN ST</td>\n      <td>Wake Forest</td>\n      <td>Restaurant</td>\n      <td>0.000000</td>\n      <td>0.000000</td>\n      <td>U</td>\n    </tr>\n    <tr>\n      <th>21788</th>\n      <td>4092017227</td>\n      <td>NaN</td>\n      <td>NaN</td>\n      <td>NaN</td>\n      <td>NaN</td>\n      <td>NC</td>\n      <td>27560</td>\n      <td>(984) 465-0347</td>\n      <td>2016-05-19T00:00:00.000Z</td>\n      <td>NaN</td>\n      <td>...</td>\n      <td>NaN</td>\n      <td>NaN</td>\n      <td>2999.0</td>\n      <td>QUICKLY</td>\n      <td>4141 DAVIS DR</td>\n      <td>MORRISVILLE</td>\n      <td>Restaurant</td>\n      <td>-78.858116</td>\n      <td>35.835626</td>\n      <td>M</td>\n    </tr>\n    <tr>\n      <th>21789</th>\n      <td>4092017274</td>\n      <td>NaN</td>\n      <td>NaN</td>\n      <td>NaN</td>\n      <td>NaN</td>\n      <td>NC</td>\n      <td>27587</td>\n      <td>(919) 562-9521</td>\n      <td>2016-06-24T00:00:00.000Z</td>\n      <td>NaN</td>\n      <td>...</td>\n      <td>NaN</td>\n      <td>NaN</td>\n      <td>3000.0</td>\n      <td>HARRIS TEETER #43 STARBUCKS</td>\n      <td>3638 ROGERS RD</td>\n      <td>WAKE FOREST</td>\n      <td>Restaurant</td>\n      <td>-78.504827</td>\n      <td>35.944642</td>\n      <td>M</td>\n    </tr>\n  </tbody>\n</table>\n<p>21790 rows × 35 columns</p>\n</div>"
     },
     "metadata": {},
     "execution_count": 21
    }
   ],
   "source": [
    "# Merge Datasets\n",
    "insp_rest_db = pd.merge(inspections_db, restaurants_db, on = ['hsisid', 'state', 'phonenumber', 'postalcode', 'restaurantopendate'], how = 'inner')\n",
    "insp_rest_db\n",
    "#insp_rest_db.isna().sum()"
   ]
  },
  {
   "cell_type": "markdown",
   "metadata": {},
   "source": [
    "# Data Analysis & Results"
   ]
  },
  {
   "cell_type": "markdown",
   "metadata": {},
   "source": [
    "Include cells that describe the steps in your data analysis."
   ]
  },
  {
   "cell_type": "code",
   "execution_count": 5,
   "metadata": {},
   "outputs": [],
   "source": [
    "## YOUR CODE HERE\n",
    "## FEEL FREE TO ADD MULTIPLE CELLS PER SECTION"
   ]
  },
  {
   "cell_type": "markdown",
   "metadata": {},
   "source": [
    "# Ethics & Privacy"
   ]
  },
  {
   "cell_type": "markdown",
   "metadata": {},
   "source": [
    "*Fill in your ethics & privacy discussion here*"
   ]
  },
  {
   "cell_type": "markdown",
   "metadata": {},
   "source": [
    "# Conclusion & Discussion"
   ]
  },
  {
   "cell_type": "markdown",
   "metadata": {},
   "source": [
    "*Fill in your discussion information here*"
   ]
  }
 ],
 "metadata": {
  "kernelspec": {
   "display_name": "Python 3.8.2 32-bit",
   "language": "python",
   "name": "python38232bit42016efe31794a6d9f16a7743d4d5522"
  },
  "language_info": {
   "codemirror_mode": {
    "name": "ipython",
    "version": 3
   },
   "file_extension": ".py",
   "mimetype": "text/x-python",
   "name": "python",
   "nbconvert_exporter": "python",
   "pygments_lexer": "ipython3",
   "version": "3.8.2-final"
  }
 },
 "nbformat": 4,
 "nbformat_minor": 2
}