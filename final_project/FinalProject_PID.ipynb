{
 "cells": [
  {
   "cell_type": "markdown",
   "metadata": {},
   "source": [
    "# COGS 108 - Final Project "
   ]
  },
  {
   "cell_type": "markdown",
   "metadata": {},
   "source": [
    "# Overview"
   ]
  },
  {
   "cell_type": "markdown",
   "metadata": {},
   "source": [
    " In order to help improve the health inspection process of the restaurants in North Carolina, we need to explore some useful information in inspection process. When we have the violation records of these restaurants, what can we learn from these ? It is inefficient to do very detailed health inspection on every restaurants and every aspects. Perhaps, It will be better if we can focus on some restaurants or some aspects to do detailed inspection."
   ]
  },
  {
   "cell_type": "markdown",
   "metadata": {},
   "source": [
    "# Name & PID\n",
    "\n",
    "- Name: Yong Liu \n",
    "- PID: A15126460"
   ]
  },
  {
   "cell_type": "markdown",
   "metadata": {},
   "source": [
    "# Research Question"
   ]
  },
  {
   "cell_type": "markdown",
   "metadata": {},
   "source": [
    "Among all the restaurants with violations during insepction, what kind of violation category are more likely to have repeated violation ?  or what other factors that may make an restaurant have repeated violations? Is it relates to the open date of an restaurant ? "
   ]
  },
  {
   "cell_type": "markdown",
   "metadata": {},
   "source": [
    "## Background and Prior Work"
   ]
  },
  {
   "cell_type": "markdown",
   "metadata": {},
   "source": [
    " 1. Violation type explantion: \n",
    " Form the inspection manage system , during the health inspection process, the inspector record the different violation types that are: NA=Not Applicable\t \tNO=Not Observed\t \tCDI=Corrected During Inspection\t \tR=Repeat Violation\t \tVR=Verification Required\t\n",
    "  \n",
    "  \n",
    "  2. The inspecting frequency: \n",
    "  In the state of North Carolina, foodservice establishments such as restaurants, take-out or delivery food businesses, school cafeterias and institutions (hospital, nursing home, etc.) are to be inspected at a frequency that is determined by the complexity of the menu and the susceptibility of the population served. There are four risk categories with a corresponding inspection frequency.Risk Category I establishments are inspected once per year, do not serve potentially hazardous foods and are most often bars or coffee shops that use reusable cups or drinking glasses.\n",
    "Risk Category II establishments are inspected twice per year, have limited menus with simple food preparation procedures and are primarily cook and serve type establishments.\n",
    "Risk Category III establishments are inspected three times per year, have a more complex menu and cook some foods in advance, then refrigerate the foods to be reheated and served at a later time.\n",
    "Risk Category IV establishments are inspected four times per year, have the most complex menus that involve cooking, cooling and reheating of several foods or they serve a highly susceptible population such as children, elderly persons or those who may\n",
    "be immunocompromised.\n",
    "  3. the predcition of NYC restaurant health inspection has some thing I can learn from. For example, they made assumpotions that the food type, the stree, the name, zipcode and borough might be useful features to use, which inspire me to think about maybe the years of opened is also related. \n",
    "  \n",
    "References  links:\n",
    "- 1) the violation type explantion from inpection management system \n",
    "https://public.cdpehs.com/NCENVPBL/INSPECTION_VIOLATION/ShowVIOLATIONTable.aspx?INSPECTION=3421828&ESTABLISHMENT=177780&esttst_cty=60\n",
    "- 2) Prediction of NYC Restaurant Health Inspection Results\n",
    "http://cs229.stanford.edu/proj2013/Walter-PredictionOfNYCRestaurantHealthInspectionResults%20pdf.pdf"
   ]
  },
  {
   "cell_type": "markdown",
   "metadata": {},
   "source": [
    "# Hypothesis\n"
   ]
  },
  {
   "cell_type": "markdown",
   "metadata": {},
   "source": [
    "Hypothesis 1: The repeated violation may exist more in profit related catagory, for example the restaurant  tends to use cheaper food matertial or untencils  which might result in repeated violations\n",
    "\n",
    "Hypothesis 2 : The older restraunt might have more repeated violations because they were experienced about the inspection process and they may loose the requirments on facilities they used when they have stable customers in order to decease the cost. "
   ]
  },
  {
   "cell_type": "markdown",
   "metadata": {},
   "source": [
    "# Dataset(s)"
   ]
  },
  {
   "cell_type": "markdown",
   "metadata": {},
   "source": [
    "\n",
    "- Dataset Name: violation.csv\n",
    "- Link to the dataset: individual_sp20/data/violation.csv\n",
    "- Number of observations: 5(X.objectid, category, critical,violationtype)\n",
    "\n",
    "This dataset constains the list of restaurants with violations during health inspection process. It also contasins a column that indicates whether this violation is been corrected or repeated.  \n",
    "\n",
    "- Dataset Name: restaurants.csv\n",
    "- Link to the dataset: \n",
    "- Number of observations:4(X.objectid, name, facilitytype, restaurantopendate)\n",
    "\n",
    "This dataset provides the basic information of each restaurants. \n",
    "\n",
    "To anser all of the questions, I might need to combine this two dataset together to explore some useful information. The key to join these two datasets together is the shareed id-X.objectid. "
   ]
  },
  {
   "cell_type": "markdown",
   "metadata": {},
   "source": [
    "# Setup"
   ]
  },
  {
   "cell_type": "code",
   "execution_count": 1,
   "metadata": {},
   "outputs": [],
   "source": [
    "import pandas as pd \n",
    "import seaborn as sns \n",
    "import numpy as np\n",
    "import matplotlib.pyplot as plt\n",
    "import sklearn\n",
    "import statsmodels.api as sm\n",
    "from sklearn import linear_model\n",
    "from datetime import date"
   ]
  },
  {
   "cell_type": "code",
   "execution_count": 2,
   "metadata": {},
   "outputs": [],
   "source": [
    "df1 = pd.read_csv(\"data/violations.csv\")\n",
    "df2 = pd.read_csv('data/restaurants.csv')"
   ]
  },
  {
   "cell_type": "markdown",
   "metadata": {},
   "source": [
    "# Data Cleaning"
   ]
  },
  {
   "cell_type": "markdown",
   "metadata": {},
   "source": [
    "First, lets drop the unusegul columns "
   ]
  },
  {
   "cell_type": "code",
   "execution_count": 3,
   "metadata": {},
   "outputs": [
    {
     "name": "stdout",
     "output_type": "stream",
     "text": [
      "(189802, 4)\n",
      "(3324, 4)\n"
     ]
    }
   ],
   "source": [
    "df1 = df1[['X.objectid', 'category', 'critical',  'violationtype']]\n",
    "df2 = df2[['X.objectid', 'name', 'facilitytype', 'restaurantopendate']]\n",
    "print(df1.shape)\n",
    "print(df2.shape)"
   ]
  },
  {
   "cell_type": "code",
   "execution_count": 4,
   "metadata": {},
   "outputs": [
    {
     "data": {
      "text/html": [
       "<div>\n",
       "<style scoped>\n",
       "    .dataframe tbody tr th:only-of-type {\n",
       "        vertical-align: middle;\n",
       "    }\n",
       "\n",
       "    .dataframe tbody tr th {\n",
       "        vertical-align: top;\n",
       "    }\n",
       "\n",
       "    .dataframe thead th {\n",
       "        text-align: right;\n",
       "    }\n",
       "</style>\n",
       "<table border=\"1\" class=\"dataframe\">\n",
       "  <thead>\n",
       "    <tr style=\"text-align: right;\">\n",
       "      <th></th>\n",
       "      <th>X.objectid</th>\n",
       "      <th>category</th>\n",
       "      <th>critical</th>\n",
       "      <th>violationtype</th>\n",
       "    </tr>\n",
       "  </thead>\n",
       "  <tbody>\n",
       "    <tr>\n",
       "      <td>0</td>\n",
       "      <td>2149</td>\n",
       "      <td>Chemical</td>\n",
       "      <td>Yes</td>\n",
       "      <td>R</td>\n",
       "    </tr>\n",
       "    <tr>\n",
       "      <td>1</td>\n",
       "      <td>2150</td>\n",
       "      <td>Chemical</td>\n",
       "      <td>Yes</td>\n",
       "      <td>CDI</td>\n",
       "    </tr>\n",
       "    <tr>\n",
       "      <td>2</td>\n",
       "      <td>2151</td>\n",
       "      <td>Chemical</td>\n",
       "      <td>Yes</td>\n",
       "      <td>CDI</td>\n",
       "    </tr>\n",
       "    <tr>\n",
       "      <td>3</td>\n",
       "      <td>2152</td>\n",
       "      <td>Chemical</td>\n",
       "      <td>Yes</td>\n",
       "      <td>CDI</td>\n",
       "    </tr>\n",
       "    <tr>\n",
       "      <td>4</td>\n",
       "      <td>2153</td>\n",
       "      <td>Chemical</td>\n",
       "      <td>Yes</td>\n",
       "      <td>CDI</td>\n",
       "    </tr>\n",
       "  </tbody>\n",
       "</table>\n",
       "</div>"
      ],
      "text/plain": [
       "   X.objectid  category critical violationtype\n",
       "0        2149  Chemical      Yes             R\n",
       "1        2150  Chemical      Yes           CDI\n",
       "2        2151  Chemical      Yes           CDI\n",
       "3        2152  Chemical      Yes           CDI\n",
       "4        2153  Chemical      Yes           CDI"
      ]
     },
     "execution_count": 4,
     "metadata": {},
     "output_type": "execute_result"
    }
   ],
   "source": [
    "df1.head()\n"
   ]
  },
  {
   "cell_type": "code",
   "execution_count": 5,
   "metadata": {},
   "outputs": [
    {
     "data": {
      "text/html": [
       "<div>\n",
       "<style scoped>\n",
       "    .dataframe tbody tr th:only-of-type {\n",
       "        vertical-align: middle;\n",
       "    }\n",
       "\n",
       "    .dataframe tbody tr th {\n",
       "        vertical-align: top;\n",
       "    }\n",
       "\n",
       "    .dataframe thead th {\n",
       "        text-align: right;\n",
       "    }\n",
       "</style>\n",
       "<table border=\"1\" class=\"dataframe\">\n",
       "  <thead>\n",
       "    <tr style=\"text-align: right;\">\n",
       "      <th></th>\n",
       "      <th>X.objectid</th>\n",
       "      <th>name</th>\n",
       "      <th>facilitytype</th>\n",
       "      <th>restaurantopendate</th>\n",
       "    </tr>\n",
       "  </thead>\n",
       "  <tbody>\n",
       "    <tr>\n",
       "      <td>0</td>\n",
       "      <td>1001</td>\n",
       "      <td>SPRING CAFE 2</td>\n",
       "      <td>Restaurant</td>\n",
       "      <td>2016-05-26T00:00:00.000Z</td>\n",
       "    </tr>\n",
       "    <tr>\n",
       "      <td>1</td>\n",
       "      <td>1002</td>\n",
       "      <td>CAROLINA CLASSIC HOT DOGS #2 (WCID #549)</td>\n",
       "      <td>Pushcarts</td>\n",
       "      <td>2016-07-01T00:00:00.000Z</td>\n",
       "    </tr>\n",
       "    <tr>\n",
       "      <td>2</td>\n",
       "      <td>1003</td>\n",
       "      <td>Taco Bell #22798</td>\n",
       "      <td>Restaurant</td>\n",
       "      <td>2005-12-05T00:00:00.000Z</td>\n",
       "    </tr>\n",
       "    <tr>\n",
       "      <td>3</td>\n",
       "      <td>1004</td>\n",
       "      <td>THE REMEDY DINER</td>\n",
       "      <td>Restaurant</td>\n",
       "      <td>2009-02-04T00:00:00.000Z</td>\n",
       "    </tr>\n",
       "    <tr>\n",
       "      <td>4</td>\n",
       "      <td>1005</td>\n",
       "      <td>ZEBULON HOUSE (KITCHEN)</td>\n",
       "      <td>Institutional Food Service</td>\n",
       "      <td>2009-02-18T00:00:00.000Z</td>\n",
       "    </tr>\n",
       "  </tbody>\n",
       "</table>\n",
       "</div>"
      ],
      "text/plain": [
       "   X.objectid                                      name  \\\n",
       "0        1001                             SPRING CAFE 2   \n",
       "1        1002  CAROLINA CLASSIC HOT DOGS #2 (WCID #549)   \n",
       "2        1003                          Taco Bell #22798   \n",
       "3        1004                          THE REMEDY DINER   \n",
       "4        1005                   ZEBULON HOUSE (KITCHEN)   \n",
       "\n",
       "                 facilitytype        restaurantopendate  \n",
       "0                  Restaurant  2016-05-26T00:00:00.000Z  \n",
       "1                   Pushcarts  2016-07-01T00:00:00.000Z  \n",
       "2                  Restaurant  2005-12-05T00:00:00.000Z  \n",
       "3                  Restaurant  2009-02-04T00:00:00.000Z  \n",
       "4  Institutional Food Service  2009-02-18T00:00:00.000Z  "
      ]
     },
     "execution_count": 5,
     "metadata": {},
     "output_type": "execute_result"
    }
   ],
   "source": [
    "df2.head()"
   ]
  },
  {
   "cell_type": "markdown",
   "metadata": {},
   "source": [
    "### First, check the missingness of the data and clean it. "
   ]
  },
  {
   "cell_type": "code",
   "execution_count": 6,
   "metadata": {},
   "outputs": [
    {
     "data": {
      "text/plain": [
       "X.objectid           0\n",
       "category             0\n",
       "critical          8957\n",
       "violationtype    94639\n",
       "dtype: int64"
      ]
     },
     "execution_count": 6,
     "metadata": {},
     "output_type": "execute_result"
    }
   ],
   "source": [
    "df1.isna().sum()"
   ]
  },
  {
   "cell_type": "markdown",
   "metadata": {},
   "source": [
    "Drop the missningness data, critical and violationtype is misssing may because that some cases are hard to determine the ctritical and violationtype. "
   ]
  },
  {
   "cell_type": "code",
   "execution_count": 7,
   "metadata": {},
   "outputs": [
    {
     "data": {
      "text/plain": [
       "(89473, 4)"
      ]
     },
     "execution_count": 7,
     "metadata": {},
     "output_type": "execute_result"
    }
   ],
   "source": [
    "df1 = df1.dropna()\n",
    "df1.shape"
   ]
  },
  {
   "cell_type": "code",
   "execution_count": 8,
   "metadata": {},
   "outputs": [
    {
     "data": {
      "text/plain": [
       "X.objectid            0\n",
       "name                  0\n",
       "facilitytype          0\n",
       "restaurantopendate    0\n",
       "dtype: int64"
      ]
     },
     "execution_count": 8,
     "metadata": {},
     "output_type": "execute_result"
    }
   ],
   "source": [
    "df2.isna().sum()"
   ]
  },
  {
   "cell_type": "markdown",
   "metadata": {},
   "source": [
    "the df2 which is the restrarunts dataset has no missing data here;"
   ]
  },
  {
   "cell_type": "markdown",
   "metadata": {},
   "source": [
    "### check that if there some weird value in some columns by check the unique value "
   ]
  },
  {
   "cell_type": "code",
   "execution_count": 9,
   "metadata": {},
   "outputs": [
    {
     "data": {
      "text/plain": [
       "Potentially Hazardous Food Time/Temperature    16699\n",
       "Protection from Contamination                  14331\n",
       "Utensils and Equipment                          9255\n",
       "Physical Facilities                             8471\n",
       "Preventing Contamination by Hands               7915\n",
       "Chemical                                        5050\n",
       "Employee Health                                 5040\n",
       "Prevention of Food Contamination                4928\n",
       "Food Temperature Control                        4917\n",
       "Proper Use of Utensils                          4034\n",
       "Supervision                                     2922\n",
       "Consumer Advisory                               1843\n",
       "Good Hygienic Practices                         1321\n",
       "Food Identification                             1083\n",
       "Approved Source                                  989\n",
       "Safe Food and Water                              395\n",
       "Conformance with Approved Procedures             266\n",
       "Highly Susceptible Populations                    14\n",
       "Name: category, dtype: int64"
      ]
     },
     "execution_count": 9,
     "metadata": {},
     "output_type": "execute_result"
    }
   ],
   "source": [
    "df1['category'].value_counts()"
   ]
  },
  {
   "cell_type": "code",
   "execution_count": 10,
   "metadata": {},
   "outputs": [
    {
     "data": {
      "text/plain": [
       "Yes    62240\n",
       "No     27233\n",
       "Name: critical, dtype: int64"
      ]
     },
     "execution_count": 10,
     "metadata": {},
     "output_type": "execute_result"
    }
   ],
   "source": [
    "df1['critical'].value_counts()"
   ]
  },
  {
   "cell_type": "code",
   "execution_count": 11,
   "metadata": {},
   "outputs": [
    {
     "data": {
      "text/plain": [
       "CDI    59230\n",
       "R      25570\n",
       "VR      4673\n",
       "Name: violationtype, dtype: int64"
      ]
     },
     "execution_count": 11,
     "metadata": {},
     "output_type": "execute_result"
    }
   ],
   "source": [
    "df1['violationtype'].value_counts()"
   ]
  },
  {
   "cell_type": "code",
   "execution_count": 12,
   "metadata": {},
   "outputs": [
    {
     "data": {
      "text/plain": [
       "Restaurant                           2229\n",
       "Food Stand                            603\n",
       "Public School Lunchrooms              171\n",
       "Meat Market                            99\n",
       "Mobile Food Units                      76\n",
       "Pushcarts                              55\n",
       "Institutional Food Service             46\n",
       "Limited Food Service                   22\n",
       "Private School Lunchrooms              15\n",
       "Elderly Nutrition Sites (catered)       8\n",
       "Name: facilitytype, dtype: int64"
      ]
     },
     "execution_count": 12,
     "metadata": {},
     "output_type": "execute_result"
    }
   ],
   "source": [
    "df2['facilitytype'].value_counts()"
   ]
  },
  {
   "cell_type": "markdown",
   "metadata": {},
   "source": [
    "We only inspect these three columns bacause they are all categorical data and it is easy to have some weird value which may affect our analysis.The result has showed that our data are all good. "
   ]
  },
  {
   "cell_type": "markdown",
   "metadata": {},
   "source": [
    "### since we need to analyze the realtionship between the open date and the violation type , it is better to convert the open data to how long the restaurant has opened. \n"
   ]
  },
  {
   "cell_type": "code",
   "execution_count": 13,
   "metadata": {},
   "outputs": [],
   "source": [
    "def convert_toYears(x):\n",
    "    return date.today().year-int(x[0:4])"
   ]
  },
  {
   "cell_type": "code",
   "execution_count": 14,
   "metadata": {},
   "outputs": [],
   "source": [
    "df2['restaurantopendate'] = df2['restaurantopendate'].apply(convert_toYears)\n",
    "df2 = df2.rename(columns = {'restaurantopendate':\"openyears\"})"
   ]
  },
  {
   "cell_type": "markdown",
   "metadata": {},
   "source": [
    "### I will also need join these two data frame together by the shared X.objectid"
   ]
  },
  {
   "cell_type": "code",
   "execution_count": 15,
   "metadata": {},
   "outputs": [
    {
     "data": {
      "text/plain": [
       "(2832, 7)"
      ]
     },
     "execution_count": 15,
     "metadata": {},
     "output_type": "execute_result"
    }
   ],
   "source": [
    "combine = df2.merge(df1, on = 'X.objectid')\n",
    "combine.shape"
   ]
  },
  {
   "cell_type": "code",
   "execution_count": 16,
   "metadata": {},
   "outputs": [
    {
     "data": {
      "text/html": [
       "<div>\n",
       "<style scoped>\n",
       "    .dataframe tbody tr th:only-of-type {\n",
       "        vertical-align: middle;\n",
       "    }\n",
       "\n",
       "    .dataframe tbody tr th {\n",
       "        vertical-align: top;\n",
       "    }\n",
       "\n",
       "    .dataframe thead th {\n",
       "        text-align: right;\n",
       "    }\n",
       "</style>\n",
       "<table border=\"1\" class=\"dataframe\">\n",
       "  <thead>\n",
       "    <tr style=\"text-align: right;\">\n",
       "      <th></th>\n",
       "      <th>X.objectid</th>\n",
       "      <th>name</th>\n",
       "      <th>facilitytype</th>\n",
       "      <th>openyears</th>\n",
       "      <th>category</th>\n",
       "      <th>critical</th>\n",
       "      <th>violationtype</th>\n",
       "    </tr>\n",
       "  </thead>\n",
       "  <tbody>\n",
       "    <tr>\n",
       "      <td>0</td>\n",
       "      <td>1001</td>\n",
       "      <td>SPRING CAFE 2</td>\n",
       "      <td>Restaurant</td>\n",
       "      <td>4</td>\n",
       "      <td>Approved Source</td>\n",
       "      <td>Yes</td>\n",
       "      <td>VR</td>\n",
       "    </tr>\n",
       "    <tr>\n",
       "      <td>1</td>\n",
       "      <td>1002</td>\n",
       "      <td>CAROLINA CLASSIC HOT DOGS #2 (WCID #549)</td>\n",
       "      <td>Pushcarts</td>\n",
       "      <td>4</td>\n",
       "      <td>Approved Source</td>\n",
       "      <td>Yes</td>\n",
       "      <td>CDI</td>\n",
       "    </tr>\n",
       "    <tr>\n",
       "      <td>2</td>\n",
       "      <td>1003</td>\n",
       "      <td>Taco Bell #22798</td>\n",
       "      <td>Restaurant</td>\n",
       "      <td>15</td>\n",
       "      <td>Approved Source</td>\n",
       "      <td>Yes</td>\n",
       "      <td>R</td>\n",
       "    </tr>\n",
       "    <tr>\n",
       "      <td>3</td>\n",
       "      <td>1004</td>\n",
       "      <td>THE REMEDY DINER</td>\n",
       "      <td>Restaurant</td>\n",
       "      <td>11</td>\n",
       "      <td>Approved Source</td>\n",
       "      <td>Yes</td>\n",
       "      <td>CDI</td>\n",
       "    </tr>\n",
       "    <tr>\n",
       "      <td>4</td>\n",
       "      <td>1005</td>\n",
       "      <td>ZEBULON HOUSE (KITCHEN)</td>\n",
       "      <td>Institutional Food Service</td>\n",
       "      <td>11</td>\n",
       "      <td>Approved Source</td>\n",
       "      <td>Yes</td>\n",
       "      <td>CDI</td>\n",
       "    </tr>\n",
       "  </tbody>\n",
       "</table>\n",
       "</div>"
      ],
      "text/plain": [
       "   X.objectid                                      name  \\\n",
       "0        1001                             SPRING CAFE 2   \n",
       "1        1002  CAROLINA CLASSIC HOT DOGS #2 (WCID #549)   \n",
       "2        1003                          Taco Bell #22798   \n",
       "3        1004                          THE REMEDY DINER   \n",
       "4        1005                   ZEBULON HOUSE (KITCHEN)   \n",
       "\n",
       "                 facilitytype  openyears         category critical  \\\n",
       "0                  Restaurant          4  Approved Source      Yes   \n",
       "1                   Pushcarts          4  Approved Source      Yes   \n",
       "2                  Restaurant         15  Approved Source      Yes   \n",
       "3                  Restaurant         11  Approved Source      Yes   \n",
       "4  Institutional Food Service         11  Approved Source      Yes   \n",
       "\n",
       "  violationtype  \n",
       "0            VR  \n",
       "1           CDI  \n",
       "2             R  \n",
       "3           CDI  \n",
       "4           CDI  "
      ]
     },
     "execution_count": 16,
     "metadata": {},
     "output_type": "execute_result"
    }
   ],
   "source": [
    "combine.head()"
   ]
  },
  {
   "cell_type": "markdown",
   "metadata": {},
   "source": [
    "# Data Analysis & Results"
   ]
  },
  {
   "cell_type": "markdown",
   "metadata": {},
   "source": [
    "### To answer the questions , we need to take a look at the some stats about violation dataset "
   ]
  },
  {
   "cell_type": "code",
   "execution_count": 17,
   "metadata": {},
   "outputs": [
    {
     "data": {
      "text/plain": [
       "CDI    50239\n",
       "R       7422\n",
       "VR      4579\n",
       "Name: violationtype, dtype: int64"
      ]
     },
     "execution_count": 17,
     "metadata": {},
     "output_type": "execute_result"
    }
   ],
   "source": [
    "df1[df1['critical'] =='Yes']['violationtype'].value_counts()"
   ]
  },
  {
   "cell_type": "code",
   "execution_count": 18,
   "metadata": {},
   "outputs": [
    {
     "name": "stdout",
     "output_type": "stream",
     "text": [
      "The total number of violations which is critical:  62240\n",
      "The percent of repeated violations which is critical:  0.11924807197943445\n"
     ]
    }
   ],
   "source": [
    "result = df1[df1['critical'] =='Yes']['violationtype'].value_counts()\n",
    "print('The total number of violations which is critical: ', result.sum())\n",
    "print('The percent of repeated violations which is critical: ', result[1]/result.sum())\n"
   ]
  },
  {
   "cell_type": "code",
   "execution_count": 19,
   "metadata": {},
   "outputs": [
    {
     "data": {
      "text/plain": [
       "R      18148\n",
       "CDI     8991\n",
       "VR        94\n",
       "Name: violationtype, dtype: int64"
      ]
     },
     "execution_count": 19,
     "metadata": {},
     "output_type": "execute_result"
    }
   ],
   "source": [
    "df1[df1['critical'] =='No']['violationtype'].value_counts()"
   ]
  },
  {
   "cell_type": "code",
   "execution_count": 20,
   "metadata": {},
   "outputs": [
    {
     "name": "stdout",
     "output_type": "stream",
     "text": [
      "The total number of violations which is not critical:  27233\n",
      "The percent of repeated violations which is not critical:  0.33015091983990014\n"
     ]
    }
   ],
   "source": [
    "result2 = df1[df1['critical'] =='No']['violationtype'].value_counts()\n",
    "print('The total number of violations which is not critical: ', result2.sum())\n",
    "print('The percent of repeated violations which is not critical: ', result2[1]/result2.sum())\n"
   ]
  },
  {
   "cell_type": "markdown",
   "metadata": {},
   "source": [
    "### Through this stats, our hypothesis that non-critical violation tends to be more likely happend repeatedly is correct. \n",
    "### How does it related to the violation category? Which violation category is more likely to have repeated violation ? let's plot a graph to visualize it. "
   ]
  },
  {
   "cell_type": "code",
   "execution_count": null,
   "metadata": {},
   "outputs": [],
   "source": []
  },
  {
   "cell_type": "code",
   "execution_count": 21,
   "metadata": {},
   "outputs": [
    {
     "data": {
      "text/html": [
       "<div>\n",
       "<style scoped>\n",
       "    .dataframe tbody tr th:only-of-type {\n",
       "        vertical-align: middle;\n",
       "    }\n",
       "\n",
       "    .dataframe tbody tr th {\n",
       "        vertical-align: top;\n",
       "    }\n",
       "\n",
       "    .dataframe thead th {\n",
       "        text-align: right;\n",
       "    }\n",
       "</style>\n",
       "<table border=\"1\" class=\"dataframe\">\n",
       "  <thead>\n",
       "    <tr style=\"text-align: right;\">\n",
       "      <th></th>\n",
       "      <th></th>\n",
       "      <th>X.objectid</th>\n",
       "    </tr>\n",
       "    <tr>\n",
       "      <th>category</th>\n",
       "      <th>violationtype</th>\n",
       "      <th></th>\n",
       "    </tr>\n",
       "  </thead>\n",
       "  <tbody>\n",
       "    <tr>\n",
       "      <td rowspan=\"3\" valign=\"top\">Approved Source</td>\n",
       "      <td>CDI</td>\n",
       "      <td>755</td>\n",
       "    </tr>\n",
       "    <tr>\n",
       "      <td>R</td>\n",
       "      <td>106</td>\n",
       "    </tr>\n",
       "    <tr>\n",
       "      <td>VR</td>\n",
       "      <td>128</td>\n",
       "    </tr>\n",
       "    <tr>\n",
       "      <td rowspan=\"3\" valign=\"top\">Chemical</td>\n",
       "      <td>CDI</td>\n",
       "      <td>4523</td>\n",
       "    </tr>\n",
       "    <tr>\n",
       "      <td>R</td>\n",
       "      <td>437</td>\n",
       "    </tr>\n",
       "    <tr>\n",
       "      <td>VR</td>\n",
       "      <td>90</td>\n",
       "    </tr>\n",
       "    <tr>\n",
       "      <td rowspan=\"3\" valign=\"top\">Conformance with Approved Procedures</td>\n",
       "      <td>CDI</td>\n",
       "      <td>202</td>\n",
       "    </tr>\n",
       "    <tr>\n",
       "      <td>R</td>\n",
       "      <td>39</td>\n",
       "    </tr>\n",
       "    <tr>\n",
       "      <td>VR</td>\n",
       "      <td>25</td>\n",
       "    </tr>\n",
       "    <tr>\n",
       "      <td>Consumer Advisory</td>\n",
       "      <td>CDI</td>\n",
       "      <td>1097</td>\n",
       "    </tr>\n",
       "  </tbody>\n",
       "</table>\n",
       "</div>"
      ],
      "text/plain": [
       "                                                    X.objectid\n",
       "category                             violationtype            \n",
       "Approved Source                      CDI                   755\n",
       "                                     R                     106\n",
       "                                     VR                    128\n",
       "Chemical                             CDI                  4523\n",
       "                                     R                     437\n",
       "                                     VR                     90\n",
       "Conformance with Approved Procedures CDI                   202\n",
       "                                     R                      39\n",
       "                                     VR                     25\n",
       "Consumer Advisory                    CDI                  1097"
      ]
     },
     "execution_count": 21,
     "metadata": {},
     "output_type": "execute_result"
    }
   ],
   "source": [
    "table1 = pd.pivot_table(df1, values=['X.objectid'], index=['category', 'violationtype'], aggfunc = 'count')\n",
    "table1.head(10)"
   ]
  },
  {
   "cell_type": "markdown",
   "metadata": {},
   "source": [
    "### There are 18 category , it will look really messy if we plot them all, therefore I only plot the top10 violation category here. "
   ]
  },
  {
   "cell_type": "code",
   "execution_count": 22,
   "metadata": {},
   "outputs": [],
   "source": [
    "#top10 violation \n",
    "top10 = list(df1['category'].value_counts()[0:10].index)\n",
    "# analyze violations only in these 10 catagory\n",
    "top_10 = df1[df1['category'].apply(lambda x : True if x in top10 else False )]"
   ]
  },
  {
   "cell_type": "code",
   "execution_count": 23,
   "metadata": {},
   "outputs": [
    {
     "data": {
      "text/plain": [
       "<matplotlib.axes._subplots.AxesSubplot at 0x241ec8edf48>"
      ]
     },
     "execution_count": 23,
     "metadata": {},
     "output_type": "execute_result"
    },
    {
     "data": {
      "image/png": "[encoded data removed]",
      "text/plain": [
       "<Figure size 432x288 with 1 Axes>"
      ]
     },
     "metadata": {
      "needs_background": "light"
     },
     "output_type": "display_data"
    }
   ],
   "source": [
    "table1 = pd.pivot_table(top_10, values = ['X.objectid'], index=['category'],columns = ['violationtype'], aggfunc = 'count')\n",
    "table1.plot(kind = 'barh', stacked = True)\n"
   ]
  },
  {
   "cell_type": "markdown",
   "metadata": {},
   "source": [
    "#### Form the bar plot , we can notice that \"Utensils and Equipment\" , \"Phisical Facilities\" are the two categories that are most likely to have repeated violations. \"Potentially Hazardous Food Time/Temperature\" and \"Protection from Contamination\" are the two categories that have the most violations. What is more, \"Utensils and Equipment\" , \"Phisical Facilities\", \"Proper use of utensils'and \"Prevention of Food Contamination\" have realtively larger percentage of repaeated violations among all of their violations respectively. These are useful informations for us to learn because government can be more strict when they inspect these categoties next time. In conclusion, my first hypothesis is very close to this result. "
   ]
  },
  {
   "cell_type": "markdown",
   "metadata": {},
   "source": [
    "### Now ,in order to test my hyothesis that there is an signigicant difference of openyears between restaurant with R violationtype and CDI violationtype, we need to use the combined table I made before "
   ]
  },
  {
   "cell_type": "code",
   "execution_count": 24,
   "metadata": {},
   "outputs": [
    {
     "data": {
      "text/html": [
       "<div>\n",
       "<style scoped>\n",
       "    .dataframe tbody tr th:only-of-type {\n",
       "        vertical-align: middle;\n",
       "    }\n",
       "\n",
       "    .dataframe tbody tr th {\n",
       "        vertical-align: top;\n",
       "    }\n",
       "\n",
       "    .dataframe thead th {\n",
       "        text-align: right;\n",
       "    }\n",
       "</style>\n",
       "<table border=\"1\" class=\"dataframe\">\n",
       "  <thead>\n",
       "    <tr style=\"text-align: right;\">\n",
       "      <th></th>\n",
       "      <th>X.objectid</th>\n",
       "      <th>name</th>\n",
       "      <th>facilitytype</th>\n",
       "      <th>openyears</th>\n",
       "      <th>category</th>\n",
       "      <th>critical</th>\n",
       "      <th>violationtype</th>\n",
       "    </tr>\n",
       "  </thead>\n",
       "  <tbody>\n",
       "    <tr>\n",
       "      <td>0</td>\n",
       "      <td>1001</td>\n",
       "      <td>SPRING CAFE 2</td>\n",
       "      <td>Restaurant</td>\n",
       "      <td>4</td>\n",
       "      <td>Approved Source</td>\n",
       "      <td>Yes</td>\n",
       "      <td>VR</td>\n",
       "    </tr>\n",
       "    <tr>\n",
       "      <td>1</td>\n",
       "      <td>1002</td>\n",
       "      <td>CAROLINA CLASSIC HOT DOGS #2 (WCID #549)</td>\n",
       "      <td>Pushcarts</td>\n",
       "      <td>4</td>\n",
       "      <td>Approved Source</td>\n",
       "      <td>Yes</td>\n",
       "      <td>CDI</td>\n",
       "    </tr>\n",
       "    <tr>\n",
       "      <td>2</td>\n",
       "      <td>1003</td>\n",
       "      <td>Taco Bell #22798</td>\n",
       "      <td>Restaurant</td>\n",
       "      <td>15</td>\n",
       "      <td>Approved Source</td>\n",
       "      <td>Yes</td>\n",
       "      <td>R</td>\n",
       "    </tr>\n",
       "    <tr>\n",
       "      <td>3</td>\n",
       "      <td>1004</td>\n",
       "      <td>THE REMEDY DINER</td>\n",
       "      <td>Restaurant</td>\n",
       "      <td>11</td>\n",
       "      <td>Approved Source</td>\n",
       "      <td>Yes</td>\n",
       "      <td>CDI</td>\n",
       "    </tr>\n",
       "    <tr>\n",
       "      <td>4</td>\n",
       "      <td>1005</td>\n",
       "      <td>ZEBULON HOUSE (KITCHEN)</td>\n",
       "      <td>Institutional Food Service</td>\n",
       "      <td>11</td>\n",
       "      <td>Approved Source</td>\n",
       "      <td>Yes</td>\n",
       "      <td>CDI</td>\n",
       "    </tr>\n",
       "  </tbody>\n",
       "</table>\n",
       "</div>"
      ],
      "text/plain": [
       "   X.objectid                                      name  \\\n",
       "0        1001                             SPRING CAFE 2   \n",
       "1        1002  CAROLINA CLASSIC HOT DOGS #2 (WCID #549)   \n",
       "2        1003                          Taco Bell #22798   \n",
       "3        1004                          THE REMEDY DINER   \n",
       "4        1005                   ZEBULON HOUSE (KITCHEN)   \n",
       "\n",
       "                 facilitytype  openyears         category critical  \\\n",
       "0                  Restaurant          4  Approved Source      Yes   \n",
       "1                   Pushcarts          4  Approved Source      Yes   \n",
       "2                  Restaurant         15  Approved Source      Yes   \n",
       "3                  Restaurant         11  Approved Source      Yes   \n",
       "4  Institutional Food Service         11  Approved Source      Yes   \n",
       "\n",
       "  violationtype  \n",
       "0            VR  \n",
       "1           CDI  \n",
       "2             R  \n",
       "3           CDI  \n",
       "4           CDI  "
      ]
     },
     "execution_count": 24,
     "metadata": {},
     "output_type": "execute_result"
    }
   ],
   "source": [
    "combine.head()"
   ]
  },
  {
   "cell_type": "code",
   "execution_count": null,
   "metadata": {},
   "outputs": [],
   "source": []
  },
  {
   "cell_type": "code",
   "execution_count": 25,
   "metadata": {},
   "outputs": [
    {
     "data": {
      "text/plain": [
       "<matplotlib.axes._subplots.AxesSubplot at 0x241e5a27588>"
      ]
     },
     "execution_count": 25,
     "metadata": {},
     "output_type": "execute_result"
    },
    {
     "data": {
      "image/png": "[encoded data removed]",
      "text/plain": [
       "<Figure size 432x288 with 1 Axes>"
      ]
     },
     "metadata": {
      "needs_background": "light"
     },
     "output_type": "display_data"
    },
    {
     "data": {
      "image/png": "[encoded data removed]",
      "text/plain": [
       "<Figure size 432x288 with 1 Axes>"
      ]
     },
     "metadata": {
      "needs_background": "light"
     },
     "output_type": "display_data"
    }
   ],
   "source": [
    "# plot the histgram for openyears \n",
    "combine[combine['violationtype'] == 'CDI'][['openyears']].plot(kind = 'hist', bins = 5, title = \"openyears of CDI violationtype\")\n",
    "# plot the histgram for openyears when violationtype is R\n",
    "combine[combine['violationtype'] == 'R'][['openyears']].plot(kind = 'hist', bins = 5, title = \"openyears of Repeated violation \")"
   ]
  },
  {
   "cell_type": "markdown",
   "metadata": {},
   "source": [
    "#### The two histrogram distributions show that distribution of openyears when violation type is R is very similar with the distribution of openyears when violation type is CDI. It seems that my hypothesis is wrong , but we still need to dwaw a box plot to visualize the difference"
   ]
  },
  {
   "cell_type": "code",
   "execution_count": 26,
   "metadata": {},
   "outputs": [
    {
     "data": {
      "text/plain": [
       "<matplotlib.axes._subplots.AxesSubplot at 0x241e56ea288>"
      ]
     },
     "execution_count": 26,
     "metadata": {},
     "output_type": "execute_result"
    },
    {
     "data": {
      "image/png": "[encoded data removed]",
      "text/plain": [
       "<Figure size 432x288 with 1 Axes>"
      ]
     },
     "metadata": {
      "needs_background": "light"
     },
     "output_type": "display_data"
    }
   ],
   "source": [
    "\n",
    "sns.boxplot(x='violationtype', y='openyears',data=combine, palette=\"Set3\" )"
   ]
  },
  {
   "cell_type": "markdown",
   "metadata": {},
   "source": [
    "### Through the boxplot we can see that the max, min, mean of  openyears of R type and CDI type  are all roughtly the same as each others. Now, we can conlude that my hypothesis that there is a siginigicant difference is wrong. "
   ]
  },
  {
   "cell_type": "code",
   "execution_count": null,
   "metadata": {},
   "outputs": [],
   "source": []
  },
  {
   "cell_type": "markdown",
   "metadata": {},
   "source": [
    "\n",
    "\n",
    "# Ethics & Privacy"
   ]
  },
  {
   "cell_type": "markdown",
   "metadata": {},
   "source": [
    "1. The questions: The questions that I want to aksed is possible to answer. The scope of the question focus on the violation records of North Corolia \n",
    "2. The Implications: The skateholders include the inspector and restaurants. The questions may have influences on inspectors work load since the project will suggest some specific aspects or restaurants to have detailed inspections or stronger penalty. My project will also influence the restaurants' profit and reputations. \n",
    "3. The Data: The data came from the health inpsection department. The violations was collectied by inspector and reconrded during inpection process. The restaurant data was recorded by when the restaurant ask for permission to do business from the local government. I don't think restaurant data have any biased because the information are all required to offer when it opened. There indid some possibble biased of the violations dataset. For example, there are some missing value in the violationtype columns. It is possible that the inspector did not report honesly about the problem, which may due to the personal relationship between inspector and restaurant owner. The possibilities of bribery should also be considered here. To handle this, the best way is to drop the missing data. \n"
   ]
  },
  {
   "cell_type": "markdown",
   "metadata": {},
   "source": [
    "# Conclusion & Discussion"
   ]
  },
  {
   "cell_type": "markdown",
   "metadata": {},
   "source": [
    "       In conclusion, the questions are answered successfully by my project. What kind of violation category are tends to have repeated violations? \"Utensils and Equipment\" , \"Physical Facilities\" are the two categories that are most likely to have repeated violations. \"Potentially Hazardous Food Time/Temperature\" and \"Protection from Contamination\" are the two categories that have the most violations. What is more, \"Utensils and Equipment\" , \"Physical Facilities\", \"Proper use of utensils'and \"Prevention of Food Contamination\" have relatively larger percentage of repeated violations among all of their violations respectively. These are useful information’s for inspectors to do a more effective inspection next time. Is repeated violations related to restaurant open years? The answer is No; \n",
    "   \n",
    "       My analysis focus on the relationships between variables. In specific, drawing graphs based on pivot table and comparing the distribution and stats on the open years.  \n",
    "   \n",
    "       possible limitation is about the combined dataset. The repeated violation type is much fewer than CDI. There are enough violations data but when combine with restaurants, there are lots of objectID which did not match. The analysis will be more successful if we have more data on the combined dataset. The project may affect the work load of the inspector and reputations or profit of a restaurant. \n"
   ]
  },
  {
   "cell_type": "code",
   "execution_count": null,
   "metadata": {},
   "outputs": [],
   "source": []
  }
 ],
 "metadata": {
  "kernelspec": {
   "display_name": "Python 3",
   "language": "python",
   "name": "python3"
  },
  "language_info": {
   "codemirror_mode": {
    "name": "ipython",
    "version": 3
   },
   "file_extension": ".py",
   "mimetype": "text/x-python",
   "name": "python",
   "nbconvert_exporter": "python",
   "pygments_lexer": "ipython3",
   "version": "3.7.4"
  }
 },
 "nbformat": 4,
 "nbformat_minor": 2
}
