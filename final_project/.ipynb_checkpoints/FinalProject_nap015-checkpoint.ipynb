{
 "cells": [
  {
   "cell_type": "markdown",
   "metadata": {},
   "source": [
    "# COGS 108 - Final Project "
   ]
  },
  {
   "cell_type": "markdown",
   "metadata": {},
   "source": [
    "# Overview"
   ]
  },
  {
   "cell_type": "markdown",
   "metadata": {},
   "source": [
    "This project analyzes the relationship between individual inspectors and their inspection scores. I performed normaltest, t-tests and ANOVA on the scores and pointvalue(points taken off for each violation), grouped by the inspector responsible for those inspections. Results indicate that there is a significant difference in the inspection scores based on who the inspector is."
   ]
  },
  {
   "cell_type": "markdown",
   "metadata": {},
   "source": [
    "# Name & PID\n",
    "\n",
    "- Name: Nayoung Park\n",
    "- PID: A14027007"
   ]
  },
  {
   "cell_type": "markdown",
   "metadata": {},
   "source": [
    "# Research Question"
   ]
  },
  {
   "cell_type": "markdown",
   "metadata": {},
   "source": [
    "I would be exploring if restaurant health inspections are actually fairly conducted, or if there is a critical human bias that needs to be corrected. I would be focusing on the overall score and also the type of violations given to different restaurants, based on various factors that are perhaps unrelated to the sanitary conditions of the restaurant itself."
   ]
  },
  {
   "cell_type": "markdown",
   "metadata": {},
   "source": [
    "## Background and Prior Work"
   ]
  },
  {
   "cell_type": "markdown",
   "metadata": {},
   "source": [
    "Restaurant health inspections are done usually every year to rate the overall sanitary conditions of a restaurant. These inspections are done on the county level, by human inspectors based on a set guideline.\n",
    "\n",
    "There has been multiple research done on results of inspections varying by cuisine, or by the time of inspection: one article indicates that \"ethnic\" restaurants tend to have more violations, and thus requires more training. \n",
    "The 2010 research done by Kwon, et al. shows that these ethnic restaurants have a higher chance to have violations regarding time/temprerature control and hygiene practices than other non-ethnic restaurants. However, they also found out these restaurants are also subject to more frequent inspections than others. \n",
    "\n",
    "Another Harvard Business Reviews article by Ibanez and Toffel states that inspections done later during the day usually give more better scores. According to the article, inspectors are likely to give better scores to each subsequent restaurant, resulting in restaurants inspected later in the day having higher scores on average than those inspected in the morning. They also report that restaurants reviewed right after a different restaurant with a lot of violations are also more prone to be over-scrutinized, and that the number of inspections done per day can also have an effect. \n",
    "\n",
    "These results suggest the possibility that inspections done by human inspectors may not be fairly done, or are at least often affected by subjective conditions, which needs improvement. \n",
    "\n",
    "References (include links):\n",
    "- 1) https://krex.k-state.edu/dspace/handle/2097/7998\n",
    "- 2) https://www.foodandwine.com/news/restaurant-health-inspections-time-day-study\n",
    "- 3) https://hbr.org/2019/05/to-improve-food-inspections-change-the-way-theyre-scheduled"
   ]
  },
  {
   "cell_type": "markdown",
   "metadata": {},
   "source": [
    "# Hypothesis\n"
   ]
  },
  {
   "cell_type": "markdown",
   "metadata": {},
   "source": [
    "My hypothesis is that there is a significant difference in the means of inspection scores for each inspector. Since inspections are done by humans (although they are required to follow guidelines), it will be difficult to completely separate their subjectivity from the scores. \n",
    "\n",
    "*Although I initially planned to analyze more of how the inspections themselves are performed (regarding time/date), the time of each inspection was not given in the dataset so I decided to change my hypothesis.*"
   ]
  },
  {
   "cell_type": "markdown",
   "metadata": {},
   "source": [
    "# Dataset(s)"
   ]
  },
  {
   "cell_type": "markdown",
   "metadata": {},
   "source": [
    "- Dataset Name: inspections\n",
    "- Link to the dataset: 'data/inspections.csv'\n",
    "- Number of observations: (18466, 36)\n",
    "\n",
    "CSV file; contains health inspection informations for restaurants that are identifiable by the HSISID, including information about the restaurant and about the individual inspections.\n",
    "\n",
    "\n",
    "- Dataset Name: violations\n",
    "- Link to the dataset: 'data/violations.csv'\n",
    "- Number of observations: (189802, 18)\n",
    "\n",
    "CSV file; contains the violation data, including the restaurant HSISID, violation code, the inspector and the comments given by them.\n",
    "\n",
    "I will be combining the inspections and violations datasets based on the inspector and the inspector id, to extract the corresponding id from the inspections dataset to be used for the violations dataset. Each inspection and violation contain a HSISID code corresponding to the restaurant the inspection was done in."
   ]
  },
  {
   "cell_type": "markdown",
   "metadata": {},
   "source": [
    "# Setup"
   ]
  },
  {
   "cell_type": "code",
   "execution_count": 1,
   "metadata": {},
   "outputs": [],
   "source": [
    "## YOUR CODE HERE\n",
    "\n",
    "import pandas as pd\n",
    "import numpy as np\n",
    "\n",
    "import matplotlib.pyplot as plt\n",
    "from scipy.stats import ttest_ind, chisquare, normaltest\n",
    "import scipy.stats as stats"
   ]
  },
  {
   "cell_type": "markdown",
   "metadata": {},
   "source": [
    "# Data Cleaning"
   ]
  },
  {
   "cell_type": "markdown",
   "metadata": {},
   "source": [
    "Describe your data cleaning steps here."
   ]
  },
  {
   "cell_type": "code",
   "execution_count": 2,
   "metadata": {},
   "outputs": [
    {
     "data": {
      "text/plain": [
       "(18466, 36)"
      ]
     },
     "execution_count": 2,
     "metadata": {},
     "output_type": "execute_result"
    }
   ],
   "source": [
    "## YOUR CODE HERE\n",
    "## FEEL FREE TO ADD MULTIPLE CELLS PER SECTION\n",
    "\n",
    "inspect = pd.read_csv('data/inspections.csv')\n",
    "inspect.shape"
   ]
  },
  {
   "cell_type": "code",
   "execution_count": 3,
   "metadata": {},
   "outputs": [],
   "source": [
    "inspect.date = inspect.date.str[:10]\n",
    "inspect.city = inspect.city.str.capitalize()\n",
    "inspect.restaurantopendate = inspect.restaurantopendate.str[:10]\n",
    "# change datetime to date format (since the times are all 00:00:00), and capitalize city names\n",
    "\n",
    "inspect.rename(columns={'restaurantopendate':'open_since',\n",
    "                        'days_from_open_date': 'days_open'}, inplace=True) #rename longer columns"
   ]
  },
  {
   "cell_type": "code",
   "execution_count": 4,
   "metadata": {},
   "outputs": [],
   "source": [
    "inspect = inspect.drop(columns=['address1', \n",
    "                                'address2',\n",
    "                                'postalcode',\n",
    "                                'phonenumber',\n",
    "                                'type',\n",
    "                                'top_match', 'second_match'])\n",
    "#postalcode, zip same function - postalcode includes the additional 4 digit code but will not use that part\n",
    "#drop other irrelevant columns "
   ]
  },
  {
   "cell_type": "code",
   "execution_count": 5,
   "metadata": {},
   "outputs": [
    {
     "data": {
      "text/plain": [
       "array([ 1,  2,  3,  4,  5,  6,  7,  8,  9, 10, 11, 12, 13, 14, 15, 16])"
      ]
     },
     "execution_count": 5,
     "metadata": {},
     "output_type": "execute_result"
    }
   ],
   "source": [
    "inspect.inspection_num.unique()"
   ]
  },
  {
   "cell_type": "code",
   "execution_count": 6,
   "metadata": {},
   "outputs": [],
   "source": [
    "#make a subset of restaurants that were inspected more than once\n",
    "inspect_re = inspect[inspect.inspection_num!=1]\n"
   ]
  },
  {
   "cell_type": "code",
   "execution_count": 7,
   "metadata": {},
   "outputs": [],
   "source": [
    "# drop restaurants that have had more than one inspections so that we are only seeing initial inspections\n",
    "inspect = inspect[inspect.inspection_num==1]\n",
    "inspect = inspect.drop(columns=['geocodestatus',\n",
    "                                'description',\n",
    "                                'inspection_num',\n",
    "                                'previous_inspection_date', \n",
    "                                'days_since_previous_inspection',\n",
    "                                'previous_inspection_by_same_inspector',\n",
    "                                'num_critical_previous',\n",
    "                                'num_non_critical_previous',\n",
    "                                'num_critical_mean_previous',\n",
    "                                'num_non_critical_mean_previous'])\n",
    "#drop other irrelevant columns "
   ]
  },
  {
   "cell_type": "code",
   "execution_count": 8,
   "metadata": {},
   "outputs": [
    {
     "data": {
      "text/plain": [
       "(3041, 19)"
      ]
     },
     "execution_count": 8,
     "metadata": {},
     "output_type": "execute_result"
    }
   ],
   "source": [
    "#drop rows with unidentifiable inspector\n",
    "inspect = inspect.dropna(subset=['inspectedby', 'inspector_id'])\n",
    "inspect = inspect.astype({'inspector_id':int, 'score':int})\n",
    "inspect.shape"
   ]
  },
  {
   "cell_type": "code",
   "execution_count": 9,
   "metadata": {},
   "outputs": [
    {
     "data": {
      "text/plain": [
       "28"
      ]
     },
     "execution_count": 9,
     "metadata": {},
     "output_type": "execute_result"
    }
   ],
   "source": [
    "inspectors = pd.Series(inspect.inspector_id.values, index=inspect.inspectedby).to_dict()\n",
    "len(inspectors)"
   ]
  },
  {
   "cell_type": "code",
   "execution_count": 10,
   "metadata": {},
   "outputs": [
    {
     "data": {
      "text/plain": [
       "28"
      ]
     },
     "execution_count": 10,
     "metadata": {},
     "output_type": "execute_result"
    }
   ],
   "source": [
    "len(inspect.inspector_id.unique())"
   ]
  },
  {
   "cell_type": "code",
   "execution_count": 11,
   "metadata": {},
   "outputs": [
    {
     "data": {
      "text/plain": [
       "28"
      ]
     },
     "execution_count": 11,
     "metadata": {},
     "output_type": "execute_result"
    }
   ],
   "source": [
    "len(inspect.inspectedby.unique())"
   ]
  },
  {
   "cell_type": "code",
   "execution_count": 12,
   "metadata": {},
   "outputs": [
    {
     "data": {
      "text/html": [
       "<div>\n",
       "<style scoped>\n",
       "    .dataframe tbody tr th:only-of-type {\n",
       "        vertical-align: middle;\n",
       "    }\n",
       "\n",
       "    .dataframe tbody tr th {\n",
       "        vertical-align: top;\n",
       "    }\n",
       "\n",
       "    .dataframe thead th {\n",
       "        text-align: right;\n",
       "    }\n",
       "</style>\n",
       "<table border=\"1\" class=\"dataframe\">\n",
       "  <thead>\n",
       "    <tr style=\"text-align: right;\">\n",
       "      <th></th>\n",
       "      <th>X.objectid</th>\n",
       "      <th>hsisid</th>\n",
       "      <th>inspectdate</th>\n",
       "      <th>category</th>\n",
       "      <th>statecode</th>\n",
       "      <th>critical</th>\n",
       "      <th>questionno</th>\n",
       "      <th>violationcode</th>\n",
       "      <th>severity</th>\n",
       "      <th>shortdesc</th>\n",
       "      <th>inspectedby</th>\n",
       "      <th>comments</th>\n",
       "      <th>pointvalue</th>\n",
       "      <th>observationtype</th>\n",
       "      <th>violationtype</th>\n",
       "      <th>count</th>\n",
       "      <th>cdcriskfactor</th>\n",
       "      <th>cdcdataitem</th>\n",
       "    </tr>\n",
       "  </thead>\n",
       "  <tbody>\n",
       "    <tr>\n",
       "      <th>0</th>\n",
       "      <td>2149</td>\n",
       "      <td>4092015279</td>\n",
       "      <td>2014-09-22T00:00:00.000Z</td>\n",
       "      <td>Chemical</td>\n",
       "      <td>.2653,.2657</td>\n",
       "      <td>Yes</td>\n",
       "      <td>26</td>\n",
       "      <td>7-102.11</td>\n",
       "      <td>Priority Foundation</td>\n",
       "      <td>Toxic substances properly identified, stored, ...</td>\n",
       "      <td>Lucy Schrum</td>\n",
       "      <td>7-102.11; Priority Foundation - Found unlabele...</td>\n",
       "      <td>0</td>\n",
       "      <td>Out</td>\n",
       "      <td>R</td>\n",
       "      <td>NaN</td>\n",
       "      <td>NaN</td>\n",
       "      <td>NaN</td>\n",
       "    </tr>\n",
       "    <tr>\n",
       "      <th>1</th>\n",
       "      <td>2150</td>\n",
       "      <td>4092014572</td>\n",
       "      <td>2014-09-29T00:00:00.000Z</td>\n",
       "      <td>Chemical</td>\n",
       "      <td>.2653,.2657</td>\n",
       "      <td>Yes</td>\n",
       "      <td>26</td>\n",
       "      <td>7-102.11</td>\n",
       "      <td>Priority Foundation</td>\n",
       "      <td>Toxic substances properly identified, stored, ...</td>\n",
       "      <td>Daryl Beasley</td>\n",
       "      <td>7-102.11; Priority Foundation; One sanitizer b...</td>\n",
       "      <td>0</td>\n",
       "      <td>Out</td>\n",
       "      <td>CDI</td>\n",
       "      <td>NaN</td>\n",
       "      <td>NaN</td>\n",
       "      <td>NaN</td>\n",
       "    </tr>\n",
       "    <tr>\n",
       "      <th>2</th>\n",
       "      <td>2151</td>\n",
       "      <td>4092015906</td>\n",
       "      <td>2014-10-01T00:00:00.000Z</td>\n",
       "      <td>Chemical</td>\n",
       "      <td>.2653,.2657</td>\n",
       "      <td>Yes</td>\n",
       "      <td>26</td>\n",
       "      <td>7-102.11</td>\n",
       "      <td>Priority Foundation</td>\n",
       "      <td>Toxic substances properly identified, stored, ...</td>\n",
       "      <td>Lucy Schrum</td>\n",
       "      <td>7-102.11; Priority Foundation - Found an unlab...</td>\n",
       "      <td>1</td>\n",
       "      <td>Out</td>\n",
       "      <td>CDI</td>\n",
       "      <td>NaN</td>\n",
       "      <td>NaN</td>\n",
       "      <td>NaN</td>\n",
       "    </tr>\n",
       "    <tr>\n",
       "      <th>3</th>\n",
       "      <td>2152</td>\n",
       "      <td>4092013840</td>\n",
       "      <td>2014-10-08T00:00:00.000Z</td>\n",
       "      <td>Chemical</td>\n",
       "      <td>.2653,.2657</td>\n",
       "      <td>Yes</td>\n",
       "      <td>26</td>\n",
       "      <td>7-102.11</td>\n",
       "      <td>Priority Foundation</td>\n",
       "      <td>Toxic substances properly identified, stored, ...</td>\n",
       "      <td>Lucy Schrum</td>\n",
       "      <td>7-102.11; Priority Foundation - Found unlabele...</td>\n",
       "      <td>0</td>\n",
       "      <td>Out</td>\n",
       "      <td>CDI</td>\n",
       "      <td>NaN</td>\n",
       "      <td>NaN</td>\n",
       "      <td>NaN</td>\n",
       "    </tr>\n",
       "    <tr>\n",
       "      <th>4</th>\n",
       "      <td>2153</td>\n",
       "      <td>4092021788</td>\n",
       "      <td>2014-10-09T00:00:00.000Z</td>\n",
       "      <td>Chemical</td>\n",
       "      <td>.2653,.2657</td>\n",
       "      <td>Yes</td>\n",
       "      <td>26</td>\n",
       "      <td>7-102.11</td>\n",
       "      <td>Priority Foundation</td>\n",
       "      <td>Toxic substances properly identified, stored, ...</td>\n",
       "      <td>Lucy Schrum</td>\n",
       "      <td>7-102.11; Priority Foundation - Found one unla...</td>\n",
       "      <td>0</td>\n",
       "      <td>Out</td>\n",
       "      <td>CDI</td>\n",
       "      <td>NaN</td>\n",
       "      <td>NaN</td>\n",
       "      <td>NaN</td>\n",
       "    </tr>\n",
       "  </tbody>\n",
       "</table>\n",
       "</div>"
      ],
      "text/plain": [
       "   X.objectid      hsisid               inspectdate  category    statecode  \\\n",
       "0        2149  4092015279  2014-09-22T00:00:00.000Z  Chemical  .2653,.2657   \n",
       "1        2150  4092014572  2014-09-29T00:00:00.000Z  Chemical  .2653,.2657   \n",
       "2        2151  4092015906  2014-10-01T00:00:00.000Z  Chemical  .2653,.2657   \n",
       "3        2152  4092013840  2014-10-08T00:00:00.000Z  Chemical  .2653,.2657   \n",
       "4        2153  4092021788  2014-10-09T00:00:00.000Z  Chemical  .2653,.2657   \n",
       "\n",
       "  critical  questionno violationcode             severity  \\\n",
       "0      Yes          26      7-102.11  Priority Foundation   \n",
       "1      Yes          26      7-102.11  Priority Foundation   \n",
       "2      Yes          26      7-102.11  Priority Foundation   \n",
       "3      Yes          26      7-102.11  Priority Foundation   \n",
       "4      Yes          26      7-102.11  Priority Foundation   \n",
       "\n",
       "                                           shortdesc    inspectedby  \\\n",
       "0  Toxic substances properly identified, stored, ...    Lucy Schrum   \n",
       "1  Toxic substances properly identified, stored, ...  Daryl Beasley   \n",
       "2  Toxic substances properly identified, stored, ...    Lucy Schrum   \n",
       "3  Toxic substances properly identified, stored, ...    Lucy Schrum   \n",
       "4  Toxic substances properly identified, stored, ...    Lucy Schrum   \n",
       "\n",
       "                                            comments  pointvalue  \\\n",
       "0  7-102.11; Priority Foundation - Found unlabele...           0   \n",
       "1  7-102.11; Priority Foundation; One sanitizer b...           0   \n",
       "2  7-102.11; Priority Foundation - Found an unlab...           1   \n",
       "3  7-102.11; Priority Foundation - Found unlabele...           0   \n",
       "4  7-102.11; Priority Foundation - Found one unla...           0   \n",
       "\n",
       "  observationtype violationtype  count cdcriskfactor cdcdataitem  \n",
       "0             Out             R    NaN           NaN         NaN  \n",
       "1             Out           CDI    NaN           NaN         NaN  \n",
       "2             Out           CDI    NaN           NaN         NaN  \n",
       "3             Out           CDI    NaN           NaN         NaN  \n",
       "4             Out           CDI    NaN           NaN         NaN  "
      ]
     },
     "execution_count": 12,
     "metadata": {},
     "output_type": "execute_result"
    }
   ],
   "source": [
    "viol = pd.read_csv('data/violations.csv')\n",
    "viol.head()"
   ]
  },
  {
   "cell_type": "code",
   "execution_count": 13,
   "metadata": {},
   "outputs": [
    {
     "data": {
      "text/plain": [
       "(189802, 18)"
      ]
     },
     "execution_count": 13,
     "metadata": {},
     "output_type": "execute_result"
    }
   ],
   "source": [
    "viol.shape"
   ]
  },
  {
   "cell_type": "code",
   "execution_count": 14,
   "metadata": {},
   "outputs": [],
   "source": [
    "viol = viol.drop(columns=['X.objectid','count', 'comments'])\n",
    "viol.inspectdate = viol.inspectdate.str[:10]\n",
    "# same steps as for the inspections dataset"
   ]
  },
  {
   "cell_type": "code",
   "execution_count": 15,
   "metadata": {},
   "outputs": [],
   "source": [
    "# function to change inspector's names to their ids \n",
    "def anonymize(name):\n",
    "    return inspectors.get(name)"
   ]
  },
  {
   "cell_type": "code",
   "execution_count": 16,
   "metadata": {},
   "outputs": [],
   "source": [
    "inspect['inspectedby'] = inspect['inspectedby'].apply(anonymize)\n",
    "inspect = inspect.drop(columns=['inspector_id'])"
   ]
  },
  {
   "cell_type": "code",
   "execution_count": 17,
   "metadata": {},
   "outputs": [
    {
     "data": {
      "text/html": [
       "<div>\n",
       "<style scoped>\n",
       "    .dataframe tbody tr th:only-of-type {\n",
       "        vertical-align: middle;\n",
       "    }\n",
       "\n",
       "    .dataframe tbody tr th {\n",
       "        vertical-align: top;\n",
       "    }\n",
       "\n",
       "    .dataframe thead th {\n",
       "        text-align: right;\n",
       "    }\n",
       "</style>\n",
       "<table border=\"1\" class=\"dataframe\">\n",
       "  <thead>\n",
       "    <tr style=\"text-align: right;\">\n",
       "      <th></th>\n",
       "      <th>hsisid</th>\n",
       "      <th>inspectdate</th>\n",
       "      <th>category</th>\n",
       "      <th>statecode</th>\n",
       "      <th>critical</th>\n",
       "      <th>questionno</th>\n",
       "      <th>violationcode</th>\n",
       "      <th>severity</th>\n",
       "      <th>shortdesc</th>\n",
       "      <th>inspectedby</th>\n",
       "      <th>pointvalue</th>\n",
       "      <th>observationtype</th>\n",
       "      <th>violationtype</th>\n",
       "      <th>cdcriskfactor</th>\n",
       "      <th>cdcdataitem</th>\n",
       "    </tr>\n",
       "  </thead>\n",
       "  <tbody>\n",
       "    <tr>\n",
       "      <th>0</th>\n",
       "      <td>4092015279</td>\n",
       "      <td>2014-09-22</td>\n",
       "      <td>Chemical</td>\n",
       "      <td>.2653,.2657</td>\n",
       "      <td>Yes</td>\n",
       "      <td>26</td>\n",
       "      <td>7-102.11</td>\n",
       "      <td>Priority Foundation</td>\n",
       "      <td>Toxic substances properly identified, stored, ...</td>\n",
       "      <td>25</td>\n",
       "      <td>0</td>\n",
       "      <td>Out</td>\n",
       "      <td>R</td>\n",
       "      <td>NaN</td>\n",
       "      <td>NaN</td>\n",
       "    </tr>\n",
       "    <tr>\n",
       "      <th>1</th>\n",
       "      <td>4092014572</td>\n",
       "      <td>2014-09-29</td>\n",
       "      <td>Chemical</td>\n",
       "      <td>.2653,.2657</td>\n",
       "      <td>Yes</td>\n",
       "      <td>26</td>\n",
       "      <td>7-102.11</td>\n",
       "      <td>Priority Foundation</td>\n",
       "      <td>Toxic substances properly identified, stored, ...</td>\n",
       "      <td>9</td>\n",
       "      <td>0</td>\n",
       "      <td>Out</td>\n",
       "      <td>CDI</td>\n",
       "      <td>NaN</td>\n",
       "      <td>NaN</td>\n",
       "    </tr>\n",
       "    <tr>\n",
       "      <th>2</th>\n",
       "      <td>4092015906</td>\n",
       "      <td>2014-10-01</td>\n",
       "      <td>Chemical</td>\n",
       "      <td>.2653,.2657</td>\n",
       "      <td>Yes</td>\n",
       "      <td>26</td>\n",
       "      <td>7-102.11</td>\n",
       "      <td>Priority Foundation</td>\n",
       "      <td>Toxic substances properly identified, stored, ...</td>\n",
       "      <td>25</td>\n",
       "      <td>1</td>\n",
       "      <td>Out</td>\n",
       "      <td>CDI</td>\n",
       "      <td>NaN</td>\n",
       "      <td>NaN</td>\n",
       "    </tr>\n",
       "    <tr>\n",
       "      <th>3</th>\n",
       "      <td>4092013840</td>\n",
       "      <td>2014-10-08</td>\n",
       "      <td>Chemical</td>\n",
       "      <td>.2653,.2657</td>\n",
       "      <td>Yes</td>\n",
       "      <td>26</td>\n",
       "      <td>7-102.11</td>\n",
       "      <td>Priority Foundation</td>\n",
       "      <td>Toxic substances properly identified, stored, ...</td>\n",
       "      <td>25</td>\n",
       "      <td>0</td>\n",
       "      <td>Out</td>\n",
       "      <td>CDI</td>\n",
       "      <td>NaN</td>\n",
       "      <td>NaN</td>\n",
       "    </tr>\n",
       "    <tr>\n",
       "      <th>4</th>\n",
       "      <td>4092021788</td>\n",
       "      <td>2014-10-09</td>\n",
       "      <td>Chemical</td>\n",
       "      <td>.2653,.2657</td>\n",
       "      <td>Yes</td>\n",
       "      <td>26</td>\n",
       "      <td>7-102.11</td>\n",
       "      <td>Priority Foundation</td>\n",
       "      <td>Toxic substances properly identified, stored, ...</td>\n",
       "      <td>25</td>\n",
       "      <td>0</td>\n",
       "      <td>Out</td>\n",
       "      <td>CDI</td>\n",
       "      <td>NaN</td>\n",
       "      <td>NaN</td>\n",
       "    </tr>\n",
       "  </tbody>\n",
       "</table>\n",
       "</div>"
      ],
      "text/plain": [
       "       hsisid inspectdate  category    statecode critical  questionno  \\\n",
       "0  4092015279  2014-09-22  Chemical  .2653,.2657      Yes          26   \n",
       "1  4092014572  2014-09-29  Chemical  .2653,.2657      Yes          26   \n",
       "2  4092015906  2014-10-01  Chemical  .2653,.2657      Yes          26   \n",
       "3  4092013840  2014-10-08  Chemical  .2653,.2657      Yes          26   \n",
       "4  4092021788  2014-10-09  Chemical  .2653,.2657      Yes          26   \n",
       "\n",
       "  violationcode             severity  \\\n",
       "0      7-102.11  Priority Foundation   \n",
       "1      7-102.11  Priority Foundation   \n",
       "2      7-102.11  Priority Foundation   \n",
       "3      7-102.11  Priority Foundation   \n",
       "4      7-102.11  Priority Foundation   \n",
       "\n",
       "                                           shortdesc  inspectedby  pointvalue  \\\n",
       "0  Toxic substances properly identified, stored, ...           25           0   \n",
       "1  Toxic substances properly identified, stored, ...            9           0   \n",
       "2  Toxic substances properly identified, stored, ...           25           1   \n",
       "3  Toxic substances properly identified, stored, ...           25           0   \n",
       "4  Toxic substances properly identified, stored, ...           25           0   \n",
       "\n",
       "  observationtype violationtype cdcriskfactor cdcdataitem  \n",
       "0             Out             R           NaN         NaN  \n",
       "1             Out           CDI           NaN         NaN  \n",
       "2             Out           CDI           NaN         NaN  \n",
       "3             Out           CDI           NaN         NaN  \n",
       "4             Out           CDI           NaN         NaN  "
      ]
     },
     "execution_count": 17,
     "metadata": {},
     "output_type": "execute_result"
    }
   ],
   "source": [
    "viol['inspectedby'] = viol['inspectedby'].apply(anonymize)\n",
    "\n",
    "#drop rows with unidentifiable inspector\n",
    "viol = viol.dropna(subset=['inspectedby'])\n",
    "viol = viol.astype({'inspectedby':int})\n",
    "viol.head()\n",
    "#anonymize inspectors and drop rows that do not have an identifiable inspector"
   ]
  },
  {
   "cell_type": "code",
   "execution_count": 18,
   "metadata": {},
   "outputs": [
    {
     "data": {
      "text/plain": [
       "(189009, 15)"
      ]
     },
     "execution_count": 18,
     "metadata": {},
     "output_type": "execute_result"
    }
   ],
   "source": [
    "viol.shape"
   ]
  },
  {
   "cell_type": "code",
   "execution_count": 19,
   "metadata": {},
   "outputs": [
    {
     "data": {
      "text/plain": [
       "inspectedby\n",
       "1     177\n",
       "2     151\n",
       "3     146\n",
       "4      73\n",
       "5     156\n",
       "6     167\n",
       "7     173\n",
       "8      76\n",
       "9      32\n",
       "10    173\n",
       "11     29\n",
       "14     94\n",
       "15    233\n",
       "16     45\n",
       "17      1\n",
       "18    192\n",
       "19      1\n",
       "20      9\n",
       "21     37\n",
       "22    171\n",
       "23     25\n",
       "24    102\n",
       "25    187\n",
       "27    129\n",
       "28    160\n",
       "29     27\n",
       "31    134\n",
       "32    141\n",
       "Name: hsisid, dtype: int64"
      ]
     },
     "execution_count": 19,
     "metadata": {},
     "output_type": "execute_result"
    }
   ],
   "source": [
    "## YOUR CODE HERE\n",
    "## FEEL FREE TO ADD MULTIPLE CELLS PER SECTION\n",
    "inspect.groupby(['inspectedby'])['hsisid'].count()"
   ]
  },
  {
   "cell_type": "code",
   "execution_count": 20,
   "metadata": {},
   "outputs": [
    {
     "data": {
      "text/plain": [
       "inspectedby\n",
       "1     95.881356\n",
       "2     96.615894\n",
       "3     98.034247\n",
       "4     96.835616\n",
       "5     97.826923\n",
       "6     97.742515\n",
       "7     96.456647\n",
       "8     95.657895\n",
       "9     97.156250\n",
       "10    97.583815\n",
       "11    96.482759\n",
       "14    97.180851\n",
       "15    96.768240\n",
       "16    97.288889\n",
       "18    96.979167\n",
       "21    97.405405\n",
       "22    96.397661\n",
       "23    96.720000\n",
       "24    96.362745\n",
       "25    95.219251\n",
       "27    95.441860\n",
       "28    96.837500\n",
       "29    98.222222\n",
       "31    92.059701\n",
       "32    96.489362\n",
       "Name: score, dtype: float64"
      ]
     },
     "execution_count": 20,
     "metadata": {},
     "output_type": "execute_result"
    }
   ],
   "source": [
    "# drop inspectors with less than 10 inspections\n",
    "inspect = inspect[~inspect.inspectedby.isin([17, 19, 20])]\n",
    "inspect.groupby(['inspectedby'])['score'].mean()"
   ]
  },
  {
   "cell_type": "markdown",
   "metadata": {},
   "source": [
    "# Data Analysis & Results"
   ]
  },
  {
   "cell_type": "markdown",
   "metadata": {},
   "source": [
    "Include cells that describe the steps in your data analysis."
   ]
  },
  {
   "cell_type": "code",
   "execution_count": 21,
   "metadata": {},
   "outputs": [
    {
     "data": {
      "text/plain": [
       "<matplotlib.axes._subplots.AxesSubplot at 0x7f97f9754d50>"
      ]
     },
     "execution_count": 21,
     "metadata": {},
     "output_type": "execute_result"
    },
    {
     "data": {
      "image/png": "[encoded data removed]",
      "text/plain": [
       "<Figure size 432x288 with 1 Axes>"
      ]
     },
     "metadata": {
      "needs_background": "light"
     },
     "output_type": "display_data"
    }
   ],
   "source": [
    "inspect.boxplot(column=['score'],by='inspectedby')"
   ]
  },
  {
   "cell_type": "code",
   "execution_count": 22,
   "metadata": {},
   "outputs": [
    {
     "data": {
      "text/plain": [
       "<matplotlib.axes._subplots.AxesSubplot at 0x7f97e5edf710>"
      ]
     },
     "execution_count": 22,
     "metadata": {},
     "output_type": "execute_result"
    },
    {
     "data": {
      "image/png": "[encoded data removed]",
      "text/plain": [
       "<Figure size 432x288 with 1 Axes>"
      ]
     },
     "metadata": {
      "needs_background": "light"
     },
     "output_type": "display_data"
    }
   ],
   "source": [
    "plt.ylim(90, 100)\n",
    "inspect.groupby(['inspectedby'])['score'].mean().plot.bar()"
   ]
  },
  {
   "cell_type": "code",
   "execution_count": 23,
   "metadata": {},
   "outputs": [
    {
     "data": {
      "text/plain": [
       "(4.344054650716628, 0.11394637621198848)"
      ]
     },
     "execution_count": 23,
     "metadata": {},
     "output_type": "execute_result"
    }
   ],
   "source": [
    "# inspector with highest average score\n",
    "\n",
    "s_29 = inspect[inspect['inspectedby'] == 29]['score'].values\n",
    "st_29, p_29 = normaltest(s_29)\n",
    "st_29, p_29\n",
    "# p-value a bit high for normal distribution, and small data (27); t-testing usually requires >20 datapoints"
   ]
  },
  {
   "cell_type": "code",
   "execution_count": 24,
   "metadata": {},
   "outputs": [
    {
     "data": {
      "text/plain": [
       "(15.768975498217287, 0.0003765394448144195)"
      ]
     },
     "execution_count": 24,
     "metadata": {},
     "output_type": "execute_result"
    }
   ],
   "source": [
    "# inspector with 2nd highest average score\n",
    "\n",
    "s_3 = inspect[inspect['inspectedby'] == 3]['score'].values\n",
    "st_3, p_3 = normaltest(s_3)\n",
    "st_3, p_3\n",
    "# p-value small enough for normal distribution, data is big enough (146)"
   ]
  },
  {
   "cell_type": "code",
   "execution_count": 25,
   "metadata": {},
   "outputs": [
    {
     "data": {
      "text/plain": [
       "(42.085122733258785, 7.266607677444119e-10)"
      ]
     },
     "execution_count": 25,
     "metadata": {},
     "output_type": "execute_result"
    }
   ],
   "source": [
    "# inspector with lowest average scores\n",
    "\n",
    "s_31 = inspect[inspect['inspectedby'] == 31]['score'].values\n",
    "st_31, p_31 = normaltest(s_31)\n",
    "st_31, p_31\n",
    "# p-value is too high for normal distribution, although data is big enough (134)"
   ]
  },
  {
   "cell_type": "code",
   "execution_count": 26,
   "metadata": {},
   "outputs": [
    {
     "data": {
      "text/plain": [
       "(7.205654516101839, 0.02724658033473733)"
      ]
     },
     "execution_count": 26,
     "metadata": {},
     "output_type": "execute_result"
    }
   ],
   "source": [
    "# inspector with 2nd lowest average score\n",
    "\n",
    "s_25 = inspect[inspect['inspectedby'] == 25]['score'].values\n",
    "st_25, p_25 = normaltest(s_25)\n",
    "st_25, p_25\n",
    "# p-value small enough for normal distribution, data is big enough (187)"
   ]
  },
  {
   "cell_type": "code",
   "execution_count": 27,
   "metadata": {},
   "outputs": [
    {
     "data": {
      "text/plain": [
       "(13.122405957787443, 5.832997729430371e-32)"
      ]
     },
     "execution_count": 27,
     "metadata": {},
     "output_type": "execute_result"
    }
   ],
   "source": [
    "t_val, p_val = ttest_ind(s_3, s_25)\n",
    "t_val, p_val\n",
    "# p-value is small enough to conclude that there is a significant difference between two inspectors"
   ]
  },
  {
   "cell_type": "code",
   "execution_count": 28,
   "metadata": {},
   "outputs": [
    {
     "data": {
      "text/plain": [
       "inspectedby\n",
       "1     177\n",
       "2     151\n",
       "3     146\n",
       "5     156\n",
       "6     167\n",
       "7     173\n",
       "10    173\n",
       "15    233\n",
       "18    192\n",
       "22    171\n",
       "24    102\n",
       "25    187\n",
       "27    129\n",
       "28    160\n",
       "31    134\n",
       "32    141\n",
       "Name: hsisid, dtype: int64"
      ]
     },
     "execution_count": 28,
     "metadata": {},
     "output_type": "execute_result"
    }
   ],
   "source": [
    "n_inspectors = inspect.groupby(['inspectedby'])['hsisid'].count()\n",
    "n_inspectors[n_inspectors > 100]\n"
   ]
  },
  {
   "cell_type": "code",
   "execution_count": 29,
   "metadata": {},
   "outputs": [
    {
     "data": {
      "text/plain": [
       "F_onewayResult(statistic=61.493313883061596, pvalue=9.726039924085557e-159)"
      ]
     },
     "execution_count": 29,
     "metadata": {},
     "output_type": "execute_result"
    }
   ],
   "source": [
    "# For testing multiple inspectors: ANOVA\n",
    "\n",
    "# assume normal dist. on inspectors that have more than 100 inspections; \n",
    "# ANOVA still works, although can have more Type-1 errors, on non-normal data as long as the datasize is larger than 20.\n",
    "\n",
    "stats.f_oneway(inspect['score'][inspect['inspectedby'] == 1],\n",
    "               inspect['score'][inspect['inspectedby'] == 2],\n",
    "               inspect['score'][inspect['inspectedby'] == 3],\n",
    "               inspect['score'][inspect['inspectedby'] == 5],\n",
    "               inspect['score'][inspect['inspectedby'] == 6],\n",
    "               inspect['score'][inspect['inspectedby'] == 7],\n",
    "               inspect['score'][inspect['inspectedby'] == 10],\n",
    "               inspect['score'][inspect['inspectedby'] == 15],\n",
    "               inspect['score'][inspect['inspectedby'] == 18],\n",
    "               inspect['score'][inspect['inspectedby'] == 22],\n",
    "               inspect['score'][inspect['inspectedby'] == 24],\n",
    "               inspect['score'][inspect['inspectedby'] == 25],\n",
    "               inspect['score'][inspect['inspectedby'] == 27],\n",
    "               inspect['score'][inspect['inspectedby'] == 28],\n",
    "               inspect['score'][inspect['inspectedby'] == 31],\n",
    "               inspect['score'][inspect['inspectedby'] == 32],)"
   ]
  },
  {
   "cell_type": "code",
   "execution_count": 30,
   "metadata": {},
   "outputs": [
    {
     "data": {
      "text/plain": [
       "inspectedby\n",
       "1                                   Physical Facilities\n",
       "2                                Utensils and Equipment\n",
       "3                                Utensils and Equipment\n",
       "4                                   Physical Facilities\n",
       "5                                Utensils and Equipment\n",
       "6                                   Physical Facilities\n",
       "7                                Utensils and Equipment\n",
       "8                                   Physical Facilities\n",
       "9                                Utensils and Equipment\n",
       "10                                  Physical Facilities\n",
       "11                                  Physical Facilities\n",
       "14                                  Physical Facilities\n",
       "15                                  Physical Facilities\n",
       "16          Potentially Hazardous Food Time/Temperature\n",
       "17    [Prevention of Food Contamination, Utensils an...\n",
       "18                               Utensils and Equipment\n",
       "19                                  Physical Facilities\n",
       "20                                  Physical Facilities\n",
       "21                                  Physical Facilities\n",
       "22          Potentially Hazardous Food Time/Temperature\n",
       "23                        Protection from Contamination\n",
       "24                                  Physical Facilities\n",
       "25                                  Physical Facilities\n",
       "27                                  Physical Facilities\n",
       "28                               Utensils and Equipment\n",
       "29                               Utensils and Equipment\n",
       "31                                  Physical Facilities\n",
       "32                        Protection from Contamination\n",
       "Name: category, dtype: object"
      ]
     },
     "execution_count": 30,
     "metadata": {},
     "output_type": "execute_result"
    }
   ],
   "source": [
    "# Is there a difference in which violations that each inspector is more/less likely to detect?\n",
    "\n",
    "viol.groupby(['inspectedby'])['category'].agg(pd.Series.mode)"
   ]
  },
  {
   "cell_type": "code",
   "execution_count": 31,
   "metadata": {},
   "outputs": [
    {
     "data": {
      "text/plain": [
       "category\n",
       "Approved Source                                0.444888\n",
       "Chemical                                       0.540662\n",
       "Conformance with Approved Procedures           0.168449\n",
       "Consumer Advisory                              0.029275\n",
       "Employee Health                                0.149279\n",
       "Food Identification                            0.312629\n",
       "Food Temperature Control                       0.067424\n",
       "Good Hygienic Practices                        0.649418\n",
       "Highly Susceptible Populations                 0.235294\n",
       "Physical Facilities                            0.073047\n",
       "Potentially Hazardous Food Time/Temperature    0.640674\n",
       "Preventing Contamination by Hands              0.632859\n",
       "Prevention of Food Contamination               0.280308\n",
       "Proper Use of Utensils                         0.045705\n",
       "Protection from Contamination                  0.740934\n",
       "Safe Food and Water                            0.030238\n",
       "Supervision                                    0.856142\n",
       "Utensils and Equipment                         0.271563\n",
       "Name: pointvalue, dtype: float64"
      ]
     },
     "execution_count": 31,
     "metadata": {},
     "output_type": "execute_result"
    }
   ],
   "source": [
    "viol.groupby(['category'])['pointvalue'].mean()"
   ]
  },
  {
   "cell_type": "code",
   "execution_count": 32,
   "metadata": {},
   "outputs": [
    {
     "data": {
      "text/plain": [
       "<matplotlib.axes._subplots.AxesSubplot at 0x7f97e3500090>"
      ]
     },
     "execution_count": 32,
     "metadata": {},
     "output_type": "execute_result"
    },
    {
     "data": {
      "image/png": "[encoded data removed]",
      "text/plain": [
       "<Figure size 432x288 with 1 Axes>"
      ]
     },
     "metadata": {
      "needs_background": "light"
     },
     "output_type": "display_data"
    }
   ],
   "source": [
    "plt.ylim(0, 1)\n",
    "viol.groupby(['inspectedby'])['pointvalue'].mean().plot.bar()"
   ]
  },
  {
   "cell_type": "code",
   "execution_count": 33,
   "metadata": {},
   "outputs": [
    {
     "data": {
      "text/plain": [
       "<matplotlib.axes._subplots.AxesSubplot at 0x7f97e34daed0>"
      ]
     },
     "execution_count": 33,
     "metadata": {},
     "output_type": "execute_result"
    },
    {
     "data": {
      "image/png": "[encoded data removed]",
      "text/plain": [
       "<Figure size 432x288 with 1 Axes>"
      ]
     },
     "metadata": {
      "needs_background": "light"
     },
     "output_type": "display_data"
    }
   ],
   "source": [
    "viol.boxplot(column=['pointvalue'],by='inspectedby')"
   ]
  },
  {
   "cell_type": "code",
   "execution_count": 34,
   "metadata": {},
   "outputs": [
    {
     "data": {
      "text/plain": [
       "F_onewayResult(statistic=198.01198904384555, pvalue=0.0)"
      ]
     },
     "execution_count": 34,
     "metadata": {},
     "output_type": "execute_result"
    }
   ],
   "source": [
    "stats.f_oneway(viol['pointvalue'][viol['inspectedby'] == 1],\n",
    "               viol['pointvalue'][viol['inspectedby'] == 2],\n",
    "               viol['pointvalue'][viol['inspectedby'] == 3],\n",
    "               viol['pointvalue'][viol['inspectedby'] == 5],\n",
    "               viol['pointvalue'][viol['inspectedby'] == 6],\n",
    "               viol['pointvalue'][viol['inspectedby'] == 7],\n",
    "               viol['pointvalue'][viol['inspectedby'] == 10],\n",
    "               viol['pointvalue'][viol['inspectedby'] == 15],\n",
    "               viol['pointvalue'][viol['inspectedby'] == 18],\n",
    "               viol['pointvalue'][viol['inspectedby'] == 22],\n",
    "               viol['pointvalue'][viol['inspectedby'] == 24],\n",
    "               viol['pointvalue'][viol['inspectedby'] == 25],\n",
    "               viol['pointvalue'][viol['inspectedby'] == 27],\n",
    "               viol['pointvalue'][viol['inspectedby'] == 28],\n",
    "               viol['pointvalue'][viol['inspectedby'] == 31],\n",
    "               viol['pointvalue'][viol['inspectedby'] == 32],)\n",
    "\n",
    "# there is also a noticeable difference on the amount of points the inspectors take off"
   ]
  },
  {
   "cell_type": "code",
   "execution_count": 35,
   "metadata": {},
   "outputs": [
    {
     "data": {
      "text/plain": [
       "0.6412684002334479"
      ]
     },
     "execution_count": 35,
     "metadata": {},
     "output_type": "execute_result"
    }
   ],
   "source": [
    "# Restaurants are more likely to get inspected by the same inspector again, than by a different inspector.\n",
    "\n",
    "reinspect_same = inspect_re[inspect_re.previous_inspection_by_same_inspector == True]['hsisid'].count()/inspect_re['hsisid'].count()\n",
    "reinspect_same"
   ]
  },
  {
   "cell_type": "markdown",
   "metadata": {},
   "source": [
    "# Ethics & Privacy"
   ]
  },
  {
   "cell_type": "markdown",
   "metadata": {},
   "source": [
    "I replaced the inspector's names to their id's due to privacy/discrimination issues. However, it is possible to deduct the real names of the inspector based on the id's if there is a list of id for the inspectors available online. Besides the inspector names, none of the datasets used contain any personal information.\n",
    "\n",
    "Phone numbers of restaurants were deleted because they are irrelevant and also as a precaution.\n",
    "For personal informations, zip codes with a population of less than 20000 should be edited to show only the first 3 codes, but since this information is not available in any of the given datasets and also does not pertain to any identifiable data, this step was omitted.\n",
    "\n",
    "Datasets were given, but are also available online as public datasets online (similar example:http://data-wake.opendata.arcgis.com/datasets/food-inspections). Terms of use for this dataset is as follows:\n",
    "\n",
    "Wake County Geographic Information Services shall not be held liable for any errors in these data. This includes errors of omission, commission, errors concerning the content of the data, and relative and positional accuracy of the data. These data cannot be construed to be a legal document. Primary sources from which these data were compiled must be consulted for verification of information contained in these data."
   ]
  },
  {
   "cell_type": "markdown",
   "metadata": {},
   "source": [
    "# Conclusion & Discussion"
   ]
  },
  {
   "cell_type": "markdown",
   "metadata": {},
   "source": [
    "For my initial analysis, I chose to examine only the initial inspections for analyzing differences in scores, since reexamining, especially by the same inspector, might affect the scores. Reinspections were stored in a separate dataset to see if there is any mechanism in place that prevents inspectors from visiting the same facilities.\n",
    "I also analyzed inspections done by inspectors with more than 100 inspection records, as ANOVA and t-tests both require large, if not normal datasets.\n",
    "\n",
    "The results indicate that there is a significant difference (p-value < 0.01) between the scores that each inspector gives, and also the points that they take off per question (p-value < 0.01). Although not statistically analyzed, inspectors also have somewhat of a preference for the type of violations they detect. I did not perform analysis on pointvalues regarding different categories/questions, as it is natural that some criterions are more important than others, thus a higher pointvalue than others.\n",
    "\n",
    "From this project, it is evident that different inspectors have different scores. However, this should not mean that inspectors are blamable for a lower inspection score, or that they are being unfair. Possible further research can be conducted on the locations that each of these inspectors are sent, based on the zip code or the x and y coordinates or the restaurants, the type of facility, the type of cuisine, or also specifically on what questions each of these inspectors are more keen on. \n",
    "\n",
    "It is unrealistic to expect inspectors to go to different restaurants each time, as inspections are done on a county level so eventually they would have to visit a restaurant more than once. However, there should be more improvement to make sure that inspections are done fairly and with less bias as possible."
   ]
  }
 ],
 "metadata": {
  "kernelspec": {
   "display_name": "Python 3",
   "language": "python",
   "name": "python3"
  },
  "language_info": {
   "codemirror_mode": {
    "name": "ipython",
    "version": 3
   },
   "file_extension": ".py",
   "mimetype": "text/x-python",
   "name": "python",
   "nbconvert_exporter": "python",
   "pygments_lexer": "ipython3",
   "version": "3.7.6"
  }
 },
 "nbformat": 4,
 "nbformat_minor": 2
}
