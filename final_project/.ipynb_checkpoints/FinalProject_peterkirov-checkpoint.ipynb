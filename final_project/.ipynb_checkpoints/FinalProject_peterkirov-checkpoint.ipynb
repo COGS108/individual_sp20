{
 "cells": [
  {
   "cell_type": "markdown",
   "metadata": {},
   "source": [
    "# COGS 108 - Final Project "
   ]
  },
  {
   "cell_type": "markdown",
   "metadata": {},
   "source": [
    "# Overview"
   ]
  },
  {
   "cell_type": "markdown",
   "metadata": {},
   "source": [
    "Overview:\n",
    "given the topic of health inspections and the prompt of: Imagine you work for a local city government and want to improve the restaurant health inspection process for the city government. "
   ]
  },
  {
   "cell_type": "markdown",
   "metadata": {},
   "source": [
    "# Name & PID\n",
    "\n",
    "- Name: Peter Kirov\n",
    "- PID: A15753179"
   ]
  },
  {
   "cell_type": "markdown",
   "metadata": {},
   "source": [
    "# Research Question"
   ]
  },
  {
   "cell_type": "markdown",
   "metadata": {},
   "source": [
    "If a restaurant serves certain types of foods are there more violations, resulting in a need for more regular inspections on those restaurants?"
   ]
  },
  {
   "cell_type": "markdown",
   "metadata": {},
   "source": [
    "## Background and Prior Work"
   ]
  },
  {
   "cell_type": "markdown",
   "metadata": {},
   "source": [
    "I am asking this question based off of the guidelines that health inspectors use to rate kitchens. I found a few guidelines.\n",
    "    \n",
    "    1)Storing raw ingredients under dripping meat(lightspeed)\n",
    "    2)Lack of general cleanliness (lightspeed)\n",
    "    3)mislabeling bottles.\n",
    "\n",
    "Most Restaurants will always try to keep their kitchens clean so what could make a restaurants violations increase would seem to be something along the lines of if you sell a lot of salad then you might have mislabeled bottles of vinagrette and bleach for example. It is unlikely but mislabeling bottles can lead to pretty bad consequences. Also a restaurant that does not keep good track of its meat filled environment can go bad really quickly.\n",
    "On another website I found some of the top major violations of a restaurant would be keeping things hot or cold. If you think about an Ice machine those can get mold very quickly if not properly taken care of so places that serve ice cream could lead to more safety violations.\n",
    "    \n",
    "    1)Proper hot and cold holding temperatures — This violation can occur  in reach-in refrigeration lowboys, top-cold holding units, walk-in refrigerators, and on stovetops. Have thermometers present. The only way you can control the rapid growth of bacteria is to make sure food is held outside of the temperature danger zone, which is between 41ºF and 135ºF or 140ºF (the required level depends on your local health department guidelines).\n",
    "References (include links):\n",
    "- 1)https://www.lightspeedhq.com/blog/restaurant-health-inspection/\n",
    "- 2)https://www.menucoverdepot.com/resource-center/articles/restaurant-health-inspections/"
   ]
  },
  {
   "cell_type": "markdown",
   "metadata": {},
   "source": [
    "# Hypothesis\n"
   ]
  },
  {
   "cell_type": "markdown",
   "metadata": {},
   "source": [
    "I believe that if a restaurant does serve certain types of food they will be more likely to recieve safety violations. \n",
    "\n",
    "Like I wrote in the background if a restaurant serves meats or sandwiches or icecream it is likely that they might might have more violations."
   ]
  },
  {
   "cell_type": "markdown",
   "metadata": {},
   "source": [
    "# Dataset(s)"
   ]
  },
  {
   "cell_type": "markdown",
   "metadata": {},
   "source": [
    "\n",
    "All of my data has come from the professor as this is the individual project.\n",
    "\n",
    "restaurants.csv\n",
    "----\n",
    "- Number of observations:3324\n",
    "\n",
    "Description:\n",
    "- This is a list of all the restaurants that contain what type of establishment it is and the name and hsisid of the restaurants.\n",
    "\n",
    "violations.csv\n",
    "--\n",
    "- Number of observations:189802\n",
    "\n",
    "Description:\n",
    "\n",
    "- This is a list of violations of a majority of the restaurants in the restaurants.csv\n",
    "\n",
    "\n",
    "yelp.csv\n",
    "----------\n",
    "- Number of observations:3688\n",
    "\n",
    "Description:\n",
    "\n",
    "- This dataset contains the types of food and and whether or not the restaurant is closed or opened, where it is located and the price points of each restaurant.\n",
    "\n",
    "\n",
    "If you plan to use multiple datasets, add 1-2 sentences about how you plan to combine these datasets.\n",
    "\n",
    "- I plan to combine these inorder to get the restaurant and the violations and the types of food all together in one place."
   ]
  },
  {
   "cell_type": "markdown",
   "metadata": {},
   "source": [
    "# Setup"
   ]
  },
  {
   "cell_type": "code",
   "execution_count": 198,
   "metadata": {},
   "outputs": [],
   "source": [
    "%matplotlib inline\n",
    "\n",
    "import numpy as np\n",
    "import pandas as pd\n",
    "import matplotlib.pyplot as plt\n",
    "\n",
    "import seaborn as sns\n",
    "sns.set()\n",
    "sns.set_context('talk')\n"
   ]
  },
  {
   "cell_type": "code",
   "execution_count": 199,
   "metadata": {},
   "outputs": [],
   "source": [
    "#import all the necessary data\n",
    "restaurants_df = pd.read_csv(\"data/restaurants.csv\")\n",
    "violations_df = pd.read_csv(\"data/violations.csv\")\n",
    "yelp_df = pd.read_csv(\"data/yelp.csv\") \n"
   ]
  },
  {
   "cell_type": "markdown",
   "metadata": {},
   "source": [
    "# show"
   ]
  },
  {
   "cell_type": "code",
   "execution_count": 200,
   "metadata": {},
   "outputs": [
    {
     "data": {
      "text/html": [
       "<div>\n",
       "<style scoped>\n",
       "    .dataframe tbody tr th:only-of-type {\n",
       "        vertical-align: middle;\n",
       "    }\n",
       "\n",
       "    .dataframe tbody tr th {\n",
       "        vertical-align: top;\n",
       "    }\n",
       "\n",
       "    .dataframe thead th {\n",
       "        text-align: right;\n",
       "    }\n",
       "</style>\n",
       "<table border=\"1\" class=\"dataframe\">\n",
       "  <thead>\n",
       "    <tr style=\"text-align: right;\">\n",
       "      <th></th>\n",
       "      <th>X.objectid</th>\n",
       "      <th>hsisid</th>\n",
       "      <th>name</th>\n",
       "      <th>address1</th>\n",
       "      <th>address2</th>\n",
       "      <th>city</th>\n",
       "      <th>state</th>\n",
       "      <th>postalcode</th>\n",
       "      <th>phonenumber</th>\n",
       "      <th>restaurantopendate</th>\n",
       "      <th>facilitytype</th>\n",
       "      <th>x</th>\n",
       "      <th>y</th>\n",
       "      <th>geocodestatus</th>\n",
       "    </tr>\n",
       "  </thead>\n",
       "  <tbody>\n",
       "    <tr>\n",
       "      <th>0</th>\n",
       "      <td>1001</td>\n",
       "      <td>4092017230</td>\n",
       "      <td>SPRING CAFE 2</td>\n",
       "      <td>2900-104 SPRING FOREST RD</td>\n",
       "      <td>NaN</td>\n",
       "      <td>RALEIGH</td>\n",
       "      <td>NC</td>\n",
       "      <td>27616-1895</td>\n",
       "      <td>(919) 977-3679</td>\n",
       "      <td>2016-05-26T00:00:00.000Z</td>\n",
       "      <td>Restaurant</td>\n",
       "      <td>-78.591634</td>\n",
       "      <td>35.855487</td>\n",
       "      <td>M</td>\n",
       "    </tr>\n",
       "    <tr>\n",
       "      <th>1</th>\n",
       "      <td>1002</td>\n",
       "      <td>4092040338</td>\n",
       "      <td>CAROLINA CLASSIC HOT DOGS #2 (WCID #549)</td>\n",
       "      <td>309 HOLLOMAN ST</td>\n",
       "      <td>NaN</td>\n",
       "      <td>APEX</td>\n",
       "      <td>NC</td>\n",
       "      <td>27502</td>\n",
       "      <td>NaN</td>\n",
       "      <td>2016-07-01T00:00:00.000Z</td>\n",
       "      <td>Pushcarts</td>\n",
       "      <td>-78.855348</td>\n",
       "      <td>35.730219</td>\n",
       "      <td>M</td>\n",
       "    </tr>\n",
       "    <tr>\n",
       "      <th>2</th>\n",
       "      <td>1003</td>\n",
       "      <td>4092014444</td>\n",
       "      <td>Taco Bell #22798</td>\n",
       "      <td>2207 S MAIN ST</td>\n",
       "      <td>NaN</td>\n",
       "      <td>WAKE FOREST</td>\n",
       "      <td>NC</td>\n",
       "      <td>27587</td>\n",
       "      <td>(919) 554-4924</td>\n",
       "      <td>2005-12-05T00:00:00.000Z</td>\n",
       "      <td>Restaurant</td>\n",
       "      <td>-78.536145</td>\n",
       "      <td>35.946695</td>\n",
       "      <td>M</td>\n",
       "    </tr>\n",
       "    <tr>\n",
       "      <th>3</th>\n",
       "      <td>1004</td>\n",
       "      <td>4092015333</td>\n",
       "      <td>THE REMEDY DINER</td>\n",
       "      <td>137 E HARGETT ST</td>\n",
       "      <td>NaN</td>\n",
       "      <td>RALEIGH</td>\n",
       "      <td>NC</td>\n",
       "      <td>27601</td>\n",
       "      <td>(919) 835-3553</td>\n",
       "      <td>2009-02-04T00:00:00.000Z</td>\n",
       "      <td>Restaurant</td>\n",
       "      <td>-78.636895</td>\n",
       "      <td>35.777999</td>\n",
       "      <td>M</td>\n",
       "    </tr>\n",
       "    <tr>\n",
       "      <th>4</th>\n",
       "      <td>1005</td>\n",
       "      <td>4092160069</td>\n",
       "      <td>ZEBULON HOUSE (KITCHEN)</td>\n",
       "      <td>551 PONY RD</td>\n",
       "      <td>NaN</td>\n",
       "      <td>ZEBULON</td>\n",
       "      <td>NC</td>\n",
       "      <td>27597</td>\n",
       "      <td>NaN</td>\n",
       "      <td>2009-02-18T00:00:00.000Z</td>\n",
       "      <td>Institutional Food Service</td>\n",
       "      <td>-78.332138</td>\n",
       "      <td>35.816779</td>\n",
       "      <td>M</td>\n",
       "    </tr>\n",
       "  </tbody>\n",
       "</table>\n",
       "</div>"
      ],
      "text/plain": [
       "   X.objectid      hsisid                                      name  \\\n",
       "0        1001  4092017230                             SPRING CAFE 2   \n",
       "1        1002  4092040338  CAROLINA CLASSIC HOT DOGS #2 (WCID #549)   \n",
       "2        1003  4092014444                          Taco Bell #22798   \n",
       "3        1004  4092015333                          THE REMEDY DINER   \n",
       "4        1005  4092160069                   ZEBULON HOUSE (KITCHEN)   \n",
       "\n",
       "                     address1 address2         city state  postalcode  \\\n",
       "0  2900-104 SPRING FOREST RD       NaN      RALEIGH    NC  27616-1895   \n",
       "1            309 HOLLOMAN ST       NaN         APEX    NC       27502   \n",
       "2             2207 S MAIN ST       NaN  WAKE FOREST    NC       27587   \n",
       "3           137 E HARGETT ST       NaN      RALEIGH    NC       27601   \n",
       "4                551 PONY RD       NaN      ZEBULON    NC       27597   \n",
       "\n",
       "      phonenumber        restaurantopendate                facilitytype  \\\n",
       "0  (919) 977-3679  2016-05-26T00:00:00.000Z                  Restaurant   \n",
       "1             NaN  2016-07-01T00:00:00.000Z                   Pushcarts   \n",
       "2  (919) 554-4924  2005-12-05T00:00:00.000Z                  Restaurant   \n",
       "3  (919) 835-3553  2009-02-04T00:00:00.000Z                  Restaurant   \n",
       "4             NaN  2009-02-18T00:00:00.000Z  Institutional Food Service   \n",
       "\n",
       "           x          y geocodestatus  \n",
       "0 -78.591634  35.855487             M  \n",
       "1 -78.855348  35.730219             M  \n",
       "2 -78.536145  35.946695             M  \n",
       "3 -78.636895  35.777999             M  \n",
       "4 -78.332138  35.816779             M  "
      ]
     },
     "execution_count": 200,
     "metadata": {},
     "output_type": "execute_result"
    }
   ],
   "source": [
    "restaurants_df.head()"
   ]
  },
  {
   "cell_type": "code",
   "execution_count": 201,
   "metadata": {},
   "outputs": [
    {
     "data": {
      "text/plain": [
       "array([0, 1, 2, 3, 4])"
      ]
     },
     "execution_count": 201,
     "metadata": {},
     "output_type": "execute_result"
    }
   ],
   "source": [
    "violations_df.pointvalue.unique()"
   ]
  },
  {
   "cell_type": "code",
   "execution_count": 202,
   "metadata": {},
   "outputs": [
    {
     "data": {
      "text/html": [
       "<div>\n",
       "<style scoped>\n",
       "    .dataframe tbody tr th:only-of-type {\n",
       "        vertical-align: middle;\n",
       "    }\n",
       "\n",
       "    .dataframe tbody tr th {\n",
       "        vertical-align: top;\n",
       "    }\n",
       "\n",
       "    .dataframe thead th {\n",
       "        text-align: right;\n",
       "    }\n",
       "</style>\n",
       "<table border=\"1\" class=\"dataframe\">\n",
       "  <thead>\n",
       "    <tr style=\"text-align: right;\">\n",
       "      <th></th>\n",
       "      <th>id</th>\n",
       "      <th>name</th>\n",
       "      <th>is_closed</th>\n",
       "      <th>rating</th>\n",
       "      <th>review_count</th>\n",
       "      <th>address1</th>\n",
       "      <th>zip_code</th>\n",
       "      <th>latitude</th>\n",
       "      <th>longitude</th>\n",
       "      <th>price</th>\n",
       "      <th>...</th>\n",
       "      <th>italian</th>\n",
       "      <th>newamerican</th>\n",
       "      <th>chicken_wings</th>\n",
       "      <th>delis</th>\n",
       "      <th>bars</th>\n",
       "      <th>salad</th>\n",
       "      <th>seafood</th>\n",
       "      <th>bbq</th>\n",
       "      <th>bakeries</th>\n",
       "      <th>sushi</th>\n",
       "    </tr>\n",
       "  </thead>\n",
       "  <tbody>\n",
       "    <tr>\n",
       "      <th>0</th>\n",
       "      <td>42nd-street-oyster-bar-rdu-airport-morrisville</td>\n",
       "      <td>42nd street oyster bar - rdu airport</td>\n",
       "      <td>False</td>\n",
       "      <td>2.5</td>\n",
       "      <td>23</td>\n",
       "      <td>2400 John Brantley Blvd</td>\n",
       "      <td>27560</td>\n",
       "      <td>35.873808</td>\n",
       "      <td>-78.790896</td>\n",
       "      <td>$$</td>\n",
       "      <td>...</td>\n",
       "      <td>False</td>\n",
       "      <td>True</td>\n",
       "      <td>False</td>\n",
       "      <td>False</td>\n",
       "      <td>False</td>\n",
       "      <td>False</td>\n",
       "      <td>True</td>\n",
       "      <td>False</td>\n",
       "      <td>False</td>\n",
       "      <td>False</td>\n",
       "    </tr>\n",
       "    <tr>\n",
       "      <th>1</th>\n",
       "      <td>aldi-foods-cary</td>\n",
       "      <td>aldi foods</td>\n",
       "      <td>False</td>\n",
       "      <td>4.0</td>\n",
       "      <td>17</td>\n",
       "      <td>2303 NW Maynard Rd</td>\n",
       "      <td>27519</td>\n",
       "      <td>35.802840</td>\n",
       "      <td>-78.785930</td>\n",
       "      <td>$</td>\n",
       "      <td>...</td>\n",
       "      <td>False</td>\n",
       "      <td>False</td>\n",
       "      <td>False</td>\n",
       "      <td>False</td>\n",
       "      <td>False</td>\n",
       "      <td>False</td>\n",
       "      <td>False</td>\n",
       "      <td>False</td>\n",
       "      <td>False</td>\n",
       "      <td>False</td>\n",
       "    </tr>\n",
       "    <tr>\n",
       "      <th>2</th>\n",
       "      <td>luciano-pizzeria-ristorante-northwest-raleigh</td>\n",
       "      <td>luciano pizzeria ristorante</td>\n",
       "      <td>False</td>\n",
       "      <td>5.0</td>\n",
       "      <td>2</td>\n",
       "      <td>Crabtree Valley Mall</td>\n",
       "      <td>27612</td>\n",
       "      <td>35.839681</td>\n",
       "      <td>-78.678791</td>\n",
       "      <td>$</td>\n",
       "      <td>...</td>\n",
       "      <td>True</td>\n",
       "      <td>False</td>\n",
       "      <td>False</td>\n",
       "      <td>False</td>\n",
       "      <td>False</td>\n",
       "      <td>False</td>\n",
       "      <td>False</td>\n",
       "      <td>False</td>\n",
       "      <td>False</td>\n",
       "      <td>False</td>\n",
       "    </tr>\n",
       "    <tr>\n",
       "      <th>3</th>\n",
       "      <td>olive-garden-italian-restaurant-wilson</td>\n",
       "      <td>olive garden italian restaurant</td>\n",
       "      <td>False</td>\n",
       "      <td>3.0</td>\n",
       "      <td>16</td>\n",
       "      <td>3401 Raleigh Rd Pkwy W</td>\n",
       "      <td>27893</td>\n",
       "      <td>35.743170</td>\n",
       "      <td>-77.964160</td>\n",
       "      <td>$$</td>\n",
       "      <td>...</td>\n",
       "      <td>True</td>\n",
       "      <td>False</td>\n",
       "      <td>False</td>\n",
       "      <td>False</td>\n",
       "      <td>False</td>\n",
       "      <td>True</td>\n",
       "      <td>False</td>\n",
       "      <td>False</td>\n",
       "      <td>False</td>\n",
       "      <td>False</td>\n",
       "    </tr>\n",
       "    <tr>\n",
       "      <th>4</th>\n",
       "      <td>subway-wilson-4</td>\n",
       "      <td>subway</td>\n",
       "      <td>False</td>\n",
       "      <td>3.5</td>\n",
       "      <td>3</td>\n",
       "      <td>4934 Raleigh Rd</td>\n",
       "      <td>27896</td>\n",
       "      <td>35.762936</td>\n",
       "      <td>-77.999428</td>\n",
       "      <td>$</td>\n",
       "      <td>...</td>\n",
       "      <td>False</td>\n",
       "      <td>False</td>\n",
       "      <td>False</td>\n",
       "      <td>False</td>\n",
       "      <td>False</td>\n",
       "      <td>False</td>\n",
       "      <td>False</td>\n",
       "      <td>False</td>\n",
       "      <td>False</td>\n",
       "      <td>False</td>\n",
       "    </tr>\n",
       "  </tbody>\n",
       "</table>\n",
       "<p>5 rows × 31 columns</p>\n",
       "</div>"
      ],
      "text/plain": [
       "                                               id  \\\n",
       "0  42nd-street-oyster-bar-rdu-airport-morrisville   \n",
       "1                                 aldi-foods-cary   \n",
       "2   luciano-pizzeria-ristorante-northwest-raleigh   \n",
       "3          olive-garden-italian-restaurant-wilson   \n",
       "4                                 subway-wilson-4   \n",
       "\n",
       "                                   name  is_closed  rating  review_count  \\\n",
       "0  42nd street oyster bar - rdu airport      False     2.5            23   \n",
       "1                            aldi foods      False     4.0            17   \n",
       "2           luciano pizzeria ristorante      False     5.0             2   \n",
       "3       olive garden italian restaurant      False     3.0            16   \n",
       "4                                subway      False     3.5             3   \n",
       "\n",
       "                  address1  zip_code   latitude  longitude price  ... italian  \\\n",
       "0  2400 John Brantley Blvd     27560  35.873808 -78.790896    $$  ...   False   \n",
       "1       2303 NW Maynard Rd     27519  35.802840 -78.785930     $  ...   False   \n",
       "2     Crabtree Valley Mall     27612  35.839681 -78.678791     $  ...    True   \n",
       "3   3401 Raleigh Rd Pkwy W     27893  35.743170 -77.964160    $$  ...    True   \n",
       "4          4934 Raleigh Rd     27896  35.762936 -77.999428     $  ...   False   \n",
       "\n",
       "   newamerican  chicken_wings  delis   bars  salad  seafood    bbq  bakeries  \\\n",
       "0         True          False  False  False  False     True  False     False   \n",
       "1        False          False  False  False  False    False  False     False   \n",
       "2        False          False  False  False  False    False  False     False   \n",
       "3        False          False  False  False   True    False  False     False   \n",
       "4        False          False  False  False  False    False  False     False   \n",
       "\n",
       "   sushi  \n",
       "0  False  \n",
       "1  False  \n",
       "2  False  \n",
       "3  False  \n",
       "4  False  \n",
       "\n",
       "[5 rows x 31 columns]"
      ]
     },
     "execution_count": 202,
     "metadata": {},
     "output_type": "execute_result"
    }
   ],
   "source": [
    "yelp_df.head()"
   ]
  },
  {
   "cell_type": "markdown",
   "metadata": {},
   "source": [
    "# Data Cleaning"
   ]
  },
  {
   "cell_type": "markdown",
   "metadata": {},
   "source": [
    "Describe your data cleaning steps here."
   ]
  },
  {
   "cell_type": "code",
   "execution_count": 203,
   "metadata": {},
   "outputs": [
    {
     "data": {
      "text/plain": [
       "Index(['X.objectid', 'hsisid', 'name', 'address1', 'address2', 'city', 'state',\n",
       "       'postalcode', 'phonenumber', 'restaurantopendate', 'facilitytype', 'x',\n",
       "       'y', 'geocodestatus'],\n",
       "      dtype='object')"
      ]
     },
     "execution_count": 203,
     "metadata": {},
     "output_type": "execute_result"
    }
   ],
   "source": [
    "## YOUR CODE HERE\n",
    "## FEEL FREE TO ADD MULTIPLE CELLS PER SECTION  \n",
    "\n",
    "#most important features from each dataframe needs to be kept everything else needs to be dropped\n",
    "\n",
    "restaurants_df.columns"
   ]
  },
  {
   "cell_type": "code",
   "execution_count": 204,
   "metadata": {},
   "outputs": [],
   "source": [
    "restaurants_df = restaurants_df.drop(['X.objectid','address2', 'city', 'state','postalcode','restaurantopendate','x','y', 'geocodestatus'], axis=1)\n"
   ]
  },
  {
   "cell_type": "code",
   "execution_count": 205,
   "metadata": {},
   "outputs": [
    {
     "data": {
      "text/html": [
       "<div>\n",
       "<style scoped>\n",
       "    .dataframe tbody tr th:only-of-type {\n",
       "        vertical-align: middle;\n",
       "    }\n",
       "\n",
       "    .dataframe tbody tr th {\n",
       "        vertical-align: top;\n",
       "    }\n",
       "\n",
       "    .dataframe thead th {\n",
       "        text-align: right;\n",
       "    }\n",
       "</style>\n",
       "<table border=\"1\" class=\"dataframe\">\n",
       "  <thead>\n",
       "    <tr style=\"text-align: right;\">\n",
       "      <th></th>\n",
       "      <th>hsisid</th>\n",
       "      <th>name</th>\n",
       "      <th>address1</th>\n",
       "      <th>phonenumber</th>\n",
       "      <th>facilitytype</th>\n",
       "    </tr>\n",
       "  </thead>\n",
       "  <tbody>\n",
       "    <tr>\n",
       "      <th>0</th>\n",
       "      <td>4092017230</td>\n",
       "      <td>SPRING CAFE 2</td>\n",
       "      <td>2900-104 SPRING FOREST RD</td>\n",
       "      <td>(919) 977-3679</td>\n",
       "      <td>Restaurant</td>\n",
       "    </tr>\n",
       "    <tr>\n",
       "      <th>2</th>\n",
       "      <td>4092014444</td>\n",
       "      <td>Taco Bell #22798</td>\n",
       "      <td>2207 S MAIN ST</td>\n",
       "      <td>(919) 554-4924</td>\n",
       "      <td>Restaurant</td>\n",
       "    </tr>\n",
       "    <tr>\n",
       "      <th>3</th>\n",
       "      <td>4092015333</td>\n",
       "      <td>THE REMEDY DINER</td>\n",
       "      <td>137 E HARGETT ST</td>\n",
       "      <td>(919) 835-3553</td>\n",
       "      <td>Restaurant</td>\n",
       "    </tr>\n",
       "    <tr>\n",
       "      <th>6</th>\n",
       "      <td>4092016679</td>\n",
       "      <td>BITTERSWEET</td>\n",
       "      <td>16 E MARTIN ST</td>\n",
       "      <td>(919) 977-3829</td>\n",
       "      <td>Restaurant</td>\n",
       "    </tr>\n",
       "    <tr>\n",
       "      <th>7</th>\n",
       "      <td>4092014493</td>\n",
       "      <td>Chick-fil-A #1573</td>\n",
       "      <td>8901 Brier Creek PKY</td>\n",
       "      <td>(919) 293-0100</td>\n",
       "      <td>Restaurant</td>\n",
       "    </tr>\n",
       "    <tr>\n",
       "      <th>...</th>\n",
       "      <td>...</td>\n",
       "      <td>...</td>\n",
       "      <td>...</td>\n",
       "      <td>...</td>\n",
       "      <td>...</td>\n",
       "    </tr>\n",
       "    <tr>\n",
       "      <th>3319</th>\n",
       "      <td>4092016658</td>\n",
       "      <td>LA ROMA PIZZA</td>\n",
       "      <td>1322 FIFTH AVE</td>\n",
       "      <td>(919) 662-1700</td>\n",
       "      <td>Restaurant</td>\n",
       "    </tr>\n",
       "    <tr>\n",
       "      <th>3320</th>\n",
       "      <td>4092016663</td>\n",
       "      <td>BOJANGLES #5</td>\n",
       "      <td>3301 S WILMINGTON ST</td>\n",
       "      <td>(919) 772-4512</td>\n",
       "      <td>Restaurant</td>\n",
       "    </tr>\n",
       "    <tr>\n",
       "      <th>3321</th>\n",
       "      <td>4092016557</td>\n",
       "      <td>BURGER KING #19795</td>\n",
       "      <td>22114 S MAIN ST</td>\n",
       "      <td>(919) 556-7773</td>\n",
       "      <td>Restaurant</td>\n",
       "    </tr>\n",
       "    <tr>\n",
       "      <th>3322</th>\n",
       "      <td>4092017227</td>\n",
       "      <td>QUICKLY</td>\n",
       "      <td>4141 DAVIS DR</td>\n",
       "      <td>(984) 465-0347</td>\n",
       "      <td>Restaurant</td>\n",
       "    </tr>\n",
       "    <tr>\n",
       "      <th>3323</th>\n",
       "      <td>4092017274</td>\n",
       "      <td>HARRIS TEETER #43 STARBUCKS</td>\n",
       "      <td>3638 ROGERS RD</td>\n",
       "      <td>(919) 562-9521</td>\n",
       "      <td>Restaurant</td>\n",
       "    </tr>\n",
       "  </tbody>\n",
       "</table>\n",
       "<p>2183 rows × 5 columns</p>\n",
       "</div>"
      ],
      "text/plain": [
       "          hsisid                         name                    address1  \\\n",
       "0     4092017230                SPRING CAFE 2  2900-104 SPRING FOREST RD    \n",
       "2     4092014444             Taco Bell #22798             2207 S MAIN ST    \n",
       "3     4092015333             THE REMEDY DINER           137 E HARGETT ST    \n",
       "6     4092016679                  BITTERSWEET             16 E MARTIN ST    \n",
       "7     4092014493            Chick-fil-A #1573        8901 Brier Creek PKY   \n",
       "...          ...                          ...                         ...   \n",
       "3319  4092016658                LA ROMA PIZZA             1322 FIFTH AVE    \n",
       "3320  4092016663                 BOJANGLES #5       3301 S WILMINGTON ST    \n",
       "3321  4092016557           BURGER KING #19795            22114 S MAIN ST    \n",
       "3322  4092017227                      QUICKLY              4141 DAVIS DR    \n",
       "3323  4092017274  HARRIS TEETER #43 STARBUCKS             3638 ROGERS RD    \n",
       "\n",
       "         phonenumber facilitytype  \n",
       "0     (919) 977-3679   Restaurant  \n",
       "2     (919) 554-4924   Restaurant  \n",
       "3     (919) 835-3553   Restaurant  \n",
       "6     (919) 977-3829   Restaurant  \n",
       "7     (919) 293-0100   Restaurant  \n",
       "...              ...          ...  \n",
       "3319  (919) 662-1700   Restaurant  \n",
       "3320  (919) 772-4512   Restaurant  \n",
       "3321  (919) 556-7773   Restaurant  \n",
       "3322  (984) 465-0347   Restaurant  \n",
       "3323  (919) 562-9521   Restaurant  \n",
       "\n",
       "[2183 rows x 5 columns]"
      ]
     },
     "execution_count": 205,
     "metadata": {},
     "output_type": "execute_result"
    }
   ],
   "source": [
    "#drop all null values\n",
    "restaurants_df = restaurants_df.dropna()\n",
    "#make it so that it is only restaurants\n",
    "restaurants_df = restaurants_df[restaurants_df['facilitytype'] == 'Restaurant']\n",
    "restaurants_df"
   ]
  },
  {
   "cell_type": "code",
   "execution_count": 206,
   "metadata": {},
   "outputs": [
    {
     "data": {
      "text/plain": [
       "Index(['X.objectid', 'hsisid', 'inspectdate', 'category', 'statecode',\n",
       "       'critical', 'questionno', 'violationcode', 'severity', 'shortdesc',\n",
       "       'inspectedby', 'comments', 'pointvalue', 'observationtype',\n",
       "       'violationtype', 'count', 'cdcriskfactor', 'cdcdataitem'],\n",
       "      dtype='object')"
      ]
     },
     "execution_count": 206,
     "metadata": {},
     "output_type": "execute_result"
    }
   ],
   "source": [
    "violations_df.columns"
   ]
  },
  {
   "cell_type": "code",
   "execution_count": 207,
   "metadata": {},
   "outputs": [],
   "source": [
    "violations_df = violations_df.drop(['X.objectid',  'count', 'cdcriskfactor', 'cdcdataitem', 'observationtype', 'violationtype','shortdesc', 'inspectedby', 'comments','questionno'], axis = 1)"
   ]
  },
  {
   "cell_type": "code",
   "execution_count": 208,
   "metadata": {},
   "outputs": [
    {
     "data": {
      "text/html": [
       "<div>\n",
       "<style scoped>\n",
       "    .dataframe tbody tr th:only-of-type {\n",
       "        vertical-align: middle;\n",
       "    }\n",
       "\n",
       "    .dataframe tbody tr th {\n",
       "        vertical-align: top;\n",
       "    }\n",
       "\n",
       "    .dataframe thead th {\n",
       "        text-align: right;\n",
       "    }\n",
       "</style>\n",
       "<table border=\"1\" class=\"dataframe\">\n",
       "  <thead>\n",
       "    <tr style=\"text-align: right;\">\n",
       "      <th></th>\n",
       "      <th>hsisid</th>\n",
       "      <th>inspectdate</th>\n",
       "      <th>category</th>\n",
       "      <th>statecode</th>\n",
       "      <th>critical</th>\n",
       "      <th>violationcode</th>\n",
       "      <th>severity</th>\n",
       "      <th>pointvalue</th>\n",
       "    </tr>\n",
       "  </thead>\n",
       "  <tbody>\n",
       "    <tr>\n",
       "      <th>2</th>\n",
       "      <td>4092015906</td>\n",
       "      <td>2014-10-01T00:00:00.000Z</td>\n",
       "      <td>Chemical</td>\n",
       "      <td>.2653,.2657</td>\n",
       "      <td>Yes</td>\n",
       "      <td>7-102.11</td>\n",
       "      <td>Priority Foundation</td>\n",
       "      <td>1</td>\n",
       "    </tr>\n",
       "    <tr>\n",
       "      <th>5</th>\n",
       "      <td>4092021580</td>\n",
       "      <td>2015-07-17T00:00:00.000Z</td>\n",
       "      <td>Chemical</td>\n",
       "      <td>.2653,.2657</td>\n",
       "      <td>Yes</td>\n",
       "      <td>7-102.11</td>\n",
       "      <td>Priority Foundation</td>\n",
       "      <td>1</td>\n",
       "    </tr>\n",
       "    <tr>\n",
       "      <th>8</th>\n",
       "      <td>4092014996</td>\n",
       "      <td>2015-07-21T00:00:00.000Z</td>\n",
       "      <td>Chemical</td>\n",
       "      <td>.2653,.2657</td>\n",
       "      <td>Yes</td>\n",
       "      <td>7-102.11</td>\n",
       "      <td>Priority Foundation</td>\n",
       "      <td>1</td>\n",
       "    </tr>\n",
       "    <tr>\n",
       "      <th>9</th>\n",
       "      <td>4092015246</td>\n",
       "      <td>2015-07-27T00:00:00.000Z</td>\n",
       "      <td>Chemical</td>\n",
       "      <td>.2653,.2657</td>\n",
       "      <td>Yes</td>\n",
       "      <td>7-102.11</td>\n",
       "      <td>Priority Foundation</td>\n",
       "      <td>1</td>\n",
       "    </tr>\n",
       "    <tr>\n",
       "      <th>11</th>\n",
       "      <td>4092021786</td>\n",
       "      <td>2015-07-29T00:00:00.000Z</td>\n",
       "      <td>Chemical</td>\n",
       "      <td>.2653,.2657</td>\n",
       "      <td>Yes</td>\n",
       "      <td>7-102.11</td>\n",
       "      <td>Priority Foundation</td>\n",
       "      <td>1</td>\n",
       "    </tr>\n",
       "    <tr>\n",
       "      <th>...</th>\n",
       "      <td>...</td>\n",
       "      <td>...</td>\n",
       "      <td>...</td>\n",
       "      <td>...</td>\n",
       "      <td>...</td>\n",
       "      <td>...</td>\n",
       "      <td>...</td>\n",
       "      <td>...</td>\n",
       "    </tr>\n",
       "    <tr>\n",
       "      <th>189793</th>\n",
       "      <td>4092014999</td>\n",
       "      <td>2014-08-27T00:00:00.000Z</td>\n",
       "      <td>Chemical</td>\n",
       "      <td>.2653,.2657</td>\n",
       "      <td>Yes</td>\n",
       "      <td>7-102.11</td>\n",
       "      <td>Priority Foundation</td>\n",
       "      <td>1</td>\n",
       "    </tr>\n",
       "    <tr>\n",
       "      <th>189794</th>\n",
       "      <td>4092016685</td>\n",
       "      <td>2014-08-28T00:00:00.000Z</td>\n",
       "      <td>Chemical</td>\n",
       "      <td>.2653,.2657</td>\n",
       "      <td>Yes</td>\n",
       "      <td>7-102.11</td>\n",
       "      <td>Priority Foundation</td>\n",
       "      <td>1</td>\n",
       "    </tr>\n",
       "    <tr>\n",
       "      <th>189795</th>\n",
       "      <td>4092014127</td>\n",
       "      <td>2014-09-06T00:00:00.000Z</td>\n",
       "      <td>Chemical</td>\n",
       "      <td>.2653,.2657</td>\n",
       "      <td>Yes</td>\n",
       "      <td>7-102.11</td>\n",
       "      <td>Priority Foundation</td>\n",
       "      <td>1</td>\n",
       "    </tr>\n",
       "    <tr>\n",
       "      <th>189798</th>\n",
       "      <td>4092016135</td>\n",
       "      <td>2014-09-11T00:00:00.000Z</td>\n",
       "      <td>Chemical</td>\n",
       "      <td>.2653,.2657</td>\n",
       "      <td>Yes</td>\n",
       "      <td>7-102.11</td>\n",
       "      <td>Priority Foundation</td>\n",
       "      <td>1</td>\n",
       "    </tr>\n",
       "    <tr>\n",
       "      <th>189800</th>\n",
       "      <td>4092021798</td>\n",
       "      <td>2014-09-19T00:00:00.000Z</td>\n",
       "      <td>Chemical</td>\n",
       "      <td>.2653,.2657</td>\n",
       "      <td>Yes</td>\n",
       "      <td>7-102.11</td>\n",
       "      <td>Priority Foundation</td>\n",
       "      <td>1</td>\n",
       "    </tr>\n",
       "  </tbody>\n",
       "</table>\n",
       "<p>55795 rows × 8 columns</p>\n",
       "</div>"
      ],
      "text/plain": [
       "            hsisid               inspectdate  category    statecode critical  \\\n",
       "2       4092015906  2014-10-01T00:00:00.000Z  Chemical  .2653,.2657      Yes   \n",
       "5       4092021580  2015-07-17T00:00:00.000Z  Chemical  .2653,.2657      Yes   \n",
       "8       4092014996  2015-07-21T00:00:00.000Z  Chemical  .2653,.2657      Yes   \n",
       "9       4092015246  2015-07-27T00:00:00.000Z  Chemical  .2653,.2657      Yes   \n",
       "11      4092021786  2015-07-29T00:00:00.000Z  Chemical  .2653,.2657      Yes   \n",
       "...            ...                       ...       ...          ...      ...   \n",
       "189793  4092014999  2014-08-27T00:00:00.000Z  Chemical  .2653,.2657      Yes   \n",
       "189794  4092016685  2014-08-28T00:00:00.000Z  Chemical  .2653,.2657      Yes   \n",
       "189795  4092014127  2014-09-06T00:00:00.000Z  Chemical  .2653,.2657      Yes   \n",
       "189798  4092016135  2014-09-11T00:00:00.000Z  Chemical  .2653,.2657      Yes   \n",
       "189800  4092021798  2014-09-19T00:00:00.000Z  Chemical  .2653,.2657      Yes   \n",
       "\n",
       "       violationcode             severity  pointvalue  \n",
       "2           7-102.11  Priority Foundation           1  \n",
       "5           7-102.11  Priority Foundation           1  \n",
       "8           7-102.11  Priority Foundation           1  \n",
       "9           7-102.11  Priority Foundation           1  \n",
       "11          7-102.11  Priority Foundation           1  \n",
       "...              ...                  ...         ...  \n",
       "189793      7-102.11  Priority Foundation           1  \n",
       "189794      7-102.11  Priority Foundation           1  \n",
       "189795      7-102.11  Priority Foundation           1  \n",
       "189798      7-102.11  Priority Foundation           1  \n",
       "189800      7-102.11  Priority Foundation           1  \n",
       "\n",
       "[55795 rows x 8 columns]"
      ]
     },
     "execution_count": 208,
     "metadata": {},
     "output_type": "execute_result"
    }
   ],
   "source": [
    "violations_df.dropna()\n",
    "\n",
    "#find all the restaurants whos inspection did not reveal a violation which means that the point value was 0\n",
    "indexNames = violations_df[ violations_df['pointvalue'] == 0 ].index\n",
    " \n",
    "# Delete these row indexes from dataFrame\n",
    "violations_df.drop(indexNames , inplace=True)\n",
    "violations_df"
   ]
  },
  {
   "cell_type": "code",
   "execution_count": 209,
   "metadata": {},
   "outputs": [
    {
     "data": {
      "text/plain": [
       "Index(['id', 'name', 'is_closed', 'rating', 'review_count', 'address1',\n",
       "       'zip_code', 'latitude', 'longitude', 'price', 'phone', 'hotdogs',\n",
       "       'sandwiches', 'pizza', 'tradamerican', 'burgers', 'mexican', 'grocery',\n",
       "       'breakfast_brunch', 'coffee', 'chinese', 'italian', 'newamerican',\n",
       "       'chicken_wings', 'delis', 'bars', 'salad', 'seafood', 'bbq', 'bakeries',\n",
       "       'sushi'],\n",
       "      dtype='object')"
      ]
     },
     "execution_count": 209,
     "metadata": {},
     "output_type": "execute_result"
    }
   ],
   "source": [
    "yelp_df.columns"
   ]
  },
  {
   "cell_type": "code",
   "execution_count": 210,
   "metadata": {},
   "outputs": [],
   "source": [
    "yelp_df = yelp_df.drop(['latitude', 'longitude', 'price', 'rating', 'review_count', 'mexican', 'grocery', 'chinese', 'italian', 'newamerican', 'tradamerican', 'bakeries'],axis =1)"
   ]
  },
  {
   "cell_type": "code",
   "execution_count": 211,
   "metadata": {},
   "outputs": [],
   "source": [
    "yelp_df = yelp_df.dropna()\n"
   ]
  },
  {
   "cell_type": "code",
   "execution_count": 212,
   "metadata": {},
   "outputs": [],
   "source": [
    "#find all indices where there is no description of the food\n",
    "deleteIndexs = yelp_df[(yelp_df['hotdogs'] == False)& (yelp_df['sandwiches'] == False)& (yelp_df['pizza'] == False)& (yelp_df['burgers'] == False)& (yelp_df['breakfast_brunch'] == False) & (yelp_df['coffee'] == False)& (yelp_df['chicken_wings'] == False)& (yelp_df['delis'] == False)& (yelp_df['bars'] == False)& (yelp_df['salad'] == False)& (yelp_df['seafood'] == False)& (yelp_df['bbq'] == False)& (yelp_df['sushi'] == False)].index\n",
    "\n"
   ]
  },
  {
   "cell_type": "code",
   "execution_count": 214,
   "metadata": {},
   "outputs": [],
   "source": [
    "#drop all those indices\n",
    "yelp_df.drop(deleteIndexs , inplace=True)\n"
   ]
  },
  {
   "cell_type": "code",
   "execution_count": 108,
   "metadata": {},
   "outputs": [],
   "source": [
    "#here I combined the restaurants and violations by the hsisid column\n",
    "restaurants_viol_df = pd.merge(restaurants_df, violations_df,on=['hsisid'],how='inner')"
   ]
  },
  {
   "cell_type": "code",
   "execution_count": 109,
   "metadata": {},
   "outputs": [
    {
     "data": {
      "text/plain": [
       "Index(['X.objectid_x', 'hsisid', 'name', 'address1', 'address2', 'city',\n",
       "       'state', 'postalcode', 'phonenumber', 'restaurantopendate',\n",
       "       'facilitytype', 'x', 'y', 'geocodestatus', 'X.objectid_y',\n",
       "       'inspectdate', 'category', 'statecode', 'critical', 'questionno',\n",
       "       'violationcode', 'severity', 'shortdesc', 'inspectedby', 'comments',\n",
       "       'pointvalue', 'observationtype', 'violationtype', 'count',\n",
       "       'cdcriskfactor', 'cdcdataitem'],\n",
       "      dtype='object')"
      ]
     },
     "execution_count": 109,
     "metadata": {},
     "output_type": "execute_result"
    }
   ],
   "source": [
    "restaurants_viol_df.columns"
   ]
  },
  {
   "cell_type": "code",
   "execution_count": 110,
   "metadata": {},
   "outputs": [
    {
     "data": {
      "text/html": [
       "<div>\n",
       "<style scoped>\n",
       "    .dataframe tbody tr th:only-of-type {\n",
       "        vertical-align: middle;\n",
       "    }\n",
       "\n",
       "    .dataframe tbody tr th {\n",
       "        vertical-align: top;\n",
       "    }\n",
       "\n",
       "    .dataframe thead th {\n",
       "        text-align: right;\n",
       "    }\n",
       "</style>\n",
       "<table border=\"1\" class=\"dataframe\">\n",
       "  <thead>\n",
       "    <tr style=\"text-align: right;\">\n",
       "      <th></th>\n",
       "      <th>X.objectid_x</th>\n",
       "      <th>hsisid</th>\n",
       "      <th>name</th>\n",
       "      <th>address1</th>\n",
       "      <th>address2</th>\n",
       "      <th>city</th>\n",
       "      <th>state</th>\n",
       "      <th>postalcode</th>\n",
       "      <th>phonenumber</th>\n",
       "      <th>restaurantopendate</th>\n",
       "      <th>...</th>\n",
       "      <th>severity</th>\n",
       "      <th>shortdesc</th>\n",
       "      <th>inspectedby</th>\n",
       "      <th>comments</th>\n",
       "      <th>pointvalue</th>\n",
       "      <th>observationtype</th>\n",
       "      <th>violationtype</th>\n",
       "      <th>count</th>\n",
       "      <th>cdcriskfactor</th>\n",
       "      <th>cdcdataitem</th>\n",
       "    </tr>\n",
       "  </thead>\n",
       "  <tbody>\n",
       "    <tr>\n",
       "      <th>0</th>\n",
       "      <td>1001</td>\n",
       "      <td>4092017230</td>\n",
       "      <td>SPRING CAFE 2</td>\n",
       "      <td>2900-104 SPRING FOREST RD</td>\n",
       "      <td>NaN</td>\n",
       "      <td>RALEIGH</td>\n",
       "      <td>NC</td>\n",
       "      <td>27616-1895</td>\n",
       "      <td>(919) 977-3679</td>\n",
       "      <td>2016-05-26T00:00:00.000Z</td>\n",
       "      <td>...</td>\n",
       "      <td>Priority Foundation</td>\n",
       "      <td>Consumer advisory provided for raw or undercoo...</td>\n",
       "      <td>James Smith</td>\n",
       "      <td>3-603.11; Priority Foundation;  PIC able to sh...</td>\n",
       "      <td>0</td>\n",
       "      <td>Out</td>\n",
       "      <td>R</td>\n",
       "      <td>NaN</td>\n",
       "      <td>NaN</td>\n",
       "      <td>NaN</td>\n",
       "    </tr>\n",
       "  </tbody>\n",
       "</table>\n",
       "<p>1 rows × 31 columns</p>\n",
       "</div>"
      ],
      "text/plain": [
       "   X.objectid_x      hsisid           name                    address1  \\\n",
       "0          1001  4092017230  SPRING CAFE 2  2900-104 SPRING FOREST RD    \n",
       "\n",
       "  address2     city state  postalcode     phonenumber  \\\n",
       "0      NaN  RALEIGH    NC  27616-1895  (919) 977-3679   \n",
       "\n",
       "         restaurantopendate  ...             severity  \\\n",
       "0  2016-05-26T00:00:00.000Z  ...  Priority Foundation   \n",
       "\n",
       "                                           shortdesc  inspectedby  \\\n",
       "0  Consumer advisory provided for raw or undercoo...  James Smith   \n",
       "\n",
       "                                            comments  pointvalue  \\\n",
       "0  3-603.11; Priority Foundation;  PIC able to sh...           0   \n",
       "\n",
       "  observationtype violationtype count cdcriskfactor  cdcdataitem  \n",
       "0             Out             R   NaN           NaN          NaN  \n",
       "\n",
       "[1 rows x 31 columns]"
      ]
     },
     "execution_count": 110,
     "metadata": {},
     "output_type": "execute_result"
    }
   ],
   "source": [
    "restaurants_viol_df.head(1)"
   ]
  },
  {
   "cell_type": "code",
   "execution_count": 111,
   "metadata": {},
   "outputs": [],
   "source": [
    "#removing columns that are unneeded.\n",
    "restaurants_viol = restaurants_viol_df.drop(['X.objectid_x', 'address2', 'phonenumber', 'postalcode', 'x', 'y', 'geocodestatus', 'X.objectid_y', 'inspectedby','questionno','count',\n",
    "       'cdcriskfactor', 'cdcdataitem','violationtype','observationtype'], axis=1)"
   ]
  },
  {
   "cell_type": "code",
   "execution_count": 112,
   "metadata": {},
   "outputs": [
    {
     "data": {
      "text/html": [
       "<div>\n",
       "<style scoped>\n",
       "    .dataframe tbody tr th:only-of-type {\n",
       "        vertical-align: middle;\n",
       "    }\n",
       "\n",
       "    .dataframe tbody tr th {\n",
       "        vertical-align: top;\n",
       "    }\n",
       "\n",
       "    .dataframe thead th {\n",
       "        text-align: right;\n",
       "    }\n",
       "</style>\n",
       "<table border=\"1\" class=\"dataframe\">\n",
       "  <thead>\n",
       "    <tr style=\"text-align: right;\">\n",
       "      <th></th>\n",
       "      <th>hsisid</th>\n",
       "      <th>name</th>\n",
       "      <th>address1</th>\n",
       "      <th>city</th>\n",
       "      <th>state</th>\n",
       "      <th>restaurantopendate</th>\n",
       "      <th>facilitytype</th>\n",
       "      <th>inspectdate</th>\n",
       "      <th>category</th>\n",
       "      <th>statecode</th>\n",
       "      <th>critical</th>\n",
       "      <th>violationcode</th>\n",
       "      <th>severity</th>\n",
       "      <th>shortdesc</th>\n",
       "      <th>comments</th>\n",
       "      <th>pointvalue</th>\n",
       "    </tr>\n",
       "  </thead>\n",
       "  <tbody>\n",
       "    <tr>\n",
       "      <th>0</th>\n",
       "      <td>4092017230</td>\n",
       "      <td>SPRING CAFE 2</td>\n",
       "      <td>2900-104 SPRING FOREST RD</td>\n",
       "      <td>RALEIGH</td>\n",
       "      <td>NC</td>\n",
       "      <td>2016-05-26T00:00:00.000Z</td>\n",
       "      <td>Restaurant</td>\n",
       "      <td>2016-10-12T00:00:00.000Z</td>\n",
       "      <td>Consumer Advisory</td>\n",
       "      <td>.2653</td>\n",
       "      <td>Yes</td>\n",
       "      <td>3-603.11</td>\n",
       "      <td>Priority Foundation</td>\n",
       "      <td>Consumer advisory provided for raw or undercoo...</td>\n",
       "      <td>3-603.11; Priority Foundation;  PIC able to sh...</td>\n",
       "      <td>0</td>\n",
       "    </tr>\n",
       "  </tbody>\n",
       "</table>\n",
       "</div>"
      ],
      "text/plain": [
       "       hsisid           name                    address1     city state  \\\n",
       "0  4092017230  SPRING CAFE 2  2900-104 SPRING FOREST RD   RALEIGH    NC   \n",
       "\n",
       "         restaurantopendate facilitytype               inspectdate  \\\n",
       "0  2016-05-26T00:00:00.000Z   Restaurant  2016-10-12T00:00:00.000Z   \n",
       "\n",
       "            category statecode critical violationcode             severity  \\\n",
       "0  Consumer Advisory     .2653      Yes      3-603.11  Priority Foundation   \n",
       "\n",
       "                                           shortdesc  \\\n",
       "0  Consumer advisory provided for raw or undercoo...   \n",
       "\n",
       "                                            comments  pointvalue  \n",
       "0  3-603.11; Priority Foundation;  PIC able to sh...           0  "
      ]
     },
     "execution_count": 112,
     "metadata": {},
     "output_type": "execute_result"
    }
   ],
   "source": [
    "restaurants_viol.head(1)"
   ]
  },
  {
   "cell_type": "code",
   "execution_count": 113,
   "metadata": {},
   "outputs": [],
   "source": [
    "#here I combined the restaurants and violations by the hsisid column\n",
    "restaurants_viol_yelp_df = pd.merge(restaurants_viol,yelp_df,on=['address1'],how='inner')"
   ]
  },
  {
   "cell_type": "code",
   "execution_count": 114,
   "metadata": {},
   "outputs": [
    {
     "data": {
      "text/plain": [
       "Index(['hsisid', 'name_x', 'address1', 'city', 'state', 'restaurantopendate',\n",
       "       'facilitytype', 'inspectdate', 'category', 'statecode', 'critical',\n",
       "       'violationcode', 'severity', 'shortdesc', 'comments', 'pointvalue',\n",
       "       'id', 'name_y', 'is_closed', 'rating', 'review_count', 'zip_code',\n",
       "       'latitude', 'longitude', 'price', 'phone', 'hotdogs', 'sandwiches',\n",
       "       'pizza', 'tradamerican', 'burgers', 'mexican', 'grocery',\n",
       "       'breakfast_brunch', 'coffee', 'chinese', 'italian', 'newamerican',\n",
       "       'chicken_wings', 'delis', 'bars', 'salad', 'seafood', 'bbq', 'bakeries',\n",
       "       'sushi'],\n",
       "      dtype='object')"
      ]
     },
     "execution_count": 114,
     "metadata": {},
     "output_type": "execute_result"
    }
   ],
   "source": [
    "restaurants_viol_yelp_df.columns"
   ]
  },
  {
   "cell_type": "code",
   "execution_count": 119,
   "metadata": {},
   "outputs": [
    {
     "data": {
      "text/plain": [
       "5879"
      ]
     },
     "execution_count": 119,
     "metadata": {},
     "output_type": "execute_result"
    }
   ],
   "source": []
  },
  {
   "cell_type": "code",
   "execution_count": 116,
   "metadata": {},
   "outputs": [],
   "source": [
    "restaurants_viol_yelp_df = restaurants_viol_yelp_df.drop(['city', 'state', 'restaurantopendate','category'], axis=1)"
   ]
  },
  {
   "cell_type": "code",
   "execution_count": null,
   "metadata": {},
   "outputs": [],
   "source": []
  },
  {
   "cell_type": "code",
   "execution_count": 231,
   "metadata": {},
   "outputs": [],
   "source": [
    "#i have created all of my dataframes containing the restaurants that serve all different kinds of food\n",
    "sushi_df = restaurants_viol_yelp_df[restaurants_viol_yelp_df['sushi'] == True]\n",
    "bbq_df = restaurants_viol_yelp_df[restaurants_viol_yelp_df['bbq'] == True]\n",
    "seafood_df = restaurants_viol_yelp_df[restaurants_viol_yelp_df['seafood'] == True]\n",
    "salad_df = restaurants_viol_yelp_df[restaurants_viol_yelp_df['salad'] == True]\n",
    "bars_df = restaurants_viol_yelp_df[restaurants_viol_yelp_df['bars'] == True]\n",
    "delis_df = restaurants_viol_yelp_df[restaurants_viol_yelp_df['delis'] == True]\n",
    "chicken_wings_df = restaurants_viol_yelp_df[restaurants_viol_yelp_df['chicken_wings'] == True]\n",
    "coffee_df = restaurants_viol_yelp_df[restaurants_viol_yelp_df['coffee'] == True]\n",
    "burgers_df = restaurants_viol_yelp_df[restaurants_viol_yelp_df['burgers'] == True]\n",
    "pizza_df = restaurants_viol_yelp_df[restaurants_viol_yelp_df['pizza'] == True]\n",
    "sandwiches_df = restaurants_viol_yelp_df[restaurants_viol_yelp_df['sandwiches'] == True]\n",
    "hotdogs_df = restaurants_viol_yelp_df[restaurants_viol_yelp_df['hotdogs'] == True]\n"
   ]
  },
  {
   "cell_type": "code",
   "execution_count": null,
   "metadata": {},
   "outputs": [],
   "source": []
  },
  {
   "cell_type": "code",
   "execution_count": null,
   "metadata": {},
   "outputs": [],
   "source": []
  },
  {
   "cell_type": "code",
   "execution_count": null,
   "metadata": {},
   "outputs": [],
   "source": []
  },
  {
   "cell_type": "code",
   "execution_count": null,
   "metadata": {},
   "outputs": [],
   "source": []
  },
  {
   "cell_type": "code",
   "execution_count": null,
   "metadata": {},
   "outputs": [],
   "source": []
  },
  {
   "cell_type": "markdown",
   "metadata": {},
   "source": [
    "# Data Analysis & Results"
   ]
  },
  {
   "cell_type": "markdown",
   "metadata": {},
   "source": [
    "Include cells that describe the steps in your data analysis."
   ]
  },
  {
   "cell_type": "code",
   "execution_count": 5,
   "metadata": {},
   "outputs": [],
   "source": [
    "## YOUR CODE HERE\n",
    "## FEEL FREE TO ADD MULTIPLE CELLS PER SECTION"
   ]
  },
  {
   "cell_type": "code",
   "execution_count": null,
   "metadata": {},
   "outputs": [],
   "source": []
  },
  {
   "cell_type": "code",
   "execution_count": null,
   "metadata": {},
   "outputs": [],
   "source": []
  },
  {
   "cell_type": "code",
   "execution_count": null,
   "metadata": {},
   "outputs": [],
   "source": []
  },
  {
   "cell_type": "code",
   "execution_count": null,
   "metadata": {},
   "outputs": [],
   "source": []
  },
  {
   "cell_type": "code",
   "execution_count": null,
   "metadata": {},
   "outputs": [],
   "source": []
  },
  {
   "cell_type": "code",
   "execution_count": null,
   "metadata": {},
   "outputs": [],
   "source": []
  },
  {
   "cell_type": "code",
   "execution_count": null,
   "metadata": {},
   "outputs": [],
   "source": []
  },
  {
   "cell_type": "markdown",
   "metadata": {},
   "source": [
    "# Ethics & Privacy"
   ]
  },
  {
   "cell_type": "markdown",
   "metadata": {},
   "source": [
    "*Fill in your ethics & privacy discussion here*"
   ]
  },
  {
   "cell_type": "markdown",
   "metadata": {},
   "source": [
    "# Conclusion & Discussion"
   ]
  },
  {
   "cell_type": "markdown",
   "metadata": {},
   "source": [
    "*Fill in your discussion information here*"
   ]
  }
 ],
 "metadata": {
  "kernelspec": {
   "display_name": "Python 3",
   "language": "python",
   "name": "python3"
  },
  "language_info": {
   "codemirror_mode": {
    "name": "ipython",
    "version": 3
   },
   "file_extension": ".py",
   "mimetype": "text/x-python",
   "name": "python",
   "nbconvert_exporter": "python",
   "pygments_lexer": "ipython3",
   "version": "3.7.6"
  }
 },
 "nbformat": 4,
 "nbformat_minor": 4
}
