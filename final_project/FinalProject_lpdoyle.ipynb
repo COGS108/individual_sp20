{
 "cells": [
  {
   "cell_type": "markdown",
   "metadata": {},
   "source": [
    "# COGS 108 - Final Project "
   ]
  },
  {
   "cell_type": "markdown",
   "metadata": {},
   "source": [
    "# Overview"
   ]
  },
  {
   "cell_type": "markdown",
   "metadata": {},
   "source": [
    "*Fill in your overview here*   \n",
    "\n",
    " DataSF is a governmant sponsered website where Data from the City and County of San Francisco is made publicly availibe. One of these datasets is from the Departmment of Public Health, and contains records of Health inspection scores, violations, and other data such as coordinates and zip codes for restaurants in SF County.\n",
    "\n",
    "According to a report by the San Francisco Office of Economic and Workforce Development, the city is \"defined by its neighborhoods.\" This report also includes exammples of many efforts to iplement policy changes and improvements on the neighborhood level. I think it would be really interesting to see how these health inspection statistics might vary from neighborhood to neighborhood.\n",
    "\n",
    "This question is important because identifying areas which are most at risk can help the city alocate resourses and focus their resources strategically to the areas which need them most. I also think it provide useful information about which areas could benefit from further investigations, and serve as a starting point from which to conduct further investigations as to what contibutes to the lower scores, and potentially gain more insight on how to improve the process in these at-risk areas specifically.\n"
   ]
  },
  {
   "cell_type": "markdown",
   "metadata": {},
   "source": [
    "# Name & PID\n",
    "\n",
    "- Name: Lindsey Doyle\n",
    "- PID: A12997818"
   ]
  },
  {
   "cell_type": "markdown",
   "metadata": {},
   "source": [
    "# Research Question"
   ]
  },
  {
   "cell_type": "markdown",
   "metadata": {},
   "source": [
    "*Fill in your research question here*  \n",
    "\n",
    "Which areas (by zip code) in San Francisco are most at risk for health inspection violations?"
   ]
  },
  {
   "cell_type": "markdown",
   "metadata": {},
   "source": [
    "## Background and Prior Work"
   ]
  },
  {
   "cell_type": "markdown",
   "metadata": {},
   "source": [
    " *Fill in your background and prior work here*   \n",
    "  \n",
    "DataSF is a governmant sponsered website where Data from the City and County of San Francisco is made publicly availibe. One of these datasets is from the Departmment of Public Health, and contains records of Health inspection scores, violations, and other data such as coordinates and zip codes for restaurants in SF County.\n",
    "\n",
    "According to a report by the San Francisco Office of Economic and Workforce Development, the city is \"defined by its neighborhoods.\" This report also includes exammples of many efforts to iplement policy changes and improvements on the neighborhood level. I think it would be really interesting to see how these health inspection statistics might vary from neighborhood to neighborhood.\n",
    "\n",
    "This question is important because identifying areas which are most at risk can help the city alocate resourses and focus their resources strategically to the areas which need them most. I also think it provide useful information about which areas could benefit from further investigations, and serve as a starting point from which to conduct further investigations as to what contibutes to the lower scores, and potentially gain more insight on how to improve the process in these at-risk areas specifically.\n",
    "\n",
    "References (include links):\n",
    "\n",
    "- 1) DataSF \n",
    "        -> ( https://data.sfgov.org/Health-and-Social-Services/Restaurant-Scores-LIVES-Standard/pyih-qa8i)\n",
    "  \n",
    "  \n",
    "- 2) Office of Economic and Workforce Development   \n",
    "        -> (https://oewd.org/sites/default/files/FileCenter/Documents/786-CBD%20BID%20Eval%20Report%20FY%2012-13%20updated.pdf)"
   ]
  },
  {
   "cell_type": "markdown",
   "metadata": {},
   "source": [
    "# Hypothesis\n"
   ]
  },
  {
   "cell_type": "markdown",
   "metadata": {},
   "source": [
    "*Fill in your hypotheses here*   \n",
    "\n",
    "I am curious as to whether some areas have higher rates of violations than others. As I mentioned in the previous section, San Francisco is known for having very distinctive neighborhoods, but as their divinding lines are somewhat arbitrary and ever changing, I will use zip codes as groupings instead. I would expect there to be significant variance in the prevelence of health inspection violations in different areas in the city. "
   ]
  },
  {
   "cell_type": "markdown",
   "metadata": {},
   "source": [
    "# Dataset(s)"
   ]
  },
  {
   "cell_type": "markdown",
   "metadata": {},
   "source": [
    "*Fill in your dataset information here*  \n",
    "\n",
    " \n",
    "   - Dataset Name: Restaurant Scores - LIVES Standard  \n",
    "    \n",
    "   - Link to the dataset: https://data.sfgov.org/Health-and-Social-Services/Restaurant-Scores-LIVES-Standard/pyih-qa8i  \n",
    "    \n",
    "   - Number of observations: 53,973  \n",
    "    \n",
    "   - Description:  \n",
    "    According to the publishers: \"The Health Department has developed an inspection report and scoring system. After conducting an inspection of the facility, the Health Inspector calculates a score based on the violations observed. Violations can fall into:      high risk category: records specific violations that directly relate to the transmission of food borne illnesses, the adulteration of food products and the contamination of food-contact surfaces.  moderate risk category: records specific violations that are of a moderate risk to the public health and safety.  low risk category: records violations that are low risk or have no immediate risk to the public health and safety. The score card that will be issued by the inspector is available to the public in this dataset.\" \n"
   ]
  },
  {
   "cell_type": "markdown",
   "metadata": {},
   "source": [
    "# Setup"
   ]
  },
  {
   "cell_type": "code",
   "execution_count": 53,
   "metadata": {},
   "outputs": [],
   "source": [
    "# Imports \n",
    "%matplotlib inline\n",
    "\n",
    "import pandas as pd\n",
    "import numpy as np\n",
    "\n",
    "import matplotlib.pyplot as plt\n",
    "import seaborn as sns\n",
    "sns.set()\n",
    "sns.set_context('talk')\n",
    "\n",
    "import warnings\n",
    "warnings.filterwarnings('ignore')"
   ]
  },
  {
   "cell_type": "markdown",
   "metadata": {},
   "source": [
    "# Data Cleaning"
   ]
  },
  {
   "cell_type": "markdown",
   "metadata": {},
   "source": [
    "Describe your data cleaning steps here."
   ]
  },
  {
   "cell_type": "code",
   "execution_count": 55,
   "metadata": {},
   "outputs": [],
   "source": [
    "## YOUR CODE HERE\n",
    "## FEEL FREE TO ADD MULTIPLE CELLS PER SECTION"
   ]
  },
  {
   "cell_type": "code",
   "execution_count": 104,
   "metadata": {},
   "outputs": [
    {
     "data": {
      "text/plain": [
       "(53973, 23)"
      ]
     },
     "execution_count": 104,
     "metadata": {},
     "output_type": "execute_result"
    }
   ],
   "source": [
    "# Read in data\n",
    "df = pd.read_csv('data/Restaurant_Scores_-_LIVES_Standard.csv') # business id as string\n",
    "df.shape"
   ]
  },
  {
   "cell_type": "code",
   "execution_count": 105,
   "metadata": {},
   "outputs": [
    {
     "data": {
      "text/plain": [
       "business_id                    int64\n",
       "business_name                 object\n",
       "business_address              object\n",
       "business_city                 object\n",
       "business_state                object\n",
       "business_postal_code          object\n",
       "business_latitude            float64\n",
       "business_longitude           float64\n",
       "business_location             object\n",
       "business_phone_number        float64\n",
       "inspection_id                 object\n",
       "inspection_date               object\n",
       "inspection_score             float64\n",
       "inspection_type               object\n",
       "violation_id                  object\n",
       "violation_description         object\n",
       "risk_category                 object\n",
       "Neighborhoods (old)          float64\n",
       "Police Districts             float64\n",
       "Supervisor Districts         float64\n",
       "Fire Prevention Districts    float64\n",
       "Zip Codes                    float64\n",
       "Analysis Neighborhoods       float64\n",
       "dtype: object"
      ]
     },
     "execution_count": 105,
     "metadata": {},
     "output_type": "execute_result"
    }
   ],
   "source": [
    "df.dtypes"
   ]
  },
  {
   "cell_type": "markdown",
   "metadata": {},
   "source": [
    "#### Drop redundant columns:"
   ]
  },
  {
   "cell_type": "markdown",
   "metadata": {},
   "source": [
    "We can see from the output below that all entries share the same value for 'business_city' and 'business_state' (San Francisco, CA, unsurprisingly).   "
   ]
  },
  {
   "cell_type": "code",
   "execution_count": 106,
   "metadata": {
    "scrolled": false
   },
   "outputs": [
    {
     "name": "stdout",
     "output_type": "stream",
     "text": [
      "CA    53973\n",
      "Name: business_state, dtype: int64\n"
     ]
    },
    {
     "data": {
      "text/plain": [
       "San Francisco    53973\n",
       "Name: business_city, dtype: int64"
      ]
     },
     "execution_count": 106,
     "metadata": {},
     "output_type": "execute_result"
    }
   ],
   "source": [
    "print(df.business_state.value_counts())\n",
    "df.business_city.value_counts()"
   ]
  },
  {
   "cell_type": "markdown",
   "metadata": {},
   "source": [
    "These colunm are not useful to the project, so I will drop them for now."
   ]
  },
  {
   "cell_type": "code",
   "execution_count": 107,
   "metadata": {},
   "outputs": [],
   "source": [
    "# Drop unnecesssary cols \n",
    "\n",
    "if len(df.columns==23): # <- in case I'm going up and down in the notebook\n",
    "    df = df.drop(columns=['business_state',\n",
    "                          'business_city',\n",
    "                          'Analysis Neighborhoods', \n",
    "                          'Zip Codes', \n",
    "                          'Neighborhoods (old)', \n",
    "                          'business_phone_number',\n",
    "                          'Police Districts', \n",
    "                          'Supervisor Districts',\n",
    "                          'Fire Prevention Districts'])\n",
    "    \n",
    "# *Note: The last few columns are not related to the project, so I dropped them too. "
   ]
  },
  {
   "cell_type": "markdown",
   "metadata": {},
   "source": [
    "#### Convert 'inspection_date' column to datetime object"
   ]
  },
  {
   "cell_type": "code",
   "execution_count": 108,
   "metadata": {},
   "outputs": [
    {
     "name": "stdout",
     "output_type": "stream",
     "text": [
      "Range of dates:  2016-10-04 00:00:00 to 2019-11-28 00:00:00\n"
     ]
    }
   ],
   "source": [
    "# Clean 'inspection_date' (convert to datetime)\n",
    "\n",
    "def clean_date(s):\n",
    "    s = pd.to_datetime(s, infer_datetime_format=True)\n",
    "    return s\n",
    "\n",
    "df['inspection_date'] = df['inspection_date'].apply(clean_date)\n",
    "print(\"Range of dates: \", df['inspection_date'].min(),\"to\",  df['inspection_date'].max())"
   ]
  },
  {
   "cell_type": "code",
   "execution_count": 109,
   "metadata": {},
   "outputs": [
    {
     "data": {
      "text/html": [
       "<div>\n",
       "<style scoped>\n",
       "    .dataframe tbody tr th:only-of-type {\n",
       "        vertical-align: middle;\n",
       "    }\n",
       "\n",
       "    .dataframe tbody tr th {\n",
       "        vertical-align: top;\n",
       "    }\n",
       "\n",
       "    .dataframe thead th {\n",
       "        text-align: right;\n",
       "    }\n",
       "</style>\n",
       "<table border=\"1\" class=\"dataframe\">\n",
       "  <thead>\n",
       "    <tr style=\"text-align: right;\">\n",
       "      <th></th>\n",
       "      <th>business_id</th>\n",
       "      <th>business_name</th>\n",
       "      <th>business_address</th>\n",
       "      <th>business_postal_code</th>\n",
       "      <th>business_latitude</th>\n",
       "      <th>business_longitude</th>\n",
       "      <th>business_location</th>\n",
       "      <th>inspection_id</th>\n",
       "      <th>inspection_date</th>\n",
       "      <th>inspection_score</th>\n",
       "      <th>inspection_type</th>\n",
       "      <th>violation_id</th>\n",
       "      <th>violation_description</th>\n",
       "      <th>risk_category</th>\n",
       "    </tr>\n",
       "  </thead>\n",
       "  <tbody>\n",
       "    <tr>\n",
       "      <td>0</td>\n",
       "      <td>69618</td>\n",
       "      <td>Fancy Wheatfield Bakery</td>\n",
       "      <td>1362 Stockton St</td>\n",
       "      <td>94133</td>\n",
       "      <td>NaN</td>\n",
       "      <td>NaN</td>\n",
       "      <td>NaN</td>\n",
       "      <td>69618_20190304</td>\n",
       "      <td>2019-03-04</td>\n",
       "      <td>NaN</td>\n",
       "      <td>Complaint</td>\n",
       "      <td>69618_20190304_103130</td>\n",
       "      <td>Inadequate sewage or wastewater disposal</td>\n",
       "      <td>Moderate Risk</td>\n",
       "    </tr>\n",
       "    <tr>\n",
       "      <td>1</td>\n",
       "      <td>97975</td>\n",
       "      <td>BREADBELLY</td>\n",
       "      <td>1408 Clement St</td>\n",
       "      <td>94118</td>\n",
       "      <td>NaN</td>\n",
       "      <td>NaN</td>\n",
       "      <td>NaN</td>\n",
       "      <td>97975_20190725</td>\n",
       "      <td>2019-07-25</td>\n",
       "      <td>96.0</td>\n",
       "      <td>Routine - Unscheduled</td>\n",
       "      <td>97975_20190725_103124</td>\n",
       "      <td>Inadequately cleaned or sanitized food contact...</td>\n",
       "      <td>Moderate Risk</td>\n",
       "    </tr>\n",
       "    <tr>\n",
       "      <td>2</td>\n",
       "      <td>69487</td>\n",
       "      <td>Hakkasan San Francisco</td>\n",
       "      <td>1 Kearny St</td>\n",
       "      <td>94108</td>\n",
       "      <td>NaN</td>\n",
       "      <td>NaN</td>\n",
       "      <td>NaN</td>\n",
       "      <td>69487_20180418</td>\n",
       "      <td>2018-04-18</td>\n",
       "      <td>88.0</td>\n",
       "      <td>Routine - Unscheduled</td>\n",
       "      <td>69487_20180418_103119</td>\n",
       "      <td>Inadequate and inaccessible handwashing facili...</td>\n",
       "      <td>Moderate Risk</td>\n",
       "    </tr>\n",
       "    <tr>\n",
       "      <td>3</td>\n",
       "      <td>91044</td>\n",
       "      <td>Chopsticks Restaurant</td>\n",
       "      <td>4615 Mission St</td>\n",
       "      <td>94112</td>\n",
       "      <td>NaN</td>\n",
       "      <td>NaN</td>\n",
       "      <td>NaN</td>\n",
       "      <td>91044_20170818</td>\n",
       "      <td>2017-08-18</td>\n",
       "      <td>NaN</td>\n",
       "      <td>Non-inspection site visit</td>\n",
       "      <td>NaN</td>\n",
       "      <td>NaN</td>\n",
       "      <td>NaN</td>\n",
       "    </tr>\n",
       "    <tr>\n",
       "      <td>4</td>\n",
       "      <td>85987</td>\n",
       "      <td>Tselogs</td>\n",
       "      <td>552 Jones St</td>\n",
       "      <td>94102</td>\n",
       "      <td>NaN</td>\n",
       "      <td>NaN</td>\n",
       "      <td>NaN</td>\n",
       "      <td>85987_20180412</td>\n",
       "      <td>2018-04-12</td>\n",
       "      <td>94.0</td>\n",
       "      <td>Routine - Unscheduled</td>\n",
       "      <td>85987_20180412_103132</td>\n",
       "      <td>Improper thawing methods</td>\n",
       "      <td>Moderate Risk</td>\n",
       "    </tr>\n",
       "  </tbody>\n",
       "</table>\n",
       "</div>"
      ],
      "text/plain": [
       "   business_id            business_name  business_address  \\\n",
       "0        69618  Fancy Wheatfield Bakery  1362 Stockton St   \n",
       "1        97975               BREADBELLY   1408 Clement St   \n",
       "2        69487   Hakkasan San Francisco       1 Kearny St   \n",
       "3        91044    Chopsticks Restaurant   4615 Mission St   \n",
       "4        85987                  Tselogs      552 Jones St   \n",
       "\n",
       "  business_postal_code  business_latitude  business_longitude  \\\n",
       "0                94133                NaN                 NaN   \n",
       "1                94118                NaN                 NaN   \n",
       "2                94108                NaN                 NaN   \n",
       "3                94112                NaN                 NaN   \n",
       "4                94102                NaN                 NaN   \n",
       "\n",
       "  business_location   inspection_id inspection_date  inspection_score  \\\n",
       "0               NaN  69618_20190304      2019-03-04               NaN   \n",
       "1               NaN  97975_20190725      2019-07-25              96.0   \n",
       "2               NaN  69487_20180418      2018-04-18              88.0   \n",
       "3               NaN  91044_20170818      2017-08-18               NaN   \n",
       "4               NaN  85987_20180412      2018-04-12              94.0   \n",
       "\n",
       "             inspection_type           violation_id  \\\n",
       "0                  Complaint  69618_20190304_103130   \n",
       "1      Routine - Unscheduled  97975_20190725_103124   \n",
       "2      Routine - Unscheduled  69487_20180418_103119   \n",
       "3  Non-inspection site visit                    NaN   \n",
       "4      Routine - Unscheduled  85987_20180412_103132   \n",
       "\n",
       "                               violation_description  risk_category  \n",
       "0           Inadequate sewage or wastewater disposal  Moderate Risk  \n",
       "1  Inadequately cleaned or sanitized food contact...  Moderate Risk  \n",
       "2  Inadequate and inaccessible handwashing facili...  Moderate Risk  \n",
       "3                                                NaN            NaN  \n",
       "4                           Improper thawing methods  Moderate Risk  "
      ]
     },
     "execution_count": 109,
     "metadata": {},
     "output_type": "execute_result"
    }
   ],
   "source": [
    "df.head()"
   ]
  },
  {
   "cell_type": "markdown",
   "metadata": {},
   "source": [
    "#### Reindex by business_id "
   ]
  },
  {
   "cell_type": "code",
   "execution_count": 110,
   "metadata": {
    "scrolled": true
   },
   "outputs": [
    {
     "data": {
      "text/plain": [
       "19373     45\n",
       "90238     42\n",
       "67564     41\n",
       "61494     41\n",
       "86658     40\n",
       "          ..\n",
       "100659     1\n",
       "100135     1\n",
       "98797      1\n",
       "95368      1\n",
       "98869      1\n",
       "Name: business_id, Length: 6253, dtype: int64"
      ]
     },
     "execution_count": 110,
     "metadata": {},
     "output_type": "execute_result"
    }
   ],
   "source": [
    "df.business_id.value_counts()"
   ]
  },
  {
   "cell_type": "markdown",
   "metadata": {},
   "source": [
    "As we can see fron the above output, several restaurants have had more than one health inspection rescorded in this dataset, however, I want each observation to represent a unique business, not a unique inspection.  \n",
    "\n",
    "To fix this, I will look at only the most recent inspection for each business."
   ]
  },
  {
   "cell_type": "code",
   "execution_count": 111,
   "metadata": {
    "scrolled": true
   },
   "outputs": [],
   "source": [
    "# Group by business_id, find max date\n",
    "df = df.groupby('business_id').apply(lambda grp: grp.sort_values('inspection_date', ascending=False).iloc[0])"
   ]
  },
  {
   "cell_type": "code",
   "execution_count": 112,
   "metadata": {},
   "outputs": [
    {
     "data": {
      "text/html": [
       "<div>\n",
       "<style scoped>\n",
       "    .dataframe tbody tr th:only-of-type {\n",
       "        vertical-align: middle;\n",
       "    }\n",
       "\n",
       "    .dataframe tbody tr th {\n",
       "        vertical-align: top;\n",
       "    }\n",
       "\n",
       "    .dataframe thead th {\n",
       "        text-align: right;\n",
       "    }\n",
       "</style>\n",
       "<table border=\"1\" class=\"dataframe\">\n",
       "  <thead>\n",
       "    <tr style=\"text-align: right;\">\n",
       "      <th></th>\n",
       "      <th>business_id</th>\n",
       "      <th>business_name</th>\n",
       "      <th>business_address</th>\n",
       "      <th>business_postal_code</th>\n",
       "      <th>business_latitude</th>\n",
       "      <th>business_longitude</th>\n",
       "      <th>business_location</th>\n",
       "      <th>inspection_id</th>\n",
       "      <th>inspection_date</th>\n",
       "      <th>inspection_score</th>\n",
       "      <th>inspection_type</th>\n",
       "      <th>violation_id</th>\n",
       "      <th>violation_description</th>\n",
       "      <th>risk_category</th>\n",
       "    </tr>\n",
       "    <tr>\n",
       "      <th>business_id</th>\n",
       "      <th></th>\n",
       "      <th></th>\n",
       "      <th></th>\n",
       "      <th></th>\n",
       "      <th></th>\n",
       "      <th></th>\n",
       "      <th></th>\n",
       "      <th></th>\n",
       "      <th></th>\n",
       "      <th></th>\n",
       "      <th></th>\n",
       "      <th></th>\n",
       "      <th></th>\n",
       "      <th></th>\n",
       "    </tr>\n",
       "  </thead>\n",
       "  <tbody>\n",
       "    <tr>\n",
       "      <td>19</td>\n",
       "      <td>19</td>\n",
       "      <td>Nrgize Lifestyle Cafe</td>\n",
       "      <td>1200 Van Ness Ave, 3rd Floor</td>\n",
       "      <td>94109</td>\n",
       "      <td>37.786848</td>\n",
       "      <td>-122.421547</td>\n",
       "      <td>POINT (-122.421547 37.786848)</td>\n",
       "      <td>19_20180607</td>\n",
       "      <td>2018-06-07</td>\n",
       "      <td>96.0</td>\n",
       "      <td>Routine - Unscheduled</td>\n",
       "      <td>19_20180607_103116</td>\n",
       "      <td>Inadequate food safety knowledge or lack of ce...</td>\n",
       "      <td>Moderate Risk</td>\n",
       "    </tr>\n",
       "    <tr>\n",
       "      <td>24</td>\n",
       "      <td>24</td>\n",
       "      <td>OMNI S.F. Hotel - 2nd Floor Pantry</td>\n",
       "      <td>500 California St, 2nd  Floor</td>\n",
       "      <td>94104</td>\n",
       "      <td>37.792888</td>\n",
       "      <td>-122.403135</td>\n",
       "      <td>POINT (-122.403135 37.792888)</td>\n",
       "      <td>24_20190516</td>\n",
       "      <td>2019-05-16</td>\n",
       "      <td>NaN</td>\n",
       "      <td>Reinspection/Followup</td>\n",
       "      <td>NaN</td>\n",
       "      <td>NaN</td>\n",
       "      <td>NaN</td>\n",
       "    </tr>\n",
       "    <tr>\n",
       "      <td>31</td>\n",
       "      <td>31</td>\n",
       "      <td>Norman's Ice Cream and Freezes</td>\n",
       "      <td>2801 Leavenworth St</td>\n",
       "      <td>94133</td>\n",
       "      <td>37.807155</td>\n",
       "      <td>-122.419004</td>\n",
       "      <td>POINT (-122.419004 37.807155)</td>\n",
       "      <td>31_20190813</td>\n",
       "      <td>2019-08-13</td>\n",
       "      <td>NaN</td>\n",
       "      <td>Reinspection/Followup</td>\n",
       "      <td>NaN</td>\n",
       "      <td>NaN</td>\n",
       "      <td>NaN</td>\n",
       "    </tr>\n",
       "    <tr>\n",
       "      <td>45</td>\n",
       "      <td>45</td>\n",
       "      <td>CHARLIE'S DELI CAFE</td>\n",
       "      <td>3202 FOLSOM St</td>\n",
       "      <td>94110</td>\n",
       "      <td>37.747114</td>\n",
       "      <td>-122.413641</td>\n",
       "      <td>POINT (-122.413641 37.747114)</td>\n",
       "      <td>45_20190419</td>\n",
       "      <td>2019-04-19</td>\n",
       "      <td>NaN</td>\n",
       "      <td>Reinspection/Followup</td>\n",
       "      <td>NaN</td>\n",
       "      <td>NaN</td>\n",
       "      <td>NaN</td>\n",
       "    </tr>\n",
       "    <tr>\n",
       "      <td>48</td>\n",
       "      <td>48</td>\n",
       "      <td>ART'S CAFE</td>\n",
       "      <td>747 IRVING St</td>\n",
       "      <td>94122</td>\n",
       "      <td>37.764013</td>\n",
       "      <td>-122.465749</td>\n",
       "      <td>POINT (-122.465749 37.764013)</td>\n",
       "      <td>48_20181206</td>\n",
       "      <td>2018-12-06</td>\n",
       "      <td>NaN</td>\n",
       "      <td>Reinspection/Followup</td>\n",
       "      <td>NaN</td>\n",
       "      <td>NaN</td>\n",
       "      <td>NaN</td>\n",
       "    </tr>\n",
       "  </tbody>\n",
       "</table>\n",
       "</div>"
      ],
      "text/plain": [
       "             business_id                       business_name  \\\n",
       "business_id                                                    \n",
       "19                    19               Nrgize Lifestyle Cafe   \n",
       "24                    24  OMNI S.F. Hotel - 2nd Floor Pantry   \n",
       "31                    31      Norman's Ice Cream and Freezes   \n",
       "45                    45                 CHARLIE'S DELI CAFE   \n",
       "48                    48                          ART'S CAFE   \n",
       "\n",
       "                          business_address business_postal_code  \\\n",
       "business_id                                                       \n",
       "19            1200 Van Ness Ave, 3rd Floor                94109   \n",
       "24           500 California St, 2nd  Floor                94104   \n",
       "31                     2801 Leavenworth St                94133   \n",
       "45                          3202 FOLSOM St                94110   \n",
       "48                           747 IRVING St                94122   \n",
       "\n",
       "             business_latitude  business_longitude  \\\n",
       "business_id                                          \n",
       "19                   37.786848         -122.421547   \n",
       "24                   37.792888         -122.403135   \n",
       "31                   37.807155         -122.419004   \n",
       "45                   37.747114         -122.413641   \n",
       "48                   37.764013         -122.465749   \n",
       "\n",
       "                         business_location inspection_id inspection_date  \\\n",
       "business_id                                                                \n",
       "19           POINT (-122.421547 37.786848)   19_20180607      2018-06-07   \n",
       "24           POINT (-122.403135 37.792888)   24_20190516      2019-05-16   \n",
       "31           POINT (-122.419004 37.807155)   31_20190813      2019-08-13   \n",
       "45           POINT (-122.413641 37.747114)   45_20190419      2019-04-19   \n",
       "48           POINT (-122.465749 37.764013)   48_20181206      2018-12-06   \n",
       "\n",
       "             inspection_score        inspection_type        violation_id  \\\n",
       "business_id                                                                \n",
       "19                       96.0  Routine - Unscheduled  19_20180607_103116   \n",
       "24                        NaN  Reinspection/Followup                 NaN   \n",
       "31                        NaN  Reinspection/Followup                 NaN   \n",
       "45                        NaN  Reinspection/Followup                 NaN   \n",
       "48                        NaN  Reinspection/Followup                 NaN   \n",
       "\n",
       "                                         violation_description  risk_category  \n",
       "business_id                                                                    \n",
       "19           Inadequate food safety knowledge or lack of ce...  Moderate Risk  \n",
       "24                                                         NaN            NaN  \n",
       "31                                                         NaN            NaN  \n",
       "45                                                         NaN            NaN  \n",
       "48                                                         NaN            NaN  "
      ]
     },
     "execution_count": 112,
     "metadata": {},
     "output_type": "execute_result"
    }
   ],
   "source": [
    "df.head()"
   ]
  },
  {
   "cell_type": "code",
   "execution_count": 198,
   "metadata": {},
   "outputs": [
    {
     "data": {
      "text/plain": [
       "True"
      ]
     },
     "execution_count": 198,
     "metadata": {},
     "output_type": "execute_result"
    }
   ],
   "source": []
  },
  {
   "cell_type": "code",
   "execution_count": 228,
   "metadata": {},
   "outputs": [
    {
     "name": "stdout",
     "output_type": "stream",
     "text": [
      "Original zips: \n",
      " \n",
      " ['94109' '94104' '94133' '94110' '94122' '94115' '94111' '94117' '94107'\n",
      " '94108' '94102' '94103' '94132' '94105' '94134' '94124' '94116' '94121'\n",
      " '94118' '94112' '94123' '94114' '94131' '94127' nan '94158' '95105'\n",
      " '94013' '94130' '92672' '94120' '94143' '94101' '94014' '94129' '94602'\n",
      " '94080' '94188' '94544' '94301' '94901' '95117' '95133' '95109' '95132'\n",
      " '95122' '94621' '95112' '94518'] \n",
      "\n",
      "Cleaned zips: \n",
      " \n",
      " ['94109' '94104' '94133' '94110' '94122' '94115' '94111' '94117' '94107'\n",
      " '94108' '94102' '94103' '94132' '94105' '94134' '94124' '94116' '94121'\n",
      " '94118' '94112' '94123' '94114' '94131' '94127' nan '94158' '95105'\n",
      " '94013' '94130' '92672' '94120' '94143' '94101' '94014' '94129' '94602'\n",
      " '94080' '94188' '94544' '94301' '94901' '95117' '95133' '95109' '95132'\n",
      " '95122' '94621' '95112' '94518'] \n",
      "\n",
      "# Missing Zips in Dataset:  200\n"
     ]
    }
   ],
   "source": [
    "# Clean zip code data\n",
    "\n",
    "if 'zips' not in df.columns: # rename column for simplicity\n",
    "    df.rename(columns = {'business_postal_code':'zips'}, inplace=True)\n",
    "\n",
    "print('Original zips:', '\\n', '\\n', df.zips.unique(), '\\n')\n",
    "\n",
    "def clean_zips(s):\n",
    "    if isinstance(s, str):\n",
    "        s = s[:5].lower()\n",
    "        if (s[0] == '9') and (len(s)==5):\n",
    "            return str(s)\n",
    "    return np.nan\n",
    "\n",
    "df.zips = df.zips.apply(clean_zips)\n",
    "print('Cleaned zips:', '\\n', '\\n', df.zips.unique(), '\\n')\n",
    "print('# Missing Zips in Dataset: ', sum(pd.isnull(df.zips)))"
   ]
  },
  {
   "cell_type": "markdown",
   "metadata": {},
   "source": [
    "# Data Analysis & Results"
   ]
  },
  {
   "cell_type": "markdown",
   "metadata": {},
   "source": [
    "*Include cells that walk us through the steps in EDA and Analysis.*"
   ]
  },
  {
   "cell_type": "markdown",
   "metadata": {},
   "source": [
    "### EDA\n",
    "---\n",
    "  * What distributions do your variables take?\n",
    "  * Are there any outliers? \n",
    "  * Relationship between variables?"
   ]
  },
  {
   "cell_type": "markdown",
   "metadata": {},
   "source": [
    "First, lets take a look at the distribution of inspection scores."
   ]
  },
  {
   "cell_type": "code",
   "execution_count": 197,
   "metadata": {},
   "outputs": [
    {
     "data": {
      "image/png": "[encoded data removed]",
      "text/plain": [
       "<Figure size 432x288 with 1 Axes>"
      ]
     },
     "metadata": {},
     "output_type": "display_data"
    }
   ],
   "source": [
    "p = sns.distplot(df.inspection_score.dropna(), bins=10, kde=False)\n",
    "p.set_title(\"Distribution of Inspection Scores\")\n",
    "plt.show()"
   ]
  },
  {
   "cell_type": "markdown",
   "metadata": {},
   "source": [
    "The plot above shows that health inspection scores are left-skewed. This makes sense because we have an upper boundary in the dataset (the maximum inspection score is 100). It also shows us that there are more restaurants with higher scores – good news for the SF foodies. "
   ]
  },
  {
   "cell_type": "markdown",
   "metadata": {},
   "source": [
    "#### Risk category frequency\n",
    "\n",
    "While looking at inspection scores, it is also important to understand the `risk_category` column.   "
   ]
  },
  {
   "cell_type": "code",
   "execution_count": 115,
   "metadata": {},
   "outputs": [
    {
     "name": "stdout",
     "output_type": "stream",
     "text": [
      "99.87620357634113\n"
     ]
    },
    {
     "data": {
      "text/plain": [
       "risk_category\n",
       "High Risk        87.877273\n",
       "Low Risk         93.029133\n",
       "Moderate Risk    91.426704\n",
       "Name: inspection_score, dtype: float64"
      ]
     },
     "execution_count": 115,
     "metadata": {},
     "output_type": "execute_result"
    }
   ],
   "source": [
    "print(df[df.risk_category.isnull()]['inspection_score'].mean())\n",
    "df.groupby('risk_category')['inspection_score'].mean()"
   ]
  },
  {
   "cell_type": "markdown",
   "metadata": {},
   "source": [
    "It looks like the missing values in `risk_category` could have the label 'no risk'."
   ]
  },
  {
   "cell_type": "code",
   "execution_count": 116,
   "metadata": {},
   "outputs": [
    {
     "data": {
      "text/plain": [
       "No Risk          3427\n",
       "Low Risk         1451\n",
       "Moderate Risk    1131\n",
       "High Risk         244\n",
       "Name: risk_category, dtype: int64"
      ]
     },
     "execution_count": 116,
     "metadata": {},
     "output_type": "execute_result"
    }
   ],
   "source": [
    "# replace null values with 'no risk'\n",
    "def relabel(x):\n",
    "    if not isinstance(x, str):\n",
    "        return 'No Risk'\n",
    "    else:\n",
    "        return x\n",
    "    \n",
    "df.risk_category = df.risk_category.apply(relabel)\n",
    "df.risk_category.value_counts()"
   ]
  },
  {
   "cell_type": "markdown",
   "metadata": {},
   "source": [
    "The plot below shows the number of businesses whose latest inspection result landed them in each category."
   ]
  },
  {
   "cell_type": "code",
   "execution_count": 192,
   "metadata": {},
   "outputs": [
    {
     "data": {
      "image/png": "[encoded data removed]",
      "text/plain": [
       "<Figure size 432x288 with 1 Axes>"
      ]
     },
     "metadata": {},
     "output_type": "display_data"
    }
   ],
   "source": [
    "sns.set(font_scale = 1.5)\n",
    "p = sns.countplot(df.risk_category, order=['No Risk', 'Low Risk', 'Moderate Risk', 'High Risk'], palette=sns.cubehelix_palette(start=9.1, rot=.6))\n",
    "p.set_title(\"Distribution of Risk Categories\")\n",
    "p.set_xticklabels(labels=['No Risk', 'Low Risk', 'Moderate Risk', 'High Risk'], size = 13)\n",
    "plt.show()"
   ]
  },
  {
   "cell_type": "markdown",
   "metadata": {},
   "source": [
    "Thankfully, it looks like only a small number were labeled as 'high-risk' establishments."
   ]
  },
  {
   "cell_type": "markdown",
   "metadata": {},
   "source": [
    "#### Zip Codes\n",
    "Now lets incorporate zip codes."
   ]
  },
  {
   "cell_type": "code",
   "execution_count": 308,
   "metadata": {
    "scrolled": true
   },
   "outputs": [
    {
     "data": {
      "text/html": [
       "<div>\n",
       "<style scoped>\n",
       "    .dataframe tbody tr th:only-of-type {\n",
       "        vertical-align: middle;\n",
       "    }\n",
       "\n",
       "    .dataframe tbody tr th {\n",
       "        vertical-align: top;\n",
       "    }\n",
       "\n",
       "    .dataframe thead th {\n",
       "        text-align: right;\n",
       "    }\n",
       "</style>\n",
       "<table border=\"1\" class=\"dataframe\">\n",
       "  <thead>\n",
       "    <tr style=\"text-align: right;\">\n",
       "      <th></th>\n",
       "      <th>business_id</th>\n",
       "      <th>business_name</th>\n",
       "      <th>business_address</th>\n",
       "      <th>zips</th>\n",
       "      <th>business_latitude</th>\n",
       "      <th>business_longitude</th>\n",
       "      <th>business_location</th>\n",
       "      <th>inspection_id</th>\n",
       "      <th>inspection_date</th>\n",
       "      <th>inspection_score</th>\n",
       "      <th>inspection_type</th>\n",
       "      <th>violation_id</th>\n",
       "      <th>violation_description</th>\n",
       "      <th>risk_category</th>\n",
       "      <th>high_density_zips</th>\n",
       "    </tr>\n",
       "    <tr>\n",
       "      <th>business_id</th>\n",
       "      <th></th>\n",
       "      <th></th>\n",
       "      <th></th>\n",
       "      <th></th>\n",
       "      <th></th>\n",
       "      <th></th>\n",
       "      <th></th>\n",
       "      <th></th>\n",
       "      <th></th>\n",
       "      <th></th>\n",
       "      <th></th>\n",
       "      <th></th>\n",
       "      <th></th>\n",
       "      <th></th>\n",
       "      <th></th>\n",
       "    </tr>\n",
       "  </thead>\n",
       "  <tbody>\n",
       "    <tr>\n",
       "      <td>19</td>\n",
       "      <td>19</td>\n",
       "      <td>Nrgize Lifestyle Cafe</td>\n",
       "      <td>1200 Van Ness Ave, 3rd Floor</td>\n",
       "      <td>94109</td>\n",
       "      <td>37.786848</td>\n",
       "      <td>-122.421547</td>\n",
       "      <td>POINT (-122.421547 37.786848)</td>\n",
       "      <td>19_20180607</td>\n",
       "      <td>2018-06-07</td>\n",
       "      <td>96.0</td>\n",
       "      <td>Routine - Unscheduled</td>\n",
       "      <td>19_20180607_103116</td>\n",
       "      <td>Inadequate food safety knowledge or lack of ce...</td>\n",
       "      <td>Moderate Risk</td>\n",
       "      <td>94109</td>\n",
       "    </tr>\n",
       "    <tr>\n",
       "      <td>24</td>\n",
       "      <td>24</td>\n",
       "      <td>OMNI S.F. Hotel - 2nd Floor Pantry</td>\n",
       "      <td>500 California St, 2nd  Floor</td>\n",
       "      <td>94104</td>\n",
       "      <td>37.792888</td>\n",
       "      <td>-122.403135</td>\n",
       "      <td>POINT (-122.403135 37.792888)</td>\n",
       "      <td>24_20190516</td>\n",
       "      <td>2019-05-16</td>\n",
       "      <td>NaN</td>\n",
       "      <td>Reinspection/Followup</td>\n",
       "      <td>NaN</td>\n",
       "      <td>NaN</td>\n",
       "      <td>No Risk</td>\n",
       "      <td>94104</td>\n",
       "    </tr>\n",
       "    <tr>\n",
       "      <td>31</td>\n",
       "      <td>31</td>\n",
       "      <td>Norman's Ice Cream and Freezes</td>\n",
       "      <td>2801 Leavenworth St</td>\n",
       "      <td>94133</td>\n",
       "      <td>37.807155</td>\n",
       "      <td>-122.419004</td>\n",
       "      <td>POINT (-122.419004 37.807155)</td>\n",
       "      <td>31_20190813</td>\n",
       "      <td>2019-08-13</td>\n",
       "      <td>NaN</td>\n",
       "      <td>Reinspection/Followup</td>\n",
       "      <td>NaN</td>\n",
       "      <td>NaN</td>\n",
       "      <td>No Risk</td>\n",
       "      <td>94133</td>\n",
       "    </tr>\n",
       "  </tbody>\n",
       "</table>\n",
       "</div>"
      ],
      "text/plain": [
       "             business_id                       business_name  \\\n",
       "business_id                                                    \n",
       "19                    19               Nrgize Lifestyle Cafe   \n",
       "24                    24  OMNI S.F. Hotel - 2nd Floor Pantry   \n",
       "31                    31      Norman's Ice Cream and Freezes   \n",
       "\n",
       "                          business_address   zips  business_latitude  \\\n",
       "business_id                                                            \n",
       "19            1200 Van Ness Ave, 3rd Floor  94109          37.786848   \n",
       "24           500 California St, 2nd  Floor  94104          37.792888   \n",
       "31                     2801 Leavenworth St  94133          37.807155   \n",
       "\n",
       "             business_longitude              business_location inspection_id  \\\n",
       "business_id                                                                    \n",
       "19                  -122.421547  POINT (-122.421547 37.786848)   19_20180607   \n",
       "24                  -122.403135  POINT (-122.403135 37.792888)   24_20190516   \n",
       "31                  -122.419004  POINT (-122.419004 37.807155)   31_20190813   \n",
       "\n",
       "            inspection_date  inspection_score        inspection_type  \\\n",
       "business_id                                                            \n",
       "19               2018-06-07              96.0  Routine - Unscheduled   \n",
       "24               2019-05-16               NaN  Reinspection/Followup   \n",
       "31               2019-08-13               NaN  Reinspection/Followup   \n",
       "\n",
       "                   violation_id  \\\n",
       "business_id                       \n",
       "19           19_20180607_103116   \n",
       "24                          NaN   \n",
       "31                          NaN   \n",
       "\n",
       "                                         violation_description  risk_category  \\\n",
       "business_id                                                                     \n",
       "19           Inadequate food safety knowledge or lack of ce...  Moderate Risk   \n",
       "24                                                         NaN        No Risk   \n",
       "31                                                         NaN        No Risk   \n",
       "\n",
       "            high_density_zips  \n",
       "business_id                    \n",
       "19                      94109  \n",
       "24                      94104  \n",
       "31                      94133  "
      ]
     },
     "execution_count": 308,
     "metadata": {},
     "output_type": "execute_result"
    }
   ],
   "source": [
    "df.head(3)"
   ]
  },
  {
   "cell_type": "code",
   "execution_count": 287,
   "metadata": {
    "scrolled": true
   },
   "outputs": [],
   "source": [
    "# Lets only look at zip codes in which there are at least 100 restaurants \n",
    "\n",
    "high_density_zips = df.zips.value_counts()[:(df.zips.value_counts() > 100).sum()]\n",
    "df['high_density_zips'] = df['zips'].apply(lambda x : x if (x in high_density_zips.index) else np.nan)\n",
    "df1 = df[pd.notnull(df['high_density_zips'])]\n",
    "df1['num_businesses'] = df1['high_density_zips'].apply(lambda x: high_density_zips.loc[x])"
   ]
  },
  {
   "cell_type": "code",
   "execution_count": 288,
   "metadata": {},
   "outputs": [
    {
     "name": "stdout",
     "output_type": "stream",
     "text": [
      "Number of businesses in each zip code > 100:   True\n"
     ]
    }
   ],
   "source": [
    "# Sanity check: should all be over 100 \n",
    "print('Number of businesses in each zip code > 100:  ', (df1.groupby('high_density_zips').size() > 100).all())"
   ]
  },
  {
   "cell_type": "code",
   "execution_count": 305,
   "metadata": {},
   "outputs": [
    {
     "data": {
      "text/plain": [
       "<function matplotlib.pyplot.show(*args, **kw)>"
      ]
     },
     "execution_count": 305,
     "metadata": {},
     "output_type": "execute_result"
    },
    {
     "data": {
      "image/png": "[encoded data removed]",
      "text/plain": [
       "<Figure size 432x288 with 1 Axes>"
      ]
     },
     "metadata": {},
     "output_type": "display_data"
    }
   ],
   "source": [
    "mean_scores_df = df1.groupby('high_density_zips')['inspection_score'].mean().to_frame().reset_index()\n",
    "sns.set(style='white')\n",
    "p = sns.scatterplot(y='inspection_score', x=\"high_density_zips\", data=mean_scores_df)\n",
    "p.set_title(\"Average Score Across Zip Codes\")\n",
    "plt.show"
   ]
  },
  {
   "cell_type": "markdown",
   "metadata": {},
   "source": [
    "# Ethics & Privacy "
   ]
  },
  {
   "cell_type": "markdown",
   "metadata": {},
   "source": [
    "*Fill in your ethics & privacy discussion here*    \n",
    "There should not be any issues with privacy because health inspection data is required by law to be made publically available, and the dataset I found on DataSF is available for use by the public. "
   ]
  },
  {
   "cell_type": "markdown",
   "metadata": {},
   "source": [
    "# Conclusion & Discussion"
   ]
  },
  {
   "cell_type": "markdown",
   "metadata": {},
   "source": [
    "*Fill in your discussion information here*"
   ]
  },
  {
   "cell_type": "code",
   "execution_count": null,
   "metadata": {},
   "outputs": [],
   "source": []
  }
 ],
 "metadata": {
  "kernelspec": {
   "display_name": "Python 3",
   "language": "python",
   "name": "python3"
  },
  "language_info": {
   "codemirror_mode": {
    "name": "ipython",
    "version": 3
   },
   "file_extension": ".py",
   "mimetype": "text/x-python",
   "name": "python",
   "nbconvert_exporter": "python",
   "pygments_lexer": "ipython3",
   "version": "3.7.4"
  }
 },
 "nbformat": 4,
 "nbformat_minor": 2
}
