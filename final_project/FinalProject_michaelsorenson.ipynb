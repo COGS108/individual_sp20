{
 "cells": [
  {
   "cell_type": "markdown",
   "metadata": {},
   "source": [
    "# COGS 108 - Final Project "
   ]
  },
  {
   "cell_type": "markdown",
   "metadata": {},
   "source": [
    "# Table of Contents"
   ]
  },
  {
   "cell_type": "markdown",
   "metadata": {},
   "source": [
    "[Overview](#overview)\n",
    "<br>\n",
    "[Question](#question)\n",
    "<br>\n",
    "└─[Background](#background)\n",
    "<br>\n",
    "└─ [Hypothesis](#hypothesis)\n",
    "<br>\n",
    "[Datasets](#datasets)\n",
    "<br>\n",
    "[Data Cleaning and Analysis](#data_cleaning_and_analysis)\n",
    "<br>\n",
    "└─[Inspection Score Prediction](#inspection_score_prediction)\n",
    "<br>\n",
    "└─[Violation Category Prediction](#violation_category_prediction)\n"
   ]
  },
  {
   "cell_type": "markdown",
   "metadata": {},
   "source": [
    "<a id='overview'></a>"
   ]
  },
  {
   "cell_type": "markdown",
   "metadata": {},
   "source": [
    "# Overview"
   ]
  },
  {
   "cell_type": "markdown",
   "metadata": {},
   "source": [
    "There is a general idea in people who are not very familiar with Machine Learning and Artificial Intelligence that they can be used to solve all problems and will soon be displacing everyone from their jobs, as computers become able to do humans' work better than them. In this project I set out to disprove this idea, and show that there are some situations where Machine Learning will never be as good as a human. In order to do this, we will use restaurant health inspections, and attempt to predict inspection scores using nearby restaurants and some simple geographic and demographic information about the areas in which those restaurants are located."
   ]
  },
  {
   "cell_type": "markdown",
   "metadata": {},
   "source": [
    "# Name & GitHub\n",
    "\n",
    "- Name: Michael Sorenson\n",
    "- GitHub Username: michaelsorenson"
   ]
  },
  {
   "cell_type": "markdown",
   "metadata": {},
   "source": [
    "<a id='question'></a>"
   ]
  },
  {
   "cell_type": "markdown",
   "metadata": {},
   "source": [
    "# Research Question"
   ]
  },
  {
   "cell_type": "markdown",
   "metadata": {},
   "source": [
    "Do restaurants have similar inspection scores to nearby restaurants? Can inspections score of restaurants be used to predict inspection scores of nearby restaurants? Can restaurant data and nearby restaurant data be used to predict types of violations?"
   ]
  },
  {
   "cell_type": "markdown",
   "metadata": {},
   "source": [
    "<a id='background'></a>"
   ]
  },
  {
   "cell_type": "markdown",
   "metadata": {},
   "source": [
    "## Background and Prior Work"
   ]
  },
  {
   "cell_type": "markdown",
   "metadata": {},
   "source": [
    "Research has shown that dining-out habits among Americans have been steadily increasing in the past ten years$^{1}$, and in the past few decades (with the exception of recent COVID-19 trends)$^{2}$. With more people eating out at restaurants, it is becoming more important that restaurants meet general cleanliness and safety guidelines, and the primary way restaurants are kept in check is through health inspections. Inspections are done on restaurants in order to determine any ways in which restaurants are unsafe, or unhealthy, and help restaurants fix these violations. It is in a restaurants' interest to keep to code, as the state assigns the restaurant a score, which is used to give the restaurants a grade (A, B, C, etc.) which the restaurant can (and is required to) display so that prospective customers are assured that the restaurant is safe. This research project sets out to determine if Machine Learning can be used to predict inspection scores and types of violations a restaurant may make.\n",
    "\n",
    "References (include links):\n",
    "- 1) https://www.statista.com/statistics/237215/average-away-from-home-food-expenditures-of-united-states-households/\n",
    "- 2) https://www.theatlantic.com/business/archive/2017/06/its-the-golden-age-of-restaurants-in-america/530955/"
   ]
  },
  {
   "cell_type": "markdown",
   "metadata": {},
   "source": [
    "<a id='hypothesis'></a>"
   ]
  },
  {
   "cell_type": "markdown",
   "metadata": {},
   "source": [
    "## Hypothesis\n"
   ]
  },
  {
   "cell_type": "markdown",
   "metadata": {},
   "source": [
    "Restaurants near each other geographically will have similar inspection scores, but not close enough to warrant using nearby restaurants as a proxy for inspection scores; other variables such as average income for a zip code may also be used to help predict inspection scores, but not enough to get perfect or even great accuracy. "
   ]
  },
  {
   "cell_type": "markdown",
   "metadata": {},
   "source": [
    "<a id='datasets'></a>"
   ]
  },
  {
   "cell_type": "markdown",
   "metadata": {},
   "source": [
    "# Datasets"
   ]
  },
  {
   "cell_type": "markdown",
   "metadata": {},
   "source": [
    "---\n",
    "- Dataset Name: Inspections\n",
    "- Link to the dataset: inspections.csv\n",
    "- Number of observations: 18466\n",
    "\n",
    "Contains inspections of different restaurants, reporting a score between 0-100 for how well that restaurant passed inspection, also reporting the number of critical violations and number of non critical violations. Also reports the last inspections statistics on critical and non critical violations.\n",
    "\n",
    "---\n",
    "- Dataset Name: Violations\n",
    "- Link to the dataset: violations.csv\n",
    "- Number of observations: 189802\n",
    "\n",
    "Contains violations of different restaurants, including a short description of the violation, whether or not the violation is critical, and the category of the violation.\n",
    "\n",
    "---\n",
    "- Dataset Name: Zip Codes\n",
    "- Link to the dataset: zipcodes.csv\n",
    "- Number of observations: 38\n",
    "\n",
    "Contains economic and demographic data on zip codes, as well as other geographic data that describes a zip code.\n",
    "\n",
    "---\n",
    "- Dataset Name: Restaurants\n",
    "- Link to the dataset: restaurants.csv\n",
    "- Number of observations: 3324\n",
    "\n",
    "Contains geographic data on restaurants that contains longitude and latitude, as well as zip code and city/state.\n",
    "\n",
    "---\n",
    "In order to combine datasets, the inspections, violations, and restaurants datasets contain an `hsisid` value that can easily be used to connect restaurants. Additionally, each restaurant in the restaurants dataset has an associated zip code which can be used to connect it to the zip codes dataset"
   ]
  },
  {
   "cell_type": "markdown",
   "metadata": {},
   "source": [
    "# Setup"
   ]
  },
  {
   "cell_type": "code",
   "execution_count": 715,
   "metadata": {},
   "outputs": [],
   "source": [
    "import os\n",
    "import pandas as pd\n",
    "import numpy as np\n",
    "import matplotlib.pyplot as plt\n",
    "import seaborn as sns"
   ]
  },
  {
   "cell_type": "markdown",
   "metadata": {},
   "source": [
    "<a id='data_cleaning_and_analysis'></a>"
   ]
  },
  {
   "cell_type": "markdown",
   "metadata": {},
   "source": [
    "# Data Cleaning, Data Analysis & Results"
   ]
  },
  {
   "cell_type": "code",
   "execution_count": 716,
   "metadata": {},
   "outputs": [],
   "source": [
    "insp_df = pd.read_csv('data/inspections.csv')\n",
    "viol_df = pd.read_csv('data/violations.csv')\n",
    "yelp_df = pd.read_csv('data/yelp.csv')\n",
    "zip_df = pd.read_csv('data/zipcodes.csv')\n",
    "rest_df = pd.read_csv('data/restaurants.csv')"
   ]
  },
  {
   "cell_type": "markdown",
   "metadata": {},
   "source": [
    "## Restaurant & Inspections Data\n",
    "---\n",
    "First we will try to merge the inspections and geographic restaurant data to get a DataFrame containing restaurant geographic information, and their most recent inspection score\n",
    "\n",
    "---"
   ]
  },
  {
   "cell_type": "code",
   "execution_count": 717,
   "metadata": {},
   "outputs": [
    {
     "data": {
      "text/html": [
       "<div>\n",
       "<style scoped>\n",
       "    .dataframe tbody tr th:only-of-type {\n",
       "        vertical-align: middle;\n",
       "    }\n",
       "\n",
       "    .dataframe tbody tr th {\n",
       "        vertical-align: top;\n",
       "    }\n",
       "\n",
       "    .dataframe thead th {\n",
       "        text-align: right;\n",
       "    }\n",
       "</style>\n",
       "<table border=\"1\" class=\"dataframe\">\n",
       "  <thead>\n",
       "    <tr style=\"text-align: right;\">\n",
       "      <th></th>\n",
       "      <th>hsisid</th>\n",
       "      <th>date</th>\n",
       "      <th>name</th>\n",
       "      <th>address1</th>\n",
       "      <th>address2</th>\n",
       "      <th>city</th>\n",
       "      <th>state</th>\n",
       "      <th>postalcode</th>\n",
       "      <th>phonenumber</th>\n",
       "      <th>restaurantopendate</th>\n",
       "      <th>...</th>\n",
       "      <th>num_non_critical</th>\n",
       "      <th>num_critical_previous</th>\n",
       "      <th>num_non_critical_previous</th>\n",
       "      <th>num_critical_mean_previous</th>\n",
       "      <th>num_non_critical_mean_previous</th>\n",
       "      <th>avg_neighbor_num_critical</th>\n",
       "      <th>avg_neighbor_num_non_critical</th>\n",
       "      <th>top_match</th>\n",
       "      <th>second_match</th>\n",
       "      <th>critical</th>\n",
       "    </tr>\n",
       "  </thead>\n",
       "  <tbody>\n",
       "    <tr>\n",
       "      <th>0</th>\n",
       "      <td>4092013748</td>\n",
       "      <td>2012-09-21T00:00:00Z</td>\n",
       "      <td>Cafe 3000 At Wake Med</td>\n",
       "      <td>3000 New Bern Ave</td>\n",
       "      <td>NaN</td>\n",
       "      <td>raleigh</td>\n",
       "      <td>NC</td>\n",
       "      <td>27610</td>\n",
       "      <td>(919) 350-8047</td>\n",
       "      <td>2002-12-21T00:00:00Z</td>\n",
       "      <td>...</td>\n",
       "      <td>7</td>\n",
       "      <td>NaN</td>\n",
       "      <td>NaN</td>\n",
       "      <td>NaN</td>\n",
       "      <td>NaN</td>\n",
       "      <td>NaN</td>\n",
       "      <td>NaN</td>\n",
       "      <td>NaN</td>\n",
       "      <td>NaN</td>\n",
       "      <td>1</td>\n",
       "    </tr>\n",
       "    <tr>\n",
       "      <th>1</th>\n",
       "      <td>4092014046</td>\n",
       "      <td>2012-09-21T00:00:00Z</td>\n",
       "      <td>Overtime Sports Pub</td>\n",
       "      <td>1030-149 N Rogers Ln</td>\n",
       "      <td>NaN</td>\n",
       "      <td>raleigh</td>\n",
       "      <td>NC</td>\n",
       "      <td>27610</td>\n",
       "      <td>(919) 255-9556</td>\n",
       "      <td>2004-05-04T00:00:00Z</td>\n",
       "      <td>...</td>\n",
       "      <td>11</td>\n",
       "      <td>NaN</td>\n",
       "      <td>NaN</td>\n",
       "      <td>NaN</td>\n",
       "      <td>NaN</td>\n",
       "      <td>NaN</td>\n",
       "      <td>NaN</td>\n",
       "      <td>NaN</td>\n",
       "      <td>NaN</td>\n",
       "      <td>0</td>\n",
       "    </tr>\n",
       "    <tr>\n",
       "      <th>2</th>\n",
       "      <td>4092015191</td>\n",
       "      <td>2012-09-21T00:00:00Z</td>\n",
       "      <td>TASTE OF CHINA</td>\n",
       "      <td>6209 ROCK QUARRY RD</td>\n",
       "      <td>STE 126</td>\n",
       "      <td>raleigh</td>\n",
       "      <td>NC</td>\n",
       "      <td>27610</td>\n",
       "      <td>(919) 773-2285</td>\n",
       "      <td>2008-08-04T00:00:00Z</td>\n",
       "      <td>...</td>\n",
       "      <td>8</td>\n",
       "      <td>NaN</td>\n",
       "      <td>NaN</td>\n",
       "      <td>NaN</td>\n",
       "      <td>NaN</td>\n",
       "      <td>NaN</td>\n",
       "      <td>NaN</td>\n",
       "      <td>NaN</td>\n",
       "      <td>NaN</td>\n",
       "      <td>1</td>\n",
       "    </tr>\n",
       "    <tr>\n",
       "      <th>3</th>\n",
       "      <td>4092016122</td>\n",
       "      <td>2012-09-21T00:00:00Z</td>\n",
       "      <td>Panera Bread #1643</td>\n",
       "      <td>1065 Darrington DR</td>\n",
       "      <td>NaN</td>\n",
       "      <td>cary</td>\n",
       "      <td>NC</td>\n",
       "      <td>27513</td>\n",
       "      <td>NaN</td>\n",
       "      <td>2012-03-28T00:00:00Z</td>\n",
       "      <td>...</td>\n",
       "      <td>3</td>\n",
       "      <td>NaN</td>\n",
       "      <td>NaN</td>\n",
       "      <td>NaN</td>\n",
       "      <td>NaN</td>\n",
       "      <td>NaN</td>\n",
       "      <td>NaN</td>\n",
       "      <td>NaN</td>\n",
       "      <td>NaN</td>\n",
       "      <td>1</td>\n",
       "    </tr>\n",
       "    <tr>\n",
       "      <th>4</th>\n",
       "      <td>4092021513</td>\n",
       "      <td>2012-09-21T00:00:00Z</td>\n",
       "      <td>WalMart Supercenter #4499-00 Deli/Bakery</td>\n",
       "      <td>841 E Gannon AVE</td>\n",
       "      <td>NaN</td>\n",
       "      <td>zebulon</td>\n",
       "      <td>NC</td>\n",
       "      <td>27597</td>\n",
       "      <td>(919) 269-2221 ext. 304</td>\n",
       "      <td>2008-02-25T00:00:00Z</td>\n",
       "      <td>...</td>\n",
       "      <td>4</td>\n",
       "      <td>NaN</td>\n",
       "      <td>NaN</td>\n",
       "      <td>NaN</td>\n",
       "      <td>NaN</td>\n",
       "      <td>NaN</td>\n",
       "      <td>NaN</td>\n",
       "      <td>NaN</td>\n",
       "      <td>NaN</td>\n",
       "      <td>1</td>\n",
       "    </tr>\n",
       "  </tbody>\n",
       "</table>\n",
       "<p>5 rows × 36 columns</p>\n",
       "</div>"
      ],
      "text/plain": [
       "       hsisid                  date                                      name  \\\n",
       "0  4092013748  2012-09-21T00:00:00Z                     Cafe 3000 At Wake Med   \n",
       "1  4092014046  2012-09-21T00:00:00Z                       Overtime Sports Pub   \n",
       "2  4092015191  2012-09-21T00:00:00Z                            TASTE OF CHINA   \n",
       "3  4092016122  2012-09-21T00:00:00Z                        Panera Bread #1643   \n",
       "4  4092021513  2012-09-21T00:00:00Z  WalMart Supercenter #4499-00 Deli/Bakery   \n",
       "\n",
       "               address1 address2     city state postalcode  \\\n",
       "0     3000 New Bern Ave      NaN  raleigh    NC      27610   \n",
       "1  1030-149 N Rogers Ln      NaN  raleigh    NC      27610   \n",
       "2   6209 ROCK QUARRY RD  STE 126  raleigh    NC      27610   \n",
       "3    1065 Darrington DR      NaN     cary    NC      27513   \n",
       "4      841 E Gannon AVE      NaN  zebulon    NC      27597   \n",
       "\n",
       "               phonenumber    restaurantopendate  ...  num_non_critical  \\\n",
       "0           (919) 350-8047  2002-12-21T00:00:00Z  ...                 7   \n",
       "1           (919) 255-9556  2004-05-04T00:00:00Z  ...                11   \n",
       "2           (919) 773-2285  2008-08-04T00:00:00Z  ...                 8   \n",
       "3                      NaN  2012-03-28T00:00:00Z  ...                 3   \n",
       "4  (919) 269-2221 ext. 304  2008-02-25T00:00:00Z  ...                 4   \n",
       "\n",
       "  num_critical_previous  num_non_critical_previous  \\\n",
       "0                   NaN                        NaN   \n",
       "1                   NaN                        NaN   \n",
       "2                   NaN                        NaN   \n",
       "3                   NaN                        NaN   \n",
       "4                   NaN                        NaN   \n",
       "\n",
       "   num_critical_mean_previous num_non_critical_mean_previous  \\\n",
       "0                         NaN                            NaN   \n",
       "1                         NaN                            NaN   \n",
       "2                         NaN                            NaN   \n",
       "3                         NaN                            NaN   \n",
       "4                         NaN                            NaN   \n",
       "\n",
       "   avg_neighbor_num_critical avg_neighbor_num_non_critical top_match  \\\n",
       "0                        NaN                           NaN       NaN   \n",
       "1                        NaN                           NaN       NaN   \n",
       "2                        NaN                           NaN       NaN   \n",
       "3                        NaN                           NaN       NaN   \n",
       "4                        NaN                           NaN       NaN   \n",
       "\n",
       "  second_match  critical  \n",
       "0          NaN         1  \n",
       "1          NaN         0  \n",
       "2          NaN         1  \n",
       "3          NaN         1  \n",
       "4          NaN         1  \n",
       "\n",
       "[5 rows x 36 columns]"
      ]
     },
     "execution_count": 717,
     "metadata": {},
     "output_type": "execute_result"
    }
   ],
   "source": [
    "insp_df.head()"
   ]
  },
  {
   "cell_type": "code",
   "execution_count": 718,
   "metadata": {},
   "outputs": [
    {
     "data": {
      "text/html": [
       "<div>\n",
       "<style scoped>\n",
       "    .dataframe tbody tr th:only-of-type {\n",
       "        vertical-align: middle;\n",
       "    }\n",
       "\n",
       "    .dataframe tbody tr th {\n",
       "        vertical-align: top;\n",
       "    }\n",
       "\n",
       "    .dataframe thead th {\n",
       "        text-align: right;\n",
       "    }\n",
       "</style>\n",
       "<table border=\"1\" class=\"dataframe\">\n",
       "  <thead>\n",
       "    <tr style=\"text-align: right;\">\n",
       "      <th></th>\n",
       "      <th>X.objectid</th>\n",
       "      <th>hsisid</th>\n",
       "      <th>name</th>\n",
       "      <th>address1</th>\n",
       "      <th>address2</th>\n",
       "      <th>city</th>\n",
       "      <th>state</th>\n",
       "      <th>postalcode</th>\n",
       "      <th>phonenumber</th>\n",
       "      <th>restaurantopendate</th>\n",
       "      <th>facilitytype</th>\n",
       "      <th>x</th>\n",
       "      <th>y</th>\n",
       "      <th>geocodestatus</th>\n",
       "    </tr>\n",
       "  </thead>\n",
       "  <tbody>\n",
       "    <tr>\n",
       "      <th>0</th>\n",
       "      <td>1001</td>\n",
       "      <td>4092017230</td>\n",
       "      <td>SPRING CAFE 2</td>\n",
       "      <td>2900-104 SPRING FOREST RD</td>\n",
       "      <td>NaN</td>\n",
       "      <td>RALEIGH</td>\n",
       "      <td>NC</td>\n",
       "      <td>27616-1895</td>\n",
       "      <td>(919) 977-3679</td>\n",
       "      <td>2016-05-26T00:00:00.000Z</td>\n",
       "      <td>Restaurant</td>\n",
       "      <td>-78.591634</td>\n",
       "      <td>35.855487</td>\n",
       "      <td>M</td>\n",
       "    </tr>\n",
       "    <tr>\n",
       "      <th>1</th>\n",
       "      <td>1002</td>\n",
       "      <td>4092040338</td>\n",
       "      <td>CAROLINA CLASSIC HOT DOGS #2 (WCID #549)</td>\n",
       "      <td>309 HOLLOMAN ST</td>\n",
       "      <td>NaN</td>\n",
       "      <td>APEX</td>\n",
       "      <td>NC</td>\n",
       "      <td>27502</td>\n",
       "      <td>NaN</td>\n",
       "      <td>2016-07-01T00:00:00.000Z</td>\n",
       "      <td>Pushcarts</td>\n",
       "      <td>-78.855348</td>\n",
       "      <td>35.730219</td>\n",
       "      <td>M</td>\n",
       "    </tr>\n",
       "    <tr>\n",
       "      <th>2</th>\n",
       "      <td>1003</td>\n",
       "      <td>4092014444</td>\n",
       "      <td>Taco Bell #22798</td>\n",
       "      <td>2207 S MAIN ST</td>\n",
       "      <td>NaN</td>\n",
       "      <td>WAKE FOREST</td>\n",
       "      <td>NC</td>\n",
       "      <td>27587</td>\n",
       "      <td>(919) 554-4924</td>\n",
       "      <td>2005-12-05T00:00:00.000Z</td>\n",
       "      <td>Restaurant</td>\n",
       "      <td>-78.536145</td>\n",
       "      <td>35.946695</td>\n",
       "      <td>M</td>\n",
       "    </tr>\n",
       "    <tr>\n",
       "      <th>3</th>\n",
       "      <td>1004</td>\n",
       "      <td>4092015333</td>\n",
       "      <td>THE REMEDY DINER</td>\n",
       "      <td>137 E HARGETT ST</td>\n",
       "      <td>NaN</td>\n",
       "      <td>RALEIGH</td>\n",
       "      <td>NC</td>\n",
       "      <td>27601</td>\n",
       "      <td>(919) 835-3553</td>\n",
       "      <td>2009-02-04T00:00:00.000Z</td>\n",
       "      <td>Restaurant</td>\n",
       "      <td>-78.636895</td>\n",
       "      <td>35.777999</td>\n",
       "      <td>M</td>\n",
       "    </tr>\n",
       "    <tr>\n",
       "      <th>4</th>\n",
       "      <td>1005</td>\n",
       "      <td>4092160069</td>\n",
       "      <td>ZEBULON HOUSE (KITCHEN)</td>\n",
       "      <td>551 PONY RD</td>\n",
       "      <td>NaN</td>\n",
       "      <td>ZEBULON</td>\n",
       "      <td>NC</td>\n",
       "      <td>27597</td>\n",
       "      <td>NaN</td>\n",
       "      <td>2009-02-18T00:00:00.000Z</td>\n",
       "      <td>Institutional Food Service</td>\n",
       "      <td>-78.332138</td>\n",
       "      <td>35.816779</td>\n",
       "      <td>M</td>\n",
       "    </tr>\n",
       "  </tbody>\n",
       "</table>\n",
       "</div>"
      ],
      "text/plain": [
       "   X.objectid      hsisid                                      name  \\\n",
       "0        1001  4092017230                             SPRING CAFE 2   \n",
       "1        1002  4092040338  CAROLINA CLASSIC HOT DOGS #2 (WCID #549)   \n",
       "2        1003  4092014444                          Taco Bell #22798   \n",
       "3        1004  4092015333                          THE REMEDY DINER   \n",
       "4        1005  4092160069                   ZEBULON HOUSE (KITCHEN)   \n",
       "\n",
       "                     address1 address2         city state  postalcode  \\\n",
       "0  2900-104 SPRING FOREST RD       NaN      RALEIGH    NC  27616-1895   \n",
       "1            309 HOLLOMAN ST       NaN         APEX    NC       27502   \n",
       "2             2207 S MAIN ST       NaN  WAKE FOREST    NC       27587   \n",
       "3           137 E HARGETT ST       NaN      RALEIGH    NC       27601   \n",
       "4                551 PONY RD       NaN      ZEBULON    NC       27597   \n",
       "\n",
       "      phonenumber        restaurantopendate                facilitytype  \\\n",
       "0  (919) 977-3679  2016-05-26T00:00:00.000Z                  Restaurant   \n",
       "1             NaN  2016-07-01T00:00:00.000Z                   Pushcarts   \n",
       "2  (919) 554-4924  2005-12-05T00:00:00.000Z                  Restaurant   \n",
       "3  (919) 835-3553  2009-02-04T00:00:00.000Z                  Restaurant   \n",
       "4             NaN  2009-02-18T00:00:00.000Z  Institutional Food Service   \n",
       "\n",
       "           x          y geocodestatus  \n",
       "0 -78.591634  35.855487             M  \n",
       "1 -78.855348  35.730219             M  \n",
       "2 -78.536145  35.946695             M  \n",
       "3 -78.636895  35.777999             M  \n",
       "4 -78.332138  35.816779             M  "
      ]
     },
     "execution_count": 718,
     "metadata": {},
     "output_type": "execute_result"
    }
   ],
   "source": [
    "rest_df.head()"
   ]
  },
  {
   "cell_type": "markdown",
   "metadata": {},
   "source": [
    "---\n",
    "First, let's clean the zip codes so they are all 5 digit integers\n",
    "\n",
    "---"
   ]
  },
  {
   "cell_type": "code",
   "execution_count": 719,
   "metadata": {},
   "outputs": [],
   "source": [
    "insp_df['postalcode'] = insp_df['postalcode'].apply(lambda x: int(x[:5]))\n",
    "rest_df['postalcode'] = rest_df['postalcode'].apply(lambda x: int(x[:5]))"
   ]
  },
  {
   "cell_type": "markdown",
   "metadata": {},
   "source": [
    "---\n",
    "Now let's merge inspection and restaurant geographic data, and only show the most recent inspection for each restaurant\n",
    "\n",
    "---"
   ]
  },
  {
   "cell_type": "code",
   "execution_count": 720,
   "metadata": {
    "scrolled": false
   },
   "outputs": [
    {
     "data": {
      "text/html": [
       "<div>\n",
       "<style scoped>\n",
       "    .dataframe tbody tr th:only-of-type {\n",
       "        vertical-align: middle;\n",
       "    }\n",
       "\n",
       "    .dataframe tbody tr th {\n",
       "        vertical-align: top;\n",
       "    }\n",
       "\n",
       "    .dataframe thead th {\n",
       "        text-align: right;\n",
       "    }\n",
       "</style>\n",
       "<table border=\"1\" class=\"dataframe\">\n",
       "  <thead>\n",
       "    <tr style=\"text-align: right;\">\n",
       "      <th></th>\n",
       "      <th>hsisid</th>\n",
       "      <th>postalcode</th>\n",
       "      <th>num_critical</th>\n",
       "      <th>num_non_critical</th>\n",
       "      <th>score</th>\n",
       "      <th>date</th>\n",
       "      <th>address1</th>\n",
       "      <th>x</th>\n",
       "      <th>y</th>\n",
       "    </tr>\n",
       "  </thead>\n",
       "  <tbody>\n",
       "    <tr>\n",
       "      <th>0</th>\n",
       "      <td>4092013748</td>\n",
       "      <td>27610</td>\n",
       "      <td>9</td>\n",
       "      <td>7</td>\n",
       "      <td>96.0</td>\n",
       "      <td>2012-09-21 00:00:00+00:00</td>\n",
       "      <td>3000 New Bern Ave</td>\n",
       "      <td>-78.587963</td>\n",
       "      <td>35.783914</td>\n",
       "    </tr>\n",
       "    <tr>\n",
       "      <th>1</th>\n",
       "      <td>4092014046</td>\n",
       "      <td>27610</td>\n",
       "      <td>0</td>\n",
       "      <td>11</td>\n",
       "      <td>98.0</td>\n",
       "      <td>2012-09-21 00:00:00+00:00</td>\n",
       "      <td>1030-149 N Rogers Ln</td>\n",
       "      <td>-78.549673</td>\n",
       "      <td>35.791986</td>\n",
       "    </tr>\n",
       "    <tr>\n",
       "      <th>2</th>\n",
       "      <td>4092015191</td>\n",
       "      <td>27610</td>\n",
       "      <td>4</td>\n",
       "      <td>8</td>\n",
       "      <td>97.0</td>\n",
       "      <td>2012-09-21 00:00:00+00:00</td>\n",
       "      <td>6209 ROCK QUARRY RD</td>\n",
       "      <td>-78.547960</td>\n",
       "      <td>35.723125</td>\n",
       "    </tr>\n",
       "    <tr>\n",
       "      <th>3</th>\n",
       "      <td>4092016122</td>\n",
       "      <td>27513</td>\n",
       "      <td>2</td>\n",
       "      <td>3</td>\n",
       "      <td>99.0</td>\n",
       "      <td>2012-09-21 00:00:00+00:00</td>\n",
       "      <td>1065 Darrington DR</td>\n",
       "      <td>-78.815727</td>\n",
       "      <td>35.799249</td>\n",
       "    </tr>\n",
       "    <tr>\n",
       "      <th>4</th>\n",
       "      <td>4092021513</td>\n",
       "      <td>27597</td>\n",
       "      <td>2</td>\n",
       "      <td>4</td>\n",
       "      <td>97.0</td>\n",
       "      <td>2012-09-21 00:00:00+00:00</td>\n",
       "      <td>841 E Gannon AVE</td>\n",
       "      <td>-78.296347</td>\n",
       "      <td>35.831285</td>\n",
       "    </tr>\n",
       "    <tr>\n",
       "      <th>...</th>\n",
       "      <td>...</td>\n",
       "      <td>...</td>\n",
       "      <td>...</td>\n",
       "      <td>...</td>\n",
       "      <td>...</td>\n",
       "      <td>...</td>\n",
       "      <td>...</td>\n",
       "      <td>...</td>\n",
       "      <td>...</td>\n",
       "    </tr>\n",
       "    <tr>\n",
       "      <th>3040</th>\n",
       "      <td>4092017300</td>\n",
       "      <td>27560</td>\n",
       "      <td>3</td>\n",
       "      <td>1</td>\n",
       "      <td>97.0</td>\n",
       "      <td>2016-10-26 00:00:00+00:00</td>\n",
       "      <td>4023 Davis DR</td>\n",
       "      <td>-78.857016</td>\n",
       "      <td>35.838150</td>\n",
       "    </tr>\n",
       "    <tr>\n",
       "      <th>3041</th>\n",
       "      <td>4092017343</td>\n",
       "      <td>27587</td>\n",
       "      <td>1</td>\n",
       "      <td>3</td>\n",
       "      <td>99.0</td>\n",
       "      <td>2016-10-26 00:00:00+00:00</td>\n",
       "      <td>12401 WAKE UNION CHURCH RD</td>\n",
       "      <td>-78.539619</td>\n",
       "      <td>35.984189</td>\n",
       "    </tr>\n",
       "    <tr>\n",
       "      <th>3042</th>\n",
       "      <td>4092017285</td>\n",
       "      <td>27560</td>\n",
       "      <td>3</td>\n",
       "      <td>4</td>\n",
       "      <td>95.0</td>\n",
       "      <td>2016-10-28 00:00:00+00:00</td>\n",
       "      <td>10285 Chapel Hill  RD</td>\n",
       "      <td>-78.827880</td>\n",
       "      <td>35.830126</td>\n",
       "    </tr>\n",
       "    <tr>\n",
       "      <th>3043</th>\n",
       "      <td>4092021984</td>\n",
       "      <td>27616</td>\n",
       "      <td>10</td>\n",
       "      <td>12</td>\n",
       "      <td>93.0</td>\n",
       "      <td>2016-10-31 00:00:00+00:00</td>\n",
       "      <td>5959-1100 TRIANGLE TOWN BLVD</td>\n",
       "      <td>-78.571592</td>\n",
       "      <td>35.865463</td>\n",
       "    </tr>\n",
       "    <tr>\n",
       "      <th>3044</th>\n",
       "      <td>4092017278</td>\n",
       "      <td>27502</td>\n",
       "      <td>5</td>\n",
       "      <td>2</td>\n",
       "      <td>97.0</td>\n",
       "      <td>2016-11-01 00:00:00+00:00</td>\n",
       "      <td>790 W Williams ST</td>\n",
       "      <td>-78.864231</td>\n",
       "      <td>35.738363</td>\n",
       "    </tr>\n",
       "  </tbody>\n",
       "</table>\n",
       "<p>3045 rows × 9 columns</p>\n",
       "</div>"
      ],
      "text/plain": [
       "          hsisid  postalcode  num_critical  num_non_critical  score  \\\n",
       "0     4092013748       27610             9                 7   96.0   \n",
       "1     4092014046       27610             0                11   98.0   \n",
       "2     4092015191       27610             4                 8   97.0   \n",
       "3     4092016122       27513             2                 3   99.0   \n",
       "4     4092021513       27597             2                 4   97.0   \n",
       "...          ...         ...           ...               ...    ...   \n",
       "3040  4092017300       27560             3                 1   97.0   \n",
       "3041  4092017343       27587             1                 3   99.0   \n",
       "3042  4092017285       27560             3                 4   95.0   \n",
       "3043  4092021984       27616            10                12   93.0   \n",
       "3044  4092017278       27502             5                 2   97.0   \n",
       "\n",
       "                          date                       address1          x  \\\n",
       "0    2012-09-21 00:00:00+00:00              3000 New Bern Ave -78.587963   \n",
       "1    2012-09-21 00:00:00+00:00          1030-149 N Rogers Ln  -78.549673   \n",
       "2    2012-09-21 00:00:00+00:00           6209 ROCK QUARRY RD  -78.547960   \n",
       "3    2012-09-21 00:00:00+00:00            1065 Darrington DR  -78.815727   \n",
       "4    2012-09-21 00:00:00+00:00              841 E Gannon AVE  -78.296347   \n",
       "...                        ...                            ...        ...   \n",
       "3040 2016-10-26 00:00:00+00:00                 4023 Davis DR  -78.857016   \n",
       "3041 2016-10-26 00:00:00+00:00    12401 WAKE UNION CHURCH RD  -78.539619   \n",
       "3042 2016-10-28 00:00:00+00:00         10285 Chapel Hill  RD  -78.827880   \n",
       "3043 2016-10-31 00:00:00+00:00  5959-1100 TRIANGLE TOWN BLVD  -78.571592   \n",
       "3044 2016-11-01 00:00:00+00:00             790 W Williams ST  -78.864231   \n",
       "\n",
       "              y  \n",
       "0     35.783914  \n",
       "1     35.791986  \n",
       "2     35.723125  \n",
       "3     35.799249  \n",
       "4     35.831285  \n",
       "...         ...  \n",
       "3040  35.838150  \n",
       "3041  35.984189  \n",
       "3042  35.830126  \n",
       "3043  35.865463  \n",
       "3044  35.738363  \n",
       "\n",
       "[3045 rows x 9 columns]"
      ]
     },
     "execution_count": 720,
     "metadata": {},
     "output_type": "execute_result"
    }
   ],
   "source": [
    "data = (insp_df[['hsisid', 'postalcode', 'num_critical', 'num_non_critical', 'score', 'date']]\n",
    "        .merge(rest_df[['hsisid', 'address1', 'x', 'y']], on='hsisid'))\n",
    "data['date'] = pd.to_datetime(data['date'])\n",
    "data = data.sort_values(by=['date', 'hsisid']).drop_duplicates(subset='hsisid').reset_index(drop=True).dropna()\n",
    "data"
   ]
  },
  {
   "cell_type": "markdown",
   "metadata": {},
   "source": [
    "---\n",
    "Now let's explore the columns to make sure they don't contain 0's or -1's meant to represent missing data\n",
    "\n",
    "---"
   ]
  },
  {
   "cell_type": "code",
   "execution_count": 721,
   "metadata": {},
   "outputs": [
    {
     "data": {
      "text/plain": [
       "<matplotlib.axes._subplots.AxesSubplot at 0x7f9560ec4fd0>"
      ]
     },
     "execution_count": 721,
     "metadata": {},
     "output_type": "execute_result"
    },
    {
     "data": {
      "image/png": "[encoded data removed]",
      "text/plain": [
       "<Figure size 432x288 with 1 Axes>"
      ]
     },
     "metadata": {
      "needs_background": "light"
     },
     "output_type": "display_data"
    }
   ],
   "source": [
    "sns.kdeplot(data.postalcode)"
   ]
  },
  {
   "cell_type": "code",
   "execution_count": 722,
   "metadata": {},
   "outputs": [
    {
     "data": {
      "text/plain": [
       "<matplotlib.axes._subplots.AxesSubplot at 0x7f948c999b38>"
      ]
     },
     "execution_count": 722,
     "metadata": {},
     "output_type": "execute_result"
    },
    {
     "data": {
      "image/png": "[encoded data removed]",
      "text/plain": [
       "<Figure size 432x288 with 1 Axes>"
      ]
     },
     "metadata": {
      "needs_background": "light"
     },
     "output_type": "display_data"
    }
   ],
   "source": [
    "sns.kdeplot(data.score)"
   ]
  },
  {
   "cell_type": "code",
   "execution_count": 723,
   "metadata": {},
   "outputs": [
    {
     "data": {
      "text/plain": [
       "<matplotlib.axes._subplots.AxesSubplot at 0x7f948efccfd0>"
      ]
     },
     "execution_count": 723,
     "metadata": {},
     "output_type": "execute_result"
    },
    {
     "data": {
      "image/png": "[encoded data removed]",
      "text/plain": [
       "<Figure size 432x288 with 1 Axes>"
      ]
     },
     "metadata": {
      "needs_background": "light"
     },
     "output_type": "display_data"
    }
   ],
   "source": [
    "sns.kdeplot(data.x)"
   ]
  },
  {
   "cell_type": "code",
   "execution_count": 724,
   "metadata": {},
   "outputs": [
    {
     "data": {
      "text/plain": [
       "<matplotlib.axes._subplots.AxesSubplot at 0x7f948efcc160>"
      ]
     },
     "execution_count": 724,
     "metadata": {},
     "output_type": "execute_result"
    },
    {
     "data": {
      "image/png": "[encoded data removed]",
      "text/plain": [
       "<Figure size 432x288 with 1 Axes>"
      ]
     },
     "metadata": {
      "needs_background": "light"
     },
     "output_type": "display_data"
    }
   ],
   "source": [
    "sns.kdeplot(data.y)"
   ]
  },
  {
   "cell_type": "markdown",
   "metadata": {},
   "source": [
    "---\n",
    "Hmmm, looks like the X and Y values are longitude and latitude, let's see if we can convert those to miles to make it easier to compare distance in terms of miles\n",
    "\n",
    "---"
   ]
  },
  {
   "cell_type": "code",
   "execution_count": 725,
   "metadata": {},
   "outputs": [],
   "source": [
    "data['x'] = data['x'].apply(lambda x: x * 69)\n",
    "data['y'] = data['y'].apply(lambda x: x * 60)"
   ]
  },
  {
   "cell_type": "markdown",
   "metadata": {},
   "source": [
    "---\n",
    "Let's also subtract the minimum value so that the locations for x and y start at (0, 0)\n",
    "\n",
    "---"
   ]
  },
  {
   "cell_type": "code",
   "execution_count": 726,
   "metadata": {},
   "outputs": [],
   "source": [
    "data['x'] = data['x'] - data['x'].min()\n",
    "data['y'] = data['y'] - data['y'].min()"
   ]
  },
  {
   "cell_type": "code",
   "execution_count": 727,
   "metadata": {},
   "outputs": [
    {
     "data": {
      "text/html": [
       "<div>\n",
       "<style scoped>\n",
       "    .dataframe tbody tr th:only-of-type {\n",
       "        vertical-align: middle;\n",
       "    }\n",
       "\n",
       "    .dataframe tbody tr th {\n",
       "        vertical-align: top;\n",
       "    }\n",
       "\n",
       "    .dataframe thead th {\n",
       "        text-align: right;\n",
       "    }\n",
       "</style>\n",
       "<table border=\"1\" class=\"dataframe\">\n",
       "  <thead>\n",
       "    <tr style=\"text-align: right;\">\n",
       "      <th></th>\n",
       "      <th>hsisid</th>\n",
       "      <th>postalcode</th>\n",
       "      <th>num_critical</th>\n",
       "      <th>num_non_critical</th>\n",
       "      <th>score</th>\n",
       "      <th>date</th>\n",
       "      <th>address1</th>\n",
       "      <th>x</th>\n",
       "      <th>y</th>\n",
       "    </tr>\n",
       "  </thead>\n",
       "  <tbody>\n",
       "    <tr>\n",
       "      <th>0</th>\n",
       "      <td>4092013748</td>\n",
       "      <td>27610</td>\n",
       "      <td>9</td>\n",
       "      <td>7</td>\n",
       "      <td>96.0</td>\n",
       "      <td>2012-09-21 00:00:00+00:00</td>\n",
       "      <td>3000 New Bern Ave</td>\n",
       "      <td>24.427587</td>\n",
       "      <td>14.66184</td>\n",
       "    </tr>\n",
       "    <tr>\n",
       "      <th>1</th>\n",
       "      <td>4092014046</td>\n",
       "      <td>27610</td>\n",
       "      <td>0</td>\n",
       "      <td>11</td>\n",
       "      <td>98.0</td>\n",
       "      <td>2012-09-21 00:00:00+00:00</td>\n",
       "      <td>1030-149 N Rogers Ln</td>\n",
       "      <td>27.069597</td>\n",
       "      <td>15.14616</td>\n",
       "    </tr>\n",
       "    <tr>\n",
       "      <th>2</th>\n",
       "      <td>4092015191</td>\n",
       "      <td>27610</td>\n",
       "      <td>4</td>\n",
       "      <td>8</td>\n",
       "      <td>97.0</td>\n",
       "      <td>2012-09-21 00:00:00+00:00</td>\n",
       "      <td>6209 ROCK QUARRY RD</td>\n",
       "      <td>27.187794</td>\n",
       "      <td>11.01450</td>\n",
       "    </tr>\n",
       "    <tr>\n",
       "      <th>3</th>\n",
       "      <td>4092016122</td>\n",
       "      <td>27513</td>\n",
       "      <td>2</td>\n",
       "      <td>3</td>\n",
       "      <td>99.0</td>\n",
       "      <td>2012-09-21 00:00:00+00:00</td>\n",
       "      <td>1065 Darrington DR</td>\n",
       "      <td>8.711871</td>\n",
       "      <td>15.58194</td>\n",
       "    </tr>\n",
       "    <tr>\n",
       "      <th>4</th>\n",
       "      <td>4092021513</td>\n",
       "      <td>27597</td>\n",
       "      <td>2</td>\n",
       "      <td>4</td>\n",
       "      <td>97.0</td>\n",
       "      <td>2012-09-21 00:00:00+00:00</td>\n",
       "      <td>841 E Gannon AVE</td>\n",
       "      <td>44.549091</td>\n",
       "      <td>17.50410</td>\n",
       "    </tr>\n",
       "    <tr>\n",
       "      <th>...</th>\n",
       "      <td>...</td>\n",
       "      <td>...</td>\n",
       "      <td>...</td>\n",
       "      <td>...</td>\n",
       "      <td>...</td>\n",
       "      <td>...</td>\n",
       "      <td>...</td>\n",
       "      <td>...</td>\n",
       "      <td>...</td>\n",
       "    </tr>\n",
       "    <tr>\n",
       "      <th>3040</th>\n",
       "      <td>4092017300</td>\n",
       "      <td>27560</td>\n",
       "      <td>3</td>\n",
       "      <td>1</td>\n",
       "      <td>97.0</td>\n",
       "      <td>2016-10-26 00:00:00+00:00</td>\n",
       "      <td>4023 Davis DR</td>\n",
       "      <td>5.862930</td>\n",
       "      <td>17.91600</td>\n",
       "    </tr>\n",
       "    <tr>\n",
       "      <th>3041</th>\n",
       "      <td>4092017343</td>\n",
       "      <td>27587</td>\n",
       "      <td>1</td>\n",
       "      <td>3</td>\n",
       "      <td>99.0</td>\n",
       "      <td>2016-10-26 00:00:00+00:00</td>\n",
       "      <td>12401 WAKE UNION CHURCH RD</td>\n",
       "      <td>27.763323</td>\n",
       "      <td>26.67834</td>\n",
       "    </tr>\n",
       "    <tr>\n",
       "      <th>3042</th>\n",
       "      <td>4092017285</td>\n",
       "      <td>27560</td>\n",
       "      <td>3</td>\n",
       "      <td>4</td>\n",
       "      <td>95.0</td>\n",
       "      <td>2016-10-28 00:00:00+00:00</td>\n",
       "      <td>10285 Chapel Hill  RD</td>\n",
       "      <td>7.873314</td>\n",
       "      <td>17.43456</td>\n",
       "    </tr>\n",
       "    <tr>\n",
       "      <th>3043</th>\n",
       "      <td>4092021984</td>\n",
       "      <td>27616</td>\n",
       "      <td>10</td>\n",
       "      <td>12</td>\n",
       "      <td>93.0</td>\n",
       "      <td>2016-10-31 00:00:00+00:00</td>\n",
       "      <td>5959-1100 TRIANGLE TOWN BLVD</td>\n",
       "      <td>25.557186</td>\n",
       "      <td>19.55478</td>\n",
       "    </tr>\n",
       "    <tr>\n",
       "      <th>3044</th>\n",
       "      <td>4092017278</td>\n",
       "      <td>27502</td>\n",
       "      <td>5</td>\n",
       "      <td>2</td>\n",
       "      <td>97.0</td>\n",
       "      <td>2016-11-01 00:00:00+00:00</td>\n",
       "      <td>790 W Williams ST</td>\n",
       "      <td>5.365095</td>\n",
       "      <td>11.92878</td>\n",
       "    </tr>\n",
       "  </tbody>\n",
       "</table>\n",
       "<p>3045 rows × 9 columns</p>\n",
       "</div>"
      ],
      "text/plain": [
       "          hsisid  postalcode  num_critical  num_non_critical  score  \\\n",
       "0     4092013748       27610             9                 7   96.0   \n",
       "1     4092014046       27610             0                11   98.0   \n",
       "2     4092015191       27610             4                 8   97.0   \n",
       "3     4092016122       27513             2                 3   99.0   \n",
       "4     4092021513       27597             2                 4   97.0   \n",
       "...          ...         ...           ...               ...    ...   \n",
       "3040  4092017300       27560             3                 1   97.0   \n",
       "3041  4092017343       27587             1                 3   99.0   \n",
       "3042  4092017285       27560             3                 4   95.0   \n",
       "3043  4092021984       27616            10                12   93.0   \n",
       "3044  4092017278       27502             5                 2   97.0   \n",
       "\n",
       "                          date                       address1          x  \\\n",
       "0    2012-09-21 00:00:00+00:00              3000 New Bern Ave  24.427587   \n",
       "1    2012-09-21 00:00:00+00:00          1030-149 N Rogers Ln   27.069597   \n",
       "2    2012-09-21 00:00:00+00:00           6209 ROCK QUARRY RD   27.187794   \n",
       "3    2012-09-21 00:00:00+00:00            1065 Darrington DR    8.711871   \n",
       "4    2012-09-21 00:00:00+00:00              841 E Gannon AVE   44.549091   \n",
       "...                        ...                            ...        ...   \n",
       "3040 2016-10-26 00:00:00+00:00                 4023 Davis DR    5.862930   \n",
       "3041 2016-10-26 00:00:00+00:00    12401 WAKE UNION CHURCH RD   27.763323   \n",
       "3042 2016-10-28 00:00:00+00:00         10285 Chapel Hill  RD    7.873314   \n",
       "3043 2016-10-31 00:00:00+00:00  5959-1100 TRIANGLE TOWN BLVD   25.557186   \n",
       "3044 2016-11-01 00:00:00+00:00             790 W Williams ST    5.365095   \n",
       "\n",
       "             y  \n",
       "0     14.66184  \n",
       "1     15.14616  \n",
       "2     11.01450  \n",
       "3     15.58194  \n",
       "4     17.50410  \n",
       "...        ...  \n",
       "3040  17.91600  \n",
       "3041  26.67834  \n",
       "3042  17.43456  \n",
       "3043  19.55478  \n",
       "3044  11.92878  \n",
       "\n",
       "[3045 rows x 9 columns]"
      ]
     },
     "execution_count": 727,
     "metadata": {},
     "output_type": "execute_result"
    }
   ],
   "source": [
    "data"
   ]
  },
  {
   "cell_type": "markdown",
   "metadata": {},
   "source": [
    "---\n",
    "Ok, now that we've got geographic data and scores, as well as critical and non-critical violations, let's explore how the geographic data and scores are distributed\n",
    "\n",
    "---"
   ]
  },
  {
   "cell_type": "code",
   "execution_count": 728,
   "metadata": {},
   "outputs": [
    {
     "data": {
      "text/plain": [
       "<matplotlib.axes._subplots.AxesSubplot at 0x7f9548e281d0>"
      ]
     },
     "execution_count": 728,
     "metadata": {},
     "output_type": "execute_result"
    },
    {
     "data": {
      "image/png": "[encoded data removed]",
      "text/plain": [
       "<Figure size 432x288 with 1 Axes>"
      ]
     },
     "metadata": {
      "needs_background": "light"
     },
     "output_type": "display_data"
    }
   ],
   "source": [
    "sns.scatterplot(data['x'], data['y'])"
   ]
  },
  {
   "cell_type": "markdown",
   "metadata": {},
   "source": [
    "---\n",
    "Above, each point represents a restaurant, with the x and y being the restaurant's coordinates\n",
    "<br>\n",
    "So, there's clearly a few outliers that are not close to other restaurants, so even if there is a correlation between geographic area and inspection score, KNN will probably do poorly on those\n",
    "\n",
    "---"
   ]
  },
  {
   "cell_type": "code",
   "execution_count": 729,
   "metadata": {},
   "outputs": [
    {
     "data": {
      "text/plain": [
       "<matplotlib.axes._subplots.AxesSubplot at 0x7f948fc9c6d8>"
      ]
     },
     "execution_count": 729,
     "metadata": {},
     "output_type": "execute_result"
    },
    {
     "data": {
      "image/png": "[encoded data removed]",
      "text/plain": [
       "<Figure size 432x288 with 1 Axes>"
      ]
     },
     "metadata": {
      "needs_background": "light"
     },
     "output_type": "display_data"
    }
   ],
   "source": [
    "sns.kdeplot(data['x'], data['y'])"
   ]
  },
  {
   "cell_type": "markdown",
   "metadata": {},
   "source": [
    "---\n",
    "This plot shows density of restaurants, and if you compare it to the below map of Wade County (NC) below, you can see more developed areas, especially Raleigh (NC's capital) tend to have more restaurants\n",
    "\n",
    "---\n",
    "\n",
    "<img src=\"https://i.pinimg.com/originals/4c/97/d9/4c97d942a59757d69c712bd55ee31e3b.jpg\" alt=\"Wade_County_Map\" align=\"left\" style=\"width: 400px;\"/>\n",
    "\n",
    "<br>\n",
    "Source: https://www.pinterest.com/pin/434315957808167052/"
   ]
  },
  {
   "cell_type": "markdown",
   "metadata": {},
   "source": [
    "<a id='inspection_score_prediction'></a>"
   ]
  },
  {
   "cell_type": "markdown",
   "metadata": {},
   "source": [
    "---\n",
    "## Inspection Score Prediction\n",
    "Let's try to build a classifier using K nearest neighbors to classify health inspection score (KNN makes sense because this is geographical data, and directly answers the proposed question)\n",
    "\n",
    "---"
   ]
  },
  {
   "cell_type": "code",
   "execution_count": 730,
   "metadata": {},
   "outputs": [
    {
     "data": {
      "text/html": [
       "<div>\n",
       "<style scoped>\n",
       "    .dataframe tbody tr th:only-of-type {\n",
       "        vertical-align: middle;\n",
       "    }\n",
       "\n",
       "    .dataframe tbody tr th {\n",
       "        vertical-align: top;\n",
       "    }\n",
       "\n",
       "    .dataframe thead th {\n",
       "        text-align: right;\n",
       "    }\n",
       "</style>\n",
       "<table border=\"1\" class=\"dataframe\">\n",
       "  <thead>\n",
       "    <tr style=\"text-align: right;\">\n",
       "      <th></th>\n",
       "      <th>hsisid</th>\n",
       "      <th>postalcode</th>\n",
       "      <th>num_critical</th>\n",
       "      <th>num_non_critical</th>\n",
       "      <th>score</th>\n",
       "      <th>date</th>\n",
       "      <th>address1</th>\n",
       "      <th>x</th>\n",
       "      <th>y</th>\n",
       "    </tr>\n",
       "  </thead>\n",
       "  <tbody>\n",
       "    <tr>\n",
       "      <th>0</th>\n",
       "      <td>4092013748</td>\n",
       "      <td>27610</td>\n",
       "      <td>9</td>\n",
       "      <td>7</td>\n",
       "      <td>96.0</td>\n",
       "      <td>2012-09-21 00:00:00+00:00</td>\n",
       "      <td>3000 New Bern Ave</td>\n",
       "      <td>24.427587</td>\n",
       "      <td>14.66184</td>\n",
       "    </tr>\n",
       "    <tr>\n",
       "      <th>1</th>\n",
       "      <td>4092014046</td>\n",
       "      <td>27610</td>\n",
       "      <td>0</td>\n",
       "      <td>11</td>\n",
       "      <td>98.0</td>\n",
       "      <td>2012-09-21 00:00:00+00:00</td>\n",
       "      <td>1030-149 N Rogers Ln</td>\n",
       "      <td>27.069597</td>\n",
       "      <td>15.14616</td>\n",
       "    </tr>\n",
       "    <tr>\n",
       "      <th>2</th>\n",
       "      <td>4092015191</td>\n",
       "      <td>27610</td>\n",
       "      <td>4</td>\n",
       "      <td>8</td>\n",
       "      <td>97.0</td>\n",
       "      <td>2012-09-21 00:00:00+00:00</td>\n",
       "      <td>6209 ROCK QUARRY RD</td>\n",
       "      <td>27.187794</td>\n",
       "      <td>11.01450</td>\n",
       "    </tr>\n",
       "    <tr>\n",
       "      <th>3</th>\n",
       "      <td>4092016122</td>\n",
       "      <td>27513</td>\n",
       "      <td>2</td>\n",
       "      <td>3</td>\n",
       "      <td>99.0</td>\n",
       "      <td>2012-09-21 00:00:00+00:00</td>\n",
       "      <td>1065 Darrington DR</td>\n",
       "      <td>8.711871</td>\n",
       "      <td>15.58194</td>\n",
       "    </tr>\n",
       "    <tr>\n",
       "      <th>4</th>\n",
       "      <td>4092021513</td>\n",
       "      <td>27597</td>\n",
       "      <td>2</td>\n",
       "      <td>4</td>\n",
       "      <td>97.0</td>\n",
       "      <td>2012-09-21 00:00:00+00:00</td>\n",
       "      <td>841 E Gannon AVE</td>\n",
       "      <td>44.549091</td>\n",
       "      <td>17.50410</td>\n",
       "    </tr>\n",
       "    <tr>\n",
       "      <th>...</th>\n",
       "      <td>...</td>\n",
       "      <td>...</td>\n",
       "      <td>...</td>\n",
       "      <td>...</td>\n",
       "      <td>...</td>\n",
       "      <td>...</td>\n",
       "      <td>...</td>\n",
       "      <td>...</td>\n",
       "      <td>...</td>\n",
       "    </tr>\n",
       "    <tr>\n",
       "      <th>3040</th>\n",
       "      <td>4092017300</td>\n",
       "      <td>27560</td>\n",
       "      <td>3</td>\n",
       "      <td>1</td>\n",
       "      <td>97.0</td>\n",
       "      <td>2016-10-26 00:00:00+00:00</td>\n",
       "      <td>4023 Davis DR</td>\n",
       "      <td>5.862930</td>\n",
       "      <td>17.91600</td>\n",
       "    </tr>\n",
       "    <tr>\n",
       "      <th>3041</th>\n",
       "      <td>4092017343</td>\n",
       "      <td>27587</td>\n",
       "      <td>1</td>\n",
       "      <td>3</td>\n",
       "      <td>99.0</td>\n",
       "      <td>2016-10-26 00:00:00+00:00</td>\n",
       "      <td>12401 WAKE UNION CHURCH RD</td>\n",
       "      <td>27.763323</td>\n",
       "      <td>26.67834</td>\n",
       "    </tr>\n",
       "    <tr>\n",
       "      <th>3042</th>\n",
       "      <td>4092017285</td>\n",
       "      <td>27560</td>\n",
       "      <td>3</td>\n",
       "      <td>4</td>\n",
       "      <td>95.0</td>\n",
       "      <td>2016-10-28 00:00:00+00:00</td>\n",
       "      <td>10285 Chapel Hill  RD</td>\n",
       "      <td>7.873314</td>\n",
       "      <td>17.43456</td>\n",
       "    </tr>\n",
       "    <tr>\n",
       "      <th>3043</th>\n",
       "      <td>4092021984</td>\n",
       "      <td>27616</td>\n",
       "      <td>10</td>\n",
       "      <td>12</td>\n",
       "      <td>93.0</td>\n",
       "      <td>2016-10-31 00:00:00+00:00</td>\n",
       "      <td>5959-1100 TRIANGLE TOWN BLVD</td>\n",
       "      <td>25.557186</td>\n",
       "      <td>19.55478</td>\n",
       "    </tr>\n",
       "    <tr>\n",
       "      <th>3044</th>\n",
       "      <td>4092017278</td>\n",
       "      <td>27502</td>\n",
       "      <td>5</td>\n",
       "      <td>2</td>\n",
       "      <td>97.0</td>\n",
       "      <td>2016-11-01 00:00:00+00:00</td>\n",
       "      <td>790 W Williams ST</td>\n",
       "      <td>5.365095</td>\n",
       "      <td>11.92878</td>\n",
       "    </tr>\n",
       "  </tbody>\n",
       "</table>\n",
       "<p>3045 rows × 9 columns</p>\n",
       "</div>"
      ],
      "text/plain": [
       "          hsisid  postalcode  num_critical  num_non_critical  score  \\\n",
       "0     4092013748       27610             9                 7   96.0   \n",
       "1     4092014046       27610             0                11   98.0   \n",
       "2     4092015191       27610             4                 8   97.0   \n",
       "3     4092016122       27513             2                 3   99.0   \n",
       "4     4092021513       27597             2                 4   97.0   \n",
       "...          ...         ...           ...               ...    ...   \n",
       "3040  4092017300       27560             3                 1   97.0   \n",
       "3041  4092017343       27587             1                 3   99.0   \n",
       "3042  4092017285       27560             3                 4   95.0   \n",
       "3043  4092021984       27616            10                12   93.0   \n",
       "3044  4092017278       27502             5                 2   97.0   \n",
       "\n",
       "                          date                       address1          x  \\\n",
       "0    2012-09-21 00:00:00+00:00              3000 New Bern Ave  24.427587   \n",
       "1    2012-09-21 00:00:00+00:00          1030-149 N Rogers Ln   27.069597   \n",
       "2    2012-09-21 00:00:00+00:00           6209 ROCK QUARRY RD   27.187794   \n",
       "3    2012-09-21 00:00:00+00:00            1065 Darrington DR    8.711871   \n",
       "4    2012-09-21 00:00:00+00:00              841 E Gannon AVE   44.549091   \n",
       "...                        ...                            ...        ...   \n",
       "3040 2016-10-26 00:00:00+00:00                 4023 Davis DR    5.862930   \n",
       "3041 2016-10-26 00:00:00+00:00    12401 WAKE UNION CHURCH RD   27.763323   \n",
       "3042 2016-10-28 00:00:00+00:00         10285 Chapel Hill  RD    7.873314   \n",
       "3043 2016-10-31 00:00:00+00:00  5959-1100 TRIANGLE TOWN BLVD   25.557186   \n",
       "3044 2016-11-01 00:00:00+00:00             790 W Williams ST    5.365095   \n",
       "\n",
       "             y  \n",
       "0     14.66184  \n",
       "1     15.14616  \n",
       "2     11.01450  \n",
       "3     15.58194  \n",
       "4     17.50410  \n",
       "...        ...  \n",
       "3040  17.91600  \n",
       "3041  26.67834  \n",
       "3042  17.43456  \n",
       "3043  19.55478  \n",
       "3044  11.92878  \n",
       "\n",
       "[3045 rows x 9 columns]"
      ]
     },
     "execution_count": 730,
     "metadata": {},
     "output_type": "execute_result"
    }
   ],
   "source": [
    "data"
   ]
  },
  {
   "cell_type": "code",
   "execution_count": 731,
   "metadata": {},
   "outputs": [],
   "source": [
    "def has_rest_within_x_miles(x_miles, data):\n",
    "    \"\"\"\n",
    "    Simple function to find which restaurants have another\n",
    "    restaurant within x miles\n",
    "    :param x: how many miles to check for another restaurant\n",
    "    :return: boolean array that indicates restaurants in data that have a nearby restaurant\n",
    "    \"\"\"\n",
    "    has_rest = []\n",
    "    for i, row in data.iterrows():\n",
    "        compdf = data[(data.index.to_series() != i).values]\n",
    "        xdist = compdf['x'] - row['x']\n",
    "        ydist = compdf['y'] - row['y']\n",
    "        dist = pd.Series(np.sqrt(np.square(xdist) + np.square(ydist))).sort_values()\n",
    "        nn = dist[dist <= x_miles]\n",
    "        if len(nn) > 0:\n",
    "            has_rest.append(True)\n",
    "        else:\n",
    "            has_rest.append(False)\n",
    "    return has_rest"
   ]
  },
  {
   "cell_type": "code",
   "execution_count": 732,
   "metadata": {},
   "outputs": [
    {
     "name": "stdout",
     "output_type": "stream",
     "text": [
      "0.9904761904761905\n"
     ]
    }
   ],
   "source": [
    "print(np.mean(has_rest_within_x_miles(1, data)))"
   ]
  },
  {
   "cell_type": "markdown",
   "metadata": {},
   "source": [
    "---\n",
    "Interesting, so 99% of the restaurants have at least one restaurant within a mile\n",
    "\n",
    "---"
   ]
  },
  {
   "cell_type": "code",
   "execution_count": 733,
   "metadata": {
    "scrolled": true
   },
   "outputs": [
    {
     "name": "stdout",
     "output_type": "stream",
     "text": [
      "1.0\n"
     ]
    }
   ],
   "source": [
    "print(np.mean(has_rest_within_x_miles(5, data)))"
   ]
  },
  {
   "cell_type": "markdown",
   "metadata": {},
   "source": [
    "---\n",
    "Cool, and all the restaurants have at least one nearby restaurant within five miles. Let's try to visualize how many restaurants have at least 1 restaurant within x miles\n",
    "\n",
    "---"
   ]
  },
  {
   "cell_type": "code",
   "execution_count": 734,
   "metadata": {},
   "outputs": [],
   "source": [
    "X = np.arange(0, 5, 0.2)\n",
    "y = []\n",
    "for x in X:\n",
    "    y.append(np.mean(has_rest_within_x_miles(x, data)))"
   ]
  },
  {
   "cell_type": "code",
   "execution_count": 735,
   "metadata": {},
   "outputs": [
    {
     "data": {
      "text/plain": [
       "<matplotlib.axes._subplots.AxesSubplot at 0x7f94896367f0>"
      ]
     },
     "execution_count": 735,
     "metadata": {},
     "output_type": "execute_result"
    },
    {
     "data": {
      "image/png": "[encoded data removed]",
      "text/plain": [
       "<Figure size 432x288 with 1 Axes>"
      ]
     },
     "metadata": {
      "needs_background": "light"
     },
     "output_type": "display_data"
    }
   ],
   "source": [
    "sns.lineplot(X, y)"
   ]
  },
  {
   "cell_type": "markdown",
   "metadata": {},
   "source": [
    "---\n",
    "Ok, so the x axis is the radius in miles, and the y axis is the proportion of restaurants that have at least one other restaurant x miles away. So, KNN may be able to pick up on geographic trends on the restaurants that have many nearby restaurants (and we can see that about 90% of restaurants have another restaurant within ~0.2 miles), but will likely not be able to pick up on trends for more isolated restaurants (i.e. the restaurants that don't have another restaurant within a mile).\n",
    "<br>\n",
    "\n",
    "Now let's look at how the scores are distributed, and start building our KNN regressor\n",
    "\n",
    "---"
   ]
  },
  {
   "cell_type": "code",
   "execution_count": 736,
   "metadata": {
    "scrolled": true
   },
   "outputs": [
    {
     "data": {
      "text/plain": [
       "<matplotlib.axes._subplots.AxesSubplot at 0x7f94897e5438>"
      ]
     },
     "execution_count": 736,
     "metadata": {},
     "output_type": "execute_result"
    },
    {
     "data": {
      "image/png": "[encoded data removed]",
      "text/plain": [
       "<Figure size 432x288 with 1 Axes>"
      ]
     },
     "metadata": {
      "needs_background": "light"
     },
     "output_type": "display_data"
    }
   ],
   "source": [
    "sns.kdeplot(data['score'])"
   ]
  },
  {
   "cell_type": "markdown",
   "metadata": {},
   "source": [
    "---\n",
    "Ok, let's try to build a simple KNN regressor using sklearn\n",
    "\n",
    "---"
   ]
  },
  {
   "cell_type": "code",
   "execution_count": 761,
   "metadata": {},
   "outputs": [
    {
     "name": "stdout",
     "output_type": "stream",
     "text": [
      "STDV: 2.4502068002772575\n",
      "RMSE: 2.438992493469813\n"
     ]
    }
   ],
   "source": [
    "from sklearn.neighbors import KNeighborsRegressor\n",
    "from sklearn.model_selection import train_test_split\n",
    "model = KNeighborsRegressor(n_neighbors=10)\n",
    "X_tr, X_ts, y_tr, y_ts = train_test_split(data[['x', 'y']], data['score'])\n",
    "model.fit(X_tr, y_tr)\n",
    "preds = model.predict(X_ts)\n",
    "print('STDV:', np.sqrt(np.mean(np.square(data['score'] - np.mean(data['score'])))))\n",
    "print('RMSE:', np.sqrt(np.mean(np.square(preds - y_ts))))"
   ]
  },
  {
   "cell_type": "markdown",
   "metadata": {},
   "source": [
    "---\n",
    "This root mean squared error is not good; it is only slightly better than the standard deviation, which means that it is basically predicting scores at random. Let's try using k neighbors but weighting closer restaurants to contribute more towards score.\n",
    "\n",
    "---"
   ]
  },
  {
   "cell_type": "code",
   "execution_count": 762,
   "metadata": {},
   "outputs": [
    {
     "name": "stdout",
     "output_type": "stream",
     "text": [
      "STDV: 2.4502068002772575\n",
      "RMSE: 2.525476879989579\n"
     ]
    }
   ],
   "source": [
    "model_dist = KNeighborsRegressor(n_neighbors=10, weights='distance')\n",
    "model_dist.fit(X_tr, y_tr)\n",
    "preds_dist = model_dist.predict(X_ts)\n",
    "print('STDV:', np.sqrt(np.mean(np.square(data['score'] - np.mean(data['score'])))))\n",
    "print('RMSE:', np.sqrt(np.mean(np.square(preds_dist - y_ts))))"
   ]
  },
  {
   "cell_type": "markdown",
   "metadata": {},
   "source": [
    "---\n",
    "Huh, that was actually worse. Ok, let's go back to our original model, and see how well it performed on the restaurants that have lower inspections scores (as these are more imnportant for the model to do well on).\n",
    "\n",
    "---"
   ]
  },
  {
   "cell_type": "code",
   "execution_count": 764,
   "metadata": {},
   "outputs": [
    {
     "name": "stdout",
     "output_type": "stream",
     "text": [
      "RMSE: 8.92786568639368\n"
     ]
    }
   ],
   "source": [
    "lower_preds = pd.Series(preds, index=y_ts.index)\n",
    "low_filter = y_ts[y_ts <= 90].index\n",
    "lower_actual = y_ts[low_filter]\n",
    "lower_preds = lower_preds[low_filter]\n",
    "print('RMSE:', np.sqrt(np.mean(np.square(lower_preds - lower_actual))))"
   ]
  },
  {
   "cell_type": "markdown",
   "metadata": {},
   "source": [
    "---\n",
    "When we look at the restaurants with lower scores, the model does even worse. Inspections are perhaps most important for finding restaurants that do very poorly, as those restaurants are putting the public in the most danger and require fixing most urgently, so if our model doesn't predict those well, then it is basically useless.\n",
    "\n",
    "---"
   ]
  },
  {
   "cell_type": "code",
   "execution_count": 765,
   "metadata": {},
   "outputs": [
    {
     "name": "stdout",
     "output_type": "stream",
     "text": [
      "0.8082101806239738\n"
     ]
    }
   ],
   "source": [
    "# Only look at restaurants that have another restaurant within 0.1 miles\n",
    "dense_filter = has_rest_within_x_miles(0.1, data)\n",
    "print(np.mean(dense_filter))"
   ]
  },
  {
   "cell_type": "markdown",
   "metadata": {},
   "source": [
    "<a id='violation_category_prediction'></a>"
   ]
  },
  {
   "cell_type": "markdown",
   "metadata": {},
   "source": [
    "## Violation Category Prediction\n",
    "---\n",
    "If you are still not convinced, let's try to predict the number of violations a restaurant will have. If we go back to the point of inspections, they are meant to make sure restaurants are keeping up to health and safety standards, and if they aren't, then they help the restaurant fix whatever it is that is not up to code. So, what is actually interesting are the types of violations a restaurant can have. Maybe we can predict those?\n",
    "\n",
    "---"
   ]
  },
  {
   "cell_type": "markdown",
   "metadata": {},
   "source": [
    "---\n",
    "Let's start by exploring the violations data\n",
    "\n",
    "---"
   ]
  },
  {
   "cell_type": "code",
   "execution_count": 766,
   "metadata": {},
   "outputs": [
    {
     "data": {
      "text/html": [
       "<div>\n",
       "<style scoped>\n",
       "    .dataframe tbody tr th:only-of-type {\n",
       "        vertical-align: middle;\n",
       "    }\n",
       "\n",
       "    .dataframe tbody tr th {\n",
       "        vertical-align: top;\n",
       "    }\n",
       "\n",
       "    .dataframe thead th {\n",
       "        text-align: right;\n",
       "    }\n",
       "</style>\n",
       "<table border=\"1\" class=\"dataframe\">\n",
       "  <thead>\n",
       "    <tr style=\"text-align: right;\">\n",
       "      <th></th>\n",
       "      <th>X.objectid</th>\n",
       "      <th>hsisid</th>\n",
       "      <th>inspectdate</th>\n",
       "      <th>category</th>\n",
       "      <th>statecode</th>\n",
       "      <th>critical</th>\n",
       "      <th>questionno</th>\n",
       "      <th>violationcode</th>\n",
       "      <th>severity</th>\n",
       "      <th>shortdesc</th>\n",
       "      <th>inspectedby</th>\n",
       "      <th>comments</th>\n",
       "      <th>pointvalue</th>\n",
       "      <th>observationtype</th>\n",
       "      <th>violationtype</th>\n",
       "      <th>count</th>\n",
       "      <th>cdcriskfactor</th>\n",
       "      <th>cdcdataitem</th>\n",
       "    </tr>\n",
       "  </thead>\n",
       "  <tbody>\n",
       "    <tr>\n",
       "      <th>0</th>\n",
       "      <td>2149</td>\n",
       "      <td>4092015279</td>\n",
       "      <td>2014-09-22T00:00:00.000Z</td>\n",
       "      <td>Chemical</td>\n",
       "      <td>.2653,.2657</td>\n",
       "      <td>Yes</td>\n",
       "      <td>26</td>\n",
       "      <td>7-102.11</td>\n",
       "      <td>Priority Foundation</td>\n",
       "      <td>Toxic substances properly identified, stored, ...</td>\n",
       "      <td>Lucy Schrum</td>\n",
       "      <td>7-102.11; Priority Foundation - Found unlabele...</td>\n",
       "      <td>0</td>\n",
       "      <td>Out</td>\n",
       "      <td>R</td>\n",
       "      <td>NaN</td>\n",
       "      <td>NaN</td>\n",
       "      <td>NaN</td>\n",
       "    </tr>\n",
       "    <tr>\n",
       "      <th>1</th>\n",
       "      <td>2150</td>\n",
       "      <td>4092014572</td>\n",
       "      <td>2014-09-29T00:00:00.000Z</td>\n",
       "      <td>Chemical</td>\n",
       "      <td>.2653,.2657</td>\n",
       "      <td>Yes</td>\n",
       "      <td>26</td>\n",
       "      <td>7-102.11</td>\n",
       "      <td>Priority Foundation</td>\n",
       "      <td>Toxic substances properly identified, stored, ...</td>\n",
       "      <td>Daryl Beasley</td>\n",
       "      <td>7-102.11; Priority Foundation; One sanitizer b...</td>\n",
       "      <td>0</td>\n",
       "      <td>Out</td>\n",
       "      <td>CDI</td>\n",
       "      <td>NaN</td>\n",
       "      <td>NaN</td>\n",
       "      <td>NaN</td>\n",
       "    </tr>\n",
       "    <tr>\n",
       "      <th>2</th>\n",
       "      <td>2151</td>\n",
       "      <td>4092015906</td>\n",
       "      <td>2014-10-01T00:00:00.000Z</td>\n",
       "      <td>Chemical</td>\n",
       "      <td>.2653,.2657</td>\n",
       "      <td>Yes</td>\n",
       "      <td>26</td>\n",
       "      <td>7-102.11</td>\n",
       "      <td>Priority Foundation</td>\n",
       "      <td>Toxic substances properly identified, stored, ...</td>\n",
       "      <td>Lucy Schrum</td>\n",
       "      <td>7-102.11; Priority Foundation - Found an unlab...</td>\n",
       "      <td>1</td>\n",
       "      <td>Out</td>\n",
       "      <td>CDI</td>\n",
       "      <td>NaN</td>\n",
       "      <td>NaN</td>\n",
       "      <td>NaN</td>\n",
       "    </tr>\n",
       "    <tr>\n",
       "      <th>3</th>\n",
       "      <td>2152</td>\n",
       "      <td>4092013840</td>\n",
       "      <td>2014-10-08T00:00:00.000Z</td>\n",
       "      <td>Chemical</td>\n",
       "      <td>.2653,.2657</td>\n",
       "      <td>Yes</td>\n",
       "      <td>26</td>\n",
       "      <td>7-102.11</td>\n",
       "      <td>Priority Foundation</td>\n",
       "      <td>Toxic substances properly identified, stored, ...</td>\n",
       "      <td>Lucy Schrum</td>\n",
       "      <td>7-102.11; Priority Foundation - Found unlabele...</td>\n",
       "      <td>0</td>\n",
       "      <td>Out</td>\n",
       "      <td>CDI</td>\n",
       "      <td>NaN</td>\n",
       "      <td>NaN</td>\n",
       "      <td>NaN</td>\n",
       "    </tr>\n",
       "    <tr>\n",
       "      <th>4</th>\n",
       "      <td>2153</td>\n",
       "      <td>4092021788</td>\n",
       "      <td>2014-10-09T00:00:00.000Z</td>\n",
       "      <td>Chemical</td>\n",
       "      <td>.2653,.2657</td>\n",
       "      <td>Yes</td>\n",
       "      <td>26</td>\n",
       "      <td>7-102.11</td>\n",
       "      <td>Priority Foundation</td>\n",
       "      <td>Toxic substances properly identified, stored, ...</td>\n",
       "      <td>Lucy Schrum</td>\n",
       "      <td>7-102.11; Priority Foundation - Found one unla...</td>\n",
       "      <td>0</td>\n",
       "      <td>Out</td>\n",
       "      <td>CDI</td>\n",
       "      <td>NaN</td>\n",
       "      <td>NaN</td>\n",
       "      <td>NaN</td>\n",
       "    </tr>\n",
       "  </tbody>\n",
       "</table>\n",
       "</div>"
      ],
      "text/plain": [
       "   X.objectid      hsisid               inspectdate  category    statecode  \\\n",
       "0        2149  4092015279  2014-09-22T00:00:00.000Z  Chemical  .2653,.2657   \n",
       "1        2150  4092014572  2014-09-29T00:00:00.000Z  Chemical  .2653,.2657   \n",
       "2        2151  4092015906  2014-10-01T00:00:00.000Z  Chemical  .2653,.2657   \n",
       "3        2152  4092013840  2014-10-08T00:00:00.000Z  Chemical  .2653,.2657   \n",
       "4        2153  4092021788  2014-10-09T00:00:00.000Z  Chemical  .2653,.2657   \n",
       "\n",
       "  critical  questionno violationcode             severity  \\\n",
       "0      Yes          26      7-102.11  Priority Foundation   \n",
       "1      Yes          26      7-102.11  Priority Foundation   \n",
       "2      Yes          26      7-102.11  Priority Foundation   \n",
       "3      Yes          26      7-102.11  Priority Foundation   \n",
       "4      Yes          26      7-102.11  Priority Foundation   \n",
       "\n",
       "                                           shortdesc    inspectedby  \\\n",
       "0  Toxic substances properly identified, stored, ...    Lucy Schrum   \n",
       "1  Toxic substances properly identified, stored, ...  Daryl Beasley   \n",
       "2  Toxic substances properly identified, stored, ...    Lucy Schrum   \n",
       "3  Toxic substances properly identified, stored, ...    Lucy Schrum   \n",
       "4  Toxic substances properly identified, stored, ...    Lucy Schrum   \n",
       "\n",
       "                                            comments  pointvalue  \\\n",
       "0  7-102.11; Priority Foundation - Found unlabele...           0   \n",
       "1  7-102.11; Priority Foundation; One sanitizer b...           0   \n",
       "2  7-102.11; Priority Foundation - Found an unlab...           1   \n",
       "3  7-102.11; Priority Foundation - Found unlabele...           0   \n",
       "4  7-102.11; Priority Foundation - Found one unla...           0   \n",
       "\n",
       "  observationtype violationtype  count cdcriskfactor cdcdataitem  \n",
       "0             Out             R    NaN           NaN         NaN  \n",
       "1             Out           CDI    NaN           NaN         NaN  \n",
       "2             Out           CDI    NaN           NaN         NaN  \n",
       "3             Out           CDI    NaN           NaN         NaN  \n",
       "4             Out           CDI    NaN           NaN         NaN  "
      ]
     },
     "execution_count": 766,
     "metadata": {},
     "output_type": "execute_result"
    }
   ],
   "source": [
    "viol_df.head()"
   ]
  },
  {
   "cell_type": "markdown",
   "metadata": {},
   "source": [
    "---\n",
    "Let's take a look at the different categories and the number of violations in each category\n",
    "\n",
    "---"
   ]
  },
  {
   "cell_type": "code",
   "execution_count": 767,
   "metadata": {},
   "outputs": [
    {
     "data": {
      "text/plain": [
       "Physical Facilities                            38994\n",
       "Utensils and Equipment                         35803\n",
       "Potentially Hazardous Food Time/Temperature    20052\n",
       "Protection from Contamination                  18493\n",
       "Prevention of Food Contamination               15796\n",
       "Proper Use of Utensils                         14040\n",
       "Preventing Contamination by Hands              11082\n",
       "Food Temperature Control                        7856\n",
       "Supervision                                     6450\n",
       "Employee Health                                 5979\n",
       "Chemical                                        5579\n",
       "Food Identification                             2904\n",
       "Good Hygienic Practices                         2503\n",
       "Consumer Advisory                               2155\n",
       "Approved Source                                 1261\n",
       "Safe Food and Water                              464\n",
       "Conformance with Approved Procedures             374\n",
       "Highly Susceptible Populations                    17\n",
       "Name: category, dtype: int64"
      ]
     },
     "execution_count": 767,
     "metadata": {},
     "output_type": "execute_result"
    }
   ],
   "source": [
    "viol_df['category'].value_counts()"
   ]
  },
  {
   "cell_type": "markdown",
   "metadata": {},
   "source": [
    "---\n",
    "Ok, let's try to build a classifier that can predict how many violations of the top 7 types a certain restaurant will have. First, let's create a DataFrame containing each restaurant and how many violations of each type they have.\n",
    "\n",
    "---"
   ]
  },
  {
   "cell_type": "code",
   "execution_count": 768,
   "metadata": {},
   "outputs": [],
   "source": [
    "cats = viol_df['category'].value_counts().index.tolist()[:7]"
   ]
  },
  {
   "cell_type": "code",
   "execution_count": 769,
   "metadata": {},
   "outputs": [],
   "source": [
    "rest_viols = {cat: [] for cat in cats}\n",
    "rest_viols['hsisid'] = []\n",
    "ids = viol_df['hsisid'].unique()\n",
    "for hid in ids:\n",
    "    rest_viols['hsisid'].append(hid)\n",
    "    for cat in cats:\n",
    "        rest_viols[cat].append((viol_df[(viol_df['hsisid'] == hid)]['category'] == cat).sum())\n",
    "rest_viols = pd.DataFrame(rest_viols)"
   ]
  },
  {
   "cell_type": "code",
   "execution_count": 770,
   "metadata": {},
   "outputs": [
    {
     "data": {
      "text/html": [
       "<div>\n",
       "<style scoped>\n",
       "    .dataframe tbody tr th:only-of-type {\n",
       "        vertical-align: middle;\n",
       "    }\n",
       "\n",
       "    .dataframe tbody tr th {\n",
       "        vertical-align: top;\n",
       "    }\n",
       "\n",
       "    .dataframe thead th {\n",
       "        text-align: right;\n",
       "    }\n",
       "</style>\n",
       "<table border=\"1\" class=\"dataframe\">\n",
       "  <thead>\n",
       "    <tr style=\"text-align: right;\">\n",
       "      <th></th>\n",
       "      <th>Physical Facilities</th>\n",
       "      <th>Utensils and Equipment</th>\n",
       "      <th>Potentially Hazardous Food Time/Temperature</th>\n",
       "      <th>Protection from Contamination</th>\n",
       "      <th>Prevention of Food Contamination</th>\n",
       "      <th>Proper Use of Utensils</th>\n",
       "      <th>Preventing Contamination by Hands</th>\n",
       "      <th>hsisid</th>\n",
       "    </tr>\n",
       "  </thead>\n",
       "  <tbody>\n",
       "    <tr>\n",
       "      <th>0</th>\n",
       "      <td>12</td>\n",
       "      <td>15</td>\n",
       "      <td>13</td>\n",
       "      <td>6</td>\n",
       "      <td>6</td>\n",
       "      <td>6</td>\n",
       "      <td>1</td>\n",
       "      <td>4092015279</td>\n",
       "    </tr>\n",
       "    <tr>\n",
       "      <th>1</th>\n",
       "      <td>16</td>\n",
       "      <td>11</td>\n",
       "      <td>12</td>\n",
       "      <td>16</td>\n",
       "      <td>7</td>\n",
       "      <td>8</td>\n",
       "      <td>9</td>\n",
       "      <td>4092014572</td>\n",
       "    </tr>\n",
       "    <tr>\n",
       "      <th>2</th>\n",
       "      <td>22</td>\n",
       "      <td>10</td>\n",
       "      <td>14</td>\n",
       "      <td>8</td>\n",
       "      <td>9</td>\n",
       "      <td>2</td>\n",
       "      <td>0</td>\n",
       "      <td>4092015906</td>\n",
       "    </tr>\n",
       "    <tr>\n",
       "      <th>3</th>\n",
       "      <td>38</td>\n",
       "      <td>31</td>\n",
       "      <td>17</td>\n",
       "      <td>11</td>\n",
       "      <td>12</td>\n",
       "      <td>14</td>\n",
       "      <td>0</td>\n",
       "      <td>4092013840</td>\n",
       "    </tr>\n",
       "    <tr>\n",
       "      <th>4</th>\n",
       "      <td>5</td>\n",
       "      <td>21</td>\n",
       "      <td>9</td>\n",
       "      <td>5</td>\n",
       "      <td>11</td>\n",
       "      <td>6</td>\n",
       "      <td>1</td>\n",
       "      <td>4092021788</td>\n",
       "    </tr>\n",
       "    <tr>\n",
       "      <th>...</th>\n",
       "      <td>...</td>\n",
       "      <td>...</td>\n",
       "      <td>...</td>\n",
       "      <td>...</td>\n",
       "      <td>...</td>\n",
       "      <td>...</td>\n",
       "      <td>...</td>\n",
       "      <td>...</td>\n",
       "    </tr>\n",
       "    <tr>\n",
       "      <th>4265</th>\n",
       "      <td>0</td>\n",
       "      <td>0</td>\n",
       "      <td>1</td>\n",
       "      <td>0</td>\n",
       "      <td>0</td>\n",
       "      <td>0</td>\n",
       "      <td>0</td>\n",
       "      <td>4092030302</td>\n",
       "    </tr>\n",
       "    <tr>\n",
       "      <th>4266</th>\n",
       "      <td>0</td>\n",
       "      <td>0</td>\n",
       "      <td>1</td>\n",
       "      <td>0</td>\n",
       "      <td>0</td>\n",
       "      <td>0</td>\n",
       "      <td>0</td>\n",
       "      <td>4092016399</td>\n",
       "    </tr>\n",
       "    <tr>\n",
       "      <th>4267</th>\n",
       "      <td>0</td>\n",
       "      <td>0</td>\n",
       "      <td>0</td>\n",
       "      <td>0</td>\n",
       "      <td>0</td>\n",
       "      <td>0</td>\n",
       "      <td>1</td>\n",
       "      <td>4092030285</td>\n",
       "    </tr>\n",
       "    <tr>\n",
       "      <th>4268</th>\n",
       "      <td>0</td>\n",
       "      <td>0</td>\n",
       "      <td>0</td>\n",
       "      <td>1</td>\n",
       "      <td>0</td>\n",
       "      <td>0</td>\n",
       "      <td>1</td>\n",
       "      <td>4092017190</td>\n",
       "    </tr>\n",
       "    <tr>\n",
       "      <th>4269</th>\n",
       "      <td>0</td>\n",
       "      <td>1</td>\n",
       "      <td>0</td>\n",
       "      <td>0</td>\n",
       "      <td>0</td>\n",
       "      <td>0</td>\n",
       "      <td>0</td>\n",
       "      <td>4092017317</td>\n",
       "    </tr>\n",
       "  </tbody>\n",
       "</table>\n",
       "<p>4270 rows × 8 columns</p>\n",
       "</div>"
      ],
      "text/plain": [
       "      Physical Facilities  Utensils and Equipment  \\\n",
       "0                      12                      15   \n",
       "1                      16                      11   \n",
       "2                      22                      10   \n",
       "3                      38                      31   \n",
       "4                       5                      21   \n",
       "...                   ...                     ...   \n",
       "4265                    0                       0   \n",
       "4266                    0                       0   \n",
       "4267                    0                       0   \n",
       "4268                    0                       0   \n",
       "4269                    0                       1   \n",
       "\n",
       "      Potentially Hazardous Food Time/Temperature  \\\n",
       "0                                              13   \n",
       "1                                              12   \n",
       "2                                              14   \n",
       "3                                              17   \n",
       "4                                               9   \n",
       "...                                           ...   \n",
       "4265                                            1   \n",
       "4266                                            1   \n",
       "4267                                            0   \n",
       "4268                                            0   \n",
       "4269                                            0   \n",
       "\n",
       "      Protection from Contamination  Prevention of Food Contamination  \\\n",
       "0                                 6                                 6   \n",
       "1                                16                                 7   \n",
       "2                                 8                                 9   \n",
       "3                                11                                12   \n",
       "4                                 5                                11   \n",
       "...                             ...                               ...   \n",
       "4265                              0                                 0   \n",
       "4266                              0                                 0   \n",
       "4267                              0                                 0   \n",
       "4268                              1                                 0   \n",
       "4269                              0                                 0   \n",
       "\n",
       "      Proper Use of Utensils  Preventing Contamination by Hands      hsisid  \n",
       "0                          6                                  1  4092015279  \n",
       "1                          8                                  9  4092014572  \n",
       "2                          2                                  0  4092015906  \n",
       "3                         14                                  0  4092013840  \n",
       "4                          6                                  1  4092021788  \n",
       "...                      ...                                ...         ...  \n",
       "4265                       0                                  0  4092030302  \n",
       "4266                       0                                  0  4092016399  \n",
       "4267                       0                                  1  4092030285  \n",
       "4268                       0                                  1  4092017190  \n",
       "4269                       0                                  0  4092017317  \n",
       "\n",
       "[4270 rows x 8 columns]"
      ]
     },
     "execution_count": 770,
     "metadata": {},
     "output_type": "execute_result"
    }
   ],
   "source": [
    "rest_viols"
   ]
  },
  {
   "cell_type": "markdown",
   "metadata": {},
   "source": [
    "---\n",
    "Now let's merge it with the geographic data to try to predict these values with K Nearest Neighbors\n",
    "\n",
    "---"
   ]
  },
  {
   "cell_type": "code",
   "execution_count": 771,
   "metadata": {},
   "outputs": [],
   "source": [
    "rest_viols = rest_viols.merge(rest_df[['hsisid', 'x', 'y']], on='hsisid')"
   ]
  },
  {
   "cell_type": "code",
   "execution_count": 772,
   "metadata": {},
   "outputs": [
    {
     "name": "stdout",
     "output_type": "stream",
     "text": [
      "Model for Physical Facilities\n",
      "STDV: 8.891230385824466\n",
      "RMSE: 8.677617040409196\n",
      "--------------------------------------------------------------------------------\n",
      "Model for Utensils and Equipment\n",
      "STDV: 7.3258987196666165\n",
      "RMSE: 7.027898868082832\n",
      "--------------------------------------------------------------------------------\n",
      "Model for Potentially Hazardous Food Time/Temperature\n",
      "STDV: 5.5204788833701715\n",
      "RMSE: 5.488952541241358\n",
      "--------------------------------------------------------------------------------\n",
      "Model for Protection from Contamination\n",
      "STDV: 4.872665753608473\n",
      "RMSE: 4.603358828073258\n",
      "--------------------------------------------------------------------------------\n",
      "Model for Prevention of Food Contamination\n",
      "STDV: 3.9436310487855843\n",
      "RMSE: 3.8155389527562154\n",
      "--------------------------------------------------------------------------------\n",
      "Model for Proper Use of Utensils\n",
      "STDV: 3.7135264783940767\n",
      "RMSE: 3.723947837980547\n",
      "--------------------------------------------------------------------------------\n",
      "Model for Preventing Contamination by Hands\n",
      "STDV: 2.913929165873759\n",
      "RMSE: 2.796319008983059\n",
      "--------------------------------------------------------------------------------\n"
     ]
    }
   ],
   "source": [
    "for cat in cats:\n",
    "    print('Model for ' + cat)\n",
    "    model = KNeighborsRegressor(n_neighbors=10)\n",
    "    X_tr, X_ts, y_tr, y_ts = train_test_split(rest_viols[['x', 'y']], rest_viols[cat])\n",
    "    model.fit(X_tr, y_tr)\n",
    "    preds = model.predict(X_ts)\n",
    "    print('STDV:', np.sqrt(np.mean(np.square(rest_viols[cat] - np.mean(rest_viols[cat])))))\n",
    "    print('RMSE:', np.sqrt(np.mean(np.square(preds - y_ts))))\n",
    "    print('-' * 80)"
   ]
  },
  {
   "cell_type": "markdown",
   "metadata": {},
   "source": [
    "---\n",
    "As seen here, KNN is not able to predict the categories of violations either. This tells us that neighboring restaurants are not able to predict the scores or categories of violations of other nearby restaurants.\n",
    "\n",
    "---"
   ]
  },
  {
   "cell_type": "markdown",
   "metadata": {},
   "source": [
    "---\n",
    "Ok, so it seems that KNN is not able to pick up on anything about certain areas that may make restaurants more or less likely to have a higher inspection score. As a sanity check, let's check out the zip code data and the average inspection score to make sure there is no correlation.\n",
    "\n",
    "---"
   ]
  },
  {
   "cell_type": "code",
   "execution_count": 773,
   "metadata": {},
   "outputs": [],
   "source": [
    "insp_score = []\n",
    "for zipcode in zip_df['zip']:\n",
    "    insp_score.append(np.mean(insp_df[insp_df['postalcode'] == zipcode]['score'].dropna()))\n",
    "zip_df['average_score'] = insp_score"
   ]
  },
  {
   "cell_type": "markdown",
   "metadata": {},
   "source": [
    "---\n",
    "Okay, now let's calculate the correlation between the `per_capita_income_dollars` and the `average_score`.\n",
    "\n",
    "---"
   ]
  },
  {
   "cell_type": "code",
   "execution_count": 774,
   "metadata": {},
   "outputs": [
    {
     "name": "stdout",
     "output_type": "stream",
     "text": [
      "-0.005612426433360226\n"
     ]
    }
   ],
   "source": [
    "from scipy.stats import pearsonr\n",
    "dropped = zip_df.dropna(subset=['per_capita_income_dollars', 'average_score'])\n",
    "corr, _ = pearsonr(dropped['per_capita_income_dollars'], dropped['average_score'])\n",
    "print(corr)"
   ]
  },
  {
   "cell_type": "markdown",
   "metadata": {},
   "source": [
    "---\n",
    "As we expected, the correlation between average inspection score and income is almost 0, so the inspection score is independent of the location (at least at a zip code level) in Wake County.\n",
    "\n",
    "---"
   ]
  },
  {
   "cell_type": "markdown",
   "metadata": {},
   "source": [
    "# Ethics & Privacy"
   ]
  },
  {
   "cell_type": "markdown",
   "metadata": {},
   "source": [
    "So we saw that K Nearest Neighbors was an ineffective predictor of restaurant inspection scores. You may have many ideas on how to improve this model; maybe use a different type of model? Add different features? Before considering how to improve this machine learning algorithm to better predict inspection scores, it is much more important to consider the ethics of doing so.\n",
    "<br>\n",
    "\n",
    "Should we being doing this in the first place? Does a restaurant want their inspection score to be the result of neighboring restaurants? If a new restaurant is next to a competitor, and one of the ways they are trying to compete is by being more modern, safer, and healthier, does it make sense to use their competitor to predict that restaurant's inspection score? Probably not.\n",
    "<br>\n",
    "\n",
    "However, that is not to say that Machine Learning is dumb and should be snapped by Thanos out of existence. It could still be useful. For example, what if we had up-to-date data showing restaurants most recent hires. Could we then use that data to inform whether that restaurant is more likely to have a `Contamination by Hands`, `Proper Use of Utensils`, or `Protection from Contamination` violation? If we are able to predict this, maybe we could guide inspectors towards those restaurants with more recent hires, in order to make sure they are effectively training their employees on important health standards.\n",
    "<br>\n",
    "\n",
    "However, with this comes a major privacy concern: if inspectors are able to see recent hires, will that make restaurants more reluctant to hire new employees? Will it put new employees at higher risk of being fired, if they make a few mistakes? The point of having inspectors should not be to help restaurants fire their underperforming staff, but to help restaurants train them better, and make sure everyone understands standard health guidelines. In using ML to guide inspections, privacy and ethics should be the foremost concern. Even if it could be used effectively, the individual lives of restaurant employees as well as the customers would need to come first, in order to avoid unknowingly discriminating against different groups of people (like new hires)."
   ]
  },
  {
   "cell_type": "markdown",
   "metadata": {},
   "source": [
    "# Conclusion & Discussion"
   ]
  },
  {
   "cell_type": "markdown",
   "metadata": {},
   "source": [
    "By training a nearest neighbors regressor on geographic data, I expected it would be possible for nearest neighbors to pick up on certain trends in areas; I was thinking that certain disadvantaged areas with lower average income or funding would have restaurants that have lower inspection scores, and high income areas may have restaurants with higher inspection scores, due to resources available to them that may not be available to lower income areas. However, it seems there is not a trend between neighborhood/geographic location and health inspection scores. From the results of this project, I conclude that health inspection scores in Wake County, NC are independent of location and are completely dependent on the restaurant and its employees.\n",
    "<br>\n",
    "\n",
    "This is actually relatively comforting, I don't think disadvantaged areas should morally have less safe or less healthy restaurants, so the fact that restaurants' inspection scores are independent of zip code supports the argument that the Wake County government is doing its job. In other words, the Wake County inspections in no way discriminate against lower income areas and are generally fair in that sense. "
   ]
  }
 ],
 "metadata": {
  "kernelspec": {
   "display_name": "Python 3",
   "language": "python",
   "name": "python3"
  },
  "language_info": {
   "codemirror_mode": {
    "name": "ipython",
    "version": 3
   },
   "file_extension": ".py",
   "mimetype": "text/x-python",
   "name": "python",
   "nbconvert_exporter": "python",
   "pygments_lexer": "ipython3",
   "version": "3.7.1"
  }
 },
 "nbformat": 4,
 "nbformat_minor": 2
}
