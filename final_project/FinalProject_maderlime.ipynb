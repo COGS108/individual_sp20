{
 "cells": [
  {
   "cell_type": "markdown",
   "metadata": {},
   "source": [
    "# COGS 108 - Final Project "
   ]
  },
  {
   "cell_type": "markdown",
   "metadata": {},
   "source": [
    "# Overview"
   ]
  },
  {
   "cell_type": "markdown",
   "metadata": {},
   "source": [
    "In this project, I am analyzing the difference between the scores and violations given to businesses that own more than one restaurant and single restaurants in North Carolina. In order to analyze the significance of the statistics I create, I used a permutation test and p-value to decide whether the findings were significant or possibly due to random chance. \n",
    "<br>\n",
    "This could help improve the restaurant health inspection process as we evaluate the score tendencies of larger vs smaller restaurants. It may provide insight on either potential bias in evaluating the two types of restaurants.\n",
    "<br>\n",
    "I found that smaller restaurants have a tendency to receive lower scores in comparison to bigger chains. "
   ]
  },
  {
   "cell_type": "markdown",
   "metadata": {},
   "source": [
    "# Name & PID\n",
    "\n",
    "- Name: Madeline Tjoa\n",
    "- PID: A15394053"
   ]
  },
  {
   "cell_type": "markdown",
   "metadata": {},
   "source": [
    "# Research Question"
   ]
  },
  {
   "cell_type": "markdown",
   "metadata": {},
   "source": [
    "Is there a relationship between the lower health scores given to restaurants in North Carolina and whether this restaurant owns multiple locations?\n",
    "<br>\n",
    "I will define a lower health score as anything below an A grade (aka <= 89). \n",
    "<br>\n",
    "In order to measure this, I will be defining a small-family own restaurant to be a restaurant who has one restaurant in north carolina, and any restaurant bigger than this would be considered a chain restaurant who owns multiple locations. I will assess the average score given to smaller restaurants compared to bigger restaurants, and evaluating the difference between the two averages in order to assess the differences. "
   ]
  },
  {
   "cell_type": "markdown",
   "metadata": {},
   "source": [
    "## Background and Prior Work"
   ]
  },
  {
   "cell_type": "markdown",
   "metadata": {},
   "source": [
    "<b>Research Question Details:</b> <br>\n",
    "I am curious to analyze whether restaurants who are owned by a bigger business (compared to a mom/pop restaurant) might have different ratings on average. A \"chain\" refers to how large the restaurant is. For example McDonalds is a food chain which consists of thousands of restaurants worldwide. \n",
    "<br>\n",
    "<b>Food Inspection process:</b><br>\n",
    "Food inspectors come around 1-3 times a year, usually randomly or if there are customer complaints that are filed to the health and inspections website(4). The food inspection happens randomly, and then the inspector will mark down everytime they see a violation. If the violation is small, the restaurant can fix it on the spot or within a given timeframe. (You can also be penalized) If the violation is serious, the restaurant may be required to close their venue until it is fixed. Additionally, before a restaurant opens, they must pass evaluations and gain approval to reopen. <br>\n",
    "<b>Problem: </b><br>\n",
    "Based on Reddit threads, we can see there is a large variability between the punishments given to restaurants during health inspections. One health inspector shares a moment when he found a restaurant with raw food laying a broken fridge overnight, who continued to serve the meat. He ordered the meat to be thrown out but also witnessed employees taking the meat out of the garbage for reuse. He ordered for the meat to be drowned in bleach so it wouldn't be served, and the restaurant was not closed down. (2) However in another case, an aspiring restaurant owner looking to open his restaurant had clean kitchen, but was having trouble passing the health inspection to be approved to open his business.(3) I would like to find out whether there is a relation between restaurants who are not closed down and how big the business is. \n",
    "<br>\n",
    "<b>Prior work: </b><br>\n",
    "Regarding the grades of restaurants, it is noted in a report about LA County's food inspection that \"Grades below a C usually require an immediate closure of the restaurant. Restaurants with a score below C are also required to post their numeric score in the window\" (9) Which means that some restaurants may still operate with a Health Score of C, while the San Bernardino County Closures link (8) shows that most of the closed restaurants that year had a grade of B or ungraded, so there is a wide variability between whether a restaurant will be closed. <br>\n",
    "Additionally, since some health inspections may only occur from customer complaints, restaurants with less traffic may be subject to more lenient grading. The city of Boston has partnered with Yelp and Harvard to develop a method that allows them to perform more inspections in places based on complaints on yelp. (7) The issue with this method is that restaurants that may not be around the hotspot, in less popular areas may in effect be less regulated. In that case, they may be less likely to be closed over the restaurants subject to more frequent health inspections. <br>\n",
    "\n",
    "References (include links):\n",
    "- 1) https://www.sandiegocounty.gov/content/sdc/deh/fhd/ffis/intro.html.html Health inspection proccess for San Diego\n",
    "- 2) https://www.reddit.com/r/AskReddit/comments/598qrb/health_inspectors_of_reddit_whats_the_worst/ Reddit Health inspectors sharing their horror stories\n",
    "- 3) https://www.reddit.com/r/KitchenConfidential/comments/2fennc/most_evil_health_inspector_tricks_youve/ Shows the variety of health inspections and situations\n",
    "- 4) https://blog.typsy.com/how-do-health-inspections-work How Health inspections work\n",
    "- 5) https://www.sandiegocounty.gov/content/dam/sdc/deh/fhd/food/pdf/publications_foodselfinspection.pdf Self Inspection checklist for San Diego\n",
    "- 6) https://www.washingtonpost.com/news/voraciously/wp/2018/07/24/yelp-adds-health-inspection-scores-for-restaurants-and-restaurateurs-are-not-happy/ Yelp has health inspection scores for restaurants\n",
    "- 7) https://www.drivendata.co/case-studies/using-yelp-reviews-to-flag-restaurant-health-risks/ The city of Boston used yelp reviews to flag restaurant health risks.\n",
    "- 8) https://www.sbsun.com/2020/01/10/rodents-no-hot-water-defying-closure-restaurant-closures-inspections-in-san-bernardino-county-jan-3-9/ closers in san bernardino county and their reasons. \n",
    "- 9) http://www.ocgrandjury.org/pdfs/restaurant-inspections/restaurant.pdf Report regarding LA County Health Inspections"
   ]
  },
  {
   "cell_type": "markdown",
   "metadata": {},
   "source": [
    "# Hypothesis\n"
   ]
  },
  {
   "cell_type": "markdown",
   "metadata": {},
   "source": [
    "I think that there is going to be a trend of lower scores based on whether the restaurant has a food chain or not. I believe that restaurants that are part of a chain might have a larger budget to hire people in charge of making sure that violations are fixed, which may lead to their scores being higher compared to smaller restaurants who do not have the budget to do this. "
   ]
  },
  {
   "cell_type": "markdown",
   "metadata": {},
   "source": [
    "# Dataset"
   ]
  },
  {
   "cell_type": "code",
   "execution_count": null,
   "metadata": {},
   "outputs": [],
   "source": []
  },
  {
   "cell_type": "markdown",
   "metadata": {},
   "source": [
    "- Dataset Name: inspectionsdf\n",
    "- Link to the dataset: inspections.csv\n",
    "- Number of observations: (18466 rows, 37 columns)\n",
    "\n",
    "This dataset includes information about each inspection that occured in certain cities in North Carolina. \n",
    "\n",
    "- Dataset Name: restaurantsdf\n",
    "- Link to the dataset: restaurants.csv\n",
    "- Number of observations: (3324 rows, 14 columns)\n",
    "\n",
    "This dataset includes information about the restaurants inside of North Carolina. \n",
    "\n",
    "How they will be combined:\n",
    "I am going to use restaurants in order to determine which restaurants are chains, and I will be using inspectionsdf in order to create statistics and analyze the scores given to each restaurants. "
   ]
  },
  {
   "cell_type": "markdown",
   "metadata": {},
   "source": [
    "# Setup"
   ]
  },
  {
   "cell_type": "code",
   "execution_count": 178,
   "metadata": {},
   "outputs": [],
   "source": [
    "#import needed libraries\n",
    "import pandas as pd\n",
    "import numpy as np\n",
    "import matplotlib.pyplot as plt\n",
    "import seaborn as sns\n",
    "import geopandas as gpd\n",
    "import matplotlib.pyplot as plt\n",
    "plt.rcParams['figure.figsize'] = (17, 5)\n",
    "plt.rcParams.update({'font.size': 16})\n",
    "from mpl_toolkits.axes_grid1 import make_axes_locatable\n",
    "import seaborn as sns\n",
    "import shapely.geometry as shp\n",
    "import sklearn.neighbors as skn\n",
    "import sklearn.metrics as skm\n",
    "import sklearn\n",
    "import random as rd\n",
    "import datetime\n",
    "import matplotlib.patches as mpatches\n",
    "\n",
    "#import dataframes\n",
    "inspectionsdf = pd.read_csv(\"inspections.csv\")\n",
    "restaurantsdf = pd.read_csv(\"restaurants.csv\") # not useful\n",
    "violationsdf = pd.read_csv(\"violations.csv\")\n",
    "yelpdf = pd.read_csv(\"yelp.csv\")\n",
    "zipcodesdf = pd.read_csv(\"zipcodes.csv\")"
   ]
  },
  {
   "cell_type": "markdown",
   "metadata": {},
   "source": [
    "# Data Cleaning"
   ]
  },
  {
   "cell_type": "markdown",
   "metadata": {},
   "source": [
    "I start first by cleaning the datasets, I am not yet filling any null values as I am unsure whether they will be useful for me in the future.\n",
    "<br>\n",
    "a lot of my columns have null values, and most of them are not missing at random, for exacmple the descriptions or whether the restaurant has been evaluated before. Overall I cannot just delete all of the columns since they are <b>Not missing at random</b> thus I have left them as is, but in some of my dataframes I replaced the null values with 0 or empty strings. "
   ]
  },
  {
   "cell_type": "markdown",
   "metadata": {},
   "source": [
    "<h3>Cleaning</h3>"
   ]
  },
  {
   "cell_type": "markdown",
   "metadata": {},
   "source": [
    "<h4>Inspect datatypes</h4>"
   ]
  },
  {
   "cell_type": "code",
   "execution_count": 179,
   "metadata": {
    "scrolled": true
   },
   "outputs": [
    {
     "data": {
      "text/plain": [
       "hsisid                                     int64\n",
       "date                                      object\n",
       "name                                      object\n",
       "address1                                  object\n",
       "address2                                  object\n",
       "city                                      object\n",
       "state                                     object\n",
       "postalcode                                object\n",
       "phonenumber                               object\n",
       "restaurantopendate                        object\n",
       "days_from_open_date                        int64\n",
       "facilitytype                              object\n",
       "x                                        float64\n",
       "y                                        float64\n",
       "geocodestatus                             object\n",
       "zip                                        int64\n",
       "type                                      object\n",
       "description                               object\n",
       "inspectedby                               object\n",
       "inspection_num                             int64\n",
       "inspector_id                             float64\n",
       "previous_inspection_date                  object\n",
       "days_since_previous_inspection           float64\n",
       "previous_inspection_by_same_inspector     object\n",
       "score                                    float64\n",
       "num_critical                               int64\n",
       "num_non_critical                           int64\n",
       "num_critical_previous                    float64\n",
       "num_non_critical_previous                float64\n",
       "num_critical_mean_previous               float64\n",
       "num_non_critical_mean_previous           float64\n",
       "avg_neighbor_num_critical                float64\n",
       "avg_neighbor_num_non_critical            float64\n",
       "top_match                                float64\n",
       "second_match                             float64\n",
       "critical                                   int64\n",
       "dtype: object"
      ]
     },
     "execution_count": 179,
     "metadata": {},
     "output_type": "execute_result"
    }
   ],
   "source": [
    "inspectionsdf.dtypes"
   ]
  },
  {
   "cell_type": "code",
   "execution_count": 180,
   "metadata": {},
   "outputs": [
    {
     "data": {
      "text/plain": [
       "X.objectid              int64\n",
       "hsisid                  int64\n",
       "name                   object\n",
       "address1               object\n",
       "address2               object\n",
       "city                   object\n",
       "state                  object\n",
       "postalcode             object\n",
       "phonenumber            object\n",
       "restaurantopendate     object\n",
       "facilitytype           object\n",
       "x                     float64\n",
       "y                     float64\n",
       "geocodestatus          object\n",
       "dtype: object"
      ]
     },
     "execution_count": 180,
     "metadata": {},
     "output_type": "execute_result"
    }
   ],
   "source": [
    "restaurantsdf.dtypes"
   ]
  },
  {
   "cell_type": "markdown",
   "metadata": {},
   "source": [
    "<h4>Removing Uneccessary Columns / Columns that may violate ethics and privacy</h4>\n",
    "I will first start by taking out columns which will not be useful for my analysis, such as phone number.<br>"
   ]
  },
  {
   "cell_type": "code",
   "execution_count": 181,
   "metadata": {
    "scrolled": true
   },
   "outputs": [
    {
     "data": {
      "text/html": [
       "<div>\n",
       "<style scoped>\n",
       "    .dataframe tbody tr th:only-of-type {\n",
       "        vertical-align: middle;\n",
       "    }\n",
       "\n",
       "    .dataframe tbody tr th {\n",
       "        vertical-align: top;\n",
       "    }\n",
       "\n",
       "    .dataframe thead th {\n",
       "        text-align: right;\n",
       "    }\n",
       "</style>\n",
       "<table border=\"1\" class=\"dataframe\">\n",
       "  <thead>\n",
       "    <tr style=\"text-align: right;\">\n",
       "      <th></th>\n",
       "      <th>description</th>\n",
       "      <th>inspection_num</th>\n",
       "      <th>inspector_id</th>\n",
       "      <th>previous_inspection_date</th>\n",
       "      <th>days_since_previous_inspection</th>\n",
       "      <th>previous_inspection_by_same_inspector</th>\n",
       "      <th>score</th>\n",
       "      <th>num_critical</th>\n",
       "      <th>num_non_critical</th>\n",
       "      <th>num_critical_previous</th>\n",
       "    </tr>\n",
       "  </thead>\n",
       "  <tbody>\n",
       "    <tr>\n",
       "      <th>0</th>\n",
       "      <td>This facility cooks eggs to order in Grill sta...</td>\n",
       "      <td>1</td>\n",
       "      <td>27.0</td>\n",
       "      <td>NaN</td>\n",
       "      <td>NaN</td>\n",
       "      <td>NaN</td>\n",
       "      <td>96.0</td>\n",
       "      <td>9</td>\n",
       "      <td>7</td>\n",
       "      <td>NaN</td>\n",
       "    </tr>\n",
       "    <tr>\n",
       "      <th>1</th>\n",
       "      <td>NaN</td>\n",
       "      <td>1</td>\n",
       "      <td>7.0</td>\n",
       "      <td>NaN</td>\n",
       "      <td>NaN</td>\n",
       "      <td>NaN</td>\n",
       "      <td>98.0</td>\n",
       "      <td>0</td>\n",
       "      <td>11</td>\n",
       "      <td>NaN</td>\n",
       "    </tr>\n",
       "    <tr>\n",
       "      <th>2</th>\n",
       "      <td>NaN</td>\n",
       "      <td>1</td>\n",
       "      <td>3.0</td>\n",
       "      <td>NaN</td>\n",
       "      <td>NaN</td>\n",
       "      <td>NaN</td>\n",
       "      <td>97.0</td>\n",
       "      <td>4</td>\n",
       "      <td>8</td>\n",
       "      <td>NaN</td>\n",
       "    </tr>\n",
       "    <tr>\n",
       "      <th>3</th>\n",
       "      <td>NaN</td>\n",
       "      <td>1</td>\n",
       "      <td>24.0</td>\n",
       "      <td>NaN</td>\n",
       "      <td>NaN</td>\n",
       "      <td>NaN</td>\n",
       "      <td>99.0</td>\n",
       "      <td>2</td>\n",
       "      <td>3</td>\n",
       "      <td>NaN</td>\n",
       "    </tr>\n",
       "    <tr>\n",
       "      <th>4</th>\n",
       "      <td>New rules, www.wakegov.com/food</td>\n",
       "      <td>1</td>\n",
       "      <td>7.0</td>\n",
       "      <td>NaN</td>\n",
       "      <td>NaN</td>\n",
       "      <td>NaN</td>\n",
       "      <td>97.0</td>\n",
       "      <td>2</td>\n",
       "      <td>4</td>\n",
       "      <td>NaN</td>\n",
       "    </tr>\n",
       "  </tbody>\n",
       "</table>\n",
       "</div>"
      ],
      "text/plain": [
       "                                         description  inspection_num  \\\n",
       "0  This facility cooks eggs to order in Grill sta...               1   \n",
       "1                                                NaN               1   \n",
       "2                                                NaN               1   \n",
       "3                                                NaN               1   \n",
       "4                    New rules, www.wakegov.com/food               1   \n",
       "\n",
       "   inspector_id previous_inspection_date  days_since_previous_inspection  \\\n",
       "0          27.0                      NaN                             NaN   \n",
       "1           7.0                      NaN                             NaN   \n",
       "2           3.0                      NaN                             NaN   \n",
       "3          24.0                      NaN                             NaN   \n",
       "4           7.0                      NaN                             NaN   \n",
       "\n",
       "  previous_inspection_by_same_inspector  score  num_critical  \\\n",
       "0                                   NaN   96.0             9   \n",
       "1                                   NaN   98.0             0   \n",
       "2                                   NaN   97.0             4   \n",
       "3                                   NaN   99.0             2   \n",
       "4                                   NaN   97.0             2   \n",
       "\n",
       "   num_non_critical  num_critical_previous  \n",
       "0                 7                    NaN  \n",
       "1                11                    NaN  \n",
       "2                 8                    NaN  \n",
       "3                 3                    NaN  \n",
       "4                 4                    NaN  "
      ]
     },
     "execution_count": 181,
     "metadata": {},
     "output_type": "execute_result"
    }
   ],
   "source": [
    "# drop irrelevant columns\n",
    "newinspectionsdf = inspectionsdf.drop([\"address1\",\"address2\", \"phonenumber\", \"state\", \n",
    "                                       'geocodestatus', 'inspectedby', 'postalcode', 'type'], axis = 1)\n",
    "newinspectionsdf[newinspectionsdf.columns[10:20]].head()"
   ]
  },
  {
   "cell_type": "markdown",
   "metadata": {},
   "source": [
    "<h4>Correcting My column dtypes</h4>\n",
    "I notice that restaurantopendate and date is saved as a string, so i convet it from a string to a datetime object"
   ]
  },
  {
   "cell_type": "code",
   "execution_count": 182,
   "metadata": {},
   "outputs": [],
   "source": [
    "newinspectionsdf['restaurantopendate'] = pd.to_datetime(newinspectionsdf['restaurantopendate'])\n",
    "newinspectionsdf['date'] = pd.to_datetime(newinspectionsdf['date'])"
   ]
  },
  {
   "cell_type": "markdown",
   "metadata": {},
   "source": [
    "<h4>Unifying my String values (aka making everything caps, etc)</h4>\n",
    "name is inconsistent and since I am interested in finding restaurant food chains, I need to take out all the # which differentiate each restaurant part of the food chain. For example *panera bread* identifies their different restuarnts using numbers (as can be seen in the dataframe above) so I use regex to unify the names"
   ]
  },
  {
   "cell_type": "code",
   "execution_count": 183,
   "metadata": {
    "scrolled": true
   },
   "outputs": [
    {
     "data": {
      "text/html": [
       "<div>\n",
       "<style scoped>\n",
       "    .dataframe tbody tr th:only-of-type {\n",
       "        vertical-align: middle;\n",
       "    }\n",
       "\n",
       "    .dataframe tbody tr th {\n",
       "        vertical-align: top;\n",
       "    }\n",
       "\n",
       "    .dataframe thead th {\n",
       "        text-align: right;\n",
       "    }\n",
       "</style>\n",
       "<table border=\"1\" class=\"dataframe\">\n",
       "  <thead>\n",
       "    <tr style=\"text-align: right;\">\n",
       "      <th></th>\n",
       "      <th>X.objectid</th>\n",
       "      <th>hsisid</th>\n",
       "      <th>name</th>\n",
       "      <th>address1</th>\n",
       "      <th>address2</th>\n",
       "      <th>city</th>\n",
       "      <th>state</th>\n",
       "      <th>postalcode</th>\n",
       "      <th>phonenumber</th>\n",
       "      <th>restaurantopendate</th>\n",
       "      <th>facilitytype</th>\n",
       "      <th>x</th>\n",
       "      <th>y</th>\n",
       "      <th>geocodestatus</th>\n",
       "    </tr>\n",
       "  </thead>\n",
       "  <tbody>\n",
       "    <tr>\n",
       "      <th>0</th>\n",
       "      <td>1001</td>\n",
       "      <td>4092017230</td>\n",
       "      <td>SPRINGCAFE</td>\n",
       "      <td>2900-104 SPRING FOREST RD</td>\n",
       "      <td>NaN</td>\n",
       "      <td>RALEIGH</td>\n",
       "      <td>NC</td>\n",
       "      <td>27616-1895</td>\n",
       "      <td>(919) 977-3679</td>\n",
       "      <td>2016-05-26T00:00:00.000Z</td>\n",
       "      <td>Restaurant</td>\n",
       "      <td>-78.591634</td>\n",
       "      <td>35.855487</td>\n",
       "      <td>M</td>\n",
       "    </tr>\n",
       "    <tr>\n",
       "      <th>1</th>\n",
       "      <td>1002</td>\n",
       "      <td>4092040338</td>\n",
       "      <td>CAROLINACLASSICHOTDOGSWCID</td>\n",
       "      <td>309 HOLLOMAN ST</td>\n",
       "      <td>NaN</td>\n",
       "      <td>APEX</td>\n",
       "      <td>NC</td>\n",
       "      <td>27502</td>\n",
       "      <td>NaN</td>\n",
       "      <td>2016-07-01T00:00:00.000Z</td>\n",
       "      <td>Pushcarts</td>\n",
       "      <td>-78.855348</td>\n",
       "      <td>35.730219</td>\n",
       "      <td>M</td>\n",
       "    </tr>\n",
       "    <tr>\n",
       "      <th>2</th>\n",
       "      <td>1003</td>\n",
       "      <td>4092014444</td>\n",
       "      <td>TACOBELL</td>\n",
       "      <td>2207 S MAIN ST</td>\n",
       "      <td>NaN</td>\n",
       "      <td>WAKE FOREST</td>\n",
       "      <td>NC</td>\n",
       "      <td>27587</td>\n",
       "      <td>(919) 554-4924</td>\n",
       "      <td>2005-12-05T00:00:00.000Z</td>\n",
       "      <td>Restaurant</td>\n",
       "      <td>-78.536145</td>\n",
       "      <td>35.946695</td>\n",
       "      <td>M</td>\n",
       "    </tr>\n",
       "    <tr>\n",
       "      <th>3</th>\n",
       "      <td>1004</td>\n",
       "      <td>4092015333</td>\n",
       "      <td>THEREMEDYDINER</td>\n",
       "      <td>137 E HARGETT ST</td>\n",
       "      <td>NaN</td>\n",
       "      <td>RALEIGH</td>\n",
       "      <td>NC</td>\n",
       "      <td>27601</td>\n",
       "      <td>(919) 835-3553</td>\n",
       "      <td>2009-02-04T00:00:00.000Z</td>\n",
       "      <td>Restaurant</td>\n",
       "      <td>-78.636895</td>\n",
       "      <td>35.777999</td>\n",
       "      <td>M</td>\n",
       "    </tr>\n",
       "    <tr>\n",
       "      <th>4</th>\n",
       "      <td>1005</td>\n",
       "      <td>4092160069</td>\n",
       "      <td>ZEBULONHOUSEKITCHEN</td>\n",
       "      <td>551 PONY RD</td>\n",
       "      <td>NaN</td>\n",
       "      <td>ZEBULON</td>\n",
       "      <td>NC</td>\n",
       "      <td>27597</td>\n",
       "      <td>NaN</td>\n",
       "      <td>2009-02-18T00:00:00.000Z</td>\n",
       "      <td>Institutional Food Service</td>\n",
       "      <td>-78.332138</td>\n",
       "      <td>35.816779</td>\n",
       "      <td>M</td>\n",
       "    </tr>\n",
       "  </tbody>\n",
       "</table>\n",
       "</div>"
      ],
      "text/plain": [
       "   X.objectid      hsisid                        name  \\\n",
       "0        1001  4092017230                  SPRINGCAFE   \n",
       "1        1002  4092040338  CAROLINACLASSICHOTDOGSWCID   \n",
       "2        1003  4092014444                    TACOBELL   \n",
       "3        1004  4092015333              THEREMEDYDINER   \n",
       "4        1005  4092160069         ZEBULONHOUSEKITCHEN   \n",
       "\n",
       "                     address1 address2         city state  postalcode  \\\n",
       "0  2900-104 SPRING FOREST RD       NaN      RALEIGH    NC  27616-1895   \n",
       "1            309 HOLLOMAN ST       NaN         APEX    NC       27502   \n",
       "2             2207 S MAIN ST       NaN  WAKE FOREST    NC       27587   \n",
       "3           137 E HARGETT ST       NaN      RALEIGH    NC       27601   \n",
       "4                551 PONY RD       NaN      ZEBULON    NC       27597   \n",
       "\n",
       "      phonenumber        restaurantopendate                facilitytype  \\\n",
       "0  (919) 977-3679  2016-05-26T00:00:00.000Z                  Restaurant   \n",
       "1             NaN  2016-07-01T00:00:00.000Z                   Pushcarts   \n",
       "2  (919) 554-4924  2005-12-05T00:00:00.000Z                  Restaurant   \n",
       "3  (919) 835-3553  2009-02-04T00:00:00.000Z                  Restaurant   \n",
       "4             NaN  2009-02-18T00:00:00.000Z  Institutional Food Service   \n",
       "\n",
       "           x          y geocodestatus  \n",
       "0 -78.591634  35.855487             M  \n",
       "1 -78.855348  35.730219             M  \n",
       "2 -78.536145  35.946695             M  \n",
       "3 -78.636895  35.777999             M  \n",
       "4 -78.332138  35.816779             M  "
      ]
     },
     "execution_count": 183,
     "metadata": {},
     "output_type": "execute_result"
    }
   ],
   "source": [
    "newinspectionsdf['name'] = (newinspectionsdf['name']\n",
    "         .str.replace(r'[(#)-][^a-zA-Z]*', '')\n",
    "         .str.replace(r' ', '')\n",
    "         .str.replace(r'[^a-zA-Z]*', '')\n",
    "         .str.upper());\n",
    "restaurantsdf['name'] = (restaurantsdf['name']\n",
    "         .str.replace(r'[(#)-][^a-zA-Z]*', '')\n",
    "         .str.replace(r' ', '')\n",
    "         .str.replace(r'[^a-zA-Z]*', '')\n",
    "         .str.upper());\n",
    "restaurantsdf.head()"
   ]
  },
  {
   "cell_type": "markdown",
   "metadata": {},
   "source": [
    "<h4>Creating a new dataframe based on inspectors for future analysis</h4>\n",
    "Additionally, I am interested in analyzing the inspectors so I am going to make a new dataframe in which I count the amount of inspections that each inspector has done and how many inspections they have scored <= 89 in. From merging these two values, I get NaN values, which I know are <b>not missing at random</b> and I know that these values indicate that the inspector had never scored a restaurant lower than 89, so I fill these NaN values with the value 0. "
   ]
  },
  {
   "cell_type": "code",
   "execution_count": 184,
   "metadata": {
    "scrolled": true
   },
   "outputs": [
    {
     "data": {
      "text/html": [
       "<div>\n",
       "<style scoped>\n",
       "    .dataframe tbody tr th:only-of-type {\n",
       "        vertical-align: middle;\n",
       "    }\n",
       "\n",
       "    .dataframe tbody tr th {\n",
       "        vertical-align: top;\n",
       "    }\n",
       "\n",
       "    .dataframe thead th {\n",
       "        text-align: right;\n",
       "    }\n",
       "</style>\n",
       "<table border=\"1\" class=\"dataframe\">\n",
       "  <thead>\n",
       "    <tr style=\"text-align: right;\">\n",
       "      <th></th>\n",
       "      <th>total_inspections</th>\n",
       "      <th>score&lt;89</th>\n",
       "    </tr>\n",
       "  </thead>\n",
       "  <tbody>\n",
       "    <tr>\n",
       "      <th>1.0</th>\n",
       "      <td>1369</td>\n",
       "      <td>34.0</td>\n",
       "    </tr>\n",
       "    <tr>\n",
       "      <th>2.0</th>\n",
       "      <td>1072</td>\n",
       "      <td>53.0</td>\n",
       "    </tr>\n",
       "    <tr>\n",
       "      <th>3.0</th>\n",
       "      <td>957</td>\n",
       "      <td>0.0</td>\n",
       "    </tr>\n",
       "    <tr>\n",
       "      <th>4.0</th>\n",
       "      <td>139</td>\n",
       "      <td>2.0</td>\n",
       "    </tr>\n",
       "    <tr>\n",
       "      <th>5.0</th>\n",
       "      <td>904</td>\n",
       "      <td>4.0</td>\n",
       "    </tr>\n",
       "  </tbody>\n",
       "</table>\n",
       "</div>"
      ],
      "text/plain": [
       "     total_inspections  score<89\n",
       "1.0               1369      34.0\n",
       "2.0               1072      53.0\n",
       "3.0                957       0.0\n",
       "4.0                139       2.0\n",
       "5.0                904       4.0"
      ]
     },
     "execution_count": 184,
     "metadata": {},
     "output_type": "execute_result"
    }
   ],
   "source": [
    "less_89 = pd.DataFrame(newinspectionsdf[newinspectionsdf['score'] <= 89].\n",
    "                       groupby(\"inspector_id\")['inspector_id'].count()).rename(\n",
    "    {'inspector_id': 'score<89'}, axis = 1)\n",
    "inspectdf = pd.DataFrame(inspectionsdf['inspector_id'].value_counts()\n",
    "                           ).rename({'inspector_id': 'total_inspections'}, axis = 1)\n",
    "inspectorsdf = pd.concat([inspectdf, less_89], axis = 1, sort = False).fillna(0)\n",
    "inspectorsdf.head()"
   ]
  },
  {
   "cell_type": "markdown",
   "metadata": {},
   "source": [
    "<h4>Standardize my counts to percentages</h4>\n",
    "I am going to add another column, in which we evaluate the percent of inspections that the inspector gave low ratings. This is to create a uniform measurement because just evaluating the counts is not a good way to compare all the inspectors since they all have evaluated a different amount of restaurants. "
   ]
  },
  {
   "cell_type": "code",
   "execution_count": 185,
   "metadata": {
    "scrolled": true
   },
   "outputs": [
    {
     "data": {
      "text/html": [
       "<div>\n",
       "<style scoped>\n",
       "    .dataframe tbody tr th:only-of-type {\n",
       "        vertical-align: middle;\n",
       "    }\n",
       "\n",
       "    .dataframe tbody tr th {\n",
       "        vertical-align: top;\n",
       "    }\n",
       "\n",
       "    .dataframe thead th {\n",
       "        text-align: right;\n",
       "    }\n",
       "</style>\n",
       "<table border=\"1\" class=\"dataframe\">\n",
       "  <thead>\n",
       "    <tr style=\"text-align: right;\">\n",
       "      <th></th>\n",
       "      <th>total_inspections</th>\n",
       "      <th>score&lt;89</th>\n",
       "      <th>percent&lt;89</th>\n",
       "    </tr>\n",
       "  </thead>\n",
       "  <tbody>\n",
       "    <tr>\n",
       "      <th>31.0</th>\n",
       "      <td>270</td>\n",
       "      <td>28.0</td>\n",
       "      <td>10.370370</td>\n",
       "    </tr>\n",
       "    <tr>\n",
       "      <th>2.0</th>\n",
       "      <td>1072</td>\n",
       "      <td>53.0</td>\n",
       "      <td>4.944030</td>\n",
       "    </tr>\n",
       "    <tr>\n",
       "      <th>27.0</th>\n",
       "      <td>332</td>\n",
       "      <td>15.0</td>\n",
       "      <td>4.518072</td>\n",
       "    </tr>\n",
       "    <tr>\n",
       "      <th>25.0</th>\n",
       "      <td>1267</td>\n",
       "      <td>44.0</td>\n",
       "      <td>3.472770</td>\n",
       "    </tr>\n",
       "    <tr>\n",
       "      <th>1.0</th>\n",
       "      <td>1369</td>\n",
       "      <td>34.0</td>\n",
       "      <td>2.483565</td>\n",
       "    </tr>\n",
       "  </tbody>\n",
       "</table>\n",
       "</div>"
      ],
      "text/plain": [
       "      total_inspections  score<89  percent<89\n",
       "31.0                270      28.0   10.370370\n",
       "2.0                1072      53.0    4.944030\n",
       "27.0                332      15.0    4.518072\n",
       "25.0               1267      44.0    3.472770\n",
       "1.0                1369      34.0    2.483565"
      ]
     },
     "execution_count": 185,
     "metadata": {},
     "output_type": "execute_result"
    }
   ],
   "source": [
    "inspectorsdf['percent<89'] = (inspectorsdf['score<89']/inspectorsdf['total_inspections'])*100\n",
    "inspectorsdf.sort_values('percent<89', ascending= False).head()"
   ]
  },
  {
   "cell_type": "markdown",
   "metadata": {},
   "source": [
    "<h4>Create a Column to Classify the restaurants into chain vs not chain</h4>\n",
    "I am adding a column which will specify whether the restaurant is part of a chain or not so that I could analyze this further later. This will be useful for me to be able to compare the results of inspections for chain and not chain restaurants.\n",
    "<br>\n",
    "I will utilize <b>restaurantsdf</b> in order to evaluate whether the restaurant is a food chain, as using <b>inspectionsdf</b> would be incorrect since one restaurant may have multiple evaluations, so we cannot determine whether the restaurant is a food chain based on the amount of inspections the name has received. "
   ]
  },
  {
   "cell_type": "code",
   "execution_count": 186,
   "metadata": {
    "scrolled": true
   },
   "outputs": [],
   "source": [
    "restaurant_count = pd.DataFrame(restaurantsdf['name'].value_counts()).rename({'name':'count'}, axis = 1)\n",
    "restaurant_count['chain_type'] = restaurant_count['count'].apply(lambda x: \"chain\" if x > 1 else \"not chain\")\n",
    "restaurant_count = restaurant_count.reset_index().rename({'index':'name'}, axis = 1)\n",
    "restaurant_count_chain = restaurant_count[restaurant_count[\"chain_type\"] == \"chain\"]\n",
    "# restaurantsdf\n",
    "restaurant_count[\"index\"] = restaurant_count[\"name\"].copy(deep = True)\n",
    "restaurant_count = restaurant_count.set_index(\"index\")"
   ]
  },
  {
   "cell_type": "code",
   "execution_count": 187,
   "metadata": {},
   "outputs": [],
   "source": [
    "def ischain(row):\n",
    "    if row in np.array(restaurant_count_chain[\"name\"]):\n",
    "        return \"chain\"\n",
    "    return \"not chain\"\n",
    "newinspectionsdf['chain'] = newinspectionsdf['name'].apply(ischain)"
   ]
  },
  {
   "cell_type": "markdown",
   "metadata": {},
   "source": [
    "Additionally, it would be good to know the size of the restaurant chain if we do not want to just classify by whether it is a chain or not, but see the size of the chain itself. "
   ]
  },
  {
   "cell_type": "code",
   "execution_count": 188,
   "metadata": {},
   "outputs": [],
   "source": [
    "# newinspectionsdf['chain_size'] =\n",
    "def chain_count(row):\n",
    "    return restaurant_count.loc[row]['count']\n",
    "# restaurant_count['count'].apply(lambda x: \"chain\" if x > 1 else \"not chain\")\n",
    "newinspectionsdf['chain_size'] = newinspectionsdf['name'].apply(chain_count)"
   ]
  },
  {
   "cell_type": "markdown",
   "metadata": {},
   "source": [
    "Now let's quickly review the cleaned inspectionssdf"
   ]
  },
  {
   "cell_type": "code",
   "execution_count": 189,
   "metadata": {
    "scrolled": false
   },
   "outputs": [
    {
     "data": {
      "text/html": [
       "<div>\n",
       "<style scoped>\n",
       "    .dataframe tbody tr th:only-of-type {\n",
       "        vertical-align: middle;\n",
       "    }\n",
       "\n",
       "    .dataframe tbody tr th {\n",
       "        vertical-align: top;\n",
       "    }\n",
       "\n",
       "    .dataframe thead th {\n",
       "        text-align: right;\n",
       "    }\n",
       "</style>\n",
       "<table border=\"1\" class=\"dataframe\">\n",
       "  <thead>\n",
       "    <tr style=\"text-align: right;\">\n",
       "      <th></th>\n",
       "      <th>hsisid</th>\n",
       "      <th>date</th>\n",
       "      <th>name</th>\n",
       "      <th>city</th>\n",
       "      <th>restaurantopendate</th>\n",
       "      <th>days_from_open_date</th>\n",
       "      <th>facilitytype</th>\n",
       "      <th>x</th>\n",
       "      <th>y</th>\n",
       "      <th>zip</th>\n",
       "      <th>...</th>\n",
       "      <th>num_non_critical_previous</th>\n",
       "      <th>num_critical_mean_previous</th>\n",
       "      <th>num_non_critical_mean_previous</th>\n",
       "      <th>avg_neighbor_num_critical</th>\n",
       "      <th>avg_neighbor_num_non_critical</th>\n",
       "      <th>top_match</th>\n",
       "      <th>second_match</th>\n",
       "      <th>critical</th>\n",
       "      <th>chain</th>\n",
       "      <th>chain_size</th>\n",
       "    </tr>\n",
       "  </thead>\n",
       "  <tbody>\n",
       "    <tr>\n",
       "      <th>0</th>\n",
       "      <td>4092013748</td>\n",
       "      <td>2012-09-21 00:00:00+00:00</td>\n",
       "      <td>CAFEATWAKEMED</td>\n",
       "      <td>raleigh</td>\n",
       "      <td>2002-12-21 00:00:00+00:00</td>\n",
       "      <td>3562</td>\n",
       "      <td>Restaurant</td>\n",
       "      <td>-78.587963</td>\n",
       "      <td>35.783914</td>\n",
       "      <td>27610</td>\n",
       "      <td>...</td>\n",
       "      <td>NaN</td>\n",
       "      <td>NaN</td>\n",
       "      <td>NaN</td>\n",
       "      <td>NaN</td>\n",
       "      <td>NaN</td>\n",
       "      <td>NaN</td>\n",
       "      <td>NaN</td>\n",
       "      <td>1</td>\n",
       "      <td>not chain</td>\n",
       "      <td>1</td>\n",
       "    </tr>\n",
       "    <tr>\n",
       "      <th>1</th>\n",
       "      <td>4092014046</td>\n",
       "      <td>2012-09-21 00:00:00+00:00</td>\n",
       "      <td>OVERTIMESPORTSPUB</td>\n",
       "      <td>raleigh</td>\n",
       "      <td>2004-05-04 00:00:00+00:00</td>\n",
       "      <td>3062</td>\n",
       "      <td>Restaurant</td>\n",
       "      <td>-78.549673</td>\n",
       "      <td>35.791986</td>\n",
       "      <td>27610</td>\n",
       "      <td>...</td>\n",
       "      <td>NaN</td>\n",
       "      <td>NaN</td>\n",
       "      <td>NaN</td>\n",
       "      <td>NaN</td>\n",
       "      <td>NaN</td>\n",
       "      <td>NaN</td>\n",
       "      <td>NaN</td>\n",
       "      <td>0</td>\n",
       "      <td>not chain</td>\n",
       "      <td>1</td>\n",
       "    </tr>\n",
       "    <tr>\n",
       "      <th>2</th>\n",
       "      <td>4092015191</td>\n",
       "      <td>2012-09-21 00:00:00+00:00</td>\n",
       "      <td>TASTEOFCHINA</td>\n",
       "      <td>raleigh</td>\n",
       "      <td>2008-08-04 00:00:00+00:00</td>\n",
       "      <td>1509</td>\n",
       "      <td>Restaurant</td>\n",
       "      <td>-78.547960</td>\n",
       "      <td>35.723125</td>\n",
       "      <td>27610</td>\n",
       "      <td>...</td>\n",
       "      <td>NaN</td>\n",
       "      <td>NaN</td>\n",
       "      <td>NaN</td>\n",
       "      <td>NaN</td>\n",
       "      <td>NaN</td>\n",
       "      <td>NaN</td>\n",
       "      <td>NaN</td>\n",
       "      <td>1</td>\n",
       "      <td>chain</td>\n",
       "      <td>4</td>\n",
       "    </tr>\n",
       "    <tr>\n",
       "      <th>3</th>\n",
       "      <td>4092016122</td>\n",
       "      <td>2012-09-21 00:00:00+00:00</td>\n",
       "      <td>PANERABREAD</td>\n",
       "      <td>cary</td>\n",
       "      <td>2012-03-28 00:00:00+00:00</td>\n",
       "      <td>177</td>\n",
       "      <td>Restaurant</td>\n",
       "      <td>-78.815727</td>\n",
       "      <td>35.799249</td>\n",
       "      <td>27513</td>\n",
       "      <td>...</td>\n",
       "      <td>NaN</td>\n",
       "      <td>NaN</td>\n",
       "      <td>NaN</td>\n",
       "      <td>NaN</td>\n",
       "      <td>NaN</td>\n",
       "      <td>NaN</td>\n",
       "      <td>NaN</td>\n",
       "      <td>1</td>\n",
       "      <td>chain</td>\n",
       "      <td>9</td>\n",
       "    </tr>\n",
       "    <tr>\n",
       "      <th>4</th>\n",
       "      <td>4092021513</td>\n",
       "      <td>2012-09-21 00:00:00+00:00</td>\n",
       "      <td>WALMARTSUPERCENTERDELIBAKERY</td>\n",
       "      <td>zebulon</td>\n",
       "      <td>2008-02-25 00:00:00+00:00</td>\n",
       "      <td>1670</td>\n",
       "      <td>Food Stand</td>\n",
       "      <td>-78.296347</td>\n",
       "      <td>35.831285</td>\n",
       "      <td>27597</td>\n",
       "      <td>...</td>\n",
       "      <td>NaN</td>\n",
       "      <td>NaN</td>\n",
       "      <td>NaN</td>\n",
       "      <td>NaN</td>\n",
       "      <td>NaN</td>\n",
       "      <td>NaN</td>\n",
       "      <td>NaN</td>\n",
       "      <td>1</td>\n",
       "      <td>not chain</td>\n",
       "      <td>1</td>\n",
       "    </tr>\n",
       "  </tbody>\n",
       "</table>\n",
       "<p>5 rows × 30 columns</p>\n",
       "</div>"
      ],
      "text/plain": [
       "       hsisid                      date                          name  \\\n",
       "0  4092013748 2012-09-21 00:00:00+00:00                 CAFEATWAKEMED   \n",
       "1  4092014046 2012-09-21 00:00:00+00:00             OVERTIMESPORTSPUB   \n",
       "2  4092015191 2012-09-21 00:00:00+00:00                  TASTEOFCHINA   \n",
       "3  4092016122 2012-09-21 00:00:00+00:00                   PANERABREAD   \n",
       "4  4092021513 2012-09-21 00:00:00+00:00  WALMARTSUPERCENTERDELIBAKERY   \n",
       "\n",
       "      city        restaurantopendate  days_from_open_date facilitytype  \\\n",
       "0  raleigh 2002-12-21 00:00:00+00:00                 3562   Restaurant   \n",
       "1  raleigh 2004-05-04 00:00:00+00:00                 3062   Restaurant   \n",
       "2  raleigh 2008-08-04 00:00:00+00:00                 1509   Restaurant   \n",
       "3     cary 2012-03-28 00:00:00+00:00                  177   Restaurant   \n",
       "4  zebulon 2008-02-25 00:00:00+00:00                 1670   Food Stand   \n",
       "\n",
       "           x          y    zip  ... num_non_critical_previous  \\\n",
       "0 -78.587963  35.783914  27610  ...                       NaN   \n",
       "1 -78.549673  35.791986  27610  ...                       NaN   \n",
       "2 -78.547960  35.723125  27610  ...                       NaN   \n",
       "3 -78.815727  35.799249  27513  ...                       NaN   \n",
       "4 -78.296347  35.831285  27597  ...                       NaN   \n",
       "\n",
       "   num_critical_mean_previous  num_non_critical_mean_previous  \\\n",
       "0                         NaN                             NaN   \n",
       "1                         NaN                             NaN   \n",
       "2                         NaN                             NaN   \n",
       "3                         NaN                             NaN   \n",
       "4                         NaN                             NaN   \n",
       "\n",
       "  avg_neighbor_num_critical  avg_neighbor_num_non_critical top_match  \\\n",
       "0                       NaN                            NaN       NaN   \n",
       "1                       NaN                            NaN       NaN   \n",
       "2                       NaN                            NaN       NaN   \n",
       "3                       NaN                            NaN       NaN   \n",
       "4                       NaN                            NaN       NaN   \n",
       "\n",
       "   second_match  critical      chain  chain_size  \n",
       "0           NaN         1  not chain           1  \n",
       "1           NaN         0  not chain           1  \n",
       "2           NaN         1      chain           4  \n",
       "3           NaN         1      chain           9  \n",
       "4           NaN         1  not chain           1  \n",
       "\n",
       "[5 rows x 30 columns]"
      ]
     },
     "execution_count": 189,
     "metadata": {},
     "output_type": "execute_result"
    }
   ],
   "source": [
    "newinspectionsdf.head()"
   ]
  },
  {
   "cell_type": "markdown",
   "metadata": {},
   "source": [
    "# Data Analysis & Results"
   ]
  },
  {
   "cell_type": "markdown",
   "metadata": {},
   "source": [
    "I am going to analyze the scores given to restaurants, mainly focusing on the difference in scores for non chain and chain restaurants. In order to evaluate the significance of my findings, I will be using a permutation test. "
   ]
  },
  {
   "cell_type": "markdown",
   "metadata": {},
   "source": [
    "<h3><b>Assumptions:</b></h3>\n",
    "Before proceeding to the Analysis, there are some assumptions that are being made based on the dataset for certain columns. \n",
    "\n",
    "<br>\n",
    "- I am assuming that restaurants of the same name are part of the same company, for example all of the McDonalds are part of the same company. Therefore any restaurant who is the only one of its kind in North Carolina will be considered <i>not</i> part of a food chain. \n",
    "<br>"
   ]
  },
  {
   "cell_type": "markdown",
   "metadata": {},
   "source": [
    "<h3>Exploratory Data Analysis</h3>"
   ]
  },
  {
   "cell_type": "markdown",
   "metadata": {},
   "source": [
    "<h4>Let's look at statistics of inspectionsdf</h4>\n",
    "From this table, we can see that restaurants on average are scoring very high, with an average of 96. we can also see the total average critical and non-critical violations a restaurant will have. "
   ]
  },
  {
   "cell_type": "code",
   "execution_count": 190,
   "metadata": {
    "scrolled": true
   },
   "outputs": [
    {
     "data": {
      "text/html": [
       "<div>\n",
       "<style scoped>\n",
       "    .dataframe tbody tr th:only-of-type {\n",
       "        vertical-align: middle;\n",
       "    }\n",
       "\n",
       "    .dataframe tbody tr th {\n",
       "        vertical-align: top;\n",
       "    }\n",
       "\n",
       "    .dataframe thead th {\n",
       "        text-align: right;\n",
       "    }\n",
       "</style>\n",
       "<table border=\"1\" class=\"dataframe\">\n",
       "  <thead>\n",
       "    <tr style=\"text-align: right;\">\n",
       "      <th></th>\n",
       "      <th>days_from_open_date</th>\n",
       "      <th>score</th>\n",
       "      <th>num_critical</th>\n",
       "      <th>num_non_critical</th>\n",
       "    </tr>\n",
       "  </thead>\n",
       "  <tbody>\n",
       "    <tr>\n",
       "      <th>count</th>\n",
       "      <td>18466.000000</td>\n",
       "      <td>18466.000000</td>\n",
       "      <td>18466.000000</td>\n",
       "      <td>18466.000000</td>\n",
       "    </tr>\n",
       "    <tr>\n",
       "      <th>mean</th>\n",
       "      <td>3262.693274</td>\n",
       "      <td>96.235324</td>\n",
       "      <td>2.844308</td>\n",
       "      <td>5.161432</td>\n",
       "    </tr>\n",
       "    <tr>\n",
       "      <th>std</th>\n",
       "      <td>2569.271482</td>\n",
       "      <td>2.654203</td>\n",
       "      <td>2.809652</td>\n",
       "      <td>3.679451</td>\n",
       "    </tr>\n",
       "    <tr>\n",
       "      <th>min</th>\n",
       "      <td>-160.000000</td>\n",
       "      <td>72.500000</td>\n",
       "      <td>0.000000</td>\n",
       "      <td>0.000000</td>\n",
       "    </tr>\n",
       "    <tr>\n",
       "      <th>25%</th>\n",
       "      <td>1069.000000</td>\n",
       "      <td>95.000000</td>\n",
       "      <td>1.000000</td>\n",
       "      <td>3.000000</td>\n",
       "    </tr>\n",
       "    <tr>\n",
       "      <th>50%</th>\n",
       "      <td>2733.000000</td>\n",
       "      <td>97.000000</td>\n",
       "      <td>2.000000</td>\n",
       "      <td>4.000000</td>\n",
       "    </tr>\n",
       "    <tr>\n",
       "      <th>75%</th>\n",
       "      <td>4884.750000</td>\n",
       "      <td>98.000000</td>\n",
       "      <td>4.000000</td>\n",
       "      <td>7.000000</td>\n",
       "    </tr>\n",
       "    <tr>\n",
       "      <th>max</th>\n",
       "      <td>10947.000000</td>\n",
       "      <td>100.000000</td>\n",
       "      <td>23.000000</td>\n",
       "      <td>33.000000</td>\n",
       "    </tr>\n",
       "  </tbody>\n",
       "</table>\n",
       "</div>"
      ],
      "text/plain": [
       "       days_from_open_date         score  num_critical  num_non_critical\n",
       "count         18466.000000  18466.000000  18466.000000      18466.000000\n",
       "mean           3262.693274     96.235324      2.844308          5.161432\n",
       "std            2569.271482      2.654203      2.809652          3.679451\n",
       "min            -160.000000     72.500000      0.000000          0.000000\n",
       "25%            1069.000000     95.000000      1.000000          3.000000\n",
       "50%            2733.000000     97.000000      2.000000          4.000000\n",
       "75%            4884.750000     98.000000      4.000000          7.000000\n",
       "max           10947.000000    100.000000     23.000000         33.000000"
      ]
     },
     "execution_count": 190,
     "metadata": {},
     "output_type": "execute_result"
    }
   ],
   "source": [
    "inspectionsdf[[\"days_from_open_date\", \"score\", \"num_critical\", \"num_non_critical\"]].describe()"
   ]
  },
  {
   "cell_type": "markdown",
   "metadata": {},
   "source": [
    "<h4>Analyzing the amount of times the restaurant chains have been evaluated. </h4>\n",
    "We can see that subway has more food evaluations than most restaurants. Possible reasons include there may be a lot of subways in orth carolina, subway may have been in north carolina for a while, or a mixture of both. "
   ]
  },
  {
   "cell_type": "code",
   "execution_count": 191,
   "metadata": {},
   "outputs": [
    {
     "data": {
      "text/plain": [
       "SUBWAY                                 401\n",
       "FOODLIONMEATMARKET                     332\n",
       "FOODLIONDELI                           279\n",
       "HARRISTEETERDELI                       215\n",
       "MCDONALDS                              210\n",
       "                                      ... \n",
       "SOUTHGARNERPARKCONCESSION                1\n",
       "LEDOPIZZA                                1\n",
       "THELUXURYBOX                             1\n",
       "NOODLEBLVD                               1\n",
       "BESTWESTERNPLUSEDISONINNFOODSERVICE      1\n",
       "Name: name, Length: 2051, dtype: int64"
      ]
     },
     "execution_count": 191,
     "metadata": {},
     "output_type": "execute_result"
    }
   ],
   "source": [
    "newinspectionsdf['name'].value_counts()"
   ]
  },
  {
   "cell_type": "markdown",
   "metadata": {},
   "source": [
    "<h4>Let's look at the Distributions of the violations</h4>\n",
    "From this plot, we can see that most of the number of <b>not critical</b> values is right skewed and most restuarants will have between 2-5 violations in their visits."
   ]
  },
  {
   "cell_type": "code",
   "execution_count": 192,
   "metadata": {
    "scrolled": true
   },
   "outputs": [
    {
     "data": {
      "image/png": "[encoded data removed]",
      "text/plain": [
       "<Figure size 1224x360 with 1 Axes>"
      ]
     },
     "metadata": {
      "needs_background": "light"
     },
     "output_type": "display_data"
    }
   ],
   "source": [
    "#prettify the plot\n",
    "sns.set_style({\"xtick.bottom\": False,\n",
    "               \"xtick.top\": False,\n",
    "               \"ytick.left\":False, \n",
    "               'axes.edgecolor': 'white', 'text.color': 'black'})\n",
    "ax = sns.countplot(x = 'num_non_critical', data = newinspectionsdf)\n",
    "ax.set(xlabel = 'critical violations', ylabel = '', yticklabels = [])\n",
    "ax.set_xlabel(xlabel = \"non critical violations\", color = 'black')\n",
    "ax.set_ylabel(ylabel = \"count\", color = 'black')\n",
    "plt.title(\"NON critical violations distribution\")\n",
    "plt.show()"
   ]
  },
  {
   "cell_type": "markdown",
   "metadata": {},
   "source": [
    "Lets compare this to the number of <b>critical</b> violations marked in restaurants. "
   ]
  },
  {
   "cell_type": "code",
   "execution_count": 193,
   "metadata": {
    "scrolled": true
   },
   "outputs": [
    {
     "data": {
      "image/png": "[encoded data removed]",
      "text/plain": [
       "<Figure size 1224x360 with 1 Axes>"
      ]
     },
     "metadata": {
      "needs_background": "light"
     },
     "output_type": "display_data"
    }
   ],
   "source": [
    "#prettify the plot\n",
    "sns.set_style({\"xtick.bottom\": False,\n",
    "               \"xtick.top\": False,\n",
    "               \"ytick.left\":False, \n",
    "               'axes.edgecolor': 'white', 'text.color': 'black', 'palette' : 'deep'})\n",
    "ax = sns.countplot(x = 'num_critical', data = newinspectionsdf)\n",
    "ax.set(xlabel = 'critical violations', ylabel = 'count', yticklabels = [])\n",
    "ax.set_xlabel(xlabel = \"critical violations\", color = 'black')\n",
    "ax.set_ylabel(ylabel = \"count\", color = 'black')\n",
    "plt.title(\"CRITICAL violations distribution\")\n",
    "plt.show()"
   ]
  },
  {
   "cell_type": "markdown",
   "metadata": {},
   "source": [
    "We can see there tends to be less critical violations compared to not critical, and there tends to be 0 or 2 critical violations in a visit. "
   ]
  },
  {
   "cell_type": "markdown",
   "metadata": {},
   "source": [
    "<h4>Now that we've seen the general distribution for overral inspections, will it differ if we were to analyze the number of violations based on chains vs non chains?</h4>"
   ]
  },
  {
   "cell_type": "code",
   "execution_count": 194,
   "metadata": {
    "scrolled": false
   },
   "outputs": [
    {
     "data": {
      "image/png": "[encoded data removed]",
      "text/plain": [
       "<Figure size 720x288 with 2 Axes>"
      ]
     },
     "metadata": {
      "needs_background": "light"
     },
     "output_type": "display_data"
    }
   ],
   "source": [
    "fig, axes = plt.subplots(nrows = 1, ncols = 2, figsize = (10,4))\n",
    "# axes.set(xlabel = 'critical violations', ylabel = '', yticklabels = [])\n",
    "newinspectionsdf.boxplot(column = 'num_critical', by = 'chain', ax = axes[0])\n",
    "newinspectionsdf.boxplot(column = 'num_non_critical', by = 'chain', ax = axes[1])\n",
    "fig.tight_layout(pad = 2)"
   ]
  },
  {
   "cell_type": "markdown",
   "metadata": {},
   "source": [
    "From a glance, it appears that in terms of critical violations, chain and non chain restaurants are pretty even, although chain restaurants have bigger outliers. This could be due to a high amount of chain restaurants than non chain restaurants. Meanwhile, when evaluating the number of non critical violations, the non critical evaluations for non chain restaurants has a higher average, despite the number of outliers that can be found in chain restaurants. This suggests that smaller restaurants tend to receive more non-critical violations compared to larger restaurants on average. "
   ]
  },
  {
   "cell_type": "markdown",
   "metadata": {},
   "source": [
    "<h4>What are the exact percentages of chains and non chains with scores less than 89? </h4>"
   ]
  },
  {
   "cell_type": "code",
   "execution_count": 195,
   "metadata": {
    "scrolled": true
   },
   "outputs": [
    {
     "data": {
      "text/plain": [
       "chain\n",
       "chain        1.029531\n",
       "not chain    1.741249\n",
       "Name: score, dtype: float64"
      ]
     },
     "execution_count": 195,
     "metadata": {},
     "output_type": "execute_result"
    }
   ],
   "source": [
    "num_less_than_89 = newinspectionsdf[newinspectionsdf[\"score\"]< 89].groupby(\"chain\").count()['score']\n",
    "total = newinspectionsdf.groupby(\"chain\").count()['score']\n",
    "(num_less_than_89/total)*100"
   ]
  },
  {
   "cell_type": "markdown",
   "metadata": {},
   "source": [
    "Impressively, we see that the percent of chains that have scores less than 89 are less than 2% for both chains and non-chains. However non-chains seem to have a slightly higher percentage than chain restuarants"
   ]
  },
  {
   "cell_type": "code",
   "execution_count": 196,
   "metadata": {
    "scrolled": true
   },
   "outputs": [
    {
     "data": {
      "image/png": "[encoded data removed]",
      "text/plain": [
       "<Figure size 1224x360 with 1 Axes>"
      ]
     },
     "metadata": {
      "needs_background": "light"
     },
     "output_type": "display_data"
    }
   ],
   "source": [
    "# plt.hist(newinspectionsdf[newinspectionsdf['score']], color = 'red', alpha = .5)\n",
    "x = newinspectionsdf[newinspectionsdf['chain'] == 'chain']['score']\n",
    "y = newinspectionsdf[newinspectionsdf['chain'] == 'not chain']['score']\n",
    "plt.hist([x, y], color = ['blue', 'red'], alpha = .5, density='mean')\n",
    "red_patch = mpatches.Patch(color='blue', label='chain restaurant', alpha = .5)\n",
    "blue_patch = mpatches.Patch(color='red', label='not chain restaurant', alpha = .5)\n",
    "plt.legend(handles=[red_patch, blue_patch])\n",
    "plt.title(\"score density of chain and non chain restaurants\")\n",
    "plt.xlabel(\"Score\")\n",
    "plt.ylabel(\"density\")\n",
    "plt.show()"
   ]
  },
  {
   "cell_type": "markdown",
   "metadata": {},
   "source": [
    "Notice that chain restaurants seem to have a higher density between 95-100, while there is a higher density of not chain restaurants below the 95 bin. Is there a significance in this subtle difference?"
   ]
  },
  {
   "cell_type": "markdown",
   "metadata": {},
   "source": [
    "<h4>Compare the average score between restaurant chains and not restaurant chains</h4>\n",
    "It appears that chain has a slightly higher average score than not chain, but we would need to perform a permutation test to see if there is an actual significance in this. "
   ]
  },
  {
   "cell_type": "code",
   "execution_count": 197,
   "metadata": {
    "scrolled": false
   },
   "outputs": [
    {
     "data": {
      "text/plain": [
       "chain\n",
       "chain        96.397589\n",
       "not chain    96.127256\n",
       "Name: score, dtype: float64"
      ]
     },
     "execution_count": 197,
     "metadata": {},
     "output_type": "execute_result"
    }
   ],
   "source": [
    "original_statistics = newinspectionsdf.groupby('chain')['score'].mean()\n",
    "real_difference = original_statistics[0] - original_statistics[1]\n",
    "original_statistics"
   ]
  },
  {
   "cell_type": "markdown",
   "metadata": {},
   "source": [
    "<h4>Perform a permutation test to see if the differences between chain and not chain is significant</h4>\n",
    "It appears that chain has a slightly higher average score than not chain, but we would need to perform a permutation test to see if there is an actual significance in this. \n",
    "<br>\n",
    "We will perform this permutation test with: <br>\n",
    "<b>null hypothesis: </b> There is no significant difference between the difference we see between chain and not chain, and it is due to random chance \n",
    "<br>\n",
    "<b>alternative hypothesis: </b> There is some sort of significant difference between the chain and not chain difference\n",
    "<br>\n",
    "We are going to perform this test, and assume that a p value of 0.05 or less is of significance. "
   ]
  },
  {
   "cell_type": "code",
   "execution_count": 198,
   "metadata": {},
   "outputs": [
    {
     "name": "stdout",
     "output_type": "stream",
     "text": [
      "p-value:  0.0\n"
     ]
    },
    {
     "data": {
      "image/png": "[encoded data removed]",
      "text/plain": [
       "<Figure size 1224x360 with 1 Axes>"
      ]
     },
     "metadata": {
      "needs_background": "light"
     },
     "output_type": "display_data"
    }
   ],
   "source": [
    "victim = newinspectionsdf[['score', 'chain']].copy(deep = True)\n",
    "results = []\n",
    "for i in range(1000):\n",
    "    victim['shuffled'] = np.random.permutation(newinspectionsdf['chain'].copy(deep = True).values)\n",
    "    group_victim = victim.groupby(\"shuffled\")['score'].mean()\n",
    "    difference = group_victim[0] - group_victim[1]\n",
    "    results.append(difference)\n",
    "plt.hist(results)\n",
    "plt.title(\"permutation test on the average difference between chain and non chain scores\")\n",
    "plt.xlabel(\"average difference\")\n",
    "plt.ylabel(\"count of occurence\")\n",
    "plt.scatter(real_difference, y = 0, color = 'red')\n",
    "blue_patch = mpatches.Circle(color='red', label='true chain-nonchain mean difference', xy = 2)\n",
    "plt.legend(handles=[blue_patch])\n",
    "print(\"p-value: \", np.sum(results >= real_difference)/1000)"
   ]
  },
  {
   "cell_type": "markdown",
   "metadata": {},
   "source": [
    "We see with the p value of 0 there is some significant difference between the ratings given to chain restaurants and non-chain restaurants, therefore we reject our null hypothesis that there is no difference in the average score given. <b> Our result indicates that assuming there were no difference between chain and not chain average scores, there were never a time that we got a difference as extreme as our inspected values.</b> Therefore we can see that although at first glance the difference in scores does not appear to be significant based on a fast glance, the scores do not come from the same distribution. "
   ]
  },
  {
   "cell_type": "markdown",
   "metadata": {},
   "source": [
    "<h3>Let's differentiate the chain restaurants a bit more: rather than grouping them into chain vs not chain, we will now evaluate based on the chain size. </h3>\n",
    "In order to do this, I go back to the restaurant_count dataframe made in my DataCleaning process. I add a new column with evaluates the average rating each restaurant franchise has gotten. "
   ]
  },
  {
   "cell_type": "code",
   "execution_count": 199,
   "metadata": {
    "scrolled": false
   },
   "outputs": [
    {
     "data": {
      "text/html": [
       "<div>\n",
       "<style scoped>\n",
       "    .dataframe tbody tr th:only-of-type {\n",
       "        vertical-align: middle;\n",
       "    }\n",
       "\n",
       "    .dataframe tbody tr th {\n",
       "        vertical-align: top;\n",
       "    }\n",
       "\n",
       "    .dataframe thead th {\n",
       "        text-align: right;\n",
       "    }\n",
       "</style>\n",
       "<table border=\"1\" class=\"dataframe\">\n",
       "  <thead>\n",
       "    <tr style=\"text-align: right;\">\n",
       "      <th></th>\n",
       "      <th>name</th>\n",
       "      <th>count</th>\n",
       "      <th>chain_type</th>\n",
       "      <th>average_scores</th>\n",
       "    </tr>\n",
       "    <tr>\n",
       "      <th>index</th>\n",
       "      <th></th>\n",
       "      <th></th>\n",
       "      <th></th>\n",
       "      <th></th>\n",
       "    </tr>\n",
       "  </thead>\n",
       "  <tbody>\n",
       "    <tr>\n",
       "      <th>SUBWAY</th>\n",
       "      <td>SUBWAY</td>\n",
       "      <td>68</td>\n",
       "      <td>chain</td>\n",
       "      <td>96.880299</td>\n",
       "    </tr>\n",
       "    <tr>\n",
       "      <th>MCDONALDS</th>\n",
       "      <td>MCDONALDS</td>\n",
       "      <td>50</td>\n",
       "      <td>chain</td>\n",
       "      <td>95.959524</td>\n",
       "    </tr>\n",
       "    <tr>\n",
       "      <th>FOODLIONPRODUCE</th>\n",
       "      <td>FOODLIONPRODUCE</td>\n",
       "      <td>45</td>\n",
       "      <td>chain</td>\n",
       "      <td>98.710784</td>\n",
       "    </tr>\n",
       "    <tr>\n",
       "      <th>FOODLIONDELI</th>\n",
       "      <td>FOODLIONDELI</td>\n",
       "      <td>43</td>\n",
       "      <td>chain</td>\n",
       "      <td>97.569892</td>\n",
       "    </tr>\n",
       "    <tr>\n",
       "      <th>FOODLIONMEATMARKET</th>\n",
       "      <td>FOODLIONMEATMARKET</td>\n",
       "      <td>40</td>\n",
       "      <td>chain</td>\n",
       "      <td>97.879518</td>\n",
       "    </tr>\n",
       "  </tbody>\n",
       "</table>\n",
       "</div>"
      ],
      "text/plain": [
       "                                  name  count chain_type  average_scores\n",
       "index                                                                   \n",
       "SUBWAY                          SUBWAY     68      chain       96.880299\n",
       "MCDONALDS                    MCDONALDS     50      chain       95.959524\n",
       "FOODLIONPRODUCE        FOODLIONPRODUCE     45      chain       98.710784\n",
       "FOODLIONDELI              FOODLIONDELI     43      chain       97.569892\n",
       "FOODLIONMEATMARKET  FOODLIONMEATMARKET     40      chain       97.879518"
      ]
     },
     "execution_count": 199,
     "metadata": {},
     "output_type": "execute_result"
    }
   ],
   "source": [
    "restaurant_avgs = newinspectionsdf.groupby(\"name\")['score'].mean()\n",
    "def average_scores(row):\n",
    "    try:\n",
    "        return restaurant_avgs.loc[row]\n",
    "    except:\n",
    "        return np.NaN\n",
    "restaurant_count['average_scores'] = restaurant_count['name'].apply(average_scores)\n",
    "restaurant_count.head()"
   ]
  },
  {
   "cell_type": "markdown",
   "metadata": {},
   "source": [
    "<h4>Now we can compare the average score and size of the franchise. </h4>"
   ]
  },
  {
   "cell_type": "code",
   "execution_count": 200,
   "metadata": {},
   "outputs": [
    {
     "data": {
      "image/png": "[encoded data removed]",
      "text/plain": [
       "<Figure size 1224x360 with 1 Axes>"
      ]
     },
     "metadata": {
      "needs_background": "light"
     },
     "output_type": "display_data"
    }
   ],
   "source": [
    "restaurant_count.plot(kind = 'scatter', x = \"count\", y = \"average_scores\")\n",
    "plt.title(\"average scores for restaurants based on the chain size\")\n",
    "plt.xlabel(\"number of restaurants the franchise owns\")\n",
    "plt.ylabel(\"average score\")\n",
    "plt.show()"
   ]
  },
  {
   "cell_type": "markdown",
   "metadata": {},
   "source": [
    "<h4>This plot shows the variance of scores for smaller restaurants, and as they expand the average score increases. Notice the <b>Variance</b> of the average score decreases as the chain size increases. This further supports our test above in which we evaluated the difference of chain size with average score.</h4> "
   ]
  },
  {
   "cell_type": "code",
   "execution_count": 201,
   "metadata": {},
   "outputs": [
    {
     "name": "stderr",
     "output_type": "stream",
     "text": [
      "/Users/madeline/opt/anaconda3/lib/python3.7/site-packages/ipykernel_launcher.py:20: UserWarning: Boolean Series key will be reindexed to match DataFrame index.\n",
      "/Users/madeline/opt/anaconda3/lib/python3.7/site-packages/ipykernel_launcher.py:20: UserWarning: Boolean Series key will be reindexed to match DataFrame index.\n"
     ]
    },
    {
     "data": {
      "image/png": "[encoded data removed]",
      "text/plain": [
       "<Figure size 1224x360 with 1 Axes>"
      ]
     },
     "metadata": {
      "needs_background": "light"
     },
     "output_type": "display_data"
    }
   ],
   "source": [
    "world = gpd.read_file('states_21basic/states.shp')\n",
    "# get all the ids of the inspectors\n",
    "inspector_ids = [\"chain\", \"not chain\"]\n",
    "# create a color list so there is different colors to represent each inspector\n",
    "color_list = ['blue','red']\n",
    "# using the north carolina map (although it wasn't very useful in creating my visualization)\n",
    "ax = world[world.STATE_ABBR == 'NC'].plot(color='black', edgecolor='black')\n",
    "shrunkdf = newinspectionsdf\n",
    "gdf = gpd.GeoDataFrame(\n",
    "    shrunkdf, geometry=gpd.points_from_xy(shrunkdf.x, shrunkdf.y))\n",
    "minx, miny, maxx, maxy = gdf.total_bounds\n",
    "ax.set_xlim(-78.95, -78.267)\n",
    "ax.set_ylim(35.52, 36.08)\n",
    "ax.set_xlabel(\"\")\n",
    "ax.set_ylabel(\"\")\n",
    "ax.yaxis.set_major_locator(plt.NullLocator())\n",
    "ax.xaxis.set_major_formatter(plt.NullFormatter())\n",
    "chain = []\n",
    "for i in range(len(inspector_ids)):\n",
    "    shrunkdf = newinspectionsdf[newinspectionsdf[\"chain\"] == inspector_ids[i]][newinspectionsdf[\"score\"] < 89]\n",
    "    gdf = gpd.GeoDataFrame(\n",
    "    shrunkdf, geometry=gpd.points_from_xy(shrunkdf.x, shrunkdf.y))\n",
    "    ref = gdf.plot(ax=ax, color = color_list[i], alpha = 0.15)\n",
    "    chain.append(ref)\n",
    "plt.title('map of Inspection locations that scored less than 89, color based on chain vs not chain', color = 'black')\n",
    "red_patch = mpatches.Patch(color='blue', label='chain restaurant', alpha = .5)\n",
    "blue_patch = mpatches.Patch(color='red', label='not chain restaurant', alpha = .5)\n",
    "plt.legend(handles=[red_patch, blue_patch])\n",
    "plt.show()"
   ]
  },
  {
   "cell_type": "markdown",
   "metadata": {},
   "source": [
    "We inspect the location of all of the restaurants to see if there is some sort of divide between chain restaurants and non chain restaurants on the map. There appears to be no apparent difference in their placement across the map. <br>\n",
    "However, notice that there are more prominently red areas which indicate multiple non-chain restaurants that received lower ratings. It is unclear what the reason for these areas receiving lower ratings is."
   ]
  },
  {
   "cell_type": "markdown",
   "metadata": {},
   "source": [
    "# Ethics & Privacy"
   ]
  },
  {
   "cell_type": "markdown",
   "metadata": {},
   "source": [
    "<b>Permission to use this data / use it for this purpose:<br></b>\n",
    "Since most of the inspections are public information, I would have permission to use the datasets. I also assume since I was given this by COGS 108, it was not illegally downloaded and should be from some sort of public data.<br>\n",
    "\n",
    "<b>Privacy concerns regarding your datasets that you need to deal with, and/or terms of use that I need to comply with:</b>\n",
    "<br>\n",
    "I would assume that all of the phone numbers, and names should be taken out before starting to analyze my datatset. I made careful to only use the ids that were given to me, and refered to all of the inspectors by their id's. Additionally it is important for me to make sure that I keep an open mind not to assume some sort of bias between certain restaurants or inspectors based on any factors. <br>\n",
    "\n",
    "<b>Potential biases in my dataset, in terms of who it composes, and how it was collected, that may be problematic in terms of it allowing for equitable analysis:</b><br> Restaurants in different areas will be graded by different inspectors, so there can be a bias between the grades that were received. However, it would be difficult to be able to account for the bias between inspectors to protect their privacies and locations. \n",
    "\n",
    "<b>\n",
    "<br>Other issues related to the topic area, data, and/or analyses that are potentially problematic in terms of data privacy and equitable impact: </b>\n",
    "<br>\n",
    "Depending on the results that are drawn from the data, restaurants that are still open who's issues parrallel to closed restaurants may receive bad PR, which can lead to less business.\n",
    "<br>\n",
    "\n",
    "<b>How will I handle these above issues:</b><br>\n",
    "For the first issue regarding privacy, I have dealt with that in my data cleaning process in which I referred to the Data Ethics and Privacy steps in order to take out important information that may identify the inspectors or businesses such as their names and phone numbers. This is important so that none of the restauratns can be impacted negatively based on the results of the data and to protect their privacy. In terms of bias in my result based on the locations of restaurants, My dataset is currently consisted of North Carolina restuarants, and I most likely use random samples to sample across the whole dataset, and perform permutation tests to make sure my values are actually significant. It would be difficult to tell whether any bias in the data is due to inspectors or locations."
   ]
  },
  {
   "cell_type": "markdown",
   "metadata": {},
   "source": [
    "# Conclusion & Discussion"
   ]
  },
  {
   "cell_type": "markdown",
   "metadata": {},
   "source": [
    "At first glance, the average scores between chain and non-chain restaurants seem very similar. However, it appears that the scores that restaurant chains receive do differ between chains and non chains. The cause for this difference is unclear. We can also see that there is more variance between the scores given to smaller chain restaurants, while for larger chains there is a consistent rating with a variance of 95-100.\n",
    "<br> Potential reasons for this difference may be based on factors such as the difference in numbers of independent vs chain restaurants. Additional factors which may have effected my results is my way of defining whether a restaurant is part of a chain or not. <br>\n",
    "<b>Limitations: </b> It would definitely have been more interesting if I could evaluate whether the restaurant would get closed down when getting a violation lower than 85, and compare the results between large restaurants and smaller ones since I think that larger restaurants may be closed down less often when compared to smaller restaurants based on the results I see from my analysis. In order to do this, I would need information on whether the restaurant has been closed down. "
   ]
  },
  {
   "cell_type": "code",
   "execution_count": null,
   "metadata": {},
   "outputs": [],
   "source": []
  }
 ],
 "metadata": {
  "kernelspec": {
   "display_name": "Python 3",
   "language": "python",
   "name": "python3"
  },
  "language_info": {
   "codemirror_mode": {
    "name": "ipython",
    "version": 3
   },
   "file_extension": ".py",
   "mimetype": "text/x-python",
   "name": "python",
   "nbconvert_exporter": "python",
   "pygments_lexer": "ipython3",
   "version": "3.7.6"
  }
 },
 "nbformat": 4,
 "nbformat_minor": 2
}
