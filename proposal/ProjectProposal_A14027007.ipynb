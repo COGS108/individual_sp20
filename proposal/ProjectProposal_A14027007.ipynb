{
 "cells": [
  {
   "cell_type": "markdown",
   "metadata": {},
   "source": [
    "# COGS 108 - Project Proposal"
   ]
  },
  {
   "cell_type": "markdown",
   "metadata": {},
   "source": [
    "# Names & PID\n",
    "\n",
    "- Name: Nayoung Park\n",
    "- PID: A14027007"
   ]
  },
  {
   "cell_type": "markdown",
   "metadata": {},
   "source": [
    "# Research Question"
   ]
  },
  {
   "cell_type": "markdown",
   "metadata": {},
   "source": [
    "My potential research question would be finding out if health inspections are done efficiently enough to make sure inspections are delivering the intended effect: keeping restaurants hygienic and safe for customers and restaurant workers. I would be exploring date of inspection/time of inspection/zip code/street address/type of cuisine to make sure if the inspections are done well enough to represent a restaurant's performance throughout the entire year instead of just one day when the inspection is performed, as well as evaluating the need for more frequent inspection if the budget allows.\n"
   ]
  },
  {
   "cell_type": "markdown",
   "metadata": {},
   "source": [
    "## Background and Prior Work"
   ]
  },
  {
   "cell_type": "markdown",
   "metadata": {},
   "source": [
    "There has been some research done on whether the current health inspection process is enough/efficient/fair. \n",
    "\n",
    "One study from Harvard suggests that inspectors give better scores later in the day, rather than early(1). The research argues that inspectors “tended to cite fewer violations at each successive establishment they visited through their day.”\n",
    "\n",
    "Another from Tenessee's health department suggests that customers expect inspections to be done more often(7-12 times/year) than they are required (1-3 times/year)(2); \"using data from telephone surveys of 2000 adults in Tennessee in 2006, researchers found that while almost all respondents (97%) were aware that restaurants were inspected regularly, over 50% believed that inspections occurred from 5 to more than 12 times per year\".\n",
    "\n",
    "These studies suggest a look into the frequency or the time of inspection performed.\n",
    "\n",
    "References (include links):\n",
    "- 1) https://hbr.org/2019/05/to-improve-food-inspections-change-the-way-theyre-scheduled\n",
    "- 2) https://www.elsevier.com/about/press-releases/research-and-journals/restaurant-inspections-public-perceptions-vs.-reality"
   ]
  },
  {
   "cell_type": "markdown",
   "metadata": {},
   "source": [
    "# Hypothesis\n"
   ]
  },
  {
   "cell_type": "markdown",
   "metadata": {},
   "source": [
    "What is your main hypothesis and/or predictions? Briefly explain why. (2-3 sentences)\n",
    "\n",
    "*State and defend your hypotheses here.*\n",
    "\n",
    "* I would start with the premise that a lower inspection score compared to previous inspections means that the score is more accurate, since the inspection was able to catch more violations than before, performed during different times.\n",
    "\n",
    "1) Increasing/decreasing the frequency of inspections can lower inspection scores.\n",
    "    - Different frequency can change accuracy/fairness of inspection scores\n",
    "2) Changing the time of inspection to busy hours can lower inspection scores.\n",
    "    - Inspections done in busy hours can improve accuracy."
   ]
  },
  {
   "cell_type": "markdown",
   "metadata": {},
   "source": [
    "# Data"
   ]
  },
  {
   "cell_type": "markdown",
   "metadata": {},
   "source": [
    "An ideal dataset would be a list of all the inspections done in the past few years (at least 2-3) by the local government. If available, using datasets from other local governments from nearby areas may be also useful.\n",
    "\n",
    "The dataset for health inspections would contain at least the following variables: \n",
    "- Restaurant Name/ID\n",
    "- Restaurant Location (City, Zip Code)\n",
    "- Restaurant Type of Cuisine\n",
    "- Restaurant Operation Hours\n",
    "- Date of Inspection\n",
    "- Time of Inspection\n",
    "- Inspection Score\n",
    "- List of Violations\n",
    "\n",
    "There should be all restaurants in one county available in the dataset, if each row of the dataset were to be one instance of health inspection.\n",
    "\n",
    "The dataset would preferably be in CSV/TSV/XLS format, or XML if necessary.\n",
    "\n",
    "The data would have been collected and released by the local health department as they are the ones responsible for the inspections, although an API/third-party website will exist and could be a more efficient source of data (e.g. Yelp uses an API called HDScores for importing health inspection scores into their website under a separate \"Health Score/Inspections\" section for each restaurant, and is thus the largest & most reliable source of data after the SD Food Info website, which is maintained directly by SDC DEH but is harder to scrape data from).\n",
    "\n",
    "If dealing with multiple datasets due to restrictions (e.g. if the list of inspections were separated by area), each dataset would be used separately in the project for specific explorations, or merged to give a more general insight."
   ]
  },
  {
   "cell_type": "markdown",
   "metadata": {},
   "source": [
    "# Ethics & Privacy"
   ]
  },
  {
   "cell_type": "markdown",
   "metadata": {},
   "source": [
    "The data will likely not be confidential, as the scores are publicly released. It would be a matter depending on the source of the dataset if I have permission\n",
    "\n",
    "It is unlikely for there to be privacy concerns as the data to be dealt with is ordered to be available to the public, but there might be a need to not disclose names of individuals if the dataset allowed assess to inspection personnel.\n",
    "\n",
    "Although health inspections are done based on a previously formulated checklist for every restaurants in the department that the health inspection is done in, the scores may differ based on the personnel that performed the inspection, thus suggesting that it might be noteworthy to use datasets from other local governments in the surrounding area to self-diagnose if the current health inspections are biased.\n",
    "Any other human biases regarding the dataset in terms of discrimination can be avoided by using an exhaustive list of all the restaurants inspected by the local government, not just a few. \n",
    "\n",
    "Grouping data based on zip code/cuisine may be a potential risk of discrimination if not done correctly, so there should be more background data used if any hypothesis or decisions were to be made on those factors."
   ]
  },
  {
   "cell_type": "code",
   "execution_count": null,
   "metadata": {},
   "outputs": [],
   "source": []
  }
 ],
 "metadata": {
  "kernelspec": {
   "display_name": "Python 3",
   "language": "python",
   "name": "python3"
  },
  "language_info": {
   "codemirror_mode": {
    "name": "ipython",
    "version": 3
   },
   "file_extension": ".py",
   "mimetype": "text/x-python",
   "name": "python",
   "nbconvert_exporter": "python",
   "pygments_lexer": "ipython3",
   "version": "3.7.6"
  }
 },
 "nbformat": 4,
 "nbformat_minor": 2
}
