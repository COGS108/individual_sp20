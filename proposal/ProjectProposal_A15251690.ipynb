{
 "cells": [
  {
   "cell_type": "markdown",
   "metadata": {},
   "source": [
    "# COGS 108 - Project Proposal"
   ]
  },
  {
   "cell_type": "markdown",
   "metadata": {},
   "source": [
    "# Names & PID\n",
    "\n",
    "- Name: Duncan Carlmark\n",
    "- PID: A15251690"
   ]
  },
  {
   "cell_type": "markdown",
   "metadata": {},
   "source": [
    "# Research Question"
   ]
  },
  {
   "cell_type": "markdown",
   "metadata": {},
   "source": [
    "How are **health inspection grades** and instances of **foodborne illness** distributed across all classes of restaurants? What does this distribution imply about how the **class of a restaurant** and its **inspection grade** affect the number of **foodborne illnesses** that occur from that restaurant? Based on the results of this analysis how can the city improve its health inspection process to better mitigate the number of foodborne illness cases\n",
    "\n",
    "Classes of restaurants is a broad term, but it implies that restaurants can be categorized based on the types of food they serve, the cost of that food, or how that food is served."
   ]
  },
  {
   "cell_type": "markdown",
   "metadata": {},
   "source": [
    "## Background and Prior Work"
   ]
  },
  {
   "cell_type": "markdown",
   "metadata": {},
   "source": [
    "#### General Information\n",
    "\n",
    "1)\n",
    "\n",
    "Restaurant inspections are conducted differently depending on what food the restaurant serves and the risk of that food creating possible illnesses in customers. This must be taken into account when performing analysis as some restaurants could be having 3 times as many inspections a year than others. This information can vary from place to place, so I plan on specifying LA county because I think it would be interesting to also look at how the frequency of inspections can be a factor.\n",
    "\n",
    "2)\n",
    "\n",
    "During health inspections, points are deducted for violations. Violations are categorized in 3 different severities and the points deducted for each vary within each category. The most severe category (Critical Risk Factors) is composed of issues that pose immediate threats. The second category (Good Retail Practices) is composed of issues that are not immediate threats, but still could possibly pose an issue to the customer (Ex: Not maintaining soda machines, not labeling food in storage properly, storing food and chemicals in the same closet, etc.). The final category is used only when action has to be taken by the health inspector in regards to impounding or sampling food that is suspected to be contaminated or malfunctioning. \n",
    "\n",
    "#### Prior Work\n",
    "\n",
    "3)\n",
    "\n",
    "A study investigating the link between Inspection Scores and Foodborne Diseases analyzed inspection data from the state of Tennessee to determine if there was any link between the scores given to restaurants and which restaurants were the sources of illness outbreaks. They found that the average restaurant rating of restaurants that had foodborne illnesses was very close to the average rating of restaurants overall. They attributed this to the small sample size of illness outbreaks that were recorded. In this measurement, the study also only looked at restaurants that were defined as the source of an outbreak which means that individual cases of food poisoning or other instances of lower severity would not have factored into their analysis.\n",
    "\n",
    "4)\n",
    "\n",
    "This study also investigated the link between inspection scores and foodborne diseases, but instead measured the impact that inspection grades had on the numbers of \"Foodborne Disease Hospitalizations\" in LA County. To do this, this study compared the rates of hospitalization for LA County with the rest of CA before and after LA County introduced the use of letter scoring cards in restaurants. The study found that there was a significant decrease in the rates of hospitalization for foodborne illnesses\n",
    "\n",
    "5)\n",
    "\n",
    "This final study assessed the sanitary knowledge of cooks/chefs from Nigeria. The most significant finding of the study in regards to my hypothesis is that there was a strong correlation between the education of someone and their knowledge of food safety procedures. Those that had attended a cooking school were far more likely to understand how to properly prevent the spread of foodborne illnesses.\n",
    "\n",
    "\n",
    "\n",
    "### References:\n",
    "\n",
    "General Information:\n",
    "- 1) http://www.publichealth.lacounty.gov/eh/SSE/DESFAQ.htm\n",
    "- 2) http://publichealth.lacounty.gov/eh/docs/RefGuideFoodInspectionReport.pdf\n",
    "\n",
    "Other Studies:\n",
    "- 3) https://www.ncbi.nlm.nih.gov/pmc/articles/PMC3323064/\n",
    "- 4) https://drum.lib.umd.edu/bitstream/handle/1903/6641/Mar%2005%20JEH%20Feature.pdf?sequence=1&isAllowed=y\n",
    "\n",
    "\n"
   ]
  },
  {
   "cell_type": "markdown",
   "metadata": {},
   "source": [
    "# Hypothesis\n"
   ]
  },
  {
   "cell_type": "markdown",
   "metadata": {},
   "source": [
    "The distribution of restaurant grades is not uniform across all categories of restaurants and restaurants which sell food for a lower price or have employees that do not receive additional training are more likely to have lower inspection grades. These restaurants with low inspection grades and less educated employees are more likely to have cases of foodborne illnesses. In order to improve the health inspection process and improve this situation, the city should reform its health inspection policy to place a greater emphasis on the knowledge of those that handle food, and increase the resources available to restaurants to train their employees.\n",
    "\n",
    "\n",
    "\n",
    "\n",
    "I arrived at this hypothesis by referencing the studies I had read for my prior research. Based on their findings I discovered that while there is no consensus on the connection between inspections/inspection grades and foodborne illness, there was a connection between education and knowledge of how to handle food and prevent foodborne illnesses. With this in mind I believe that restaurants whose workers have less training would then have more instances of foodborne illnesses in their customers.\n"
   ]
  },
  {
   "cell_type": "markdown",
   "metadata": {},
   "source": [
    "# Data"
   ]
  },
  {
   "cell_type": "raw",
   "metadata": {},
   "source": [
    "In an ideal world I would want to have several datasets in order to properly answer this question\n",
    "\n",
    "Dataset 1: Health Inspection scores for the last 30 years in Los Angeles\n",
    "- Restaurant ID\n",
    "- Inspection ID\n",
    "- Inspector ID\n",
    "- Inspection Date\n",
    "- Inspection Score\n",
    "- Critical Risk Violations (list of each violation)\n",
    "- Good Business Practice Violations (list of each violation)\n",
    "- Frequency of Inspections (how many times per year this business is inspected)\n",
    "\n",
    "Dataset 2: Information on each restaurant\n",
    "(this information could be scraped from a review website that already keeps track of these metrics to organize their reviews)\n",
    "- Restaurant ID\n",
    "- Restaurant Price Bracket\n",
    "- Restaurant Category (any format scraped from a pre existing source would work fine for this feature)\n",
    "- isVegan  (out of curiosity I would want to just want to see if this is a factor in anything)\n",
    "- Average meal price\n",
    "- Extra Training y/n (did the staff handling food receive extra food safety training in addition to the training mandated by law)\n",
    "- Hours of extra training\n",
    "\n",
    "\n",
    "\n",
    "Dataset 3: People discharged from hospitals for foodborne illnesses\n",
    "- PatientID\n",
    "- Suspected Restaurant\n",
    "- Suspected Date (the day they ate at that restaurant)\n",
    "- Illness\n",
    "\n",
    "\n",
    "Dataset 4: Menu information for each restaurant (something that can also be scrapped as many restaurants have their menus online)\n",
    "- A list of every food item offered by the restaurant\n",
    "\n",
    "(Honestly I'm not entirely sure how I would use this, but I think it would be good to have on hand should I decide to do NLP for a deep dive on any outliers. Like if a restaurant had high occurrences of illness because it often served foods that were raw/uncooked. That information about raw or uncooked foods would only be available in the menu)\n",
    "\n",
    "\n"
   ]
  },
  {
   "cell_type": "markdown",
   "metadata": {},
   "source": [
    "# Ethics & Privacy"
   ]
  },
  {
   "cell_type": "markdown",
   "metadata": {},
   "source": [
    "One concern of mine with the scope of my study is that there is a good chance that I will under represent the number of ill patients in my analysis, as the data I would like to use would be originating from a hospital. The unrepresented population would mostly be people from a low income background, since these people are more likely to be uninsured and would not seek treatment at a hospital. If they did they would most likely end up with a very expensive bill that they might not be able to afford to pay.\n",
    "\n",
    "Also, on the topic of taking data from hospital records, this data would most likely not be publicly accessible. Before we could use this data in our analysis we would have to be granted permission and the data would have to be appropriately anonymized so that patients are not individually identifiable. However, I do not believe ensuring that the data is anonymous would be too much of an issue as the variables I am requesting are limited and do not relate too directly to personal identifiable information. The only variable that might be used to identify information from a patient is the *suspected restaurant* and that at best would only provide a very approximate location.\n",
    "\n",
    "Another concern is that by categorizing restaurants by their average prices or the amount of training they provide their employees I could be discriminating against small independently owned businesses that cannot afford to offer their employees additional training. I was unable to find any research that could confirm this, but from personal experience in this industry large chains do not always provide their employees with training that goes beyond the bare minimum. So while there are some restaurants that might not be able to provide their employees this additional training there are also many that choose not to. This does not excuse the issue, but it provides a path to mitigate it as a possibility is excluding these small businesses from my study if my methodology would end up targeting them too directly for a situation that they cannot exactly control. This could be a very small fraction of my data or it could not, so the decision to do this would be made during my analysis.\n"
   ]
  },
  {
   "cell_type": "code",
   "execution_count": null,
   "metadata": {},
   "outputs": [],
   "source": []
  },
  {
   "cell_type": "code",
   "execution_count": null,
   "metadata": {},
   "outputs": [],
   "source": []
  }
 ],
 "metadata": {
  "kernelspec": {
   "display_name": "Python 3",
   "language": "python",
   "name": "python3"
  },
  "language_info": {
   "codemirror_mode": {
    "name": "ipython",
    "version": 3
   },
   "file_extension": ".py",
   "mimetype": "text/x-python",
   "name": "python",
   "nbconvert_exporter": "python",
   "pygments_lexer": "ipython3",
   "version": "3.7.4"
  }
 },
 "nbformat": 4,
 "nbformat_minor": 2
}
