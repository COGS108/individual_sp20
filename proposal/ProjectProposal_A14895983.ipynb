{
 "cells": [
  {
   "cell_type": "markdown",
   "metadata": {},
   "source": [
    "# COGS 108 - Project Proposal"
   ]
  },
  {
   "cell_type": "markdown",
   "metadata": {},
   "source": [
    "# Names & PID\n",
    "\n",
    "- Name: Yidie Ling\n",
    "- PID: A14895983"
   ]
  },
  {
   "cell_type": "markdown",
   "metadata": {},
   "source": [
    "# Research Question"
   ]
  },
  {
   "cell_type": "markdown",
   "metadata": {},
   "source": [
    "Can we predict a restaurant's health inspection grade based on its __year of establishment__, __daily restaurant traffic__ and __population density of the area that the restaurant resides__ in San Diego? \n"
   ]
  },
  {
   "cell_type": "markdown",
   "metadata": {},
   "source": [
    "## Background and Prior Work"
   ]
  },
  {
   "cell_type": "markdown",
   "metadata": {},
   "source": [
    "#### Background\n",
    "\n",
    "Food safety is always a major concern for public health. According to the San Diego County Government, all the restaurants and food facilities are inspected  This means each restaurant would be inspected 1-3 times every year. To conduct inspections, Environmental Health Specialists would visit each restaurant and assess the environment based on the Food Safety Code. The inspection score is based on a 100 points grading system. Each violation is associated with a point value. The restaurant loses points if it violates the food safety code. Based on the score, the restaurant would be assigned to a letter grade (\"A\": 90-100, \"B\":80-89, \"C\": less than 79) (1). After the inspection, the restaurant is required to show its health inspection grade to its customer. Thus, for this project, I am interested in whether we could predict the health inspection score based on the restaurant's attributes, like the year of establishment and location, to maximize the inspection efficiency by reducing the number of inspection times of business that meets the requirements.\n",
    "\n",
    "The three attributes I choose to focus on are the year of establishment, daily restaurant traffic, and population density of the area that the restaurant resides. I choose these three attributes because these are commonly used to determine whether a restaurant is successful or not. I am interested in how these attributes could help people to predict their health inspection score. Also, I am interested to see whether old classical restaurants would have a relatively low health inspection rate due to equipment worn out and whether a popular restaurant could be overwhelmed by high restaurant traffic. \n",
    "\n",
    "#### Prior Work\n",
    "\n",
    "In my research, I found several relevant articles about the relationship between health inspection scores of restaurants and other factors like real-estate value and Yelp review. According to Professor Anasse Bari, who led a research team from New York University, there is an interesting connection between the health inspection score of restaurants and the price of real-estate nearby (3). The research showed that the success in culinary business will make a rise of nearby property values (3). These results support my previous assumption that health inspection scores could be connected with the geological location. Another article I found to be relevant to my project is David Lewis, Russell Hofvendah, and Jason Trager’s data analysis report based on the Chicago health inspection report. In that article, the authors showed how health inspection scores vary among different parts of the city and why earning a high health inspection score could save a company lots of money every year (2). The article demonstrates a complete process of data collecting, data cleaning, data analysis, and data visualization, which helps me to understand the structure of a data science project. \n",
    "\n",
    "Overall, I believe although there are previous works that already show there is an interconnection between restaurants and their geographical location, the term “geographical location” is not specific enough to be used to predict future health inspection scores. Also, the information about how the year of establishment relates to health inspection score is still unknown. Thus, in this project, I aim to be more specific on what attributes of a restaurant could potentially lead to a higher inspection score and whether the year of establishment of the restaurant could influence its health inspection score. \n",
    " \n",
    "\n",
    "\n",
    "#### References (include links):\n",
    "- 1) SD Food Info (https://www.sandiegocounty.gov/content/sdc/deh/fhd/ffis/intro.html.html)\n",
    "- 2) REVISITING FOOD-SAFETY INSPECTIONS FROM THE CHICAGO DATASET - A DATA SCIENCE TUTORIAL (https://www.sustainabilist.com/blog/chicago-data-analysis-a-internship-project)\n",
    "- 3) How data scientists found a link between restaurant inspections and New York’s wild real-estate market (https://www.marketwatch.com/story/how-data-scientists-found-a-link-between-restaurant-inspections-and-new-yorks-wild-real-estate-market-2020-02-03)\n"
   ]
  },
  {
   "cell_type": "markdown",
   "metadata": {},
   "source": [
    "# Hypothesis\n"
   ]
  },
  {
   "cell_type": "markdown",
   "metadata": {},
   "source": [
    "I hypothesize that __the health inspection score could be predicted by the year of establishment, daily restaurant traffic and population density of the area that the restaurant resides__. The health inspection score would be higher in the restaurant that is newly established or in the restaurant that has low daily traffic because restaurants could have more time to prepare food and equipment. I anticipate the health inspection score would also be higher if the population density is relatively low in the surrounding area of the restaurant because restaurants need to provide better services to attract local customers. "
   ]
  },
  {
   "cell_type": "markdown",
   "metadata": {},
   "source": [
    "# Data"
   ]
  },
  {
   "cell_type": "markdown",
   "metadata": {},
   "source": [
    "\n",
    "An ideal dataset for my project would consist of four major variables: __health inspection score__, __the year of establishment__, __daily customer number__, and __address (which part of San Diego does the restaurant resides in, e.g. Kearny Mesa, Clairemont Mesa)__. The ideal dataset would be in a Tidy Data format. The variables are separated in columns and observations are separated by rows. I would expect the data to be stored in two different data sets. The first one would contain the address, the health inspection score, and the year of establishment. The second data sets would contain daily customers number or relevant information that can help to calculate the daily customer's number (e.g. daily income, yelp review numbers). In both two datasets, each restaurant has its unique identifiers so that I connect the data together. I expect to have around 13000 observations in the dataset based on the number of retail food facilities provided by the San Diego government. The observations should include all retail food facilities and restaurants in San Diego. "
   ]
  },
  {
   "cell_type": "markdown",
   "metadata": {},
   "source": [
    "# Ethics & Privacy"
   ]
  },
  {
   "cell_type": "markdown",
   "metadata": {},
   "source": [
    "From the perspective of ethics and privacy, I did some research on currently available datasets of health inspection scores and basic information about San Diego restaurants. I found out that most of the information is open to the public. Thus, I think I can use these datasets and remove identifiable information in the analysis to ensure privacy. The stakeholder of this project would be restaurant operators and Environmental Health Specialists. They both invest huge amounts of money and efforts to improve food safety and make the inspection process more transparent. Thus, this project aims to design a better prediction of health inspection scores for both restaurant operators and health specialists to maximize the efficiency of inspection. \n",
    "\n",
    "Since the expected observations would include all retail food facilities and restaurants in San Diego, the datasets would have fewer ethics concerns because it does not exclude particular populations. Some problems of this project would be potential bias in the dataset. In my research, I found an article named “99% of San Diego Restaurants Earn ‘A’ Grades, Bringing Usefulness of System Into Question” (1). The article talked about how different Health Specialists may have slightly different grading approaches. Some of the health specialists would warn the operator before deducting the points while others would not (1) Thus since the grading was subjective, there may be bias in the dataset. \n",
    "\n",
    "One way I plan to solve this problem is to find more data about the inspection. For example, the name of the Health Specialists who were responsible for the inspection of the restaurant could be helpful if I want to compare the score he gave to different restaurants to minimize bias. I also plan to make more specific categories to distinguish the differences between grades (e.g. A+: 97-100, A:93-97, A-: 97-100) since the majority of restaurants in San Diego all get A grades. \n",
    "\n",
    "#### References (include links):\n",
    "- 1) 99% Of San Diego Restaurants Earn ‘A’ Grades, Bringing Usefulness of System Into Question https://www.nbcsandiego.com/news/local/99-of-san-diego-restaurants-earn-a-grades-bringing-usefulness-of-system-into-question/25381/"
   ]
  },
  {
   "cell_type": "code",
   "execution_count": null,
   "metadata": {},
   "outputs": [],
   "source": []
  },
  {
   "cell_type": "code",
   "execution_count": null,
   "metadata": {},
   "outputs": [],
   "source": []
  }
 ],
 "metadata": {
  "kernelspec": {
   "display_name": "Python 3",
   "language": "python",
   "name": "python3"
  },
  "language_info": {
   "codemirror_mode": {
    "name": "ipython",
    "version": 3
   },
   "file_extension": ".py",
   "mimetype": "text/x-python",
   "name": "python",
   "nbconvert_exporter": "python",
   "pygments_lexer": "ipython3",
   "version": "3.7.6"
  }
 },
 "nbformat": 4,
 "nbformat_minor": 2
}
