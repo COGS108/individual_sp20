{
 "cells": [
  {
   "cell_type": "markdown",
   "metadata": {},
   "source": [
    "# COGS 108 - Project Proposal"
   ]
  },
  {
   "cell_type": "markdown",
   "metadata": {},
   "source": [
    "# Names & PID\n",
    "\n",
    "- Name: Timothy Oh\n",
    "- PID: A15177697"
   ]
  },
  {
   "cell_type": "markdown",
   "metadata": {},
   "source": [
    "# Research Question"
   ]
  },
  {
   "cell_type": "markdown",
   "metadata": {},
   "source": [
    "Within the confines of a state, what is the relationship between a restaurant's Yelp ratings and their health inspection scores? Furthermore, how can a restaurant's average inspection frequency impact their Yelp ratings?"
   ]
  },
  {
   "cell_type": "markdown",
   "metadata": {},
   "source": [
    "## Background and Prior Work"
   ]
  },
  {
   "cell_type": "markdown",
   "metadata": {},
   "source": [
    "By law, restaurants within the United States are subject to routine health inspection checks that are conducted by professional inspectors. The possible inspection scores range from 0 to 100, with a score of 100 being a perfect rating. These health inspection scores are accessible by the public domain and all consumers can view these scores before they eat at an establishment. Within the past decade, researchers have been investigating the viability in using Yelp reviews to gauge the health inspection scores of restaurants. The relationship between these two variables could potentially bolster the efficiency of health inspectors by enabling them to utilize Yelp reviews to predetermine the cleanliness of restaurants and prioritize the ordering of their restaurant inspections. \n",
    "\n",
    "1) In 2013, Professor Michael Luca from Harvard Business School and Professor Yejin Choi from Stony Brook University led a group of graduate students in developing a model that predicts future inspection scores of restaurants in Seattle. Prior to conducting their analysis, these researchers found that the department of health had limited inspectors to dispatch to Seattle restaurants for inspection checks. As a result, the hygiene grades for many restaurants were unknown for extended periods of time, as there weren't enough inspectors to conduct health checks across all of the varying restaurants within the city. To curb this issue, these researchers mined online reviews from Yelp and utilized the public sentiment of restaurants as a proxy for determining the health inspection score of any given restaurant within the city. Their findings culminated in the development of a model, which uses Yelp's review data, to predict future inspection scores of restaurants at a success rate of 82%. \n",
    "\n",
    "The success of their model indicates that inspectors can potentially extrapolate the inspection score of a restaurant from its Yelp rating. Because the predictive accuracy of their model is relatively high, it's also possible to determine that there is a strong correlation between increasing Yelp ratings and overall inspection scores of restaurants. \n",
    "\n",
    "2) In 2019, Kristen Altenburger and Daniel Ho, both researchers at Stanford university, conducted an analysis on the predictive power of Yelp reviews using a machine learning model, trained with 13000 inspection results and 152000 yelp reviews of Seattle restaurants from 2006 to 2013. Their findings revealed that Yelp reviews are less effective than inpsection histories in predicting inspection scoring. They found that Yelp reviews did not provide any significant improvements in the prediction accuracy of inspection scores. These researchers fit the same SVM models developed in the 2013 study, with a much larger dataset of hygenic restaurants (restaurants with 0 inspection violations), and discovered that the accuracy of the inspection score predictions dropped from 83% to 69%. At the same time, they fit these SVM models with data strictly pertaining to the inspection history of the Seattle restaurants and found that the predictive accuracy of these models hovered around 71%. \n",
    "\n",
    "These findings determine that Yelp ratings are not reliable indicators of the overall cleanliness and inspection scores associated with restaurants. The lowered predictive accuracy of the SVM models developed in the 2013 study also lends credence to the notion that previous inspection results of restaurants, rather than Yelp ratings, operate as a more accurate metric for determining a restaurant's future inspection performance.\n",
    "\n",
    "References (include links):\n",
    "- 1) https://www3.cs.stonybrook.edu/~junkang/papers/hygiene2013.pdf\n",
    "- 2) https://dho.stanford.edu/wp-content/uploads/WWW_Final.pdf"
   ]
  },
  {
   "cell_type": "markdown",
   "metadata": {},
   "source": [
    "# Hypothesis\n"
   ]
  },
  {
   "cell_type": "markdown",
   "metadata": {},
   "source": [
    "I believe data analysis of this topic will reveal that restaurants with greater Yelp ratings have higher inspection scores and restaurants with elevated inspection frequencies have higher Yelp ratings. Often, Yelp reviewers apply reductions to a restaurant's rating when they discover sanitary issues within the establishment, thus, I believe restaurants with higher Yelp ratings have fewer sanitary issues, and by extension, higher inspection scores. In a similar vein, I believe restaurants that conduct inspection checks on a more frequent basis exhibit a higher degree of hygiene, which can prompt Yelp reviewers to score the restaurants more favorably with higher ratings. "
   ]
  },
  {
   "cell_type": "markdown",
   "metadata": {},
   "source": [
    "# Data"
   ]
  },
  {
   "cell_type": "markdown",
   "metadata": {},
   "source": [
    "The ideal dataset for this topic would be a tabular dataset, such as an excel or csv file, that includes variables for a restaurant's inspection frequency (how many days do they wait before performing another inspection), inspection scores, and Yelp ratings. Additionally, each variable should be computed as an average value, extrapolated from a series of observations that were measured for each restaurant within the same region of interest, over the course of a few years. For example, it is convenient to analyze the following data: restaurant X scored an average of 92, with an average frequency of 120 days, and an average yelp rating of 3.5 over 3 years. By contrast, if the data consists of a series of observations, it would be much harder to programmatically identify the trends associated with each restaurant i.e. restaurant X scored 90 with yelp rating 3.5 on day A, scored 94 with Yelp rating 4 on day F, and scored 96 with Yelp rating 3.5 on day Z, etc. \n",
    "\n",
    "Thus, I believe each observation in the ideal dataset should be structured as follows:\n",
    "\n",
    "**index** - name_of_restaurant   :  **columns** - [avg_inspection_score, avg_inspection_frequency, avg_yelp_rating]\n",
    "\n",
    "Ultimately, having average values would help manage the relationships of our variables for each of the restaurants in the ideal dataset. Instead of having to manage the granularity of each inspection observation, I could simply observe the correlations between the variables at the restaurant level. Furthermore, these averages should be values derived from measurements that occurred over a time scale of at least a few years, to ensure enough time has passed to observe significant correlations between the variables. \n",
    "\n",
    "Ideally, each observation would be on the level of a restaurant and would denote their average values for inspection score, inspection frequency, and Yelp rating over a few years. With this in mind, it would be best for the dataset to match each unique restaurant to a single row to counteract complications with matching each unique restaurant to multiple row observations. Furthermore, it would be best for the dataset to have observations for every restaurant in the specific state we are interested in exploring. This would ensure that we have enough data points to extrapolate meaningful trends between the variables and arrive at conclusions that can be applied to the restaurants of the overall state. \n",
    "\n",
    "Because health inspection checks are sponsored by the department of health within each state, their data can be accessible via public records. For example, this link, https://www.doh.wa.gov/CommunityandEnvironment/Food/RestaurantInspections, shows  Washington's food inspection results for each of its counties. Theoretically, this data could be scraped into an excel file or csv-formatted file, which can then be read into a dataframe using the python pandas package. Furthermore, Yelp data can be utilized, in accordance with the company's Terms of Service, for the purposes of this project. Their dataset, which contains the results of Yelp reviews for each of the restaurants in their database, is downloadable in excel format at this link, https://www.yelp.com/dataset/download. \n",
    "\n",
    "Finally, the Yelp dataset and inspection dataset will most likely be disjoint from one another. In order to merge their observations for each restaurant, there will have to be some unique identifier, allocated to each restaurant, that will allow me to combine the data from both sets into an ideal dataframe."
   ]
  },
  {
   "cell_type": "markdown",
   "metadata": {},
   "source": [
    "# Ethics & Privacy"
   ]
  },
  {
   "cell_type": "markdown",
   "metadata": {},
   "source": [
    "Because health inspection data is conducted by the local government, it is accessible to the public domain. All restaurants are subjected to health inspection checks to remain open. Customers are entitled to understand the health violation records of restaurants before they purchase their meals. Therefore, the health inspection records of restaurants remains open to the public. For these reasons, it is permissible to utilize public records of health inspection during the data analysis of this project.  \n",
    "\n",
    "According to the Yelp dataset FAQ found here, https://www.yelp.com/dataset/documentation/faq, college instructors can distribute Yelp datasets for class assignments so long as students of the course obey their Terms of Use. Their Terms of Use dictates that students who utilize the dataset cannot utilize their data to serve any commercial purpose or distribute the data to a third party, website or medium. I'm not utilizing this data for any commercial benefit and the data analysis will only be seen by the instructing staff, which eliminates the existence of a third party. Because I'm obeying the ToS, I have sufficient permission to utilize the Yelp dataset for this project. \n",
    "\n",
    "In terms of privacy concerns, all personally identifiable information will be scraped from the datasets before the data analysis. For example, the inspections dataset may contain human-level data about the inspectors by including their names and inspector identification. This information will be removed from the dataframes before analysis. Ultimately, each row in both the Yelp and inspection dataframes, will contain observations that are strictly contained at the restaurant level. While there may be zipcodes and phone numbers present in these datasets, they reveal information about the restaurants rather than any individuals. Because the data analysis won't reveal any personally identifiable information, my project will not violate privacy concerns for individuals.\n",
    "\n",
    "The Yelp dataset is shaped based off the observations of human reviewers. For this reason, there may be biases present within the Yelp ratings. Some reviewers may subject restaurants to higher standards than others and apply reductions to the ratings of the restaurants accordingly. However, Yelp aggregates all of the reviews for a restaurant when computing the overall rating. Because of this process, outlier ratings that are created by biased reviewers are overshadowed by the consensus of the Yelp reviewers for a particular restaurant. For example, this review https://www.yelp.com/biz/mr-bibi-oceanside, shows a restaurant that is rated as 5/5. However, there are 9 reviewers who gave the restaurant 4/5. Yelp provides a restaurant rating based off majority consensus, thereby negating the biased values. As a result, I believe the bias of the Yelp data is already mitigated to a significant degree. \n",
    "\n",
    "Because the health inspection scores are measured by human inspectors, some of the inspection data may contain erroneous values that can produce biases within the data analysis. For example, many restaurant inspections are recorded with null values for previous inspections values, as some checks were conducted on restaurants for the first time. I will replace these voided values with their appropriate subsitutions to ensure the overall dataset remains viable for usage during analysis. Furthermore, to further mitigate the potential biases of the dataset, I will utilize the average values of the inspection results for each restaurant, measured over a span of 4 years. By utilizing the average inspection score and frequency for analysis, I can ensure that inspection data for restaurants is compiled based on the consensus of 4-years worth of inspections, rather than each individual inspection. This prevents outlier values, produced from potentially biased inspectors, from skewing the analysis in a siginficant manner. \n",
    "\n",
    "In summary, I have permission to utilize the health inspection data because it is accessible by the public domain. By following Yelp's Terms of Service, I can use their data for my analysis. All personally identifiable information will be removed from the datasets prior to the analysis, which does not require PII, and my project will follow standard privacy practices. The Yelp data may have been formed from biased reviewers, however, the overall rating allocated to each restaurant is composed based on the consensus scoring of all reviewers. Similarly, the inspection scores will be averaged using all of the observations across the 4 year timespan, negating the impact of any outlier values resulting from biased inspections of restaurants. Ultimately, the Yelp and inspection data that will be used for analysis, will be formed based on the average consensus of majority observations, rather than any individual reviewer. "
   ]
  }
 ],
 "metadata": {
  "kernelspec": {
   "display_name": "Python 3",
   "language": "python",
   "name": "python3"
  },
  "language_info": {
   "codemirror_mode": {
    "name": "ipython",
    "version": 3
   },
   "file_extension": ".py",
   "mimetype": "text/x-python",
   "name": "python",
   "nbconvert_exporter": "python",
   "pygments_lexer": "ipython3",
   "version": "3.6.7"
  }
 },
 "nbformat": 4,
 "nbformat_minor": 2
}
