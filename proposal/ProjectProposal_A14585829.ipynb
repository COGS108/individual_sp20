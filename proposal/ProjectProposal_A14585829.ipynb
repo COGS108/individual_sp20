{
 "cells": [
  {
   "cell_type": "markdown",
   "metadata": {},
   "source": [
    "# COGS 108 - Project Proposal"
   ]
  },
  {
   "cell_type": "markdown",
   "metadata": {},
   "source": [
    "# Names & PID\n",
    "\n",
    "- Name: Sama Ailani\n",
    "- PID: A14585829"
   ]
  },
  {
   "cell_type": "markdown",
   "metadata": {},
   "source": [
    "# Research Question"
   ]
  },
  {
   "cell_type": "markdown",
   "metadata": {},
   "source": [
    "What is the relationship between weather and type of food violations in San Diego, and how does weather impact foodborne diseases?"
   ]
  },
  {
   "cell_type": "markdown",
   "metadata": {},
   "source": [
    "## Background and Prior Work"
   ]
  },
  {
   "cell_type": "markdown",
   "metadata": {},
   "source": [
    "Based on the San Diego County's Environmental Health department, during a health inspection of a food facility, the food violations are categorized centered on the risk factor associated with it. This results in three categories: Major Risk Factors, Minor Risk Factors and Good Retail Pratices. These categories of violations are assigned points 4, 2 and 1 respectively. After completion of the health inspection, the point acquired for any violations are added up and subtracted from 100 to get the inspection score. Based on the score, the facility is assigned a grade, A for scores 90 to 100, B for 80 to 89 and C for any score less than or equal to 79, which is the failing grade<sup>1</sup>.\n",
    "\n",
    "The study by Dominianni and colleagues looked at how the relationship between temperature related food violations and the maximum temperature for that day (+/-3 days). They examined the data collected from New York restaurant inspections from 2012 to 2015 and maximum and median temperatures associated with the days of inspection. Through their study they found that \"Violations for cold food holding and insufficient refrigerated or hot holding equipment were more likely to be cited on hot days compared with cool days\" <sup>2</sup>. \n",
    "\n",
    "Another study by Lee and colleagues look at the effect of temperature and humidity on the survival of food-borne viruses specifically Hepatitis A virus. \"The results of this study suggest that major foodborne viruses such as HAV and HuNoV can survive over prolonged periods of time with a limited reduction in numbers\" <sup>3</sup>. Such viruses flourish in higher temperatures and humidity levels, resulting in the increase of the probability of occuring a food-borne disease in hotter weathers. \n",
    "\n",
    "My proposed study tries to find the relationship between all three of these variables: food violations, food-borne disease causing pathogens and weather (temperature and humidity) in order to better understand what violations inspectors should look out for during different times of the year in San Diego. \n",
    "\n",
    "\n",
    "\n",
    "References:\n",
    "- 1) SD Food Info. (n.d.). Retrieved from https://www.sandiegocounty.gov/content/sdc/deh/fhd/ffis/intro.html.html\n",
    "- 2) Dominianni, Lane, Ahmed, Johnson, McKelvey & Ito. (2018, July 1). Hot Weather Impacts on New York City Restaurant Food Safety Violations and Operations. Retrieved from https://meridian.allenpress.com/jfp/article/81/7/1048/174779/Hot-Weather-Impacts-on-New-York-City-Restaurant\n",
    "- 3) Lee, S. J., Si, J., Yun, H. S., & Ko, G. P. (2015, March 15). Effect of Temperature and Relative Humidity on the Survival of Foodborne Viruses during Food Storage. Retrieved from https://aem.asm.org/content/81/6/2075"
   ]
  },
  {
   "cell_type": "markdown",
   "metadata": {},
   "source": [
    "# Hypothesis\n"
   ]
  },
  {
   "cell_type": "markdown",
   "metadata": {},
   "source": [
    "I hypothesize that as the temperature and humidity increases, the temperature related food violations increase would also increase, as higher temperatures are danger zones for a lot of food products. Higher temperatures are a good dwelling place for bacteria and other microbes, making it harder to maintain food hygiene during those times. And thus, foodborne diseases should also increases with temperature and humidity."
   ]
  },
  {
   "cell_type": "markdown",
   "metadata": {},
   "source": [
    "# Data"
   ]
  },
  {
   "cell_type": "markdown",
   "metadata": {},
   "source": [
    "The ideal dataset for this project would include a combination of three different datasets. The first showing all the food violations that have taken place in the San Diego County in the past decade and the dates on which these inspections occured. The other would look at the temperature and humidity on the dates on the inspection (- 3 days for lag). The third would look at the survival of (top 5) food-borne disease causing pathogens in different temperatures and humidity levels. \n",
    "\n",
    "Thus, the variables that we would be looking at are: date of inspection, food violation, temperature on the date of inspection, humidity on the date of inspection, the survival rate of (top 5) pathogens for that temperature and humidity. \n",
    "These data would be preferably be merged together based on common dates and temperatures into a tabular form (csv). Ideally this data should represent the population of the restaurants in San Diego in the past decade and none of the data should be missing for any of the observations. "
   ]
  },
  {
   "cell_type": "markdown",
   "metadata": {},
   "source": [
    "# Ethics & Privacy"
   ]
  },
  {
   "cell_type": "markdown",
   "metadata": {},
   "source": [
    "\n",
    "As this project does not require any personal information about the inspectors or any information about the restaurants themselves, there is no need to collect this information, which helps to keep it ethical. Even if these kind of data are part of the dataset, any identifiable information will be kept private by using a suitable data encryption software. To avoid potential harm, I will not be conducting any analysis targeting the restaurants or the inspectors.\n",
    "\n",
    "There is a potential of getting biased information about the food violations as the inspectors can have biases within them and health inspection can often be subjective. Overall any biases about leniency or strictness should cancel themselves out due to large number of observations taken into account. \n",
    "\n",
    "All the data I will be using about the inspections are considered public information. The other data involves environmental factors like weather that are readily made available to everyone, or data about pathogens which should not have any ethical issues associated with them."
   ]
  }
 ],
 "metadata": {
  "kernelspec": {
   "display_name": "Python 3",
   "language": "python",
   "name": "python3"
  },
  "language_info": {
   "codemirror_mode": {
    "name": "ipython",
    "version": 3
   },
   "file_extension": ".py",
   "mimetype": "text/x-python",
   "name": "python",
   "nbconvert_exporter": "python",
   "pygments_lexer": "ipython3",
   "version": "3.7.6"
  }
 },
 "nbformat": 4,
 "nbformat_minor": 2
}
