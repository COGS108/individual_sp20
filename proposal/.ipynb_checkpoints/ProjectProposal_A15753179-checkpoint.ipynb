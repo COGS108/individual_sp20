{
 "cells": [
  {
   "cell_type": "markdown",
   "metadata": {},
   "source": [
    "# COGS 108 - Project Proposal"
   ]
  },
  {
   "cell_type": "markdown",
   "metadata": {},
   "source": [
    "# Names & PID\n",
    "\n",
    "- Name: Peter Kirov\n",
    "- PID: A15753179"
   ]
  },
  {
   "cell_type": "markdown",
   "metadata": {},
   "source": [
    "# Research Question"
   ]
  },
  {
   "cell_type": "markdown",
   "metadata": {},
   "source": [
    "Overview:\n",
    "given the topic of health inspections and the prompt of: Imagine you work for a local city government and want to improve the restaurant health inspection process for the city government. \n",
    "\n",
    "Therefore my question will be: \n",
    "Is a restaurant being a vegetarian restaurant a good predictor on good health inspection scores?"
   ]
  },
  {
   "cell_type": "markdown",
   "metadata": {},
   "source": [
    "## Background and Prior Work"
   ]
  },
  {
   "cell_type": "markdown",
   "metadata": {},
   "source": [
    "I am asking this question based off of the guidelines that health inspectors use to rate kitchens. I found these 2 guidelines.\n",
    "    \n",
    "    1)Storing raw ingredients under dripping meat(lightspeed)\n",
    "    2)Lack of general cleanliness (lightspeed)\n",
    "\n",
    "I thought to myself what types of kitchen might have meat and then I remembered vegetarian kitchens must not have meat in their pantries or freezers. Also a meat filled environment can go bad really quickly if not properly cared for therefore I am posing that the lack of general cleanliness would be easier for vegetarian restaurants to keep track of.\n",
    "On another website I found some of the top major violations of a restaurant would be keeping things hot or cold and I think that with the subtraction of meat in an environment the need to keep things hot would be less needed or less hard.\n",
    "    \n",
    "    1)Proper hot and cold holding temperatures — This violation can occur  in reach-in refrigeration lowboys, top-cold holding units, walk-in refrigerators, and on stovetops. Have thermometers present. The only way you can control the rapid growth of bacteria is to make sure food is held outside of the temperature danger zone, which is between 41ºF and 135ºF or 140ºF (the required level depends on your local health department guidelines).\n",
    "References (include links):\n",
    "- 1)https://www.lightspeedhq.com/blog/restaurant-health-inspection/\n",
    "- 2)https://www.menucoverdepot.com/resource-center/articles/restaurant-health-inspections/"
   ]
  },
  {
   "cell_type": "markdown",
   "metadata": {},
   "source": [
    "# Hypothesis\n"
   ]
  },
  {
   "cell_type": "markdown",
   "metadata": {},
   "source": [
    "Based on the background information that I have looked up I believe that vegetarian restaurants and their lack of meat products will result in overall higher mean health scores versus regular meat restaurants."
   ]
  },
  {
   "cell_type": "markdown",
   "metadata": {},
   "source": [
    "# Data"
   ]
  },
  {
   "cell_type": "markdown",
   "metadata": {},
   "source": [
    "I believe that there is only one dataset that I would need inorder to find the answer to this question. And that would be a list of ratings of 20,000 restaurants from the United States that are either fully vegetarian, partially vegetarian or non vegetarian restaurants.\n",
    "\n",
    "q)What variables would you have?\n",
    "\n",
    "a)\"health_score\", \"name\", \"type\", \"location\", \"closed(0,1)\", \"opened_date\", all of the different things that go into calculating the health score.\n",
    "\n",
    "q)How would they be stored?\n",
    "\n",
    "a)In a table. a csv file or a excel sheet.\n",
    "\n",
    "q)How many observations would you have?\n",
    "\n",
    "a)I believe 20,000 different types of restaurants would be a good indicator. \n"
   ]
  },
  {
   "cell_type": "markdown",
   "metadata": {},
   "source": [
    "# Ethics & Privacy"
   ]
  },
  {
   "cell_type": "markdown",
   "metadata": {},
   "source": [
    "\n",
    "Considering the fact that all health inspections of restaurants that are done by the government are public there is no privacy issue with the data being gathered.I think that there will be potential biases in the study that I would be conducting. First of all there are problems with how health inspectors judge restaurants in the first place. Many of them judge the same place many times in a row and if they have a problem with the owner after the first time the inspector might give harsher scores. Otherwise I believe that vegetarian and non-vegetarian food just have certain biases that will almost never be able to be overcome just because of the differences that people have with it. I honestly have no Idea how to solve the issues that are present here, or even if these are actual problems that actually are prevalent.\n",
    "\n",
    "\n"
   ]
  },
  {
   "cell_type": "code",
   "execution_count": null,
   "metadata": {},
   "outputs": [],
   "source": []
  }
 ],
 "metadata": {
  "kernelspec": {
   "display_name": "Python 3",
   "language": "python",
   "name": "python3"
  },
  "language_info": {
   "codemirror_mode": {
    "name": "ipython",
    "version": 3
   },
   "file_extension": ".py",
   "mimetype": "text/x-python",
   "name": "python",
   "nbconvert_exporter": "python",
   "pygments_lexer": "ipython3",
   "version": "3.7.6"
  }
 },
 "nbformat": 4,
 "nbformat_minor": 4
}
