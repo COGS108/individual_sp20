{
 "cells": [
  {
   "cell_type": "markdown",
   "metadata": {},
   "source": [
    "# COGS 108 - Project Proposal"
   ]
  },
  {
   "cell_type": "markdown",
   "metadata": {},
   "source": [
    "# Names & PID\n",
    "\n",
    "- Name: Madeline Tjoa\n",
    "- PID: A15394053"
   ]
  },
  {
   "cell_type": "markdown",
   "metadata": {},
   "source": [
    "# Research Question"
   ]
  },
  {
   "cell_type": "markdown",
   "metadata": {},
   "source": [
    "Is there a relationship between the closure of a restaurants in California who received grades lower than 85 and how many other chains the restaurant is part of?"
   ]
  },
  {
   "cell_type": "markdown",
   "metadata": {},
   "source": [
    "## Background and Prior Work"
   ]
  },
  {
   "cell_type": "markdown",
   "metadata": {},
   "source": [
    "<b>Food Inspection process:</b><br>\n",
    "Food inspectors come around 1-3 times a year, usually randomly or if there are customer complaints that are filed to the health and inspections website(4). The food inspection happens randomly, and then the inspector will mark down everytime they see a violation. If the violation is small, the restaurant can fix it on the spot or within a given timeframe. (You can also be penalized) If the violation is serious, the restaurant may be required to close their venue until it is fixed. Additionally, before a restaurant opens, they must pass evaluations and gain approval to reopen. <br>\n",
    "<b>Problem: </b><br>\n",
    "Based on Reddit threads, we can see there is a large variability between the punishments given to restaurants during health inspections. One health inspector shares a moment when he found a restaurant with raw food laying a broken fridge overnight, who continued to serve the meat. He ordered the meat to be thrown out but also witnessed employees taking the meat out of the garbage for reuse. He ordered for the meat to be drowned in bleach so it wouldn't be served, and the restaurant was not closed down. (2) However in another case, an aspiring restaurant owner looking to open his restaurant had clean kitchen, but was having trouble passing the health inspection to be approved to open his business.(3) I would like to find out whether there is a relation between restaurants who are not closed down and how big the business is. \n",
    "<br>\n",
    "<b>Prior work: </b><br>\n",
    "Regarding the grades of restaurants, it is noted in a report about LA County's food inspection that \"Grades below a C usually require an immediate closure of the restaurant. Restaurants with a score below C are also required to post their numeric score in the window\" (9) Which means that some restaurants may still operate with a Health Score of C, while the San Bernardino County Closures link (8) shows that most of the closed restaurants that year had a grade of B or ungraded, so there is a wide variability between whether a restaurant will be closed. <br>\n",
    "Additionally, since some health inspections may only occur from customer complaints, restaurants with less traffic may be subject to more lenient grading. The city of Boston has partnered with Yelp and Harvard to develop a method that allows them to perform more inspections in places based on complaints on yelp. (7) The issue with this method is that restaurants that may not be around the hotspot, in less popular areas may in effect be less regulated. In that case, they may be less likely to be closed over the restaurants subject to more frequent health inspections. <br>\n",
    "\n",
    "References (include links):\n",
    "- 1) https://www.sandiegocounty.gov/content/sdc/deh/fhd/ffis/intro.html.html Health inspection proccess for San Diego\n",
    "- 2) https://www.reddit.com/r/AskReddit/comments/598qrb/health_inspectors_of_reddit_whats_the_worst/ Reddit Health inspectors sharing their horror stories\n",
    "- 3) https://www.reddit.com/r/KitchenConfidential/comments/2fennc/most_evil_health_inspector_tricks_youve/ Shows the variety of health inspections and situations\n",
    "- 4) https://blog.typsy.com/how-do-health-inspections-work How Health inspections work\n",
    "- 5) https://www.sandiegocounty.gov/content/dam/sdc/deh/fhd/food/pdf/publications_foodselfinspection.pdf Self Inspection checklist for San Diego\n",
    "- 6) https://www.washingtonpost.com/news/voraciously/wp/2018/07/24/yelp-adds-health-inspection-scores-for-restaurants-and-restaurateurs-are-not-happy/ Yelp has health inspection scores for restaurants\n",
    "- 7) https://www.drivendata.co/case-studies/using-yelp-reviews-to-flag-restaurant-health-risks/ The city of Boston used yelp reviews to flag restaurant health risks.\n",
    "- 8) https://www.sbsun.com/2020/01/10/rodents-no-hot-water-defying-closure-restaurant-closures-inspections-in-san-bernardino-county-jan-3-9/ closers in san bernardino county and their reasons. \n",
    "- 9) http://www.ocgrandjury.org/pdfs/restaurant-inspections/restaurant.pdf Report regarding LA County Health Inspections"
   ]
  },
  {
   "cell_type": "markdown",
   "metadata": {},
   "source": [
    "# Hypothesis\n"
   ]
  },
  {
   "cell_type": "markdown",
   "metadata": {},
   "source": [
    "I think that there is a relationship between the closure of a restaurant who received a grade lower than 85 and the size of the restaurant chain it is part of. I think that restaurants who have less chains may be subject to restaurant closures more often, even if they may have similar scores compared to larger chains. I think that a larger chain may have some sort of name bias or advantage that leads them to being less likely closed. "
   ]
  },
  {
   "cell_type": "markdown",
   "metadata": {},
   "source": [
    "# Data"
   ]
  },
  {
   "cell_type": "markdown",
   "metadata": {},
   "source": [
    "*Explain what the ideal dataset you would want to answer this question. (This should include: What variables? How many observations? Who/what/how would these data be collected? How would these data be stored/organized?)*\n",
    "<br>\n",
    "<b> Ideal Dataset:</b><br>\n",
    "\n",
    "The ideal dataset would be one which has information about all restaurant violations recorded. <br>\n",
    "<u>Columns:</u><br>\n",
    "*Date of Inspection* - <b>Datetime object</b> (Ordinal, with Month and Year) Date the restaurant was inspected<br>\n",
    "*Size of the restaurant* - <b>int</b> (Quantitative)If the restaurant has multiple locations, or if it a single restaurant <br>\n",
    "*Year of opening* - <b>int</b> (Quantitative, ex: 2000, 2013, 2015) the year the restaurant was established<br>\n",
    "*grades* - <b>int</b> Score that the restaurant received in the inspection<br>\n",
    "*whether they were closed* - <b>Boolean</b> True if the restaurant was closed, False if they were allowed to remain open. <br>\n",
    "*inspector notes* - <b>String</b> (nominal) Any notes that the inspector may have included this observation may be used to see what the main reasons for closures were, and see if open restaurants share the same issues as the closed ones. <br>\n",
    "<u>Types of Observations wanted:</u><br>\n",
    "Hopefully the dataset size will be in the larger side, so that we could account for the different health inspectors that exist, and would be within a set time interval (ie data from within the past year) since older data may be obsolete based on how laws on regulations or method of evaluation may vary. It will be important to have a wide sample of restaurants all over california, preferably all restaurants in california, however if it is unreasonable then a random sample of restaurants all over california would be preferred. \n",
    "<br>\n",
    "<u>Data collection</u><br>\n",
    "The data collected would most likely be from the data that is released to the public regarding the closure of the restaurants. If further data is  needed to evaluate the size of the restaurant, the data would need to be collected through webscraping or online search. One way to figure out the size of the restaurant is to scrape yelp to find the restaurants that have the similar names, and count the amount of chains using this method, however the issue with this is that there might be restaurants with the same names but not related. <br> Further research would be needed to see what data is provided by the California Health and Food Inspection.\n",
    "<br>\n",
    "<u>Data Storage</u><br>\n",
    "Categorical data will need to each have their own columns, however this will not be until later when I might want to perform OneHotEncoding on the data if I wanted to create a predictor of the restaurant closures based on their size and health inspection results. \n"
   ]
  },
  {
   "cell_type": "markdown",
   "metadata": {},
   "source": [
    "# Ethics & Privacy"
   ]
  },
  {
   "cell_type": "markdown",
   "metadata": {},
   "source": [
    "*Fill in your ethics & privacy discussion here*"
   ]
  },
  {
   "cell_type": "markdown",
   "metadata": {},
   "source": [
    "*<b>Did you have permission to use this data / use it for this purpose?*<br>:</b> Since most of the inspections are public information, I would have permission to use the data. <br>\n",
    "\n",
    "*<b>Are there privacy concerns regarding your datasets that you need to deal with, and/or terms of use that you need to comply with?<br></b>* None, however it would be important to keep an open mind not to assume some sort of bias between certain restaurants based on their size. <br>\n",
    "\n",
    "*<b>Are there potential biases in your dataset(s), in terms of who it composes, and how it was collected, that may be problematic in terms of it allowing for equitable analysis? (For example, does your data exclude particular populations, or is it likely to reflect particular human biases in a way that could be a problem?)</b>*<br> Restaurants in different areas will be graded by different inspectors, so there can be a bias between the grades that were received. However, it would be difficult to be able to account for the bias between inspectors to protect their privacies and locations.\n",
    "<br>\n",
    "*<b>Are there any other issues related to your topic area, data, and/or analyses that are potentially problematic in terms of data privacy and equitable impact?</b><br>* Depending on the results that are drawn from the data, restaurants that are still open who's issues parrallel to closed restaurants may receive bad PR, which can lead to less business.\n",
    "<br>\n",
    "<b>*How will you handle issues you identified? *(1-2 paragraphs) </b><br>\n",
    "For the first issue regarding permissions, I may need to check the robots.txt of The websites if I need to scrape them for information, and need to check if an API exists to extract the information. The court did rule that scraping public information is legal in a case against linkedin (https://www.forbes.com/sites/emmawoollacott/2019/09/10/linkedin-data-scraping-ruled-legal/#687f12571b54), so based on that I might assume that it would be ok to scrape the government sites as long as it is permitted in the robots.txt<br>\n",
    "It would be important to hide in my final analysis restaurant names, so that none of the restaurants can be impacted negatively based on the results of the data and to protect their privacy. In terms of bias in my result based on the locations of closed down areas, I would definitely need to randomly sample the results across california and perform permutation tests to make sure my values are actually significant. It would be difficult to tell whether the data actually does have bias, and can only be determined by analyzing the observations made by inspectors."
   ]
  },
  {
   "cell_type": "code",
   "execution_count": null,
   "metadata": {},
   "outputs": [],
   "source": []
  }
 ],
 "metadata": {
  "kernelspec": {
   "display_name": "Python 3",
   "language": "python",
   "name": "python3"
  },
  "language_info": {
   "codemirror_mode": {
    "name": "ipython",
    "version": 3
   },
   "file_extension": ".py",
   "mimetype": "text/x-python",
   "name": "python",
   "nbconvert_exporter": "python",
   "pygments_lexer": "ipython3",
   "version": "3.7.6"
  }
 },
 "nbformat": 4,
 "nbformat_minor": 2
}
