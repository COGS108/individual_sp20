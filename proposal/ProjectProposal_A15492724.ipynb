{
 "cells": [
  {
   "cell_type": "markdown",
   "metadata": {},
   "source": [
    "# COGS 108 - Project Proposal"
   ]
  },
  {
   "cell_type": "markdown",
   "metadata": {},
   "source": [
    "# Names & PID\n",
    "\n",
    "- Name: Lazar Katanic\n",
    "- PID: A15492724"
   ]
  },
  {
   "cell_type": "markdown",
   "metadata": {},
   "source": [
    "# Research Question"
   ]
  },
  {
   "cell_type": "markdown",
   "metadata": {},
   "source": [
    "In this Project, I plan on tackling if there is a correlation between Yelp Reviews and the different aspects of Pizza Resturants in Los Angeles County. I plan on comparing if Health inspection reports correlate with the reviews, price, and location."
   ]
  },
  {
   "cell_type": "markdown",
   "metadata": {},
   "source": [
    "## Background and Prior Work"
   ]
  },
  {
   "cell_type": "markdown",
   "metadata": {},
   "source": [
    "References:\n",
    "- 1 ) https://www.ncbi.nlm.nih.gov/pubmed/27348977\n",
    "\n",
    "In a study conducted by Park H. et al, there is a correlation between Yelp reviews and Inspection Reports. However, this claim is only correlated in resturant chains whereas resturants that are not in chains have no correlation of Yelp reviews and Health Inspections. This study was conducted using data in New York City.\n",
    "\n",
    "I find this study to be revelant because it is very similar to the question that I am posing. However, the key differences lie in the fact that I am focusing solely on pizza resturants in Los Angeles County.\n",
    "\n",
    "- 2 ) https://drum.lib.umd.edu/bitstream/handle/1903/6641/Mar%2005%20JEH%20Feature.pdf?sequence=1&isAllowed=y\n",
    "\n",
    "In a study confucted by Paul A. Simon et al, they sought to find the impact of resturant hygiene grades and food-borne diseases. In doing so, they took a look at the rate of foodborne disease hospitalizations and the introduction of publically posted grade cards on resturants in 1998. They found a significant decrease in food-related hospitalizations in the years following.\n",
    "\n",
    "This is very relevant to my research question because it shows that the public will direct its business away from those companies that have bad ratings and towards those who have better business. These findings are reflected in how I constructed my hypothesis."
   ]
  },
  {
   "cell_type": "markdown",
   "metadata": {},
   "source": [
    "# Hypothesis"
   ]
  },
  {
   "cell_type": "markdown",
   "metadata": {},
   "source": [
    "I hypothesize that there is a correlation between health inspections and reviews, price, and location of pizza shops. I suggest that there may health inspections may not have as much sway in lower-income areas, while more expensive pizzas in higher-end areas will be more dependent on the results of health inspections."
   ]
  },
  {
   "cell_type": "markdown",
   "metadata": {},
   "source": [
    "# Data"
   ]
  },
  {
   "cell_type": "markdown",
   "metadata": {},
   "source": [
    "I believe that the data I would be collecting would be at one point in time. Specifically, I plan on collecting data from sometime in 2019 because I have noticed that a lot of resturant reviews are currently all over the place due to COVID-19.\n",
    "#### Price\n",
    "I will be judging the price of each pizza shop using the expensiveness scale on Yelp that shows the relative expensiveness of each resturant. The scale varies anywhere from 1 to 4 dollar signs. I will be observing the relationships (if they exist) between the price and the other two factors listed below- Health Inspection Reviews and Location.\n",
    "#### Health Inspection Reviews\n",
    "The Health Inspection Reviews for each resturant in Los Angeles County is located on an online database ( www.ehservices.publichealth.lacounty.gov/ ). In this study, I plan on scrubbing that data and then finding the Yelp reviews that correspond to the resturant. For data that does not have a corresponding Yelp page, I currently plan on deleting that data since it would not be useful for this study.\n",
    "#### Location\n",
    "The same website that was listed for Health Inspection Reviews also holds the different locations of the resturants. I will be using this data to see that if there is any correlation between the other variables (Price and Health Inspections) and location.\n",
    "#### Temporal Data\n",
    "Since there are very few occurances of multiple pizza resturants being inspected on the same day, I must look at the data using a temporal lens. After looking throught the data in the website above, you can see that most of the resturants contain many different routine checkups and so each resturant has data for it over time. However, this is not standardized. Since Yelp allows you to see the resturants ratings in the past, I will be using the Yelp data from the month of the pizza shop's review and its health inspection rating to compile my data. Using this, I will be able to see the relationship between each particular resturants' review and health inspection rating. This is on the individual resturant level. I will also be compiling all of the individual resturants into groups where I can see the average of them over time."
   ]
  },
  {
   "cell_type": "markdown",
   "metadata": {},
   "source": [
    "# Ethics & Privacy"
   ]
  },
  {
   "cell_type": "markdown",
   "metadata": {},
   "source": [
    "The Health Inspection data that is collected from Los Angeles County is publically listed for those who are concerned about ratings of different resturants and for studies like these. This is outlined in their website in the link above. They are even helpful enough to allow me to download datasets in an 'easier' format.\n",
    "\n",
    "Similarly, the data from Yelp was also created by the developers of Yelp to inform the public. Over the course of the project, I plan on adhering to the Yelp API Terms of Use (https://www.yelp.com/developers/api_terms), which states I must not modify any of its data nor use it to promote my own business among other things. The intentions of this project do not go against any of the listed guidelines.\n",
    "\n",
    "I do not believe that this project will be going against the privacy of anyone since I plan on not listing any business by name and all the data I will be accessing is public information.\n",
    "\n",
    "There is the bias of my dataset in that it only looks as Los Angeles county, which is sufficient for adjusting health inspections in Los Angeles county and may extend onto California, but it may be a stretch to use the information generated in this study outside of California. Assuming all of the health inspections are conducted fairly, the data should be just. But in the case that there is some variability, I will be only looking for stronger correlations in my conclusions (using a larger p-value).\n",
    "\n",
    "There also may be a bias in that I am only going to be looking at pizza shops. I specifically chose this because I have worked at a pizza resturant for the past year and I know a lot about how they operate, and so I figured that I am more comfortable and suitable for this assessment. I also believe this will ensure that there is less variability in the data and the resturants can be more standardized. That being said, I would not extend the results of this study outside of pizza resturants onto other resturants due to this fact."
   ]
  }
 ],
 "metadata": {
  "kernelspec": {
   "display_name": "Python 3",
   "language": "python",
   "name": "python3"
  },
  "language_info": {
   "codemirror_mode": {
    "name": "ipython",
    "version": 3
   },
   "file_extension": ".py",
   "mimetype": "text/x-python",
   "name": "python",
   "nbconvert_exporter": "python",
   "pygments_lexer": "ipython3",
   "version": "3.6.7"
  }
 },
 "nbformat": 4,
 "nbformat_minor": 2
}
