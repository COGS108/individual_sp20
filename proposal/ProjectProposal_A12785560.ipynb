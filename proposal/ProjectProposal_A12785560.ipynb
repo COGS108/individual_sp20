{
 "cells": [
  {
   "cell_type": "markdown",
   "metadata": {},
   "source": [
    "# COGS 108 - Project Proposal"
   ]
  },
  {
   "cell_type": "markdown",
   "metadata": {},
   "source": [
    "# Names & PID\n",
    "\n",
    "- Name: Jack Giddings\n",
    "- PID: A12785560"
   ]
  },
  {
   "cell_type": "markdown",
   "metadata": {},
   "source": [
    "# Research Question\n",
    "Do lower health inspection ratings correlate to lower income neighborhoods of Los Angeles County and does this have an effect on the number of COVID-19 cases within that area?"
   ]
  },
  {
   "cell_type": "markdown",
   "metadata": {},
   "source": [
    "## Background and Prior Work\n",
    "During the current COVID-19 pandemic that we are also experiencing, the health and safety of a community are now its top priority. Food safety has become increasingly common as people disinfect their groceries as soon as they get home. In this time, ensuring health inspections are being carried out properly and to the correct standards is critical to public safety and halting the spread of germs. This begs us to look for ways to improve health inspections and ask questions about the relationships between inspection ratings and the number of COVID cases per neighborhood in LA County. Do worse health inspection ratings correlate to a higher number of cases in a specific neighborhood?\n",
    "    \n",
    "In LA County, health inspections are carried out on a rating scale of 1 to 100. A business starts with the full 100 points and is then deducted points depending on the severity of each infraction found during the inspection. Depending on its score it is then issued a grade of A for 90-100, B for 80-89, C for 70-79, and a Fail for anything below a 70. The three levels of violations are minor, major, and critical with any critical violation resulting in an automatic fail regardless of the score [1]. Because the COVID-19 outbreak has occurred so recently there are no prior projects on this topic, though there are a few that are similar. One project looks at Yelp ratings for restaurants in neighborhoods around Toronto to see if lower income neighborhoods have worse service, and therefore worse ratings [2]. This is similar to my question as the number of COVID cases is also broken down by neighborhoods in Los Angeles to analyze any possible correlation. Although this project determined that there is no correlation between Yelp ratings and neighborhood income, this does not discount possible relationships between neighborhood income and health inspection ratings. As such neighborhood income might have an unseen effect on health inspections and thus an unseen effect on the spread of COVID-19.\n",
    "\n",
    "The second project I found is more directly related to my question as they used the Yelp Health Inspection System, called LIVES, to analyze and identify specific regions of San Francisco with high numbers of health violations [3]. This project did not correlate to neighborhood income, however, but instead has higher violations coming from more high-trafficked areas around SF. My question takes this one step further by asking how LA County neighborhoods with higher frequencies and severities of health inspection infractions affect the spread of COVID-19. \n",
    "\n",
    "References (include links):\n",
    "- 1) http://publichealth.lacounty.gov/eh/misc/ehpost.htm\n",
    "- 2) https://medium.com/swlh/is-there-a-correlation-between-a-restaurants-ratings-and-the-income-levels-of-a-neighborhood-5fe41165e4f1\n",
    "- 3) https://nycdatascience.com/blog/student-works/san-francisco-restaurant-inspection-analysis-visualization/"
   ]
  },
  {
   "cell_type": "markdown",
   "metadata": {},
   "source": [
    "# Hypothesis\n",
    "I believe that lower health inspection scores does in fact correlate to a higher number of COVID-19 cases, which could serve as an explanation to why lower income neighborhoods have been affected the most by this pandemic. Because the COVID-19 virus can live on surfaces, it serves to think that restaurants with worse health inspection ratings are not as clean and might therefore be contributing more heavily to the spread of the virus. If this is true then it would explain a higher number of cases in those neighborhoods, which I predict to be lower income neighborhoods."
   ]
  },
  {
   "cell_type": "markdown",
   "metadata": {},
   "source": [
    "# Data\n",
    "Variables of Interest:\n",
    "   - Date of Inspection, Type of Inspection, Business Name, Business Street Address, Business Zip Code, Business City, Score, Grade, Number of Violations, Violation Type (i.e. Minor, Major, or Critical), Violation Code, Violation Description, Pass or Fail\n",
    "\n",
    "Observations:\n",
    "   - There will be an observation for each health inspection that has been carried out in LA County within the the last 5-10 years. To be most successful this would be sorted alphabetically by business name and oldest to most recent date so that you can see the entire timeline of any business's health inspections from top to bottom.\n",
    "   \n",
    "In order to properly store this data we should use a .csv file as this data frame consists of tabular data that would be easier to represent and analyze within a .csv file. This dataset would then be used to summarize data across all neighborhoods within LA County and create a new data frame to analyze a possible correlation to the number of COVID cases within each neighborhood. Neighborhoods will be consolidated according to zip code. "
   ]
  },
  {
   "cell_type": "markdown",
   "metadata": {},
   "source": [
    "# Ethics & Privacy\n",
    "Data collection for this question is ethical as health inspection records and the number of COVID cases broken down by the state, county, and zip code level are all public knowledge and record. Databases such as LIVES from Yelp will not be used for this project as its system interprets self-reported scores and does not take scores directly from the public data base for health inspections. We won't be using the LIVES database as it may include some bias towards those who self-reported higher scores than are accurate. In order to protect people's anonymity, owner names will not be collected. As all the data we are using is public knowledge and record, there are no privacy issues involved with gathering this data and so no data retention or data security plans need to be made. For analysis, we will be taking the entire summarized dataset of each neighborhood to find relationships. As such, so there should be no implicit biases within the datasets themselves because everything is public knowledge and the entire process is very well documented/auditable if issues are discovered in the future. None of the variables that will be used in modeling the data are unfairly discriminatory. The dataset as a whole is very diverse and does not have any privacy issues so I do not expect there to any ethical or privacy issues."
   ]
  }
 ],
 "metadata": {
  "kernelspec": {
   "display_name": "Python 3",
   "language": "python",
   "name": "python3"
  },
  "language_info": {
   "codemirror_mode": {
    "name": "ipython",
    "version": 3
   },
   "file_extension": ".py",
   "mimetype": "text/x-python",
   "name": "python",
   "nbconvert_exporter": "python",
   "pygments_lexer": "ipython3",
   "version": "3.6.7"
  }
 },
 "nbformat": 4,
 "nbformat_minor": 2
}