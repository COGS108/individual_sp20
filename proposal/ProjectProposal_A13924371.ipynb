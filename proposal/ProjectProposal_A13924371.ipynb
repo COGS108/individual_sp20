{
 "cells": [
  {
   "cell_type": "markdown",
   "metadata": {},
   "source": [
    "# COGS 108 - Project Proposal"
   ]
  },
  {
   "cell_type": "markdown",
   "metadata": {},
   "source": [
    "# Names & PID\n",
    "\n",
    "- Name: Michael Sorenson\n",
    "- PID: A13924371"
   ]
  },
  {
   "cell_type": "markdown",
   "metadata": {},
   "source": [
    "# Research Question"
   ]
  },
  {
   "cell_type": "markdown",
   "metadata": {},
   "source": [
    "Which areas of the human genome are most prone to mutation?"
   ]
  },
  {
   "cell_type": "markdown",
   "metadata": {},
   "source": [
    "## Background and Prior Work"
   ]
  },
  {
   "cell_type": "markdown",
   "metadata": {},
   "source": [
    "*Fill in your background and prior work here. Be sure to specify which statements are from which references.* \n",
    "\n",
    "References (include links):\n",
    "- 1) 1000 genomes project (https://www.internationalgenome.org/data/)\n",
    "- 2) Plink2 genetic data processing (https://www.cog-genomics.org/plink/2.0/)"
   ]
  },
  {
   "cell_type": "markdown",
   "metadata": {},
   "source": [
    "# Hypothesis\n"
   ]
  },
  {
   "cell_type": "markdown",
   "metadata": {},
   "source": [
    "Some areas of the human genome are more prone to mutation than other areas, and will have higher rates of single nucleotide polymorphisms (SNPs)"
   ]
  },
  {
   "cell_type": "markdown",
   "metadata": {},
   "source": [
    "# Data"
   ]
  },
  {
   "cell_type": "markdown",
   "metadata": {},
   "source": [
    "The 1000 genomes project has full genetic data from over 2500 individuals, from which they obtained DNA samples and sequences their full genome. The DNA contains four different nucleotides: Adenine (A), Cytosine (C), Guanine (G), and Thymine (T). While a certain sequence may normally be A-G-C-C-G-T-A-A-A, it is possible for a certain nucleotide to be accidentally replaced by a different nucleotide through errors in replication, so what was previously an A could become instead a G, C, or T. This mutation is called a single nucleotide polymorphism (SNP). For this project, I plan on clustering areas of the genome by how susceptiple to SNPs the areas are, in order to show how different areas may be more prone to mutation than others. "
   ]
  },
  {
   "cell_type": "markdown",
   "metadata": {},
   "source": [
    "# Ethics & Privacy"
   ]
  },
  {
   "cell_type": "markdown",
   "metadata": {},
   "source": [
    "The 1000 Genomes Project contains published, freely available anonymous genetic data on over 2500 individuals from many different geographical locations, so it cannot easily be traced back to the individuals who donated their data (although it may not be impossible), so ethically the data can be freely used."
   ]
  }
 ],
 "metadata": {
  "kernelspec": {
   "display_name": "Python 3",
   "language": "python",
   "name": "python3"
  },
  "language_info": {
   "codemirror_mode": {
    "name": "ipython",
    "version": 3
   },
   "file_extension": ".py",
   "mimetype": "text/x-python",
   "name": "python",
   "nbconvert_exporter": "python",
   "pygments_lexer": "ipython3",
   "version": "3.7.1"
  }
 },
 "nbformat": 4,
 "nbformat_minor": 2
}
